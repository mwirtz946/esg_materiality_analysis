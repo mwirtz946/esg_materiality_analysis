{
 "cells": [
  {
   "cell_type": "markdown",
   "metadata": {},
   "source": [
    "# Russell 2000 Company Names and Tickers"
   ]
  },
  {
   "cell_type": "code",
   "execution_count": 56,
   "metadata": {
    "ExecuteTime": {
     "end_time": "2021-01-14T21:56:44.181718Z",
     "start_time": "2021-01-14T21:56:44.174616Z"
    }
   },
   "outputs": [],
   "source": [
    "import requests\n",
    "from bs4 import BeautifulSoup"
   ]
  },
  {
   "cell_type": "code",
   "execution_count": 57,
   "metadata": {
    "ExecuteTime": {
     "end_time": "2021-01-14T21:56:48.349365Z",
     "start_time": "2021-01-14T21:56:44.632479Z"
    }
   },
   "outputs": [],
   "source": [
    "page = requests.get('https://www.ishares.com/us/products/239710/ishares-russell-2000-etf#Holdings')\n",
    "soup = BeautifulSoup(page.content, 'html.parser')"
   ]
  },
  {
   "cell_type": "code",
   "execution_count": 60,
   "metadata": {
    "ExecuteTime": {
     "end_time": "2021-01-14T21:57:41.009074Z",
     "start_time": "2021-01-14T21:57:40.990255Z"
    }
   },
   "outputs": [],
   "source": [
    "holdings = soup.find(id='holdingsTabs')\n"
   ]
  },
  {
   "cell_type": "code",
   "execution_count": 61,
   "metadata": {
    "ExecuteTime": {
     "end_time": "2021-01-14T21:57:41.709156Z",
     "start_time": "2021-01-14T21:57:41.693199Z"
    }
   },
   "outputs": [
    {
     "data": {
      "text/plain": [
       "<div data-pp-tabs=\"\" id=\"holdingsTabs\">\n",
       "<ul class=\"component-tabs\" role=\"tablist\">\n",
       "<li class=\"active all\" role=\"presentation\">\n",
       "<a data-link-event=\"portfolio:holdings:All\" data-target=\"tabsAll\" href=\"#tabsAll\" role=\"tab\">All</a>\n",
       "</li>\n",
       "</ul>\n",
       "<div class=\"component-tabs-panel active\" id=\"tabsAll\">\n",
       "<script nonce=\"/cXPYJ4rKJAJUXczrVjRkQ==\">\n",
       "//<![CDATA[\n",
       "var allHoldingsColumnsConfig = [\n",
       "{ className: \"colTicker col1\",visible: true },\n",
       "{ className: \"colIssueName col2\",visible: true },\n",
       "{ className: \"colSectorName col3\",visible: true },\n",
       "{ className: \"colAssetClass col4\",visible: true },\n",
       "{ className: \"colMarketValue col5\",render: {_: 'display',sort: 'raw',type: 'raw'},visible: true },\n",
       "{ className: \"colHoldingPercent col6\",render: {_: 'display',sort: 'raw',type: 'raw'},visible: true },\n",
       "{ className: \"colNotionalValue col7\",render: {_: 'display',sort: 'raw',type: 'raw'},visible: true },\n",
       "{ className: \"colUnitsHeld col8\",render: {_: 'display',sort: 'raw',type: 'raw'},visible: true },\n",
       "{ className: \"colCusip col9\",visible: true },\n",
       "{ className: \"colIsin col10\",visible: true },\n",
       "{ className: \"colSedol col11\",visible: true },\n",
       "{ className: \"colUnitPrice col12\",render: {_: 'display',sort: 'raw',type: 'raw'},visible: false },\n",
       "{ className: \"colCountryOfRisk col13\",visible: false },\n",
       "{ className: \"colExchange col14\",visible: false },\n",
       "{ className: \"colCurrencyCode col15\",visible: false },\n",
       "{ className: \"colLocalFxRate col16\",visible: false },\n",
       "{ className: \"colMarketCurrencyCode col17\",visible: false },\n",
       "{ className: \"colAccrualDate col18\",visible: true }\n",
       "];\n",
       "//]]>\n",
       "</script>\n",
       "<div class=\"fund-component fund-tab\" data-ajax-callback=\"\" data-ajaxuri=\"/us/products/239710/ishares-russell-2000-etf/1467271812596.ajax?tab=all&amp;fileType=json\" data-table=\"allHoldings\" id=\"allHoldingsTab\">\n",
       "<div class=\"table-controls ui-helper-clearfix\">\n",
       "<div class=\"component-date-list\">\n",
       "<form action=\"#\">\n",
       "<label class=\"product-dropdown\">\n",
       "as of <select class=\"date-dropdown\">\n",
       "<option value=\"20210113\">\n",
       "Jan 13, 2021\n",
       "</option>\n",
       "<option value=\"20201231\">\n",
       "Dec 31, 2020\n",
       "</option>\n",
       "</select>\n",
       "</label>\n",
       "</form>\n",
       "</div>\n",
       "<div class=\"datatable-heading-right\">\n",
       "<div class=\"datatable-search-field\" id=\"allHoldingsTableSearchBox\">\n",
       "<label>\n",
       "<input class=\"product-textbox clearable\" data-target-table=\"allHoldingsTable\" type=\"text\"/>\n",
       "</label>\n",
       "</div>\n",
       "</div>\n",
       "</div>\n",
       "<table class=\"display product-table border-row\" data-scrollx=\"true\" data-sortdirection=\"desc\" data-sorton=\"5\" id=\"allHoldingsTable\">\n",
       "<thead>\n",
       "<tr>\n",
       "<th class=\"colTicker col1\" data-col-index=\"0\">\n",
       "Ticker\n",
       "</th>\n",
       "<th class=\"colIssueName col2\" data-col-index=\"1\">\n",
       "Name\n",
       "</th>\n",
       "<th class=\"colSectorName col3\" data-col-index=\"2\">\n",
       "Sector\n",
       "</th>\n",
       "<th class=\"colAssetClass col4\" data-col-index=\"3\">\n",
       "Asset Class\n",
       "</th>\n",
       "<th class=\"colMarketValue col5\" data-col-index=\"4\">\n",
       "Market Value\n",
       "</th>\n",
       "<th class=\"colHoldingPercent col6\" data-col-index=\"5\">\n",
       "Weight (%)\n",
       "</th>\n",
       "<th class=\"colNotionalValue col7\" data-col-index=\"6\">\n",
       "Notional Value\n",
       "</th>\n",
       "<th class=\"colUnitsHeld col8\" data-col-index=\"7\">\n",
       "Shares\n",
       "</th>\n",
       "<th class=\"colCusip col9\" data-col-index=\"8\">\n",
       "CUSIP\n",
       "</th>\n",
       "<th class=\"colIsin col10\" data-col-index=\"9\">\n",
       "ISIN\n",
       "</th>\n",
       "<th class=\"colSedol col11\" data-col-index=\"10\">\n",
       "SEDOL\n",
       "</th>\n",
       "<th class=\"colUnitPrice col12\" data-col-index=\"11\">\n",
       "Price\n",
       "</th>\n",
       "<th class=\"colCountryOfRisk col13\" data-col-index=\"12\">\n",
       "Location\n",
       "</th>\n",
       "<th class=\"colExchange col14\" data-col-index=\"13\">\n",
       "Exchange\n",
       "</th>\n",
       "<th class=\"colCurrencyCode col15\" data-col-index=\"14\">\n",
       "Currency\n",
       "</th>\n",
       "<th class=\"colLocalFxRate col16\" data-col-index=\"15\">\n",
       "FX Rate\n",
       "</th>\n",
       "<th class=\"colMarketCurrencyCode col17\" data-col-index=\"16\">\n",
       "Market Currency\n",
       "</th>\n",
       "<th class=\"colAccrualDate col18\" data-col-index=\"17\">\n",
       "Accrual Date\n",
       "</th>\n",
       "</tr>\n",
       "</thead>\n",
       "</table>\n",
       "</div>\n",
       "<div class=\"disclaimers holdings.all.disclaimer\">\n",
       "Exchange-traded index futures may be used to offset cash and receivables for the purpose of tracking the benchmark index.\n",
       "</div>\n",
       "<div class=\"data-loading\"></div>\n",
       "</div>\n",
       "</div>"
      ]
     },
     "execution_count": 61,
     "metadata": {},
     "output_type": "execute_result"
    }
   ],
   "source": []
  },
  {
   "cell_type": "code",
   "execution_count": null,
   "metadata": {},
   "outputs": [],
   "source": []
  }
 ],
 "metadata": {
  "kernelspec": {
   "display_name": "learn-env",
   "language": "python",
   "name": "learn-env"
  },
  "language_info": {
   "codemirror_mode": {
    "name": "ipython",
    "version": 3
   },
   "file_extension": ".py",
   "mimetype": "text/x-python",
   "name": "python",
   "nbconvert_exporter": "python",
   "pygments_lexer": "ipython3",
   "version": "3.6.9"
  },
  "toc": {
   "base_numbering": 1,
   "nav_menu": {},
   "number_sections": true,
   "sideBar": true,
   "skip_h1_title": false,
   "title_cell": "Table of Contents",
   "title_sidebar": "Contents",
   "toc_cell": false,
   "toc_position": {},
   "toc_section_display": true,
   "toc_window_display": false
  },
  "varInspector": {
   "cols": {
    "lenName": 16,
    "lenType": 16,
    "lenVar": 40
   },
   "kernels_config": {
    "python": {
     "delete_cmd_postfix": "",
     "delete_cmd_prefix": "del ",
     "library": "var_list.py",
     "varRefreshCmd": "print(var_dic_list())"
    },
    "r": {
     "delete_cmd_postfix": ") ",
     "delete_cmd_prefix": "rm(",
     "library": "var_list.r",
     "varRefreshCmd": "cat(var_dic_list()) "
    }
   },
   "types_to_exclude": [
    "module",
    "function",
    "builtin_function_or_method",
    "instance",
    "_Feature"
   ],
   "window_display": false
  }
 },
 "nbformat": 4,
 "nbformat_minor": 4
}
