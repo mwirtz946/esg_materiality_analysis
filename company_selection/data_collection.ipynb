{
 "cells": [
  {
   "cell_type": "markdown",
   "metadata": {},
   "source": [
    "# Imports"
   ]
  },
  {
   "cell_type": "code",
   "execution_count": 11,
   "metadata": {
    "ExecuteTime": {
     "end_time": "2021-01-15T19:16:38.750353Z",
     "start_time": "2021-01-15T19:16:38.714657Z"
    }
   },
   "outputs": [],
   "source": [
    "import selenium\n",
    "from selenium import webdriver\n",
    "from selenium.webdriver.common.by import By\n",
    "from selenium.webdriver.support.ui import WebDriverWait\n",
    "from selenium.webdriver.support import expected_conditions as EC\n",
    "from selenium.webdriver.common.keys import Keys\n",
    "from selenium.webdriver.common.action_chains import ActionChains\n",
    "import time\n",
    "from bs4 import BeautifulSoup"
   ]
  },
  {
   "cell_type": "code",
   "execution_count": 12,
   "metadata": {
    "ExecuteTime": {
     "end_time": "2021-01-15T19:17:06.405714Z",
     "start_time": "2021-01-15T19:16:54.927918Z"
    }
   },
   "outputs": [],
   "source": [
    "PATH = \"/Users/MichaelWirtz/Downloads/chromedriver\"\n",
    "driver = webdriver.Chrome(PATH)\n",
    "url= \"https://bullishbears.com/russell-2000-stocks-list/\"\n",
    "driver.maximize_window()\n",
    "driver.get(url)"
   ]
  },
  {
   "cell_type": "code",
   "execution_count": 15,
   "metadata": {
    "ExecuteTime": {
     "end_time": "2021-01-15T19:18:27.858784Z",
     "start_time": "2021-01-15T19:18:27.288280Z"
    }
   },
   "outputs": [],
   "source": [
    "content = driver.page_source.encode('utf-8').strip()\n",
    "soup = BeautifulSoup(content,\"html.parser\")"
   ]
  },
  {
   "cell_type": "markdown",
   "metadata": {},
   "source": [
    "# Gathering Raw Lists"
   ]
  },
  {
   "cell_type": "markdown",
   "metadata": {},
   "source": [
    "## Scraping Companies A-C"
   ]
  },
  {
   "cell_type": "code",
   "execution_count": 24,
   "metadata": {
    "ExecuteTime": {
     "end_time": "2021-01-15T19:24:30.665853Z",
     "start_time": "2021-01-15T19:24:30.626989Z"
    }
   },
   "outputs": [],
   "source": [
    "#Finding a-c tables\n",
    "a_through_c = soup.find(id='kt-layout-id_afa978-8a')"
   ]
  },
  {
   "cell_type": "markdown",
   "metadata": {},
   "source": [
    "### Tickers"
   ]
  },
  {
   "cell_type": "code",
   "execution_count": 54,
   "metadata": {
    "ExecuteTime": {
     "end_time": "2021-01-15T19:52:19.233062Z",
     "start_time": "2021-01-15T19:52:19.226910Z"
    }
   },
   "outputs": [],
   "source": [
    "# Finding tickers a-c\n",
    "a_through_c_ticker_column = a_through_c.find(class_='wp-block-table is-style-regular').table\n",
    "# Getting all rows in ticker table a-c\n",
    "a_through_c_ticker_column_rows = a_through_c_ticker_column.find_all('tr')\n",
    "# Adding all a-c tickers to list\n",
    "a_through_c_tickers = []\n",
    "for row in a_through_c_ticker_column_rows:\n",
    "    ticker = row.find('td').text\n",
    "    a_through_c_tickers.append(ticker)"
   ]
  },
  {
   "cell_type": "markdown",
   "metadata": {},
   "source": [
    "### Companies"
   ]
  },
  {
   "cell_type": "code",
   "execution_count": 59,
   "metadata": {
    "ExecuteTime": {
     "end_time": "2021-01-15T19:58:38.639723Z",
     "start_time": "2021-01-15T19:58:38.598211Z"
    }
   },
   "outputs": [],
   "source": [
    "# Finding company names a-c\n",
    "a_through_c_company_column = a_through_c.find(class_='wp-block-kadence-column inner-column-2 kadence-column_ce91bb-61').table\n",
    "# Getting all rows in company names table a-c\n",
    "a_through_c_company_column_rows = a_through_c_company_column.find_all('tr')\n",
    "# Adding all a-c company names to list\n",
    "a_through_c_companies = []\n",
    "for row in a_through_c_company_column_rows:\n",
    "    company = row.find('td').text\n",
    "    a_through_c_companies.append(company)"
   ]
  },
  {
   "cell_type": "markdown",
   "metadata": {
    "ExecuteTime": {
     "end_time": "2021-01-15T19:58:46.174258Z",
     "start_time": "2021-01-15T19:58:46.159249Z"
    }
   },
   "source": [
    "### Combining Tickers and Companies"
   ]
  },
  {
   "cell_type": "code",
   "execution_count": 63,
   "metadata": {
    "ExecuteTime": {
     "end_time": "2021-01-15T20:01:13.265861Z",
     "start_time": "2021-01-15T20:01:13.260258Z"
    }
   },
   "outputs": [
    {
     "data": {
      "text/plain": [
       "''"
      ]
     },
     "execution_count": 63,
     "metadata": {},
     "output_type": "execute_result"
    }
   ],
   "source": [
    "# Removing unused line from companies table\n",
    "a_through_c_companies.pop()"
   ]
  },
  {
   "cell_type": "code",
   "execution_count": 64,
   "metadata": {
    "ExecuteTime": {
     "end_time": "2021-01-15T20:01:23.852765Z",
     "start_time": "2021-01-15T20:01:23.844260Z"
    }
   },
   "outputs": [
    {
     "data": {
      "text/plain": [
       "True"
      ]
     },
     "execution_count": 64,
     "metadata": {},
     "output_type": "execute_result"
    }
   ],
   "source": [
    "# Checking equal length of both companies\n",
    "len(a_through_c_companies) == len(a_through_c_tickers)"
   ]
  },
  {
   "cell_type": "code",
   "execution_count": 65,
   "metadata": {
    "ExecuteTime": {
     "end_time": "2021-01-15T20:02:43.293449Z",
     "start_time": "2021-01-15T20:02:43.283501Z"
    }
   },
   "outputs": [
    {
     "data": {
      "text/plain": [
       "[('Aaron’s, Inc.', 'AAN'),\n",
       " ('Applied Optoelectronics, Inc.', 'AAOI'),\n",
       " ('AAON, Inc.', 'AAON'),\n",
       " ('American Assets Trust, Inc.', 'AAT'),\n",
       " ('Atlas Air Worldwide Holdings, Inc.', 'AAWW')]"
      ]
     },
     "execution_count": 65,
     "metadata": {},
     "output_type": "execute_result"
    }
   ],
   "source": [
    "a_through_c_merged = merged_list = [(a_through_c_companies[i], a_through_c_tickers[i]) for i in range(0, len(a_through_c_companies))]\n",
    "a_through_c_merged[:5]"
   ]
  },
  {
   "cell_type": "markdown",
   "metadata": {},
   "source": [
    "## Scraping Companies D-K"
   ]
  },
  {
   "cell_type": "code",
   "execution_count": 31,
   "metadata": {
    "ExecuteTime": {
     "end_time": "2021-01-15T19:30:51.956102Z",
     "start_time": "2021-01-15T19:30:51.921041Z"
    }
   },
   "outputs": [],
   "source": [
    "d_through_k = soup.find(id='kt-layout-id_c94de6-6d')"
   ]
  },
  {
   "cell_type": "code",
   "execution_count": 33,
   "metadata": {
    "ExecuteTime": {
     "end_time": "2021-01-15T19:31:28.636421Z",
     "start_time": "2021-01-15T19:31:28.631605Z"
    }
   },
   "outputs": [],
   "source": [
    "d_through_k_columns = d_through_k.find_all('table')"
   ]
  },
  {
   "cell_type": "code",
   "execution_count": 34,
   "metadata": {
    "ExecuteTime": {
     "end_time": "2021-01-15T19:32:01.302015Z",
     "start_time": "2021-01-15T19:32:01.274922Z"
    }
   },
   "outputs": [],
   "source": [
    "d_through_k_messy = []\n",
    "for column in d_through_k_columns:\n",
    "    rows = column.find_all('tr')\n",
    "    for row in rows:\n",
    "        text = row.find('td').text\n",
    "        d_through_k_messy.append(text)"
   ]
  },
  {
   "cell_type": "code",
   "execution_count": 45,
   "metadata": {
    "ExecuteTime": {
     "end_time": "2021-01-15T19:36:04.088670Z",
     "start_time": "2021-01-15T19:36:04.084428Z"
    }
   },
   "outputs": [
    {
     "name": "stdout",
     "output_type": "stream",
     "text": [
      "['DAKT', 'DAN', 'DAR', 'DBD', 'DBI']\n",
      "['Kura Oncology, Inc.', 'KVH Industries, Inc. (Delaware)', 'Kennedy-Wilson Holdings, Inc.', 'Quaker Chemical Corp.', 'Kezar Life Sciences, Inc.']\n"
     ]
    }
   ],
   "source": [
    "print(d_through_k_messy[:5])\n",
    "print(d_through_k_messy[-5:])"
   ]
  },
  {
   "cell_type": "markdown",
   "metadata": {
    "ExecuteTime": {
     "end_time": "2021-01-15T19:32:05.245196Z",
     "start_time": "2021-01-15T19:32:05.219909Z"
    }
   },
   "source": [
    "## Scraping Companies L-R"
   ]
  },
  {
   "cell_type": "code",
   "execution_count": 37,
   "metadata": {
    "ExecuteTime": {
     "end_time": "2021-01-15T19:33:48.762579Z",
     "start_time": "2021-01-15T19:33:48.717305Z"
    }
   },
   "outputs": [],
   "source": [
    "l_through_r = soup.find(id='kt-layout-id_13d2ec-ff')"
   ]
  },
  {
   "cell_type": "code",
   "execution_count": 38,
   "metadata": {
    "ExecuteTime": {
     "end_time": "2021-01-15T19:33:49.203645Z",
     "start_time": "2021-01-15T19:33:49.192559Z"
    }
   },
   "outputs": [],
   "source": [
    "l_through_r_columns = l_through_r.find_all('table')"
   ]
  },
  {
   "cell_type": "code",
   "execution_count": 39,
   "metadata": {
    "ExecuteTime": {
     "end_time": "2021-01-15T19:33:49.823597Z",
     "start_time": "2021-01-15T19:33:49.796872Z"
    }
   },
   "outputs": [],
   "source": [
    "l_through_r_messy = []\n",
    "for column in l_through_r_columns:\n",
    "    rows = column.find_all('tr')\n",
    "    for row in rows:\n",
    "        text = row.find('td').text\n",
    "        l_through_r_messy.append(text)"
   ]
  },
  {
   "cell_type": "code",
   "execution_count": 46,
   "metadata": {
    "ExecuteTime": {
     "end_time": "2021-01-15T19:37:06.590723Z",
     "start_time": "2021-01-15T19:37:06.582170Z"
    }
   },
   "outputs": [
    {
     "name": "stdout",
     "output_type": "stream",
     "text": [
      "['LAD', 'LADR', 'LANC', 'LAND', 'LASR']\n",
      "['Redwood Trust, Inc.', 'Rexnord Corp.', 'Rayonier Advanced Materials, Inc.', 'Ryerson Holding Corp.', 'Rhythm Pharmaceuticals, Inc.']\n"
     ]
    }
   ],
   "source": [
    "print(l_through_r_messy[:5])\n",
    "print(l_through_r_messy[-5:])"
   ]
  },
  {
   "cell_type": "markdown",
   "metadata": {
    "ExecuteTime": {
     "end_time": "2021-01-15T19:34:03.834780Z",
     "start_time": "2021-01-15T19:34:03.816433Z"
    }
   },
   "source": [
    "## Scraping Companies S-Z"
   ]
  },
  {
   "cell_type": "code",
   "execution_count": 41,
   "metadata": {
    "ExecuteTime": {
     "end_time": "2021-01-15T19:35:27.973063Z",
     "start_time": "2021-01-15T19:35:27.911642Z"
    }
   },
   "outputs": [],
   "source": [
    "s_through_z = soup.find(id='kt-layout-id_629901-99')"
   ]
  },
  {
   "cell_type": "code",
   "execution_count": 42,
   "metadata": {
    "ExecuteTime": {
     "end_time": "2021-01-15T19:35:28.448408Z",
     "start_time": "2021-01-15T19:35:28.442834Z"
    }
   },
   "outputs": [],
   "source": [
    "s_through_z_columns = l_through_r.find_all('table')"
   ]
  },
  {
   "cell_type": "code",
   "execution_count": 43,
   "metadata": {
    "ExecuteTime": {
     "end_time": "2021-01-15T19:35:29.445979Z",
     "start_time": "2021-01-15T19:35:29.416758Z"
    }
   },
   "outputs": [],
   "source": [
    "s_through_z_messy = []\n",
    "for column in s_through_z_columns:\n",
    "    rows = column.find_all('tr')\n",
    "    for row in rows:\n",
    "        text = row.find('td').text\n",
    "        s_through_z_messy.append(text)"
   ]
  },
  {
   "cell_type": "code",
   "execution_count": 47,
   "metadata": {
    "ExecuteTime": {
     "end_time": "2021-01-15T19:37:31.761198Z",
     "start_time": "2021-01-15T19:37:31.757931Z"
    }
   },
   "outputs": [
    {
     "name": "stdout",
     "output_type": "stream",
     "text": [
      "['LAD', 'LADR', 'LANC', 'LAND', 'LASR']\n",
      "['Redwood Trust, Inc.', 'Rexnord Corp.', 'Rayonier Advanced Materials, Inc.', 'Ryerson Holding Corp.', 'Rhythm Pharmaceuticals, Inc.']\n"
     ]
    }
   ],
   "source": [
    "print(s_through_z_messy[:5])\n",
    "print(s_through_z_messy[-5:])"
   ]
  },
  {
   "cell_type": "markdown",
   "metadata": {},
   "source": [
    "# Combining and Cleaning Lists"
   ]
  },
  {
   "cell_type": "markdown",
   "metadata": {},
   "source": [
    "## A-C"
   ]
  },
  {
   "cell_type": "code",
   "execution_count": 48,
   "metadata": {
    "ExecuteTime": {
     "end_time": "2021-01-15T19:44:43.680380Z",
     "start_time": "2021-01-15T19:44:43.672406Z"
    }
   },
   "outputs": [],
   "source": [
    "a_through_c_name = []\n",
    "a_through_c_ticker = []\n",
    "for element in a_through_c_messy:\n",
    "    if len(element) > 5:\n",
    "        a_through_c_name.append(element)\n",
    "    else:\n",
    "        a_through_c_ticker.append(element)"
   ]
  },
  {
   "cell_type": "code",
   "execution_count": 51,
   "metadata": {
    "ExecuteTime": {
     "end_time": "2021-01-15T19:45:21.679989Z",
     "start_time": "2021-01-15T19:45:21.655994Z"
    }
   },
   "outputs": [
    {
     "data": {
      "text/plain": [
       "['CWEN.A',\n",
       " 'Aaron’s, Inc.',\n",
       " 'Applied Optoelectronics, Inc.',\n",
       " 'AAON, Inc.',\n",
       " 'American Assets Trust, Inc.',\n",
       " 'Atlas Air Worldwide Holdings, Inc.',\n",
       " 'Axon Enterprise, Inc.',\n",
       " 'Ameris Bancorp',\n",
       " 'Abeona Therapeutics, Inc.',\n",
       " 'Asbury Automotive Group, Inc.',\n",
       " 'ABM Industries, Inc.',\n",
       " 'Allegiance Bancshares, Inc. (Texas)',\n",
       " 'Associated Capital Group, Inc.',\n",
       " 'Arcosa, Inc.',\n",
       " 'ACADIA Pharmaceuticals, Inc.',\n",
       " 'Atlantic Capital Bancshares, Inc.',\n",
       " 'ACCO Brands Corp.',\n",
       " 'Acer Therapeutics, Inc.',\n",
       " 'Achillion Pharmaceuticals, Inc.',\n",
       " 'Acacia Communications, Inc.',\n",
       " 'ACI Worldwide, Inc.',\n",
       " 'Axcelis Technologies, Inc.',\n",
       " 'ACNB Corp.',\n",
       " 'Acorda Therapeutics, Inc.',\n",
       " 'Ares Commercial Real Estate Corp.',\n",
       " 'Aclaris Therapeutics, Inc.',\n",
       " 'AcelRx Pharmaceuticals, Inc.',\n",
       " 'Acacia Research Corp.',\n",
       " 'Agree Realty Corp.',\n",
       " 'Advanced Emissions Solutions, Inc.',\n",
       " 'ADMA Biologics, Inc.',\n",
       " 'Adamas Pharmaceuticals, Inc.',\n",
       " 'Adient plc',\n",
       " 'Aduro BioTech, Inc.',\n",
       " 'Advanced Disposal Services, Inc.',\n",
       " 'ADTRAN, Inc.',\n",
       " 'Addus HomeCare Corp.',\n",
       " 'Adverum Biotechnologies, Inc.',\n",
       " 'Aegion Corp.',\n",
       " 'Advanced Energy Industries, Inc.',\n",
       " 'American Equity Investment Life Holding Co.',\n",
       " 'American Eagle Outfitters, Inc.',\n",
       " 'Aerie Pharmaceuticals, Inc.',\n",
       " 'Armstrong Flooring, Inc.',\n",
       " 'American Finance Trust, Inc.',\n",
       " 'Affimed NV',\n",
       " 'AgeX Therapeutics, Inc.',\n",
       " 'Agenus, Inc.',\n",
       " 'Aeglea Biotherapeutics, Inc.',\n",
       " 'Federal Agricultural Mortgage Corp.',\n",
       " 'PlayAGS, Inc.',\n",
       " 'Argan, Inc.',\n",
       " 'Agilysys, Inc.',\n",
       " 'Armada Hoffler Properties, Inc.',\n",
       " 'Ashford Hospitality Trust, Inc.',\n",
       " 'Arlington Asset Investment Corp.',\n",
       " 'Altra Industrial Motion Corp.',\n",
       " 'Aimmune Therapeutics, Inc.',\n",
       " 'Albany International Corp.',\n",
       " 'AAR Corp.',\n",
       " 'Airgain, Inc.',\n",
       " 'Applied Industrial Technologies, Inc.',\n",
       " 'Aerojet Rocketdyne Holdings, Inc.',\n",
       " 'Great Ajax Corp.',\n",
       " 'Akebia Therapeutics, Inc.',\n",
       " 'Akcea Therapeutics, Inc.',\n",
       " 'Acadia Realty Trust',\n",
       " 'Akero Therapeutics, Inc.',\n",
       " 'Akorn, Inc.',\n",
       " 'AK Steel Holding Corp.',\n",
       " 'Akoustis Technologies, Inc.',\n",
       " 'Albireo Pharma, Inc.',\n",
       " 'Alico, Inc.',\n",
       " 'Alder Biopharmaceuticals, Inc.',\n",
       " 'Aldeyra Therapeutics, Inc.',\n",
       " 'ALLETE, Inc.',\n",
       " 'Alector, Inc.',\n",
       " 'Alexander & Baldwin, Inc.',\n",
       " 'Alamo Group, Inc.',\n",
       " 'Allegiant Travel Co.',\n",
       " 'Allakos, Inc.',\n",
       " 'Allogene Therapeutics, Inc.',\n",
       " 'AstroNova, Inc.',\n",
       " 'Alarm.com Holdings, Inc.',\n",
       " 'Altus Midstream Co.',\n",
       " 'Altair Engineering, Inc.',\n",
       " 'Alexander’s, Inc.',\n",
       " 'AMAG Pharmaceuticals, Inc.',\n",
       " 'Amalgamated Bank',\n",
       " 'Ambarella, Inc.',\n",
       " 'Ambac Financial Group, Inc.',\n",
       " 'AMC Entertainment Holdings, Inc.',\n",
       " 'Amedisys, Inc.',\n",
       " 'Apollo Medical Holdings, Inc.',\n",
       " 'AssetMark Financial Holdings, Inc.',\n",
       " 'Amkor Technology, Inc.',\n",
       " 'AMN Healthcare Services, Inc.',\n",
       " 'American National Bankshares, Inc. (Virginia)',\n",
       " 'Allied Motion Technologies, Inc.',\n",
       " 'Amphastar Pharmaceuticals, Inc.',\n",
       " 'Ameresco, Inc.',\n",
       " 'Amyris, Inc.',\n",
       " 'Amneal Pharmaceuticals, Inc.',\n",
       " 'American Superconductor Corp.',\n",
       " 'AMERISAFE, Inc.',\n",
       " 'American Software, Inc.',\n",
       " 'Amerant Bancorp, Inc.',\n",
       " 'American Woodmark Corp.',\n",
       " 'AnaptysBio, Inc.',\n",
       " 'The Andersons, Inc.',\n",
       " 'Abercrombie & Fitch Co.',\n",
       " 'AngioDynamics, Inc.',\n",
       " 'Anworth Mortgage Asset Corp.',\n",
       " 'Anika Therapeutics, Inc.',\n",
       " 'ANI Pharmaceuticals, Inc.',\n",
       " 'American Outdoor Brands Corp.',\n",
       " 'Alpha & Omega Semiconductor Ltd.',\n",
       " 'Artisan Partners Asset Management, Inc.',\n",
       " 'American Public Education, Inc.',\n",
       " 'Apellis Pharmaceuticals, Inc.',\n",
       " 'Apogee Enterprises, Inc.',\n",
       " 'AppFolio, Inc.',\n",
       " 'Appian Corp.',\n",
       " 'Digital Turbine, Inc.',\n",
       " 'Preferred Apartment Communities, Inc.',\n",
       " 'Apyx Medical Corp.',\n",
       " 'Evoqua Water Technologies Corp.',\n",
       " 'American Renal Associates Holdings, Inc.',\n",
       " 'Accuray, Inc.',\n",
       " 'ArcBest Corp.',\n",
       " 'Arch Coal, Inc.',\n",
       " 'Ardelyx, Inc.',\n",
       " 'Ares Management Corp.',\n",
       " 'Argo Group International Holdings Ltd.',\n",
       " 'Apollo Commercial Real Estate Finance, Inc.',\n",
       " 'American Realty Investors, Inc.',\n",
       " 'Arlo Technologies, Inc.',\n",
       " 'Arena Pharmaceuticals, Inc.',\n",
       " 'Archrock, Inc.',\n",
       " 'Arrow Financial Corp.',\n",
       " 'ArQule, Inc.',\n",
       " 'ARMOUR Residential REIT, Inc.',\n",
       " 'Artesian Resources Corp.',\n",
       " 'Arvinas, Inc.',\n",
       " 'Arrowhead Pharmaceuticals, Inc.',\n",
       " 'Ardmore Shipping Corp.',\n",
       " 'ASGN, Inc.',\n",
       " 'Advansix, Inc.',\n",
       " 'Assembly Biosciences, Inc.',\n",
       " 'Ascena Retail Group, Inc.',\n",
       " 'Altisource Portfolio Solutions SA',\n",
       " 'Assertio Therapeutics, Inc.',\n",
       " 'Astec Industries, Inc.',\n",
       " 'Atlantic Power Corp.',\n",
       " 'Alphatec Holdings, Inc.',\n",
       " 'A10 Networks, Inc.',\n",
       " 'Anterix, Inc.',\n",
       " 'Adtalem Global Education, Inc.',\n",
       " 'Athersys, Inc.',\n",
       " 'Allegheny Technologies, Inc.',\n",
       " 'Atkore International Group, Inc.',\n",
       " 'Ames National Corp.',\n",
       " 'ATN International, Inc.',\n",
       " 'Athenex, Inc.',\n",
       " 'Atara Biotherapeutics, Inc.',\n",
       " 'AtriCure, Inc.',\n",
       " 'Atrion Corp.',\n",
       " 'Astronics Corp.',\n",
       " 'Antares Pharma, Inc.',\n",
       " 'Air Transport Services Group, Inc.',\n",
       " 'Atlantic Union Bankshares Corp.',\n",
       " 'Avista Corp.',\n",
       " 'AeroVironment, Inc.',\n",
       " 'Avalon GloboCare Corp.',\n",
       " 'American Vanguard Corp.',\n",
       " 'Avedra',\n",
       " 'Avid Technology, Inc.',\n",
       " 'Avanos Medical, Inc.',\n",
       " 'Avrobio, Inc.',\n",
       " 'AVX Corp.',\n",
       " 'Anavex Life Sciences Corp.',\n",
       " 'Avaya Holdings Corp.',\n",
       " 'American States Water Co.',\n",
       " 'Axos Financial, Inc.',\n",
       " 'Abraxas Petroleum Corp.',\n",
       " 'Accelerate Diagnostics, Inc.',\n",
       " 'Anixter International, Inc.',\n",
       " 'AxoGen, Inc.',\n",
       " 'American Axle & Manufacturing Holdings',\n",
       " 'Axcella Health, Inc.',\n",
       " 'Axonics Modulation Technologies, Inc.',\n",
       " 'Axsome Therapeutics, Inc.',\n",
       " 'AXT, Inc.',\n",
       " 'Aircastle Ltd.',\n",
       " 'AZZ, Inc.',\n",
       " 'Barnes Group, Inc.',\n",
       " 'Banc of California, Inc.',\n",
       " 'Bandwidth, Inc.',\n",
       " 'BancFirst Corp. (Oklahoma)',\n",
       " 'Banner Corp.',\n",
       " 'Liberty Media Corp. Liberty Braves',\n",
       " 'Liberty Media Corp. Liberty Braves',\n",
       " 'Bed Bath & Beyond, Inc.',\n",
       " 'Concrete Pumping Holdings, Inc.',\n",
       " 'BridgeBio Pharma, Inc.',\n",
       " 'Barrett Business Services, Inc.',\n",
       " 'BBX Capital Corp.',\n",
       " 'BCB Bancorp, Inc.',\n",
       " 'Boise Cascade Co.',\n",
       " 'Bonanza Creek Energy, Inc.',\n",
       " 'Atreca, Inc.',\n",
       " 'BayCom Corp.',\n",
       " 'The Brink’s Co.',\n",
       " 'Blucora, Inc.',\n",
       " 'Brightcove, Inc.',\n",
       " 'Balchem Corp.',\n",
       " 'BioCryst Pharmaceuticals, Inc.',\n",
       " 'Belden, Inc.',\n",
       " 'Bridge Bancorp, Inc.',\n",
       " 'BioDelivery Sciences International, Inc.',\n",
       " 'Bloom Energy Corp.',\n",
       " 'BioTelemetry, Inc.',\n",
       " 'Beacon Roofing Supply, Inc.',\n",
       " 'Bel Fuse, Inc.',\n",
       " 'Bank First Corp.',\n",
       " 'BankFinancial Corp.',\n",
       " 'Saul Centers, Inc.',\n",
       " 'Business First Bancshares, Inc.',\n",
       " 'Briggs & Stratton Corp.',\n",
       " 'B&G Foods, Inc.',\n",
       " 'BG Staffing, Inc.',\n",
       " 'Biglari Holdings, Inc.',\n",
       " 'Bar Harbor Bankshares',\n",
       " 'Benchmark Electronics, Inc.',\n",
       " 'Berkshire Hills Bancorp, Inc.',\n",
       " 'Braemar Hotels & Resorts, Inc.',\n",
       " 'Biohaven Pharmaceutical Holding Co. Ltd.',\n",
       " 'Big Lots, Inc.',\n",
       " 'Option Care Health, Inc.',\n",
       " 'BJ’s Wholesale Club Holdings, Inc.',\n",
       " 'BJ’s Restaurants, Inc.',\n",
       " 'Brookdale Senior Living, Inc.',\n",
       " 'The Buckle, Inc.',\n",
       " 'Black Hills Corp.',\n",
       " 'BlackLine, Inc.',\n",
       " 'Blue Bird Corp.',\n",
       " 'TopBuild Corp.',\n",
       " 'Builders FirstSource, Inc.',\n",
       " 'BioLife Solutions, Inc.',\n",
       " 'Blackbaud, Inc.',\n",
       " 'Bloomin’ Brands, Inc.',\n",
       " 'Banco Latinoamericano de Comercio',\n",
       " 'BMC Stock Holdings, Inc.',\n",
       " 'Badger Meter, Inc.',\n",
       " 'Bank of Marin Bancorp',\n",
       " 'Bryn Mawr Bank Corp.',\n",
       " 'Barnes & Noble Education, Inc.',\n",
       " 'Benefitfocus, Inc.',\n",
       " 'Bank of Commerce Holdings',\n",
       " 'Audentes Therapeutics, Inc.',\n",
       " 'Boston Omaha Corp.',\n",
       " 'DMC Global, Inc.',\n",
       " 'Boot Barn Holdings, Inc.',\n",
       " 'Box, Inc.',\n",
       " 'Boston Private Financial Holdings, Inc.',\n",
       " 'Blueprint Medicines Corp.',\n",
       " 'The Bank of Princeton',\n",
       " 'Brady Corp.',\n",
       " 'Craft Brew Alliance, Inc.',\n",
       " 'Bluerock Residential Growth REIT, Inc.',\n",
       " 'Bridgford Foods Corp.',\n",
       " 'Brookline Bancorp, Inc.',\n",
       " 'Brooks Automation, Inc.',\n",
       " 'BRT Apartments Corp.',\n",
       " 'Berry Petroleum Corp.',\n",
       " 'Bassett Furniture Industries, Inc.',\n",
       " 'BioSig Technologies, Inc.',\n",
       " 'BrightSphere Investment Group, Inc.',\n",
       " 'Sierra Bancorp',\n",
       " 'Biospecifics Technologies Corp.',\n",
       " 'Bank7 Corp.',\n",
       " 'BioXcel Therapeutics, Inc.',\n",
       " 'Peabody Energy Corp.',\n",
       " 'First Busey Corp.',\n",
       " 'BrightView Holdings, Inc.',\n",
       " 'Bridgewater Bancshares, Inc.',\n",
       " 'Bankwell Financial Group, Inc.',\n",
       " 'BlueLinx Holdings, Inc.',\n",
       " 'Bluegreen Vacations Corp.',\n",
       " 'Blackstone Mortgage Trust, Inc.',\n",
       " 'BancorpSouth Bank',\n",
       " 'Byline Bancorp, Inc.',\n",
       " 'Boyd Gaming Corp.',\n",
       " 'BeyondSpring, Inc.',\n",
       " 'Beazer Homes USA, Inc.',\n",
       " 'Camden National Corp. (Maine)',\n",
       " 'Cadence Bancorporation',\n",
       " 'CAI International, Inc.',\n",
       " 'Cheesecake Factory, Inc.',\n",
       " 'Caleres, Inc.',\n",
       " 'Calithera Biosciences, Inc.',\n",
       " 'Cal-Maine Foods, Inc.',\n",
       " 'Calix, Inc.',\n",
       " 'CalAmp Corp.',\n",
       " 'Avis Budget Group, Inc.',\n",
       " 'CARA Therapeutics, Inc.',\n",
       " 'Carbonite, Inc.',\n",
       " 'Carter Bank & Trust',\n",
       " 'Cargurus, Inc.',\n",
       " 'Carolina Financial Corp.',\n",
       " 'Cars.com, Inc.',\n",
       " 'Casa Systems, Inc.',\n",
       " 'Meta Financial Group, Inc.',\n",
       " 'CASI Pharmaceuticals, Inc.',\n",
       " 'Cass Information Systems, Inc.',\n",
       " 'Cambridge Bancorp',\n",
       " 'Cardtronics plc',\n",
       " 'The Cato Corp.',\n",
       " 'Catasys, Inc.',\n",
       " 'Cathay General Bancorp',\n",
       " 'Colony Bankcorp, Inc.',\n",
       " 'CymaBay Therapeutics, Inc.',\n",
       " 'Cincinnati Bell, Inc.',\n",
       " 'CBL & Associates Properties, Inc.',\n",
       " 'Carbon Black, Inc. (Massachusetts)',\n",
       " 'Cambrex Corporation',\n",
       " 'Cellular Biomedicine Group, Inc.',\n",
       " 'Capital Bancorp, Inc. (Maryland)',\n",
       " 'Continental Building Products, Inc.',\n",
       " 'Cracker Barrel Old Country Store, Inc.',\n",
       " 'CBTX, Inc. (Texas)',\n",
       " 'Community Bank System, Inc.',\n",
       " 'CBIZ, Inc.',\n",
       " 'Coastal Financial Corp. (Washington)',\n",
       " 'Capital City Bank Group, Inc.',\n",
       " 'Chase Corp.',\n",
       " 'Cabot Microelectronics Corp.',\n",
       " 'CNB Financial Corp. (Pennsylvania)',\n",
       " 'Clear Channel Outdoor Holdings, Inc.',\n",
       " 'Cogent Communications Holdings, Inc.',\n",
       " 'Cross Country Healthcare, Inc.',\n",
       " 'Century Communities, Inc.',\n",
       " 'ChemoCentryx, Inc.',\n",
       " 'Coeur Mining, Inc.',\n",
       " 'Cardlytics, Inc.',\n",
       " 'Avid Bioservices, Inc.',\n",
       " 'CareDx, Inc.',\n",
       " 'Cedar Realty Trust, Inc.',\n",
       " 'Chromadex Corp.',\n",
       " 'Codexis, Inc.',\n",
       " 'Cadiz, Inc.',\n",
       " 'CECO Environmental Corp.',\n",
       " 'Career Education Corp.',\n",
       " 'CONSOL Energy, Inc.',\n",
       " 'Celcuity, Inc.',\n",
       " 'Celsius Holdings, Inc.',\n",
       " 'Central Garden & Pet Co.',\n",
       " 'Central Garden & Pet Co.',\n",
       " 'Century Aluminum Co.',\n",
       " 'Cerecor, Inc.',\n",
       " 'Cerus Corp.',\n",
       " 'Central European Media Enterprises Ltd.',\n",
       " 'CEVA, Inc.',\n",
       " 'CrossFirst Bankshares, Inc.',\n",
       " 'C&F Financial Corp.',\n",
       " 'Capitol Federal Financial, Inc.',\n",
       " 'ConforMIS, Inc.',\n",
       " 'Chaparral Energy, Inc.',\n",
       " 'City Holding Co.',\n",
       " 'Community Healthcare Trust, Inc.',\n",
       " 'Churchill Downs, Inc.',\n",
       " 'The Chefs’ Warehouse, Inc.',\n",
       " 'Chegg, Inc.',\n",
       " 'Chiasma, Inc.',\n",
       " 'Chemung Financial Corp.',\n",
       " 'Cherry Hill Mortgage Investment Corp.',\n",
       " 'Charah Solutions, Inc.',\n",
       " 'Coherus BioSciences, Inc.',\n",
       " 'Chico’s FAS, Inc.',\n",
       " 'Chuy’s Holdings, Inc.',\n",
       " 'Citizens, Inc. (Austin, Texas)',\n",
       " 'City Office REIT, Inc.',\n",
       " 'CIRCOR International, Inc.',\n",
       " 'Cision Ltd.',\n",
       " 'Civista Bancshares, Inc.',\n",
       " 'CompX International, Inc.',\n",
       " 'C&J Energy Services, Inc.',\n",
       " 'SEACOR Holdings, Inc.',\n",
       " 'Checkpoint Therapeutics, Inc.',\n",
       " 'Clarus Corp.',\n",
       " 'Columbia Financial, Inc.',\n",
       " 'Collectors Universe, Inc.',\n",
       " 'Cloudera, Inc.',\n",
       " 'Chatham Lodging Trust',\n",
       " 'Cleveland-Cliffs, Inc.',\n",
       " 'Clearfield, Inc.',\n",
       " 'Mack-Cali Realty Corp.',\n",
       " 'Colony Credit Real Estate, Inc.',\n",
       " 'Clean Energy Fuels Corp.',\n",
       " 'Clipper Realty, Inc.',\n",
       " 'Clovis Oncology, Inc.',\n",
       " 'Clearwater Paper Corp.',\n",
       " 'Calyxt, Inc.',\n",
       " 'Cambium Networks Corp.',\n",
       " 'Commercial Metals Co.',\n",
       " 'Columbus McKinnon Corp.',\n",
       " 'CIM Commercial Trust Corp.',\n",
       " 'Cumulus Media, Inc.',\n",
       " 'Capstead Mortgage Corp.',\n",
       " 'Compass Minerals International, Inc.',\n",
       " 'Cimpress Plc',\n",
       " 'Costamare Inc.',\n",
       " 'Chimerix, Inc.',\n",
       " 'Comtech Telecommunications Corp.',\n",
       " 'Century Bancorp, Inc. (Massachusetts)',\n",
       " 'Concert Pharmaceuticals, Inc.',\n",
       " 'Conduent, Inc.',\n",
       " 'CONMED Corp.',\n",
       " 'Cannae Holdings, Inc.',\n",
       " 'CNO Financial Group, Inc.',\n",
       " 'ConnectOne Bancorp, Inc.',\n",
       " 'Cornerstone Building Brands, Inc.',\n",
       " 'Cohen & Steers, Inc. (New York)',\n",
       " 'Consolidated Communications Holdings, Inc.',\n",
       " 'Constellation Pharmaceuticals, Inc.',\n",
       " 'Century Casinos, Inc.',\n",
       " 'CNX Resources Corp.',\n",
       " 'PC Connection, Inc.',\n",
       " 'Coda Octopus Group, Inc.',\n",
       " 'Cohu, Inc.',\n",
       " 'Coca-Cola Consolidated, Inc.',\n",
       " 'Columbia Banking System, Inc.',\n",
       " 'Collegium Pharmaceutical, Inc.',\n",
       " 'Conn’s, Inc.',\n",
       " 'Mr. Cooper Group, Inc.',\n",
       " 'Core-Mark Holding Co., Inc.',\n",
       " 'CorEnergy Infrastructure Trust, Inc.',\n",
       " 'Corcept Therapeutics, Inc.',\n",
       " 'Cowen, Inc.',\n",
       " 'Callon Petroleum Co.',\n",
       " 'Central Pacific Financial Corp.',\n",
       " 'Chesapeake Utilities Corp.',\n",
       " 'CorePoint Lodging, Inc.',\n",
       " 'Catalyst Pharmaceuticals, Inc.',\n",
       " 'Cooper-Standard Holdings, Inc.',\n",
       " 'Computer Programs & Systems, Inc.',\n",
       " 'CRA International, Inc.',\n",
       " 'Corbus Pharmaceuticals Holdings, Inc.',\n",
       " 'California Resources Corp.',\n",
       " 'Care.com, Inc.',\n",
       " 'Crawford & Co.',\n",
       " 'Comstock Resources, Inc.',\n",
       " 'CorMedix, Inc.',\n",
       " 'America’s Car-Mart, Inc.',\n",
       " 'Crinetics Pharmaceuticals, Inc.',\n",
       " 'Crocs, Inc.',\n",
       " 'Carpenter Technology Corp.',\n",
       " 'Cortexyme, Inc.',\n",
       " 'Cirrus Logic, Inc.',\n",
       " 'CorVel Corp.',\n",
       " 'CryoLife, Inc.',\n",
       " 'Carrizo Oil & Gas, Inc.',\n",
       " 'CenterState Bank Corp.',\n",
       " 'CSG Systems International, Inc.',\n",
       " 'Cardiovascular Systems, Inc.',\n",
       " 'Castlight Health, Inc.',\n",
       " 'Cornerstone OnDemand, Inc.',\n",
       " 'Caesarstone Ltd.',\n",
       " 'Castle Biosciences, Inc.',\n",
       " 'CapStar Financial Holdings, Inc.',\n",
       " 'Carriage Services, Inc.',\n",
       " 'CSW Industrials, Inc.',\n",
       " 'Cooper Tire & Rubber Co.',\n",
       " 'Community Trust Bancorp, Inc. (Kentucky)',\n",
       " 'CytomX Therapeutics, Inc.',\n",
       " 'Consolidated-Tomoka Land Co.',\n",
       " 'Contura Energy, Inc.',\n",
       " 'Centric Brands, Inc.',\n",
       " 'CareTrust REIT, Inc.',\n",
       " 'Citi Trends, Inc.',\n",
       " 'CTS Corp.',\n",
       " 'CytoSorbents Corp.',\n",
       " 'CatchMark Timber Trust, Inc.',\n",
       " 'Connecticut Water Service, Inc.',\n",
       " 'Cubic Corp.',\n",
       " 'Customers Bancorp, Inc.',\n",
       " 'Cue Biopharma, Inc.',\n",
       " 'Culp, Inc.',\n",
       " 'CURO Group Holdings Corp.',\n",
       " 'Cutera, Inc.',\n",
       " 'Covanta Holding Corp.',\n",
       " 'CVB Financial Corp.',\n",
       " 'Cavco Industries, Inc.',\n",
       " 'Central Valley Community Bancorp',\n",
       " 'Commercial Vehicle Group, Inc.',\n",
       " 'Calavo Growers, Inc.',\n",
       " 'CVR Energy, Inc.',\n",
       " 'Covia Holdings Corp.',\n",
       " 'Commvault Systems, Inc.',\n",
       " 'Codorus Valley Bancorp, Inc.',\n",
       " 'CEL-SCI Corp.',\n",
       " 'Corindus Vascular Robotics, Inc.',\n",
       " 'Covenant Transportation Group, Inc.',\n",
       " 'Consolidated Water Co. Ltd.',\n",
       " 'Clearway Energy, Inc.',\n",
       " 'Clearway Energy, Inc.',\n",
       " 'Camping World Holdings, Inc.',\n",
       " 'Cushman & Wakefield Plc',\n",
       " 'Casella Waste Systems, Inc.',\n",
       " 'California Water Service Group',\n",
       " 'CoreCivic, Inc.',\n",
       " 'Cyclerion Therapeutics, Inc.',\n",
       " 'Community Health Systems, Inc.',\n",
       " 'CryoPort, Inc.',\n",
       " 'Cytokinetics, Inc.',\n",
       " 'Citizens & Northern Corp.']"
      ]
     },
     "execution_count": 51,
     "metadata": {},
     "output_type": "execute_result"
    }
   ],
   "source": [
    "a_through_c_name"
   ]
  },
  {
   "cell_type": "code",
   "execution_count": null,
   "metadata": {},
   "outputs": [],
   "source": []
  }
 ],
 "metadata": {
  "kernelspec": {
   "display_name": "learn-env",
   "language": "python",
   "name": "learn-env"
  },
  "language_info": {
   "codemirror_mode": {
    "name": "ipython",
    "version": 3
   },
   "file_extension": ".py",
   "mimetype": "text/x-python",
   "name": "python",
   "nbconvert_exporter": "python",
   "pygments_lexer": "ipython3",
   "version": "3.6.9"
  },
  "toc": {
   "base_numbering": 1,
   "nav_menu": {},
   "number_sections": true,
   "sideBar": true,
   "skip_h1_title": false,
   "title_cell": "Table of Contents",
   "title_sidebar": "Contents",
   "toc_cell": false,
   "toc_position": {},
   "toc_section_display": true,
   "toc_window_display": false
  },
  "varInspector": {
   "cols": {
    "lenName": 16,
    "lenType": 16,
    "lenVar": 40
   },
   "kernels_config": {
    "python": {
     "delete_cmd_postfix": "",
     "delete_cmd_prefix": "del ",
     "library": "var_list.py",
     "varRefreshCmd": "print(var_dic_list())"
    },
    "r": {
     "delete_cmd_postfix": ") ",
     "delete_cmd_prefix": "rm(",
     "library": "var_list.r",
     "varRefreshCmd": "cat(var_dic_list()) "
    }
   },
   "types_to_exclude": [
    "module",
    "function",
    "builtin_function_or_method",
    "instance",
    "_Feature"
   ],
   "window_display": false
  }
 },
 "nbformat": 4,
 "nbformat_minor": 4
}
