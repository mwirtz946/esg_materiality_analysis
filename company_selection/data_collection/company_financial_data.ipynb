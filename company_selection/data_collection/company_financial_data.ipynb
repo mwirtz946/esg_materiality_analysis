{
 "cells": [
  {
   "cell_type": "markdown",
   "metadata": {},
   "source": [
    "https://www.fool.com/investing/2020/08/18/to-identify-resilience-check-company-vital-sign/"
   ]
  },
  {
   "cell_type": "markdown",
   "metadata": {},
   "source": [
    "# Imports"
   ]
  },
  {
   "cell_type": "code",
   "execution_count": 30,
   "metadata": {
    "ExecuteTime": {
     "end_time": "2021-01-28T19:33:05.932594Z",
     "start_time": "2021-01-28T19:33:05.918925Z"
    }
   },
   "outputs": [],
   "source": [
    "import requests\n",
    "import pandas as pd\n",
    "import json\n",
    "# import yfinance as yf"
   ]
  },
  {
   "cell_type": "code",
   "execution_count": 68,
   "metadata": {
    "ExecuteTime": {
     "end_time": "2021-01-28T19:54:18.824813Z",
     "start_time": "2021-01-28T19:54:16.679083Z"
    }
   },
   "outputs": [],
   "source": [
    "url = \"https://apidojo-yahoo-finance-v1.p.rapidapi.com/stock/v2/get-financials\"\n",
    "\n",
    "querystring = {\"symbol\":\"AMRN\",\"region\":\"US\"}\n",
    "\n",
    "headers = {\n",
    "    'x-rapidapi-key': \"1343dd437bmshfcee9a8ffabf9edp129104jsn6f05c42f2032\",\n",
    "    'x-rapidapi-host': \"apidojo-yahoo-finance-v1.p.rapidapi.com\"\n",
    "    }\n",
    "\n",
    "response = requests.request(\"GET\", url, headers=headers, params=querystring)"
   ]
  },
  {
   "cell_type": "code",
   "execution_count": 73,
   "metadata": {
    "ExecuteTime": {
     "end_time": "2021-01-28T19:56:04.846288Z",
     "start_time": "2021-01-28T19:56:04.841146Z"
    }
   },
   "outputs": [],
   "source": [
    "json_data = json.loads(response.text)['cashflowStatementHistory']['cashflowStatements'][0]"
   ]
  },
  {
   "cell_type": "code",
   "execution_count": 74,
   "metadata": {
    "ExecuteTime": {
     "end_time": "2021-01-28T19:56:07.528280Z",
     "start_time": "2021-01-28T19:56:07.520956Z"
    }
   },
   "outputs": [],
   "source": [
    "with open('AMRN.json', 'w') as outfile:\n",
    "    json.dump(json_data, outfile)"
   ]
  },
  {
   "cell_type": "code",
   "execution_count": 75,
   "metadata": {
    "ExecuteTime": {
     "end_time": "2021-01-28T19:56:08.099022Z",
     "start_time": "2021-01-28T19:56:08.080912Z"
    }
   },
   "outputs": [],
   "source": [
    "data = pd.read_json('AMRN.json')"
   ]
  },
  {
   "cell_type": "code",
   "execution_count": 76,
   "metadata": {
    "ExecuteTime": {
     "end_time": "2021-01-28T19:56:08.884344Z",
     "start_time": "2021-01-28T19:56:08.865111Z"
    }
   },
   "outputs": [
    {
     "data": {
      "text/html": [
       "<div>\n",
       "<style scoped>\n",
       "    .dataframe tbody tr th:only-of-type {\n",
       "        vertical-align: middle;\n",
       "    }\n",
       "\n",
       "    .dataframe tbody tr th {\n",
       "        vertical-align: top;\n",
       "    }\n",
       "\n",
       "    .dataframe thead th {\n",
       "        text-align: right;\n",
       "    }\n",
       "</style>\n",
       "<table border=\"1\" class=\"dataframe\">\n",
       "  <thead>\n",
       "    <tr style=\"text-align: right;\">\n",
       "      <th></th>\n",
       "      <th>changeToLiabilities</th>\n",
       "      <th>totalCashflowsFromInvestingActivities</th>\n",
       "      <th>netBorrowings</th>\n",
       "      <th>totalCashFromFinancingActivities</th>\n",
       "      <th>changeToOperatingActivities</th>\n",
       "      <th>issuanceOfStock</th>\n",
       "      <th>netIncome</th>\n",
       "      <th>changeInCash</th>\n",
       "      <th>endDate</th>\n",
       "      <th>repurchaseOfStock</th>\n",
       "      <th>totalCashFromOperatingActivities</th>\n",
       "      <th>depreciation</th>\n",
       "      <th>changeToInventory</th>\n",
       "      <th>changeToAccountReceivables</th>\n",
       "      <th>maxAge</th>\n",
       "      <th>changeToNetincome</th>\n",
       "      <th>capitalExpenditures</th>\n",
       "    </tr>\n",
       "  </thead>\n",
       "  <tbody>\n",
       "    <tr>\n",
       "      <th>raw</th>\n",
       "      <td>66049000</td>\n",
       "      <td>-2478000</td>\n",
       "      <td>-31652000</td>\n",
       "      <td>409612000</td>\n",
       "      <td>-17316000</td>\n",
       "      <td>466751000</td>\n",
       "      <td>-22645000</td>\n",
       "      <td>397768000</td>\n",
       "      <td>1577750400</td>\n",
       "      <td>-25487000</td>\n",
       "      <td>-9366000</td>\n",
       "      <td>859000</td>\n",
       "      <td>-18967000</td>\n",
       "      <td>-49907000</td>\n",
       "      <td>1</td>\n",
       "      <td>30917000</td>\n",
       "      <td>-2478000</td>\n",
       "    </tr>\n",
       "    <tr>\n",
       "      <th>fmt</th>\n",
       "      <td>66.05M</td>\n",
       "      <td>-2.48M</td>\n",
       "      <td>-31.65M</td>\n",
       "      <td>409.61M</td>\n",
       "      <td>-17.32M</td>\n",
       "      <td>466.75M</td>\n",
       "      <td>-22.64M</td>\n",
       "      <td>397.77M</td>\n",
       "      <td>2019-12-31</td>\n",
       "      <td>-25.49M</td>\n",
       "      <td>-9.37M</td>\n",
       "      <td>859k</td>\n",
       "      <td>-18.97M</td>\n",
       "      <td>-49.91M</td>\n",
       "      <td>1</td>\n",
       "      <td>30.92M</td>\n",
       "      <td>-2.48M</td>\n",
       "    </tr>\n",
       "    <tr>\n",
       "      <th>longFmt</th>\n",
       "      <td>66,049,000</td>\n",
       "      <td>-2,478,000</td>\n",
       "      <td>-31,652,000</td>\n",
       "      <td>409,612,000</td>\n",
       "      <td>-17,316,000</td>\n",
       "      <td>466,751,000</td>\n",
       "      <td>-22,645,000</td>\n",
       "      <td>397,768,000</td>\n",
       "      <td>NaN</td>\n",
       "      <td>-25,487,000</td>\n",
       "      <td>-9,366,000</td>\n",
       "      <td>859,000</td>\n",
       "      <td>-18,967,000</td>\n",
       "      <td>-49,907,000</td>\n",
       "      <td>1</td>\n",
       "      <td>30,917,000</td>\n",
       "      <td>-2,478,000</td>\n",
       "    </tr>\n",
       "  </tbody>\n",
       "</table>\n",
       "</div>"
      ],
      "text/plain": [
       "        changeToLiabilities totalCashflowsFromInvestingActivities  \\\n",
       "raw                66049000                              -2478000   \n",
       "fmt                  66.05M                                -2.48M   \n",
       "longFmt          66,049,000                            -2,478,000   \n",
       "\n",
       "        netBorrowings totalCashFromFinancingActivities  \\\n",
       "raw         -31652000                        409612000   \n",
       "fmt           -31.65M                          409.61M   \n",
       "longFmt   -31,652,000                      409,612,000   \n",
       "\n",
       "        changeToOperatingActivities issuanceOfStock    netIncome changeInCash  \\\n",
       "raw                       -17316000       466751000    -22645000    397768000   \n",
       "fmt                         -17.32M         466.75M      -22.64M      397.77M   \n",
       "longFmt                 -17,316,000     466,751,000  -22,645,000  397,768,000   \n",
       "\n",
       "            endDate repurchaseOfStock totalCashFromOperatingActivities  \\\n",
       "raw      1577750400         -25487000                         -9366000   \n",
       "fmt      2019-12-31           -25.49M                           -9.37M   \n",
       "longFmt         NaN       -25,487,000                       -9,366,000   \n",
       "\n",
       "        depreciation changeToInventory changeToAccountReceivables  maxAge  \\\n",
       "raw           859000         -18967000                  -49907000       1   \n",
       "fmt             859k           -18.97M                    -49.91M       1   \n",
       "longFmt      859,000       -18,967,000                -49,907,000       1   \n",
       "\n",
       "        changeToNetincome capitalExpenditures  \n",
       "raw              30917000            -2478000  \n",
       "fmt                30.92M              -2.48M  \n",
       "longFmt        30,917,000          -2,478,000  "
      ]
     },
     "execution_count": 76,
     "metadata": {},
     "output_type": "execute_result"
    }
   ],
   "source": [
    "data"
   ]
  },
  {
   "cell_type": "code",
   "execution_count": null,
   "metadata": {},
   "outputs": [],
   "source": []
  },
  {
   "cell_type": "code",
   "execution_count": null,
   "metadata": {},
   "outputs": [],
   "source": []
  },
  {
   "cell_type": "code",
   "execution_count": null,
   "metadata": {},
   "outputs": [],
   "source": []
  },
  {
   "cell_type": "code",
   "execution_count": null,
   "metadata": {},
   "outputs": [],
   "source": []
  },
  {
   "cell_type": "code",
   "execution_count": 13,
   "metadata": {
    "ExecuteTime": {
     "end_time": "2021-01-28T19:09:32.289670Z",
     "start_time": "2021-01-28T19:09:32.261594Z"
    }
   },
   "outputs": [],
   "source": [
    "msft = yf.Ticker('MSFT')"
   ]
  },
  {
   "cell_type": "code",
   "execution_count": 19,
   "metadata": {
    "ExecuteTime": {
     "end_time": "2021-01-28T19:11:58.999025Z",
     "start_time": "2021-01-28T19:11:58.978679Z"
    }
   },
   "outputs": [
    {
     "data": {
      "text/plain": [
       "17.259"
      ]
     },
     "execution_count": 19,
     "metadata": {},
     "output_type": "execute_result"
    }
   ],
   "source": [
    "msft.info['bookValue']"
   ]
  },
  {
   "cell_type": "code",
   "execution_count": 22,
   "metadata": {
    "ExecuteTime": {
     "end_time": "2021-01-28T19:16:50.844935Z",
     "start_time": "2021-01-28T19:16:50.387977Z"
    }
   },
   "outputs": [
    {
     "data": {
      "text/html": [
       "<div>\n",
       "<style scoped>\n",
       "    .dataframe tbody tr th:only-of-type {\n",
       "        vertical-align: middle;\n",
       "    }\n",
       "\n",
       "    .dataframe tbody tr th {\n",
       "        vertical-align: top;\n",
       "    }\n",
       "\n",
       "    .dataframe thead th {\n",
       "        text-align: right;\n",
       "    }\n",
       "</style>\n",
       "<table border=\"1\" class=\"dataframe\">\n",
       "  <thead>\n",
       "    <tr style=\"text-align: right;\">\n",
       "      <th></th>\n",
       "      <th>Open</th>\n",
       "      <th>High</th>\n",
       "      <th>Low</th>\n",
       "      <th>Close</th>\n",
       "      <th>Volume</th>\n",
       "      <th>Dividends</th>\n",
       "      <th>Stock Splits</th>\n",
       "    </tr>\n",
       "    <tr>\n",
       "      <th>Date</th>\n",
       "      <th></th>\n",
       "      <th></th>\n",
       "      <th></th>\n",
       "      <th></th>\n",
       "      <th></th>\n",
       "      <th></th>\n",
       "      <th></th>\n",
       "    </tr>\n",
       "  </thead>\n",
       "  <tbody>\n",
       "    <tr>\n",
       "      <th>1986-03-13</th>\n",
       "      <td>0.056367</td>\n",
       "      <td>0.064656</td>\n",
       "      <td>0.056367</td>\n",
       "      <td>0.061893</td>\n",
       "      <td>1031788800</td>\n",
       "      <td>0.0</td>\n",
       "      <td>0.0</td>\n",
       "    </tr>\n",
       "    <tr>\n",
       "      <th>1986-03-14</th>\n",
       "      <td>0.061893</td>\n",
       "      <td>0.065209</td>\n",
       "      <td>0.061893</td>\n",
       "      <td>0.064103</td>\n",
       "      <td>308160000</td>\n",
       "      <td>0.0</td>\n",
       "      <td>0.0</td>\n",
       "    </tr>\n",
       "    <tr>\n",
       "      <th>1986-03-17</th>\n",
       "      <td>0.064103</td>\n",
       "      <td>0.065761</td>\n",
       "      <td>0.064103</td>\n",
       "      <td>0.065209</td>\n",
       "      <td>133171200</td>\n",
       "      <td>0.0</td>\n",
       "      <td>0.0</td>\n",
       "    </tr>\n",
       "    <tr>\n",
       "      <th>1986-03-18</th>\n",
       "      <td>0.065209</td>\n",
       "      <td>0.065761</td>\n",
       "      <td>0.062998</td>\n",
       "      <td>0.063551</td>\n",
       "      <td>67766400</td>\n",
       "      <td>0.0</td>\n",
       "      <td>0.0</td>\n",
       "    </tr>\n",
       "    <tr>\n",
       "      <th>1986-03-19</th>\n",
       "      <td>0.063551</td>\n",
       "      <td>0.064103</td>\n",
       "      <td>0.061893</td>\n",
       "      <td>0.062446</td>\n",
       "      <td>47894400</td>\n",
       "      <td>0.0</td>\n",
       "      <td>0.0</td>\n",
       "    </tr>\n",
       "    <tr>\n",
       "      <th>...</th>\n",
       "      <td>...</td>\n",
       "      <td>...</td>\n",
       "      <td>...</td>\n",
       "      <td>...</td>\n",
       "      <td>...</td>\n",
       "      <td>...</td>\n",
       "      <td>...</td>\n",
       "    </tr>\n",
       "    <tr>\n",
       "      <th>2021-01-22</th>\n",
       "      <td>227.080002</td>\n",
       "      <td>230.070007</td>\n",
       "      <td>225.800003</td>\n",
       "      <td>225.949997</td>\n",
       "      <td>30172700</td>\n",
       "      <td>0.0</td>\n",
       "      <td>0.0</td>\n",
       "    </tr>\n",
       "    <tr>\n",
       "      <th>2021-01-25</th>\n",
       "      <td>229.119995</td>\n",
       "      <td>229.779999</td>\n",
       "      <td>224.220001</td>\n",
       "      <td>229.529999</td>\n",
       "      <td>33152100</td>\n",
       "      <td>0.0</td>\n",
       "      <td>0.0</td>\n",
       "    </tr>\n",
       "    <tr>\n",
       "      <th>2021-01-26</th>\n",
       "      <td>231.860001</td>\n",
       "      <td>234.179993</td>\n",
       "      <td>230.080002</td>\n",
       "      <td>232.330002</td>\n",
       "      <td>49169600</td>\n",
       "      <td>0.0</td>\n",
       "      <td>0.0</td>\n",
       "    </tr>\n",
       "    <tr>\n",
       "      <th>2021-01-27</th>\n",
       "      <td>238.000000</td>\n",
       "      <td>240.440002</td>\n",
       "      <td>230.139999</td>\n",
       "      <td>232.899994</td>\n",
       "      <td>69757500</td>\n",
       "      <td>0.0</td>\n",
       "      <td>0.0</td>\n",
       "    </tr>\n",
       "    <tr>\n",
       "      <th>2021-01-28</th>\n",
       "      <td>235.610001</td>\n",
       "      <td>242.639999</td>\n",
       "      <td>235.089996</td>\n",
       "      <td>241.960007</td>\n",
       "      <td>31754889</td>\n",
       "      <td>0.0</td>\n",
       "      <td>0.0</td>\n",
       "    </tr>\n",
       "  </tbody>\n",
       "</table>\n",
       "<p>8792 rows × 7 columns</p>\n",
       "</div>"
      ],
      "text/plain": [
       "                  Open        High         Low       Close      Volume  \\\n",
       "Date                                                                     \n",
       "1986-03-13    0.056367    0.064656    0.056367    0.061893  1031788800   \n",
       "1986-03-14    0.061893    0.065209    0.061893    0.064103   308160000   \n",
       "1986-03-17    0.064103    0.065761    0.064103    0.065209   133171200   \n",
       "1986-03-18    0.065209    0.065761    0.062998    0.063551    67766400   \n",
       "1986-03-19    0.063551    0.064103    0.061893    0.062446    47894400   \n",
       "...                ...         ...         ...         ...         ...   \n",
       "2021-01-22  227.080002  230.070007  225.800003  225.949997    30172700   \n",
       "2021-01-25  229.119995  229.779999  224.220001  229.529999    33152100   \n",
       "2021-01-26  231.860001  234.179993  230.080002  232.330002    49169600   \n",
       "2021-01-27  238.000000  240.440002  230.139999  232.899994    69757500   \n",
       "2021-01-28  235.610001  242.639999  235.089996  241.960007    31754889   \n",
       "\n",
       "            Dividends  Stock Splits  \n",
       "Date                                 \n",
       "1986-03-13        0.0           0.0  \n",
       "1986-03-14        0.0           0.0  \n",
       "1986-03-17        0.0           0.0  \n",
       "1986-03-18        0.0           0.0  \n",
       "1986-03-19        0.0           0.0  \n",
       "...               ...           ...  \n",
       "2021-01-22        0.0           0.0  \n",
       "2021-01-25        0.0           0.0  \n",
       "2021-01-26        0.0           0.0  \n",
       "2021-01-27        0.0           0.0  \n",
       "2021-01-28        0.0           0.0  \n",
       "\n",
       "[8792 rows x 7 columns]"
      ]
     },
     "execution_count": 22,
     "metadata": {},
     "output_type": "execute_result"
    }
   ],
   "source": [
    "msft.history(period='max')"
   ]
  },
  {
   "cell_type": "code",
   "execution_count": 4,
   "metadata": {
    "ExecuteTime": {
     "end_time": "2021-01-28T16:19:52.703344Z",
     "start_time": "2021-01-28T16:19:52.698623Z"
    }
   },
   "outputs": [],
   "source": [
    "def getdata(stock):\n",
    "    company_quote = requests.get(f\"https://financialmodelingprep.com/api/v3/quote/{stock}\")\n",
    "    company_quote = company_quote.json()\n",
    "    \n",
    "    return company_quote, company_quote"
   ]
  },
  {
   "cell_type": "code",
   "execution_count": 5,
   "metadata": {
    "ExecuteTime": {
     "end_time": "2021-01-28T16:19:53.826238Z",
     "start_time": "2021-01-28T16:19:53.585107Z"
    }
   },
   "outputs": [
    {
     "data": {
      "text/plain": [
       "({'Error Message': 'Invalid API KEY. Please retry or visit our documentation to create one FREE https://financialmodelingprep.com/developer/docs'},\n",
       " {'Error Message': 'Invalid API KEY. Please retry or visit our documentation to create one FREE https://financialmodelingprep.com/developer/docs'})"
      ]
     },
     "execution_count": 5,
     "metadata": {},
     "output_type": "execute_result"
    }
   ],
   "source": [
    "getdata('AAPL')"
   ]
  },
  {
   "cell_type": "code",
   "execution_count": null,
   "metadata": {},
   "outputs": [],
   "source": []
  }
 ],
 "metadata": {
  "kernelspec": {
   "display_name": "learn-env",
   "language": "python",
   "name": "learn-env"
  },
  "language_info": {
   "codemirror_mode": {
    "name": "ipython",
    "version": 3
   },
   "file_extension": ".py",
   "mimetype": "text/x-python",
   "name": "python",
   "nbconvert_exporter": "python",
   "pygments_lexer": "ipython3",
   "version": "3.6.9"
  },
  "toc": {
   "base_numbering": 1,
   "nav_menu": {},
   "number_sections": true,
   "sideBar": true,
   "skip_h1_title": false,
   "title_cell": "Table of Contents",
   "title_sidebar": "Contents",
   "toc_cell": false,
   "toc_position": {},
   "toc_section_display": true,
   "toc_window_display": false
  },
  "varInspector": {
   "cols": {
    "lenName": 16,
    "lenType": 16,
    "lenVar": 40
   },
   "kernels_config": {
    "python": {
     "delete_cmd_postfix": "",
     "delete_cmd_prefix": "del ",
     "library": "var_list.py",
     "varRefreshCmd": "print(var_dic_list())"
    },
    "r": {
     "delete_cmd_postfix": ") ",
     "delete_cmd_prefix": "rm(",
     "library": "var_list.r",
     "varRefreshCmd": "cat(var_dic_list()) "
    }
   },
   "types_to_exclude": [
    "module",
    "function",
    "builtin_function_or_method",
    "instance",
    "_Feature"
   ],
   "window_display": false
  }
 },
 "nbformat": 4,
 "nbformat_minor": 4
}
