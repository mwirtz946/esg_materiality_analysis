{
 "cells": [
  {
   "cell_type": "markdown",
   "metadata": {},
   "source": [
    "https://www.fool.com/investing/2020/08/18/to-identify-resilience-check-company-vital-sign/"
   ]
  },
  {
   "cell_type": "markdown",
   "metadata": {},
   "source": [
    "# Fundamental Data Scraper"
   ]
  },
  {
   "cell_type": "markdown",
   "metadata": {},
   "source": [
    "Easy peezy"
   ]
  },
  {
   "cell_type": "code",
   "execution_count": 173,
   "metadata": {
    "ExecuteTime": {
     "end_time": "2021-01-29T22:35:33.834550Z",
     "start_time": "2021-01-29T22:35:33.718788Z"
    }
   },
   "outputs": [],
   "source": [
    "import FundamentalAnalysis as fa"
   ]
  },
  {
   "cell_type": "code",
   "execution_count": 177,
   "metadata": {
    "ExecuteTime": {
     "end_time": "2021-01-29T22:38:52.622330Z",
     "start_time": "2021-01-29T22:38:52.059495Z"
    }
   },
   "outputs": [
    {
     "data": {
      "text/html": [
       "<div>\n",
       "<style scoped>\n",
       "    .dataframe tbody tr th:only-of-type {\n",
       "        vertical-align: middle;\n",
       "    }\n",
       "\n",
       "    .dataframe tbody tr th {\n",
       "        vertical-align: top;\n",
       "    }\n",
       "\n",
       "    .dataframe thead th {\n",
       "        text-align: right;\n",
       "    }\n",
       "</style>\n",
       "<table border=\"1\" class=\"dataframe\">\n",
       "  <thead>\n",
       "    <tr style=\"text-align: right;\">\n",
       "      <th></th>\n",
       "      <th>2021-01</th>\n",
       "      <th>2020-09</th>\n",
       "      <th>2020-06</th>\n",
       "      <th>2020-03</th>\n",
       "      <th>2019-12</th>\n",
       "      <th>2019-09</th>\n",
       "      <th>2019-06</th>\n",
       "      <th>2019-03</th>\n",
       "      <th>2018-12</th>\n",
       "      <th>2018-09</th>\n",
       "      <th>...</th>\n",
       "      <th>2011-09</th>\n",
       "      <th>2011-06</th>\n",
       "      <th>2011-03</th>\n",
       "      <th>2010-12</th>\n",
       "      <th>2010-09</th>\n",
       "      <th>2010-06</th>\n",
       "      <th>2010-03</th>\n",
       "      <th>2009-12</th>\n",
       "      <th>2009-09</th>\n",
       "      <th>2009-06</th>\n",
       "    </tr>\n",
       "  </thead>\n",
       "  <tbody>\n",
       "    <tr>\n",
       "      <th>date</th>\n",
       "      <td>2021-01-29</td>\n",
       "      <td>2020-09-26</td>\n",
       "      <td>2020-06-27</td>\n",
       "      <td>2020-03-28</td>\n",
       "      <td>2019-12-28</td>\n",
       "      <td>2019-09-28</td>\n",
       "      <td>2019-06-29</td>\n",
       "      <td>2019-03-30</td>\n",
       "      <td>2018-12-29</td>\n",
       "      <td>2018-09-29</td>\n",
       "      <td>...</td>\n",
       "      <td>2011-09-24</td>\n",
       "      <td>2011-06-25</td>\n",
       "      <td>2011-03-26</td>\n",
       "      <td>2010-12-25</td>\n",
       "      <td>2010-09-25</td>\n",
       "      <td>2010-06-26</td>\n",
       "      <td>2010-03-27</td>\n",
       "      <td>2009-12-26</td>\n",
       "      <td>2009-09-26</td>\n",
       "      <td>2009-06-27</td>\n",
       "    </tr>\n",
       "    <tr>\n",
       "      <th>Stock Price</th>\n",
       "      <td>131.96</td>\n",
       "      <td>115.05</td>\n",
       "      <td>94.81</td>\n",
       "      <td>70.7925</td>\n",
       "      <td>77.2375</td>\n",
       "      <td>62.2625</td>\n",
       "      <td>52.42</td>\n",
       "      <td>51.1525</td>\n",
       "      <td>39.075</td>\n",
       "      <td>53.06</td>\n",
       "      <td>...</td>\n",
       "      <td>14.4918</td>\n",
       "      <td>14.2321</td>\n",
       "      <td>12.6075</td>\n",
       "      <td>12.0518</td>\n",
       "      <td>11.03</td>\n",
       "      <td>9.26</td>\n",
       "      <td>9.625</td>\n",
       "      <td>7.2525</td>\n",
       "      <td>7.23143</td>\n",
       "      <td>5.71786</td>\n",
       "    </tr>\n",
       "    <tr>\n",
       "      <th>DCF</th>\n",
       "      <td>134.129</td>\n",
       "      <td>117.241</td>\n",
       "      <td>96.2942</td>\n",
       "      <td>72.4818</td>\n",
       "      <td>78.8949</td>\n",
       "      <td>64.3964</td>\n",
       "      <td>54.4303</td>\n",
       "      <td>52.6142</td>\n",
       "      <td>40.9081</td>\n",
       "      <td>53.9433</td>\n",
       "      <td>...</td>\n",
       "      <td>14.8649</td>\n",
       "      <td>14.6926</td>\n",
       "      <td>13.2172</td>\n",
       "      <td>12.4626</td>\n",
       "      <td>11.463</td>\n",
       "      <td>9.63373</td>\n",
       "      <td>10.0127</td>\n",
       "      <td>7.54797</td>\n",
       "      <td>7.43698</td>\n",
       "      <td>5.93804</td>\n",
       "    </tr>\n",
       "  </tbody>\n",
       "</table>\n",
       "<p>3 rows × 47 columns</p>\n",
       "</div>"
      ],
      "text/plain": [
       "                2021-01     2020-09     2020-06     2020-03     2019-12  \\\n",
       "date         2021-01-29  2020-09-26  2020-06-27  2020-03-28  2019-12-28   \n",
       "Stock Price      131.96      115.05       94.81     70.7925     77.2375   \n",
       "DCF             134.129     117.241     96.2942     72.4818     78.8949   \n",
       "\n",
       "                2019-09     2019-06     2019-03     2018-12     2018-09  ...  \\\n",
       "date         2019-09-28  2019-06-29  2019-03-30  2018-12-29  2018-09-29  ...   \n",
       "Stock Price     62.2625       52.42     51.1525      39.075       53.06  ...   \n",
       "DCF             64.3964     54.4303     52.6142     40.9081     53.9433  ...   \n",
       "\n",
       "                2011-09     2011-06     2011-03     2010-12     2010-09  \\\n",
       "date         2011-09-24  2011-06-25  2011-03-26  2010-12-25  2010-09-25   \n",
       "Stock Price     14.4918     14.2321     12.6075     12.0518       11.03   \n",
       "DCF             14.8649     14.6926     13.2172     12.4626      11.463   \n",
       "\n",
       "                2010-06     2010-03     2009-12     2009-09     2009-06  \n",
       "date         2010-06-26  2010-03-27  2009-12-26  2009-09-26  2009-06-27  \n",
       "Stock Price        9.26       9.625      7.2525     7.23143     5.71786  \n",
       "DCF             9.63373     10.0127     7.54797     7.43698     5.93804  \n",
       "\n",
       "[3 rows x 47 columns]"
      ]
     },
     "execution_count": 177,
     "metadata": {},
     "output_type": "execute_result"
    }
   ],
   "source": [
    "ticker = \"AAPL\"\n",
    "api_key = '410c9480ef0825c9d063beecf1536923'\n",
    "balance_sheet_annually = fa.balance_sheet_statement('AAN', api_key, period=\"quarter\")\n",
    "dcf_quarterly = fa.discounted_cash_flow(ticker, api_key, period=\"quarter\")\n",
    "dcf_quarterly"
   ]
  },
  {
   "cell_type": "code",
   "execution_count": null,
   "metadata": {},
   "outputs": [],
   "source": []
  },
  {
   "cell_type": "code",
   "execution_count": null,
   "metadata": {},
   "outputs": [],
   "source": []
  },
  {
   "cell_type": "code",
   "execution_count": null,
   "metadata": {},
   "outputs": [],
   "source": []
  },
  {
   "cell_type": "code",
   "execution_count": 168,
   "metadata": {
    "ExecuteTime": {
     "end_time": "2021-01-29T22:29:08.162740Z",
     "start_time": "2021-01-29T22:29:07.254340Z"
    }
   },
   "outputs": [],
   "source": [
    "url = 'https://www.investing.com/equities/aarons-income-statement'\n",
    "headers = {'User-Agent': 'Mozilla/5.0 (Windows NT 6.3; Win64; x64) AppleWebKit/537.36 (KHTML, like Gecko) Chrome/54.0.2840.71 Safari/537.36'}\n",
    "r = requests.get(url, headers=headers)"
   ]
  },
  {
   "cell_type": "code",
   "execution_count": 169,
   "metadata": {
    "ExecuteTime": {
     "end_time": "2021-01-29T22:29:08.799947Z",
     "start_time": "2021-01-29T22:29:08.497672Z"
    }
   },
   "outputs": [],
   "source": [
    "soup = BeautifulSoup(r.content, \"html.parser\")\n",
    "table = soup.find_all('table')[1]\n",
    "rows = table.find_all('tr')\n",
    "row_list = list()"
   ]
  },
  {
   "cell_type": "code",
   "execution_count": 170,
   "metadata": {
    "ExecuteTime": {
     "end_time": "2021-01-29T22:29:09.149535Z",
     "start_time": "2021-01-29T22:29:09.145742Z"
    }
   },
   "outputs": [],
   "source": [
    "for tr in rows:\n",
    "    td = tr.find_all('td')\n",
    "    row = [i.text for i in td]\n",
    "    row_list.append(row)"
   ]
  },
  {
   "cell_type": "code",
   "execution_count": 171,
   "metadata": {
    "ExecuteTime": {
     "end_time": "2021-01-29T22:29:09.533242Z",
     "start_time": "2021-01-29T22:29:09.526593Z"
    },
    "scrolled": true
   },
   "outputs": [
    {
     "data": {
      "text/plain": [
       "[['Revenue', '1305.54', '1030.12', '1101.27', '442.35'],\n",
       " ['Other Revenue, Total', '-', '-', '-', '-']]"
      ]
     },
     "execution_count": 171,
     "metadata": {},
     "output_type": "execute_result"
    }
   ],
   "source": [
    "row_list"
   ]
  },
  {
   "cell_type": "code",
   "execution_count": 172,
   "metadata": {
    "ExecuteTime": {
     "end_time": "2021-01-29T22:29:30.042505Z",
     "start_time": "2021-01-29T22:29:29.995896Z"
    }
   },
   "outputs": [
    {
     "ename": "ValueError",
     "evalue": "4 columns passed, passed data had 5 columns",
     "output_type": "error",
     "traceback": [
      "\u001b[0;31m---------------------------------------------------------------------------\u001b[0m",
      "\u001b[0;31mAssertionError\u001b[0m                            Traceback (most recent call last)",
      "\u001b[0;32m~/opt/anaconda3/envs/learn-env/lib/python3.6/site-packages/pandas/core/internals/construction.py\u001b[0m in \u001b[0;36m_list_to_arrays\u001b[0;34m(data, columns, coerce_float, dtype)\u001b[0m\n\u001b[1;32m    563\u001b[0m     \u001b[0;32mtry\u001b[0m\u001b[0;34m:\u001b[0m\u001b[0;34m\u001b[0m\u001b[0;34m\u001b[0m\u001b[0m\n\u001b[0;32m--> 564\u001b[0;31m         \u001b[0mcolumns\u001b[0m \u001b[0;34m=\u001b[0m \u001b[0m_validate_or_indexify_columns\u001b[0m\u001b[0;34m(\u001b[0m\u001b[0mcontent\u001b[0m\u001b[0;34m,\u001b[0m \u001b[0mcolumns\u001b[0m\u001b[0;34m)\u001b[0m\u001b[0;34m\u001b[0m\u001b[0;34m\u001b[0m\u001b[0m\n\u001b[0m\u001b[1;32m    565\u001b[0m         \u001b[0mresult\u001b[0m \u001b[0;34m=\u001b[0m \u001b[0m_convert_object_array\u001b[0m\u001b[0;34m(\u001b[0m\u001b[0mcontent\u001b[0m\u001b[0;34m,\u001b[0m \u001b[0mdtype\u001b[0m\u001b[0;34m=\u001b[0m\u001b[0mdtype\u001b[0m\u001b[0;34m,\u001b[0m \u001b[0mcoerce_float\u001b[0m\u001b[0;34m=\u001b[0m\u001b[0mcoerce_float\u001b[0m\u001b[0;34m)\u001b[0m\u001b[0;34m\u001b[0m\u001b[0;34m\u001b[0m\u001b[0m\n",
      "\u001b[0;32m~/opt/anaconda3/envs/learn-env/lib/python3.6/site-packages/pandas/core/internals/construction.py\u001b[0m in \u001b[0;36m_validate_or_indexify_columns\u001b[0;34m(content, columns)\u001b[0m\n\u001b[1;32m    688\u001b[0m             raise AssertionError(\n\u001b[0;32m--> 689\u001b[0;31m                 \u001b[0;34mf\"{len(columns)} columns passed, passed data had \"\u001b[0m\u001b[0;34m\u001b[0m\u001b[0;34m\u001b[0m\u001b[0m\n\u001b[0m\u001b[1;32m    690\u001b[0m                 \u001b[0;34mf\"{len(content)} columns\"\u001b[0m\u001b[0;34m\u001b[0m\u001b[0;34m\u001b[0m\u001b[0m\n",
      "\u001b[0;31mAssertionError\u001b[0m: 4 columns passed, passed data had 5 columns",
      "\nThe above exception was the direct cause of the following exception:\n",
      "\u001b[0;31mValueError\u001b[0m                                Traceback (most recent call last)",
      "\u001b[0;32m<ipython-input-172-e9b14a06e541>\u001b[0m in \u001b[0;36m<module>\u001b[0;34m\u001b[0m\n\u001b[0;32m----> 1\u001b[0;31m \u001b[0mdf_bs\u001b[0m \u001b[0;34m=\u001b[0m \u001b[0mpd\u001b[0m\u001b[0;34m.\u001b[0m\u001b[0mDataFrame\u001b[0m\u001b[0;34m(\u001b[0m\u001b[0mrow_list\u001b[0m\u001b[0;34m,\u001b[0m\u001b[0mcolumns\u001b[0m\u001b[0;34m=\u001b[0m\u001b[0;34m[\u001b[0m\u001b[0;34m'2020_09'\u001b[0m\u001b[0;34m,\u001b[0m\u001b[0;34m'2020_06'\u001b[0m\u001b[0;34m,\u001b[0m\u001b[0;34m'2020_03'\u001b[0m\u001b[0;34m,\u001b[0m\u001b[0;34m'2019_12'\u001b[0m\u001b[0;34m]\u001b[0m\u001b[0;34m)\u001b[0m\u001b[0;34m\u001b[0m\u001b[0;34m\u001b[0m\u001b[0m\n\u001b[0m",
      "\u001b[0;32m~/opt/anaconda3/envs/learn-env/lib/python3.6/site-packages/pandas/core/frame.py\u001b[0m in \u001b[0;36m__init__\u001b[0;34m(self, data, index, columns, dtype, copy)\u001b[0m\n\u001b[1;32m    507\u001b[0m                     \u001b[0;32mif\u001b[0m \u001b[0mis_named_tuple\u001b[0m\u001b[0;34m(\u001b[0m\u001b[0mdata\u001b[0m\u001b[0;34m[\u001b[0m\u001b[0;36m0\u001b[0m\u001b[0;34m]\u001b[0m\u001b[0;34m)\u001b[0m \u001b[0;32mand\u001b[0m \u001b[0mcolumns\u001b[0m \u001b[0;32mis\u001b[0m \u001b[0;32mNone\u001b[0m\u001b[0;34m:\u001b[0m\u001b[0;34m\u001b[0m\u001b[0;34m\u001b[0m\u001b[0m\n\u001b[1;32m    508\u001b[0m                         \u001b[0mcolumns\u001b[0m \u001b[0;34m=\u001b[0m \u001b[0mdata\u001b[0m\u001b[0;34m[\u001b[0m\u001b[0;36m0\u001b[0m\u001b[0;34m]\u001b[0m\u001b[0;34m.\u001b[0m\u001b[0m_fields\u001b[0m\u001b[0;34m\u001b[0m\u001b[0;34m\u001b[0m\u001b[0m\n\u001b[0;32m--> 509\u001b[0;31m                     \u001b[0marrays\u001b[0m\u001b[0;34m,\u001b[0m \u001b[0mcolumns\u001b[0m \u001b[0;34m=\u001b[0m \u001b[0mto_arrays\u001b[0m\u001b[0;34m(\u001b[0m\u001b[0mdata\u001b[0m\u001b[0;34m,\u001b[0m \u001b[0mcolumns\u001b[0m\u001b[0;34m,\u001b[0m \u001b[0mdtype\u001b[0m\u001b[0;34m=\u001b[0m\u001b[0mdtype\u001b[0m\u001b[0;34m)\u001b[0m\u001b[0;34m\u001b[0m\u001b[0;34m\u001b[0m\u001b[0m\n\u001b[0m\u001b[1;32m    510\u001b[0m                     \u001b[0mcolumns\u001b[0m \u001b[0;34m=\u001b[0m \u001b[0mensure_index\u001b[0m\u001b[0;34m(\u001b[0m\u001b[0mcolumns\u001b[0m\u001b[0;34m)\u001b[0m\u001b[0;34m\u001b[0m\u001b[0;34m\u001b[0m\u001b[0m\n\u001b[1;32m    511\u001b[0m \u001b[0;34m\u001b[0m\u001b[0m\n",
      "\u001b[0;32m~/opt/anaconda3/envs/learn-env/lib/python3.6/site-packages/pandas/core/internals/construction.py\u001b[0m in \u001b[0;36mto_arrays\u001b[0;34m(data, columns, coerce_float, dtype)\u001b[0m\n\u001b[1;32m    522\u001b[0m         \u001b[0;32mreturn\u001b[0m \u001b[0;34m[\u001b[0m\u001b[0;34m]\u001b[0m\u001b[0;34m,\u001b[0m \u001b[0;34m[\u001b[0m\u001b[0;34m]\u001b[0m  \u001b[0;31m# columns if columns is not None else []\u001b[0m\u001b[0;34m\u001b[0m\u001b[0;34m\u001b[0m\u001b[0m\n\u001b[1;32m    523\u001b[0m     \u001b[0;32mif\u001b[0m \u001b[0misinstance\u001b[0m\u001b[0;34m(\u001b[0m\u001b[0mdata\u001b[0m\u001b[0;34m[\u001b[0m\u001b[0;36m0\u001b[0m\u001b[0;34m]\u001b[0m\u001b[0;34m,\u001b[0m \u001b[0;34m(\u001b[0m\u001b[0mlist\u001b[0m\u001b[0;34m,\u001b[0m \u001b[0mtuple\u001b[0m\u001b[0;34m)\u001b[0m\u001b[0;34m)\u001b[0m\u001b[0;34m:\u001b[0m\u001b[0;34m\u001b[0m\u001b[0;34m\u001b[0m\u001b[0m\n\u001b[0;32m--> 524\u001b[0;31m         \u001b[0;32mreturn\u001b[0m \u001b[0m_list_to_arrays\u001b[0m\u001b[0;34m(\u001b[0m\u001b[0mdata\u001b[0m\u001b[0;34m,\u001b[0m \u001b[0mcolumns\u001b[0m\u001b[0;34m,\u001b[0m \u001b[0mcoerce_float\u001b[0m\u001b[0;34m=\u001b[0m\u001b[0mcoerce_float\u001b[0m\u001b[0;34m,\u001b[0m \u001b[0mdtype\u001b[0m\u001b[0;34m=\u001b[0m\u001b[0mdtype\u001b[0m\u001b[0;34m)\u001b[0m\u001b[0;34m\u001b[0m\u001b[0;34m\u001b[0m\u001b[0m\n\u001b[0m\u001b[1;32m    525\u001b[0m     \u001b[0;32melif\u001b[0m \u001b[0misinstance\u001b[0m\u001b[0;34m(\u001b[0m\u001b[0mdata\u001b[0m\u001b[0;34m[\u001b[0m\u001b[0;36m0\u001b[0m\u001b[0;34m]\u001b[0m\u001b[0;34m,\u001b[0m \u001b[0mabc\u001b[0m\u001b[0;34m.\u001b[0m\u001b[0mMapping\u001b[0m\u001b[0;34m)\u001b[0m\u001b[0;34m:\u001b[0m\u001b[0;34m\u001b[0m\u001b[0;34m\u001b[0m\u001b[0m\n\u001b[1;32m    526\u001b[0m         return _list_of_dict_to_arrays(\n",
      "\u001b[0;32m~/opt/anaconda3/envs/learn-env/lib/python3.6/site-packages/pandas/core/internals/construction.py\u001b[0m in \u001b[0;36m_list_to_arrays\u001b[0;34m(data, columns, coerce_float, dtype)\u001b[0m\n\u001b[1;32m    565\u001b[0m         \u001b[0mresult\u001b[0m \u001b[0;34m=\u001b[0m \u001b[0m_convert_object_array\u001b[0m\u001b[0;34m(\u001b[0m\u001b[0mcontent\u001b[0m\u001b[0;34m,\u001b[0m \u001b[0mdtype\u001b[0m\u001b[0;34m=\u001b[0m\u001b[0mdtype\u001b[0m\u001b[0;34m,\u001b[0m \u001b[0mcoerce_float\u001b[0m\u001b[0;34m=\u001b[0m\u001b[0mcoerce_float\u001b[0m\u001b[0;34m)\u001b[0m\u001b[0;34m\u001b[0m\u001b[0;34m\u001b[0m\u001b[0m\n\u001b[1;32m    566\u001b[0m     \u001b[0;32mexcept\u001b[0m \u001b[0mAssertionError\u001b[0m \u001b[0;32mas\u001b[0m \u001b[0me\u001b[0m\u001b[0;34m:\u001b[0m\u001b[0;34m\u001b[0m\u001b[0;34m\u001b[0m\u001b[0m\n\u001b[0;32m--> 567\u001b[0;31m         \u001b[0;32mraise\u001b[0m \u001b[0mValueError\u001b[0m\u001b[0;34m(\u001b[0m\u001b[0me\u001b[0m\u001b[0;34m)\u001b[0m \u001b[0;32mfrom\u001b[0m \u001b[0me\u001b[0m\u001b[0;34m\u001b[0m\u001b[0;34m\u001b[0m\u001b[0m\n\u001b[0m\u001b[1;32m    568\u001b[0m     \u001b[0;32mreturn\u001b[0m \u001b[0mresult\u001b[0m\u001b[0;34m,\u001b[0m \u001b[0mcolumns\u001b[0m\u001b[0;34m\u001b[0m\u001b[0;34m\u001b[0m\u001b[0m\n\u001b[1;32m    569\u001b[0m \u001b[0;34m\u001b[0m\u001b[0m\n",
      "\u001b[0;31mValueError\u001b[0m: 4 columns passed, passed data had 5 columns"
     ]
    }
   ],
   "source": [
    "df_bs = pd.DataFrame(row_list,columns=['2020_09','2020_06','2020_03','2019_12'])"
   ]
  },
  {
   "cell_type": "code",
   "execution_count": 143,
   "metadata": {
    "ExecuteTime": {
     "end_time": "2021-01-29T22:14:49.813870Z",
     "start_time": "2021-01-29T22:14:49.720149Z"
    }
   },
   "outputs": [],
   "source": [
    "soup = BeautifulSoup(r.text)"
   ]
  },
  {
   "cell_type": "code",
   "execution_count": 144,
   "metadata": {
    "ExecuteTime": {
     "end_time": "2021-01-29T22:15:13.319314Z",
     "start_time": "2021-01-29T22:15:13.311385Z"
    }
   },
   "outputs": [],
   "source": [
    "alldata = soup.find('table')"
   ]
  },
  {
   "cell_type": "code",
   "execution_count": 141,
   "metadata": {
    "ExecuteTime": {
     "end_time": "2021-01-29T22:09:45.017572Z",
     "start_time": "2021-01-29T22:09:44.990457Z"
    }
   },
   "outputs": [
    {
     "data": {
      "text/plain": [
       "<div class=\"YDC-UH Bgi($uhGrayGradient) D(n)--print Pos(r) Z(1)\" data-reactid=\"6\" id=\"YDC-UH\"><div class=\"YDC-UH Miw(1007px) Maw(1260px) tablet_Miw(600px)--noRightRail Bxz(bb) Bdstartc(t) Bdstartw(20px) Bdendc(t) Bdends(s) Bdendw(20px) Bdstarts(s) Mx(a) tablet_Bd(n)\" data-reactid=\"7\" id=\"YDC-UH-Stack\"><div data-reactid=\"8\" id=\"YDC-UH-Stack-Composite\"><div data-reactid=\"9\"><div data-locator=\"subtree-root\" id=\"mrt-node-UH-0-HeaderDesktop\"><div id=\"UH-0-HeaderDesktop-Proxy\"><div><div class=\"Bgc(t) Bdbc(t) Bdbs(s) Bdbw(1px) D(tb) Pos(f) Tbl(f) W(100%) Z(10) has-scrolled_Bdc($c-fuji-grey-d) Scrolling_Bdc($c-fuji-grey-d) has-scrolled_Bxsh($headerShadow) Scrolling_Bxsh($headerShadow) Bxz(bb) Mx(a) Miw(1007px) Start(0) wafer-rapid-module\" id=\"header-wrapper\"><nav class=\"C(#fff) Fz(13px) H(22px) Pos(r) Trs($navigationBarTransition) modal-open_Mt($topBarHideMargin) has-scrolled_Mt($topBarHideMargin)\" id=\"masterNav\"><ul class=\"H(22px) Lh(1.7) Bgc(#2d1152) P(0) Whs(nw) M(0)\" id=\"eyebrow\"><li class=\"D(ib) Pstart(14px) Mend(18px) Va(t)\"><a class=\"C(#fff) Td(n) Td(u):h\" data-ylk=\"elm:itm;elmt:pty;itc:0;rspns:nav;sec:uh;cpos:0;slk:Home;t5:HOME\" href=\"https://www.yahoo.com/\"><svg class=\"Mend(6px) Mstart(6px) Va(t)! Mt(1px) Cur(p)\" data-icon=\"home\" height=\"16\" style=\"fill:#fff;stroke:#fff;stroke-width:0;vertical-align:bottom;\" viewbox=\"0 0 32 32\" width=\"16\"><path d=\"M16.153 3.224L0 16.962h4.314v11.814h9.87v-8.003h3.934v8.003h9.84V16.962H32\"></path></svg>Home</a></li><li class=\"D(ib) Pstart(14px) Mend(18px) Va(t)\"><a class=\"C(#fff) Td(n) Td(u):h\" data-ylk=\"elm:itm;elmt:pty;itc:0;rspns:nav;sec:uh;cpos:1;slk:Mail;t5:MAIL\" href=\"https://mail.yahoo.com/\">Mail</a></li><li class=\"D(ib) Pstart(14px) Mend(18px) Va(t)\"><a class=\"C(#fff) Td(n) Td(u):h\" data-ylk=\"elm:itm;elmt:pty;itc:0;rspns:nav;sec:uh;cpos:2;slk:News;t5:NEWS\" href=\"https://news.yahoo.com/\">News</a></li><li class=\"D(ib) Pstart(14px) Mend(18px) Va(t)\"><a class=\"C(#fff) Td(n) Td(u):h\" data-ylk=\"elm:itm;elmt:pty;itc:0;rspns:nav;sec:uh;cpos:3;slk:Finance;t5:FINANCE\" href=\"https://finance.yahoo.com/\">Finance</a></li><li class=\"D(ib) Pstart(14px) Mend(18px) Va(t)\"><a class=\"C(#fff) Td(n) Td(u):h\" data-ylk=\"elm:itm;elmt:pty;itc:0;rspns:nav;sec:uh;cpos:4;slk:Sports;t5:SPORTS\" href=\"https://sports.yahoo.com/\">Sports</a></li><li class=\"D(ib) Pstart(14px) Mend(18px) Va(t)\"><a class=\"C(#fff) Td(n) Td(u):h\" data-ylk=\"elm:itm;elmt:pty;itc:0;rspns:nav;sec:uh;cpos:5;slk:Entertainment;t5:ENTERTAINMENT\" href=\"https://www.yahoo.com/entertainment/\">Entertainment</a></li><li class=\"D(ib) Pstart(14px) Mend(18px) Va(t)\"><a class=\"C(#fff) Td(n) Td(u):h\" data-ylk=\"elm:itm;elmt:pty;itc:0;rspns:nav;sec:uh;cpos:6;slk:Search;t5:SEARCH\" href=\"https://search.yahoo.com/search/\">Search</a></li><li class=\"D(ib) Pstart(14px) Mend(18px) Va(t)\"><a class=\"C(#fff) Td(n) Td(u):h\" data-ylk=\"elm:itm;elmt:pty;itc:0;rspns:nav;sec:uh;cpos:7;slk:Mobile;t5:MOBILE\" href=\"https://mobile.yahoo.com/\">Mobile</a></li><li class=\"D(ib) Pstart(14px) Mend(18px) Va(t)\"><a class=\"C(#fff) Td(n) Td(u):h\" data-ylk=\"elm:itm;elmt:pty;itc:0;rspns:nav;sec:uh;cpos:8;slk:More...;t5:MORE\" href=\"https://www.yahoo.com/everything/\">More...</a></li></ul></nav><div class=\"Bgc(t) M(a) Maw(1301px) Miw(1000px) Pb(12px) Pt(15px) Pos(r) TranslateZ(0) Z(6)\"><div class=\"Fz(0) Pstart(15px) Pos(a) Miw(190px)\"><a class=\"Bgp(0) Bgr(nr) Bgz(702px) D(b) H(35px) W(92px) Bgz(702px)!--sm1024 Cur(p) Mx(a)\" data-ylk=\"elm:img;elmt:logo;slk:logo\" href=\"https://finance.yahoo.com\" id=\"header-logo\" style=\"background-image:url(https://s.yimg.com/rz/p/yahoo_finance_en-US_s_f_pw_351X40_finance_2x.png);\"><b class=\"Hidden\">Yahoo Finance</b></a></div><div class=\"H(35px) Mend(396px) Mstart(255px) Maw(647px) Pos(r) Mstart(200px)--sm1024 Va(t)\"><div class=\"D(tb) W(100%)\"><form action=\"/quote/\" class=\"D(tb) H(35px) Pos(r) Va(m) W(100%) finsrch-enable-perf\" data-finsrch=\"all\" data-ylk=\"elm:kb-ent;elmt:srch;sec:srch;slk:srchweb;tar:finance.yahoo.com\" id=\"header-search-form\" method=\"get\" target=\"_top\"><label class=\"Hidden\" for=\"yfin-usr-qry\">Search</label><input aria-autocomplete=\"list\" aria-expanded=\"false\" aria-label=\"Search for news, symbols or companies\" autocapitalize=\"off\" autocomplete=\"off\" class=\"Bgc(t) Bd Bdrsbstart(2px)! Bdc(#b0b0b0) Bdendw(0) Bdrs(0) Bdrststart(2px)! Bxsh(n) Bxz(bb) D(b) Fz(15px) H(inh) M(0) O(0) Px(10px) W(100%) Bdc($c-fuji-blue-1-c):f Bdc(#949494):h finsrch-inpt\" id=\"yfin-usr-qry\" name=\"yfin-usr-qry\" placeholder=\"Search for news, symbols or companies\" type=\"text\"/><div class=\"D(tbc) H(100%) Ta(c) Va(t) W(90px)\"><button aria-label=\"Search\" class=\"Bgc($c-fuji-blue-1-b) Bd(n) Bdrsbend(2px) Bdrstend(2px) D(b) H(100%) M(0) P(0) rapid-noclick-resp W(100%) Bgc($actionBlueHover):h submit-btn finsrch-btn\" data-ylk=\"elm:btn;elmt:srch;itc:0;rspns:nav;sec:srch;slk:srchweb;t1:a1;t2:srch;tar:finance.yahoo.com;tar_uri:/search\" id=\"header-desktop-search-button\" type=\"submit\"><svg class=\"Cur(p)\" data-icon=\"search\" height=\"24\" style=\"stroke-width:0;fill:#fff;stroke:#fff;vertical-align:bottom;\" viewbox=\"0 0 24 24\" width=\"24\"><path d=\"M9 3C5.686 3 3 5.686 3 9c0 3.313 2.686 6 6 6s6-2.687 6-6c0-3.314-2.686-6-6-6m13.713 19.713c-.387.388-1.016.388-1.404 0l-7.404-7.404C12.55 16.364 10.85 17 9 17c-4.418 0-8-3.582-8-8 0-4.42 3.582-8 8-8s8 3.58 8 8c0 1.85-.634 3.55-1.69 4.905l7.403 7.404c.39.386.39 1.015 0 1.403\"></path></svg></button></div><input class=\"V(h)\" data-fr=\"uh3_finance_vert\" name=\"fr\" type=\"hidden\" value=\"uh3_finance_vert\"/><input class=\"V(h)\" data-fr2=\"p:finvsrp,m:sb\" name=\"fr2\" type=\"hidden\" value=\"p:finvsrp,m:sb\"/></form></div></div><div class=\"menu-section\"><ul class=\"End(48px) List(n) Mt(0) Pos(a) T(10px) header-menu wafer-tabs tabs\" data-wf-active-class=\"active\" data-wf-boundary=\"menu-section\" data-wf-collapsable=\"true\" data-wf-handle-focus=\"true\" data-wf-handle-hover=\"true\" data-wf-tabs-allowdefault=\"true\" data-wf-target=\"header-menu\"><li class=\"D(ib) H(46px) Mx(14px) O(n) Va(t) tab\" id=\"header-profile-menu\"><a class=\"Bgc(#fff) Bdc($c-fuji-grape-jelly) Bdrs(3px) Bds(s) Bdw(2px) C(#4d00ae) D(ib) Ell Fz(13px) Fw(b) H(19px) Lh(19px) Mend(5px) Mt(10px) Miw(66px) Px(6px) Py(2px) Ta(c) Td(n) active_Bgc($c-fuji-grape-jelly) active_C(#fff)\" data-ylk=\"elm:btn;elmt:lgn;outcm:lgn;t3:usr;sec:uh;slk:acct-info;subsec:profile;itc:0\" href=\"https://login.yahoo.com/config/login?.src=finance&amp;.intl=us&amp;.lang=en-US&amp;.done=https%3A%2F%2Ffinance.yahoo.com%2Fquote%2FAAN%2Ffinancials%3Fp%3DAAN&amp;activity=uh-signin&amp;pspid=95993639\" id=\"header-signin-link\"><span>Sign in</span></a></li><li class=\"D(ib) Mx(8px) Va(t) Mt(7px) O(n):f tab\" id=\"header-notification-menu\"><button aria-haspopup=\"true\" aria-label=\"Notifications\" class=\"Bgc(t) Bd(0) Cur(p) P(10px) H(36px) Pos(r) W(30px)\" data-ylk=\"elm:btn;itc:1;slk:Notifications\" id=\"header-notification-button\"><svg class=\"Pos(a) Start(2px) T(4px) Cur(p)\" data-icon=\"bell-fill\" height=\"26\" style=\"fill:#6001d2;stroke:#6001d2;stroke-width:0;vertical-align:bottom;\" viewbox=\"0 0 24 27\" width=\"26\"><path d=\"M23.258 20.424c-.09-.07-.81-.662-1.394-1.7-.114-.2-.45-.914-.503-1.06-.143-.39-.243-.864-.398-1.543-.367-2.33-.34-5.656-.34-5.656 0-.076.003-.15.003-.226 0-4.07-2.926-7.465-6.825-8.28v-.19C13.8.788 12.994 0 12 0s-1.8.79-1.8 1.768v.19c-3.897.815-6.822 4.21-6.822 8.28 0 .076.002.15.004.226 0 0 .023 3.325-.344 5.657-.155.68-.255 1.154-.4 1.545-.053.145-.388.86-.502 1.06-.583 1.037-1.304 1.63-1.394 1.7-.315.24-.452.425-.452.425-.18.227-.29.51-.29.82C0 22.406.607 23 1.354 23c.037 0 .073-.004.11-.005h21.07c.037 0 .075.005.112.005.747 0 1.354-.596 1.354-1.33 0-.308-.108-.593-.29-.82 0 0-.137-.184-.452-.426zM12 27c1.657 0 3-1.343 3-3H9c0 1.657 1.343 3 3 3z\"></path></svg><span class=\"Bg($fujiGradient) Bgc($c-fuji-red-2-b) Bdrs(24px) C(#fff) D(n) Fz(14px) Fw(b) H(17px) Op(.9) Pb(4px) Pt(3px) Pos(a) Start(16px) Ta(c) T(-8px) W(24px) Ff($yahooSansFinanceFont)! wafer-text wafer-toggle\" data-wf-state-key=\"[state.financeNotification.hideBadge]\" data-wf-state-text=\"[state.financeNotification.unreadCount]\" data-wf-toggle-class=\"stateChange:toggle:D(n)\" id=\"header-notification-badge\"></span></button><div aria-live=\"polite\" class=\"Bgc(#fff) Bdc(#d6d6da) Bdrs(6px) Bds(s) Bdw(1px) Bxsh($menuShadow) Fz(14px) List(n) Mt(10px) Mah(0) Mih(57px) Op(0) Ov(a) P(0) Pos(a) End(0) Trs($fastMenuTransition) V(h) W(382px) active_Mah(478px) active_Op(1) active_V(v) wafer-fetch\" data-wf-trigger=\"onLoad\" data-wf-url=\"/_finance_doubledown/remote?m_id=react-finance.rmp&amp;ctrl=NotificationAlert&amp;includeAssets=0&amp;m_mode=json&amp;config=%7B%22mrt%22%3A%7B%22static%22%3Atrue%7D%7D\" id=\"header-notification-panel\"></div></li><li class=\"D(ib) H(46px) Mstart(14px) Mt(7px) O(n) Va(t) tab\"><a class=\"C(#4d00ae) D(b) H(22px) Lh(22px) Py(7px) Pos(r) Td(n)\" data-ylk=\"slk:mail;elm:btn;itc:0;sec:uh;subsec:mail\" href=\"https://mail.yahoo.com/?.intl=us&amp;.lang=en-US&amp;.partner=none&amp;.src=finance&amp;activity=uh-mail&amp;pspid=95993639\" id=\"header-mail-button\" title=\"Mail\"><svg class=\"Pos(a) T(4px) Cur(p)\" data-icon=\"NavMail\" height=\"30\" style=\"fill:#6001d2;stroke:#6001d2;stroke-width:0;vertical-align:bottom;\" viewbox=\"0 0 512 512\" width=\"30\"><path d=\"M460.586 91.31H51.504c-10.738 0-19.46 8.72-19.46 19.477v40.088l224 104.03 224-104.03v-40.088c0-10.757-8.702-19.478-19.458-19.478M32.046 193.426V402.96c0 10.758 8.72 19.48 19.458 19.48h409.082c10.756 0 19.46-8.722 19.46-19.48V193.428l-224 102.327-224-102.327z\"></path></svg><span class=\"D(ib) Fz(14px) Fw(b) Lh(24px) Pstart(38px)\">Mail</span></a><div aria-live=\"polite\" class=\"Bgc(#fff) Bdc(#d6d6da) Bdrs(6px) Bds(s) Bdw(1px) Bxsh($menuShadow) Bxz(bb) Fz(14px) List(n) Mt(10px) Mah(0) Mih(57px) Op(0) Px(24px) Py(20px) Pos(a) End(0) Ta(c) Trs($menuTransition) V(h) W(382px) active_Mah(60px) active_Op(1) active_V(v)\" id=\"header-mail-panel\"><a class=\"C(#0078ff) Fw(b) Td(n)\" data-action-outcome=\"lgn\" data-ylk=\"slk:mail;elm:btn;itc:0;sec:uh;subsec:mail\" href=\"https://login.yahoo.com/config/login?.src=finance&amp;.intl=us&amp;.lang=en-US&amp;.done=https://finance.yahoo.com&amp;activity=uh-mail&amp;pspid=95993639\">Sign in</a> to view your mail</div></li></ul></div><div id=\"dialogue-wrapper\"></div></div></div><div class=\"fixed-space H(85px) modal-open_H(85px) modal-open_Mb($bottomBarHideMargin)\"></div></div></div></div><script>if (window.performance) {window.performance.mark && window.performance.mark('WaferHeaderDesktop');window.performance.measure && window.performance.measure('WaferHeaderDesktopDone','PageStart','WaferHeaderDesktop');}</script></div><div data-reactid=\"10\"><div data-locator=\"subtree-root\" id=\"mrt-node-UH-1-WaferHeaderHelper\"><div id=\"UH-1-WaferHeaderHelper-Proxy\"><script>(function () { var inputEl = document.getElementById('yfin-usr-qry'); var perf = window.performance; if (inputEl && inputEl.addEventListener && perf && perf.mark && perf.getEntriesByName) { var listener = function (e) { inputEl.removeEventListener('keyup', listener); if (perf.getEntriesByName('Fin.Search first keyup').length === 0) { perf.mark('Fin.Search first keyup'); } }; inputEl.addEventListener('keyup', listener); } })(); if (window && window.FinSearch && window.FinSearch.init) { window.FinSearch.init({}); }</script></div></div><script>if (window.performance) {window.performance.mark && window.performance.mark('UH-1-WaferHeaderHelper');window.performance.measure && window.performance.measure('UH-1-WaferHeaderHelperDone','PageStart','UH-1-WaferHeaderHelper');}</script></div></div></div></div>"
      ]
     },
     "execution_count": 141,
     "metadata": {},
     "output_type": "execute_result"
    }
   ],
   "source": [
    "alldata"
   ]
  },
  {
   "cell_type": "code",
   "execution_count": null,
   "metadata": {},
   "outputs": [],
   "source": []
  },
  {
   "cell_type": "markdown",
   "metadata": {},
   "source": [
    "# Sentdex Python for Finance Price"
   ]
  },
  {
   "cell_type": "markdown",
   "metadata": {},
   "source": [
    "# One Stock"
   ]
  },
  {
   "cell_type": "code",
   "execution_count": 145,
   "metadata": {
    "ExecuteTime": {
     "end_time": "2021-01-29T22:17:06.933649Z",
     "start_time": "2021-01-29T22:17:06.819033Z"
    }
   },
   "outputs": [],
   "source": [
    "# Necessary packages\n",
    "import pandas as pd\n",
    "import pandas_datareader.data as web\n",
    "import matplotlib.pyplot as plt\n",
    "%matplotlib inline\n",
    "import matplotlib.dates as mdates\n",
    "from matplotlib import style\n",
    "style.use('ggplot')\n",
    "from bs4 import BeautifulSoup\n",
    "import sklearn\n",
    "import datetime as dt\n",
    "import finplot as fp\n",
    "from mpl_finance import candlestick_ohlc\n",
    "import pickle\n",
    "import warnings\n",
    "warnings.simplefilter(\"ignore\")\n",
    "import os\n",
    "import numpy as np\n",
    "import lxml.html as lh"
   ]
  },
  {
   "cell_type": "code",
   "execution_count": 27,
   "metadata": {
    "ExecuteTime": {
     "end_time": "2021-01-29T19:26:18.848800Z",
     "start_time": "2021-01-29T19:26:18.833557Z"
    }
   },
   "outputs": [],
   "source": [
    "start = dt.datetime(2010,1,1)\n",
    "end = dt.datetime(2020,12,31)"
   ]
  },
  {
   "cell_type": "code",
   "execution_count": 28,
   "metadata": {
    "ExecuteTime": {
     "end_time": "2021-01-29T19:26:20.591816Z",
     "start_time": "2021-01-29T19:26:19.780069Z"
    }
   },
   "outputs": [],
   "source": [
    "df = web.DataReader('TSLA','yahoo', start, end)"
   ]
  },
  {
   "cell_type": "code",
   "execution_count": 29,
   "metadata": {
    "ExecuteTime": {
     "end_time": "2021-01-29T19:26:20.661553Z",
     "start_time": "2021-01-29T19:26:20.633327Z"
    }
   },
   "outputs": [
    {
     "data": {
      "text/html": [
       "<div>\n",
       "<style scoped>\n",
       "    .dataframe tbody tr th:only-of-type {\n",
       "        vertical-align: middle;\n",
       "    }\n",
       "\n",
       "    .dataframe tbody tr th {\n",
       "        vertical-align: top;\n",
       "    }\n",
       "\n",
       "    .dataframe thead th {\n",
       "        text-align: right;\n",
       "    }\n",
       "</style>\n",
       "<table border=\"1\" class=\"dataframe\">\n",
       "  <thead>\n",
       "    <tr style=\"text-align: right;\">\n",
       "      <th></th>\n",
       "      <th>High</th>\n",
       "      <th>Low</th>\n",
       "      <th>Open</th>\n",
       "      <th>Close</th>\n",
       "      <th>Volume</th>\n",
       "      <th>Adj Close</th>\n",
       "    </tr>\n",
       "    <tr>\n",
       "      <th>Date</th>\n",
       "      <th></th>\n",
       "      <th></th>\n",
       "      <th></th>\n",
       "      <th></th>\n",
       "      <th></th>\n",
       "      <th></th>\n",
       "    </tr>\n",
       "  </thead>\n",
       "  <tbody>\n",
       "    <tr>\n",
       "      <th>2010-06-29</th>\n",
       "      <td>5.000000</td>\n",
       "      <td>3.508000</td>\n",
       "      <td>3.80000</td>\n",
       "      <td>4.778000</td>\n",
       "      <td>93831500.0</td>\n",
       "      <td>4.778000</td>\n",
       "    </tr>\n",
       "    <tr>\n",
       "      <th>2010-06-30</th>\n",
       "      <td>6.084000</td>\n",
       "      <td>4.660000</td>\n",
       "      <td>5.15800</td>\n",
       "      <td>4.766000</td>\n",
       "      <td>85935500.0</td>\n",
       "      <td>4.766000</td>\n",
       "    </tr>\n",
       "    <tr>\n",
       "      <th>2010-07-01</th>\n",
       "      <td>5.184000</td>\n",
       "      <td>4.054000</td>\n",
       "      <td>5.00000</td>\n",
       "      <td>4.392000</td>\n",
       "      <td>41094000.0</td>\n",
       "      <td>4.392000</td>\n",
       "    </tr>\n",
       "    <tr>\n",
       "      <th>2010-07-02</th>\n",
       "      <td>4.620000</td>\n",
       "      <td>3.742000</td>\n",
       "      <td>4.60000</td>\n",
       "      <td>3.840000</td>\n",
       "      <td>25699000.0</td>\n",
       "      <td>3.840000</td>\n",
       "    </tr>\n",
       "    <tr>\n",
       "      <th>2010-07-06</th>\n",
       "      <td>4.000000</td>\n",
       "      <td>3.166000</td>\n",
       "      <td>4.00000</td>\n",
       "      <td>3.222000</td>\n",
       "      <td>34334500.0</td>\n",
       "      <td>3.222000</td>\n",
       "    </tr>\n",
       "    <tr>\n",
       "      <th>...</th>\n",
       "      <td>...</td>\n",
       "      <td>...</td>\n",
       "      <td>...</td>\n",
       "      <td>...</td>\n",
       "      <td>...</td>\n",
       "      <td>...</td>\n",
       "    </tr>\n",
       "    <tr>\n",
       "      <th>2020-12-24</th>\n",
       "      <td>666.090027</td>\n",
       "      <td>641.000000</td>\n",
       "      <td>642.98999</td>\n",
       "      <td>661.770020</td>\n",
       "      <td>22865600.0</td>\n",
       "      <td>661.770020</td>\n",
       "    </tr>\n",
       "    <tr>\n",
       "      <th>2020-12-28</th>\n",
       "      <td>681.400024</td>\n",
       "      <td>660.799988</td>\n",
       "      <td>674.51001</td>\n",
       "      <td>663.690002</td>\n",
       "      <td>32278600.0</td>\n",
       "      <td>663.690002</td>\n",
       "    </tr>\n",
       "    <tr>\n",
       "      <th>2020-12-29</th>\n",
       "      <td>669.900024</td>\n",
       "      <td>655.000000</td>\n",
       "      <td>661.00000</td>\n",
       "      <td>665.989990</td>\n",
       "      <td>22910800.0</td>\n",
       "      <td>665.989990</td>\n",
       "    </tr>\n",
       "    <tr>\n",
       "      <th>2020-12-30</th>\n",
       "      <td>696.599976</td>\n",
       "      <td>668.359985</td>\n",
       "      <td>672.00000</td>\n",
       "      <td>694.780029</td>\n",
       "      <td>42846000.0</td>\n",
       "      <td>694.780029</td>\n",
       "    </tr>\n",
       "    <tr>\n",
       "      <th>2020-12-31</th>\n",
       "      <td>718.719971</td>\n",
       "      <td>691.119995</td>\n",
       "      <td>699.98999</td>\n",
       "      <td>705.669983</td>\n",
       "      <td>49570900.0</td>\n",
       "      <td>705.669983</td>\n",
       "    </tr>\n",
       "  </tbody>\n",
       "</table>\n",
       "<p>2647 rows × 6 columns</p>\n",
       "</div>"
      ],
      "text/plain": [
       "                  High         Low       Open       Close      Volume  \\\n",
       "Date                                                                    \n",
       "2010-06-29    5.000000    3.508000    3.80000    4.778000  93831500.0   \n",
       "2010-06-30    6.084000    4.660000    5.15800    4.766000  85935500.0   \n",
       "2010-07-01    5.184000    4.054000    5.00000    4.392000  41094000.0   \n",
       "2010-07-02    4.620000    3.742000    4.60000    3.840000  25699000.0   \n",
       "2010-07-06    4.000000    3.166000    4.00000    3.222000  34334500.0   \n",
       "...                ...         ...        ...         ...         ...   \n",
       "2020-12-24  666.090027  641.000000  642.98999  661.770020  22865600.0   \n",
       "2020-12-28  681.400024  660.799988  674.51001  663.690002  32278600.0   \n",
       "2020-12-29  669.900024  655.000000  661.00000  665.989990  22910800.0   \n",
       "2020-12-30  696.599976  668.359985  672.00000  694.780029  42846000.0   \n",
       "2020-12-31  718.719971  691.119995  699.98999  705.669983  49570900.0   \n",
       "\n",
       "             Adj Close  \n",
       "Date                    \n",
       "2010-06-29    4.778000  \n",
       "2010-06-30    4.766000  \n",
       "2010-07-01    4.392000  \n",
       "2010-07-02    3.840000  \n",
       "2010-07-06    3.222000  \n",
       "...                ...  \n",
       "2020-12-24  661.770020  \n",
       "2020-12-28  663.690002  \n",
       "2020-12-29  665.989990  \n",
       "2020-12-30  694.780029  \n",
       "2020-12-31  705.669983  \n",
       "\n",
       "[2647 rows x 6 columns]"
      ]
     },
     "execution_count": 29,
     "metadata": {},
     "output_type": "execute_result"
    }
   ],
   "source": [
    "df"
   ]
  },
  {
   "cell_type": "code",
   "execution_count": 34,
   "metadata": {
    "ExecuteTime": {
     "end_time": "2021-01-29T19:34:30.875773Z",
     "start_time": "2021-01-29T19:34:30.869119Z"
    }
   },
   "outputs": [],
   "source": [
    "df['100MA'] = df['Adj Close'].rolling(window=100, min_periods=0).mean()"
   ]
  },
  {
   "cell_type": "code",
   "execution_count": 35,
   "metadata": {
    "ExecuteTime": {
     "end_time": "2021-01-29T19:34:31.945714Z",
     "start_time": "2021-01-29T19:34:31.729184Z"
    }
   },
   "outputs": [
    {
     "data": {
      "text/plain": [
       "<matplotlib.axes._subplots.AxesSubplot at 0x7fa5d0c09160>"
      ]
     },
     "execution_count": 35,
     "metadata": {},
     "output_type": "execute_result"
    },
    {
     "data": {
      "image/png": "[encoded data removed]",
      "text/plain": [
       "<Figure size 432x288 with 1 Axes>"
      ]
     },
     "metadata": {},
     "output_type": "display_data"
    }
   ],
   "source": [
    "df[['100MA','Adj Close']].plot()"
   ]
  },
  {
   "cell_type": "code",
   "execution_count": 66,
   "metadata": {
    "ExecuteTime": {
     "end_time": "2021-01-29T20:40:49.561922Z",
     "start_time": "2021-01-29T20:40:48.034322Z"
    }
   },
   "outputs": [
    {
     "data": {
      "text/plain": [
       "<matplotlib.collections.PolyCollection at 0x7fa5ba9d17f0>"
      ]
     },
     "execution_count": 66,
     "metadata": {},
     "output_type": "execute_result"
    },
    {
     "data": {
      "image/png": "[encoded data removed]",
      "text/plain": [
       "<Figure size 432x288 with 2 Axes>"
      ]
     },
     "metadata": {},
     "output_type": "display_data"
    }
   ],
   "source": [
    "df_ohlc = df['Adj Close'].resample('11D').ohlc()\n",
    "df_volume = df['Volume'].resample('11D').sum()\n",
    "\n",
    "df_ohlc.reset_index(inplace=True)\n",
    "df_ohlc['Date'] = df_ohlc['Date'].map(mdates.date2num)\n",
    "\n",
    "ax1 = plt.subplot2grid((6,1), (0,0), rowspan=5, colspan=1)\n",
    "ax2 = plt.subplot2grid((6,1), (5,0), rowspan=1, colspan=1, sharex=ax1)\n",
    "ax1.xaxis_date()\n",
    "\n",
    "candlestick_ohlc(ax1, df_ohlc.values, width=2, colorup='g')\n",
    "ax2.fill_between(df_volume.index.map(mdates.date2num), df_volume.values,0)\n",
    "\n",
    "# ax1.plot(df.index, df['Adj Close'])\n",
    "# ax1.plot(df.index, df['100MA'])\n",
    "# ax2.bar(df.index, df['Volume'])"
   ]
  },
  {
   "cell_type": "markdown",
   "metadata": {},
   "source": [
    "# 100 Stocks"
   ]
  },
  {
   "cell_type": "code",
   "execution_count": 70,
   "metadata": {
    "ExecuteTime": {
     "end_time": "2021-01-29T20:54:46.509900Z",
     "start_time": "2021-01-29T20:54:46.451921Z"
    }
   },
   "outputs": [],
   "source": [
    "# Reading in pickled company list\n",
    "with open('public_company_list.data', 'rb') as filehandle:\n",
    "    companies = pickle.load(filehandle)"
   ]
  },
  {
   "cell_type": "code",
   "execution_count": 74,
   "metadata": {
    "ExecuteTime": {
     "end_time": "2021-01-29T21:00:36.480315Z",
     "start_time": "2021-01-29T21:00:36.465396Z"
    }
   },
   "outputs": [],
   "source": [
    "def get_data_from_yahoo():\n",
    "    if not os.path.exists('stock_price_dfs'):\n",
    "        os.makedirs('stock_price_dfs')\n",
    "        \n",
    "    start = dt.datetime(2010,1,1)\n",
    "    end = dt.datetime(2020,12,31)\n",
    "    \n",
    "    for company, ticker in companies[:100]:\n",
    "        if not os.path.exists('stock_price_dfs/{}.csv'.format(ticker)):\n",
    "            try:\n",
    "                df = web.DataReader(ticker, 'yahoo', start, end)\n",
    "                df.to_csv('stock_price_dfs/{}.csv'.format(ticker))\n",
    "            except:\n",
    "                pass\n",
    "        else:\n",
    "            print('Already have {}'.format(ticker))"
   ]
  },
  {
   "cell_type": "code",
   "execution_count": 75,
   "metadata": {
    "ExecuteTime": {
     "end_time": "2021-01-29T21:01:44.312124Z",
     "start_time": "2021-01-29T21:00:39.792004Z"
    }
   },
   "outputs": [
    {
     "name": "stdout",
     "output_type": "stream",
     "text": [
      "Already have AAN\n",
      "Already have AAOI\n",
      "Already have AAON\n",
      "Already have AAT\n",
      "Already have AAWW\n",
      "Already have AAXN\n",
      "Already have ABCB\n",
      "Already have ABEO\n",
      "Already have ABG\n",
      "Already have ABM\n",
      "Already have ABTX\n",
      "Already have AC\n",
      "Already have ACA\n",
      "Already have ACAD\n",
      "Already have ACBI\n",
      "Already have ACCO\n",
      "Already have ACER\n"
     ]
    }
   ],
   "source": [
    "get_data_from_yahoo()"
   ]
  },
  {
   "cell_type": "code",
   "execution_count": 105,
   "metadata": {
    "ExecuteTime": {
     "end_time": "2021-01-29T21:24:48.809029Z",
     "start_time": "2021-01-29T21:24:48.802442Z"
    }
   },
   "outputs": [],
   "source": [
    "def compile_data():\n",
    "    \n",
    "    main_df = pd.DataFrame()\n",
    "    \n",
    "    for company, ticker in companies[:100]:\n",
    "        try:\n",
    "            df = pd.read_csv('stock_price_dfs/{}.csv'.format(ticker))\n",
    "            df.set_index('Date', inplace=True)\n",
    "\n",
    "            df.rename(columns = {'Adj Close': ticker}, inplace=True)\n",
    "            df.drop(['Open','High','Low','Close','Volume'], 1, inplace=True)\n",
    "\n",
    "            if main_df.empty:\n",
    "                main_df = df\n",
    "            else:\n",
    "                main_df = main_df.join(df, how='outer')\n",
    "        except:\n",
    "            pass\n",
    "\n",
    "        \n",
    "    return main_df\n",
    "        "
   ]
  },
  {
   "cell_type": "code",
   "execution_count": 106,
   "metadata": {
    "ExecuteTime": {
     "end_time": "2021-01-29T21:24:51.432507Z",
     "start_time": "2021-01-29T21:24:49.614352Z"
    }
   },
   "outputs": [],
   "source": [
    "combo = compile_data()"
   ]
  },
  {
   "cell_type": "code",
   "execution_count": 123,
   "metadata": {
    "ExecuteTime": {
     "end_time": "2021-01-29T21:43:29.145717Z",
     "start_time": "2021-01-29T21:43:29.138130Z"
    }
   },
   "outputs": [],
   "source": [
    "def visualize_data():\n",
    "    df_corr = combo.corr()\n",
    "    data = df_corr.values\n",
    "    fig = plt.figure(figsize=(20,10))\n",
    "    ax = fig.subplots()\n",
    "    heatmap = ax.pcolor(data, cmap=plt.cm.RdYlGn)\n",
    "    fig.colorbar(heatmap)\n",
    "    ax.set_xticks(np.arange(data.shape[1]) + 0.5, minor=False)\n",
    "    ax.set_yticks(np.arange(data.shape[0]) + 0.5, minor=False)\n",
    "    \n",
    "    ax.invert_yaxis()\n",
    "    ax.xaxis.tick_top()\n",
    "    \n",
    "    column_labels = df_corr.columns\n",
    "    row_labels = df_corr.index\n",
    "    \n",
    "    ax.set_xticklabels(column_labels)\n",
    "    ax.set_yticklabels(row_labels)\n",
    "    plt.xticks(rotation=90)\n",
    "    heatmap.set_clim(-1,1)\n",
    "    plt.tight_layout()\n",
    "    plt.show()"
   ]
  },
  {
   "cell_type": "code",
   "execution_count": 124,
   "metadata": {
    "ExecuteTime": {
     "end_time": "2021-01-29T21:43:35.876106Z",
     "start_time": "2021-01-29T21:43:29.473830Z"
    }
   },
   "outputs": [
    {
     "data": {
      "image/png": "[encoded data removed]",
      "text/plain": [
       "<Figure size 1440x720 with 2 Axes>"
      ]
     },
     "metadata": {},
     "output_type": "display_data"
    }
   ],
   "source": [
    "visualize_data()"
   ]
  },
  {
   "cell_type": "code",
   "execution_count": null,
   "metadata": {},
   "outputs": [],
   "source": []
  },
  {
   "cell_type": "code",
   "execution_count": null,
   "metadata": {},
   "outputs": [],
   "source": []
  },
  {
   "cell_type": "code",
   "execution_count": null,
   "metadata": {},
   "outputs": [],
   "source": []
  },
  {
   "cell_type": "code",
   "execution_count": null,
   "metadata": {},
   "outputs": [],
   "source": []
  },
  {
   "cell_type": "code",
   "execution_count": null,
   "metadata": {},
   "outputs": [],
   "source": []
  },
  {
   "cell_type": "markdown",
   "metadata": {},
   "source": [
    "# Fundamental Data"
   ]
  },
  {
   "cell_type": "code",
   "execution_count": 1,
   "metadata": {
    "ExecuteTime": {
     "end_time": "2021-01-29T19:01:04.805832Z",
     "start_time": "2021-01-29T19:01:03.089721Z"
    }
   },
   "outputs": [],
   "source": [
    "import requests\n",
    "import pandas as pd\n",
    "import json\n",
    "import yfinance as yf"
   ]
  },
  {
   "cell_type": "code",
   "execution_count": 6,
   "metadata": {
    "ExecuteTime": {
     "end_time": "2021-01-29T19:02:46.044752Z",
     "start_time": "2021-01-29T19:02:46.036099Z"
    }
   },
   "outputs": [],
   "source": [
    "companies = ['AMZN','AAPL','IBM']"
   ]
  },
  {
   "cell_type": "code",
   "execution_count": 129,
   "metadata": {
    "ExecuteTime": {
     "end_time": "2021-01-29T21:58:44.975249Z",
     "start_time": "2021-01-29T21:58:44.954799Z"
    }
   },
   "outputs": [],
   "source": [
    "info = yf.Ticker('AAPL')"
   ]
  },
  {
   "cell_type": "code",
   "execution_count": 130,
   "metadata": {
    "ExecuteTime": {
     "end_time": "2021-01-29T21:58:47.038000Z",
     "start_time": "2021-01-29T21:58:45.696465Z"
    }
   },
   "outputs": [
    {
     "data": {
      "text/html": [
       "<div>\n",
       "<style scoped>\n",
       "    .dataframe tbody tr th:only-of-type {\n",
       "        vertical-align: middle;\n",
       "    }\n",
       "\n",
       "    .dataframe tbody tr th {\n",
       "        vertical-align: top;\n",
       "    }\n",
       "\n",
       "    .dataframe thead th {\n",
       "        text-align: right;\n",
       "    }\n",
       "</style>\n",
       "<table border=\"1\" class=\"dataframe\">\n",
       "  <thead>\n",
       "    <tr style=\"text-align: right;\">\n",
       "      <th></th>\n",
       "      <th>Open</th>\n",
       "      <th>High</th>\n",
       "      <th>Low</th>\n",
       "      <th>Close</th>\n",
       "      <th>Adj Close</th>\n",
       "      <th>Volume</th>\n",
       "    </tr>\n",
       "    <tr>\n",
       "      <th>Date</th>\n",
       "      <th></th>\n",
       "      <th></th>\n",
       "      <th></th>\n",
       "      <th></th>\n",
       "      <th></th>\n",
       "      <th></th>\n",
       "    </tr>\n",
       "  </thead>\n",
       "  <tbody>\n",
       "  </tbody>\n",
       "</table>\n",
       "</div>"
      ],
      "text/plain": [
       "Empty DataFrame\n",
       "Columns: [Open, High, Low, Close, Adj Close, Volume]\n",
       "Index: []"
      ]
     },
     "execution_count": 130,
     "metadata": {},
     "output_type": "execute_result"
    }
   ],
   "source": [
    "info."
   ]
  },
  {
   "cell_type": "code",
   "execution_count": 11,
   "metadata": {
    "ExecuteTime": {
     "end_time": "2021-01-29T19:09:08.566784Z",
     "start_time": "2021-01-29T19:09:03.064129Z"
    }
   },
   "outputs": [],
   "source": [
    "company_metrics = {}\n",
    "for company in companies:\n",
    "    \n",
    "    company_metrics[company] = {}\n",
    "    company_info = yf.Ticker(company)\n",
    "    \n",
    "    company_metrics[company]['book value'] = company_info.info['bookValue']\n",
    "    company_metrics[company]['book value'] = company_info.info['payoutRatio']\n",
    "    company_metrics[company]['book value'] = company_info.info['beta']\n",
    "    company_metrics[company]['book value'] = company_info.info['trailingPE']\n",
    "    company_metrics[company]['book value'] = company_info.info['priceToSalesTrailing12Months']\n",
    "    company_metrics[company]['book value'] = company_info.info['forwardPE']\n",
    "    company_metrics[company]['book value'] = company_info.info['bookValue']\n",
    "    company_metrics[company]['book value'] = company_info.info['bookValue']\n",
    "    company_metrics[company]['book value'] = company_info.info['bookValue']\n",
    "    "
   ]
  },
  {
   "cell_type": "code",
   "execution_count": 12,
   "metadata": {
    "ExecuteTime": {
     "end_time": "2021-01-29T19:09:14.823138Z",
     "start_time": "2021-01-29T19:09:14.816432Z"
    }
   },
   "outputs": [
    {
     "data": {
      "text/plain": [
       "{'AMZN': {'book value': 164.89},\n",
       " 'AAPL': {'book value': 3.936},\n",
       " 'IBM': {'book value': 23.075}}"
      ]
     },
     "execution_count": 12,
     "metadata": {},
     "output_type": "execute_result"
    }
   ],
   "source": [
    "company_metrics"
   ]
  },
  {
   "cell_type": "code",
   "execution_count": null,
   "metadata": {},
   "outputs": [],
   "source": []
  },
  {
   "cell_type": "code",
   "execution_count": null,
   "metadata": {},
   "outputs": [],
   "source": []
  },
  {
   "cell_type": "code",
   "execution_count": null,
   "metadata": {},
   "outputs": [],
   "source": []
  },
  {
   "cell_type": "code",
   "execution_count": 68,
   "metadata": {
    "ExecuteTime": {
     "end_time": "2021-01-28T19:54:18.824813Z",
     "start_time": "2021-01-28T19:54:16.679083Z"
    }
   },
   "outputs": [],
   "source": [
    "url = \"https://apidojo-yahoo-finance-v1.p.rapidapi.com/stock/v2/get-financials\"\n",
    "\n",
    "querystring = {\"symbol\":\"AMRN\",\"region\":\"US\"}\n",
    "\n",
    "headers = {\n",
    "    'x-rapidapi-key': \"1343dd437bmshfcee9a8ffabf9edp129104jsn6f05c42f2032\",\n",
    "    'x-rapidapi-host': \"apidojo-yahoo-finance-v1.p.rapidapi.com\"\n",
    "    }\n",
    "\n",
    "response = requests.request(\"GET\", url, headers=headers, params=querystring)"
   ]
  },
  {
   "cell_type": "code",
   "execution_count": 73,
   "metadata": {
    "ExecuteTime": {
     "end_time": "2021-01-28T19:56:04.846288Z",
     "start_time": "2021-01-28T19:56:04.841146Z"
    }
   },
   "outputs": [],
   "source": [
    "json_data = json.loads(response.text)['cashflowStatementHistory']['cashflowStatements'][0]"
   ]
  },
  {
   "cell_type": "code",
   "execution_count": 74,
   "metadata": {
    "ExecuteTime": {
     "end_time": "2021-01-28T19:56:07.528280Z",
     "start_time": "2021-01-28T19:56:07.520956Z"
    }
   },
   "outputs": [],
   "source": [
    "with open('AMRN.json', 'w') as outfile:\n",
    "    json.dump(json_data, outfile)"
   ]
  },
  {
   "cell_type": "code",
   "execution_count": 75,
   "metadata": {
    "ExecuteTime": {
     "end_time": "2021-01-28T19:56:08.099022Z",
     "start_time": "2021-01-28T19:56:08.080912Z"
    }
   },
   "outputs": [],
   "source": [
    "data = pd.read_json('AMRN.json')"
   ]
  },
  {
   "cell_type": "code",
   "execution_count": 76,
   "metadata": {
    "ExecuteTime": {
     "end_time": "2021-01-28T19:56:08.884344Z",
     "start_time": "2021-01-28T19:56:08.865111Z"
    }
   },
   "outputs": [
    {
     "data": {
      "text/html": [
       "<div>\n",
       "<style scoped>\n",
       "    .dataframe tbody tr th:only-of-type {\n",
       "        vertical-align: middle;\n",
       "    }\n",
       "\n",
       "    .dataframe tbody tr th {\n",
       "        vertical-align: top;\n",
       "    }\n",
       "\n",
       "    .dataframe thead th {\n",
       "        text-align: right;\n",
       "    }\n",
       "</style>\n",
       "<table border=\"1\" class=\"dataframe\">\n",
       "  <thead>\n",
       "    <tr style=\"text-align: right;\">\n",
       "      <th></th>\n",
       "      <th>changeToLiabilities</th>\n",
       "      <th>totalCashflowsFromInvestingActivities</th>\n",
       "      <th>netBorrowings</th>\n",
       "      <th>totalCashFromFinancingActivities</th>\n",
       "      <th>changeToOperatingActivities</th>\n",
       "      <th>issuanceOfStock</th>\n",
       "      <th>netIncome</th>\n",
       "      <th>changeInCash</th>\n",
       "      <th>endDate</th>\n",
       "      <th>repurchaseOfStock</th>\n",
       "      <th>totalCashFromOperatingActivities</th>\n",
       "      <th>depreciation</th>\n",
       "      <th>changeToInventory</th>\n",
       "      <th>changeToAccountReceivables</th>\n",
       "      <th>maxAge</th>\n",
       "      <th>changeToNetincome</th>\n",
       "      <th>capitalExpenditures</th>\n",
       "    </tr>\n",
       "  </thead>\n",
       "  <tbody>\n",
       "    <tr>\n",
       "      <th>raw</th>\n",
       "      <td>66049000</td>\n",
       "      <td>-2478000</td>\n",
       "      <td>-31652000</td>\n",
       "      <td>409612000</td>\n",
       "      <td>-17316000</td>\n",
       "      <td>466751000</td>\n",
       "      <td>-22645000</td>\n",
       "      <td>397768000</td>\n",
       "      <td>1577750400</td>\n",
       "      <td>-25487000</td>\n",
       "      <td>-9366000</td>\n",
       "      <td>859000</td>\n",
       "      <td>-18967000</td>\n",
       "      <td>-49907000</td>\n",
       "      <td>1</td>\n",
       "      <td>30917000</td>\n",
       "      <td>-2478000</td>\n",
       "    </tr>\n",
       "    <tr>\n",
       "      <th>fmt</th>\n",
       "      <td>66.05M</td>\n",
       "      <td>-2.48M</td>\n",
       "      <td>-31.65M</td>\n",
       "      <td>409.61M</td>\n",
       "      <td>-17.32M</td>\n",
       "      <td>466.75M</td>\n",
       "      <td>-22.64M</td>\n",
       "      <td>397.77M</td>\n",
       "      <td>2019-12-31</td>\n",
       "      <td>-25.49M</td>\n",
       "      <td>-9.37M</td>\n",
       "      <td>859k</td>\n",
       "      <td>-18.97M</td>\n",
       "      <td>-49.91M</td>\n",
       "      <td>1</td>\n",
       "      <td>30.92M</td>\n",
       "      <td>-2.48M</td>\n",
       "    </tr>\n",
       "    <tr>\n",
       "      <th>longFmt</th>\n",
       "      <td>66,049,000</td>\n",
       "      <td>-2,478,000</td>\n",
       "      <td>-31,652,000</td>\n",
       "      <td>409,612,000</td>\n",
       "      <td>-17,316,000</td>\n",
       "      <td>466,751,000</td>\n",
       "      <td>-22,645,000</td>\n",
       "      <td>397,768,000</td>\n",
       "      <td>NaN</td>\n",
       "      <td>-25,487,000</td>\n",
       "      <td>-9,366,000</td>\n",
       "      <td>859,000</td>\n",
       "      <td>-18,967,000</td>\n",
       "      <td>-49,907,000</td>\n",
       "      <td>1</td>\n",
       "      <td>30,917,000</td>\n",
       "      <td>-2,478,000</td>\n",
       "    </tr>\n",
       "  </tbody>\n",
       "</table>\n",
       "</div>"
      ],
      "text/plain": [
       "        changeToLiabilities totalCashflowsFromInvestingActivities  \\\n",
       "raw                66049000                              -2478000   \n",
       "fmt                  66.05M                                -2.48M   \n",
       "longFmt          66,049,000                            -2,478,000   \n",
       "\n",
       "        netBorrowings totalCashFromFinancingActivities  \\\n",
       "raw         -31652000                        409612000   \n",
       "fmt           -31.65M                          409.61M   \n",
       "longFmt   -31,652,000                      409,612,000   \n",
       "\n",
       "        changeToOperatingActivities issuanceOfStock    netIncome changeInCash  \\\n",
       "raw                       -17316000       466751000    -22645000    397768000   \n",
       "fmt                         -17.32M         466.75M      -22.64M      397.77M   \n",
       "longFmt                 -17,316,000     466,751,000  -22,645,000  397,768,000   \n",
       "\n",
       "            endDate repurchaseOfStock totalCashFromOperatingActivities  \\\n",
       "raw      1577750400         -25487000                         -9366000   \n",
       "fmt      2019-12-31           -25.49M                           -9.37M   \n",
       "longFmt         NaN       -25,487,000                       -9,366,000   \n",
       "\n",
       "        depreciation changeToInventory changeToAccountReceivables  maxAge  \\\n",
       "raw           859000         -18967000                  -49907000       1   \n",
       "fmt             859k           -18.97M                    -49.91M       1   \n",
       "longFmt      859,000       -18,967,000                -49,907,000       1   \n",
       "\n",
       "        changeToNetincome capitalExpenditures  \n",
       "raw              30917000            -2478000  \n",
       "fmt                30.92M              -2.48M  \n",
       "longFmt        30,917,000          -2,478,000  "
      ]
     },
     "execution_count": 76,
     "metadata": {},
     "output_type": "execute_result"
    }
   ],
   "source": [
    "data"
   ]
  },
  {
   "cell_type": "code",
   "execution_count": null,
   "metadata": {},
   "outputs": [],
   "source": []
  },
  {
   "cell_type": "code",
   "execution_count": null,
   "metadata": {},
   "outputs": [],
   "source": []
  },
  {
   "cell_type": "code",
   "execution_count": null,
   "metadata": {},
   "outputs": [],
   "source": []
  },
  {
   "cell_type": "code",
   "execution_count": null,
   "metadata": {},
   "outputs": [],
   "source": []
  },
  {
   "cell_type": "code",
   "execution_count": 13,
   "metadata": {
    "ExecuteTime": {
     "end_time": "2021-01-28T19:09:32.289670Z",
     "start_time": "2021-01-28T19:09:32.261594Z"
    }
   },
   "outputs": [],
   "source": [
    "msft = yf.Ticker('MSFT')"
   ]
  },
  {
   "cell_type": "code",
   "execution_count": 19,
   "metadata": {
    "ExecuteTime": {
     "end_time": "2021-01-28T19:11:58.999025Z",
     "start_time": "2021-01-28T19:11:58.978679Z"
    }
   },
   "outputs": [
    {
     "data": {
      "text/plain": [
       "17.259"
      ]
     },
     "execution_count": 19,
     "metadata": {},
     "output_type": "execute_result"
    }
   ],
   "source": [
    "msft.info['bookValue']"
   ]
  },
  {
   "cell_type": "code",
   "execution_count": 22,
   "metadata": {
    "ExecuteTime": {
     "end_time": "2021-01-28T19:16:50.844935Z",
     "start_time": "2021-01-28T19:16:50.387977Z"
    }
   },
   "outputs": [
    {
     "data": {
      "text/html": [
       "<div>\n",
       "<style scoped>\n",
       "    .dataframe tbody tr th:only-of-type {\n",
       "        vertical-align: middle;\n",
       "    }\n",
       "\n",
       "    .dataframe tbody tr th {\n",
       "        vertical-align: top;\n",
       "    }\n",
       "\n",
       "    .dataframe thead th {\n",
       "        text-align: right;\n",
       "    }\n",
       "</style>\n",
       "<table border=\"1\" class=\"dataframe\">\n",
       "  <thead>\n",
       "    <tr style=\"text-align: right;\">\n",
       "      <th></th>\n",
       "      <th>Open</th>\n",
       "      <th>High</th>\n",
       "      <th>Low</th>\n",
       "      <th>Close</th>\n",
       "      <th>Volume</th>\n",
       "      <th>Dividends</th>\n",
       "      <th>Stock Splits</th>\n",
       "    </tr>\n",
       "    <tr>\n",
       "      <th>Date</th>\n",
       "      <th></th>\n",
       "      <th></th>\n",
       "      <th></th>\n",
       "      <th></th>\n",
       "      <th></th>\n",
       "      <th></th>\n",
       "      <th></th>\n",
       "    </tr>\n",
       "  </thead>\n",
       "  <tbody>\n",
       "    <tr>\n",
       "      <th>1986-03-13</th>\n",
       "      <td>0.056367</td>\n",
       "      <td>0.064656</td>\n",
       "      <td>0.056367</td>\n",
       "      <td>0.061893</td>\n",
       "      <td>1031788800</td>\n",
       "      <td>0.0</td>\n",
       "      <td>0.0</td>\n",
       "    </tr>\n",
       "    <tr>\n",
       "      <th>1986-03-14</th>\n",
       "      <td>0.061893</td>\n",
       "      <td>0.065209</td>\n",
       "      <td>0.061893</td>\n",
       "      <td>0.064103</td>\n",
       "      <td>308160000</td>\n",
       "      <td>0.0</td>\n",
       "      <td>0.0</td>\n",
       "    </tr>\n",
       "    <tr>\n",
       "      <th>1986-03-17</th>\n",
       "      <td>0.064103</td>\n",
       "      <td>0.065761</td>\n",
       "      <td>0.064103</td>\n",
       "      <td>0.065209</td>\n",
       "      <td>133171200</td>\n",
       "      <td>0.0</td>\n",
       "      <td>0.0</td>\n",
       "    </tr>\n",
       "    <tr>\n",
       "      <th>1986-03-18</th>\n",
       "      <td>0.065209</td>\n",
       "      <td>0.065761</td>\n",
       "      <td>0.062998</td>\n",
       "      <td>0.063551</td>\n",
       "      <td>67766400</td>\n",
       "      <td>0.0</td>\n",
       "      <td>0.0</td>\n",
       "    </tr>\n",
       "    <tr>\n",
       "      <th>1986-03-19</th>\n",
       "      <td>0.063551</td>\n",
       "      <td>0.064103</td>\n",
       "      <td>0.061893</td>\n",
       "      <td>0.062446</td>\n",
       "      <td>47894400</td>\n",
       "      <td>0.0</td>\n",
       "      <td>0.0</td>\n",
       "    </tr>\n",
       "    <tr>\n",
       "      <th>...</th>\n",
       "      <td>...</td>\n",
       "      <td>...</td>\n",
       "      <td>...</td>\n",
       "      <td>...</td>\n",
       "      <td>...</td>\n",
       "      <td>...</td>\n",
       "      <td>...</td>\n",
       "    </tr>\n",
       "    <tr>\n",
       "      <th>2021-01-22</th>\n",
       "      <td>227.080002</td>\n",
       "      <td>230.070007</td>\n",
       "      <td>225.800003</td>\n",
       "      <td>225.949997</td>\n",
       "      <td>30172700</td>\n",
       "      <td>0.0</td>\n",
       "      <td>0.0</td>\n",
       "    </tr>\n",
       "    <tr>\n",
       "      <th>2021-01-25</th>\n",
       "      <td>229.119995</td>\n",
       "      <td>229.779999</td>\n",
       "      <td>224.220001</td>\n",
       "      <td>229.529999</td>\n",
       "      <td>33152100</td>\n",
       "      <td>0.0</td>\n",
       "      <td>0.0</td>\n",
       "    </tr>\n",
       "    <tr>\n",
       "      <th>2021-01-26</th>\n",
       "      <td>231.860001</td>\n",
       "      <td>234.179993</td>\n",
       "      <td>230.080002</td>\n",
       "      <td>232.330002</td>\n",
       "      <td>49169600</td>\n",
       "      <td>0.0</td>\n",
       "      <td>0.0</td>\n",
       "    </tr>\n",
       "    <tr>\n",
       "      <th>2021-01-27</th>\n",
       "      <td>238.000000</td>\n",
       "      <td>240.440002</td>\n",
       "      <td>230.139999</td>\n",
       "      <td>232.899994</td>\n",
       "      <td>69757500</td>\n",
       "      <td>0.0</td>\n",
       "      <td>0.0</td>\n",
       "    </tr>\n",
       "    <tr>\n",
       "      <th>2021-01-28</th>\n",
       "      <td>235.610001</td>\n",
       "      <td>242.639999</td>\n",
       "      <td>235.089996</td>\n",
       "      <td>241.960007</td>\n",
       "      <td>31754889</td>\n",
       "      <td>0.0</td>\n",
       "      <td>0.0</td>\n",
       "    </tr>\n",
       "  </tbody>\n",
       "</table>\n",
       "<p>8792 rows × 7 columns</p>\n",
       "</div>"
      ],
      "text/plain": [
       "                  Open        High         Low       Close      Volume  \\\n",
       "Date                                                                     \n",
       "1986-03-13    0.056367    0.064656    0.056367    0.061893  1031788800   \n",
       "1986-03-14    0.061893    0.065209    0.061893    0.064103   308160000   \n",
       "1986-03-17    0.064103    0.065761    0.064103    0.065209   133171200   \n",
       "1986-03-18    0.065209    0.065761    0.062998    0.063551    67766400   \n",
       "1986-03-19    0.063551    0.064103    0.061893    0.062446    47894400   \n",
       "...                ...         ...         ...         ...         ...   \n",
       "2021-01-22  227.080002  230.070007  225.800003  225.949997    30172700   \n",
       "2021-01-25  229.119995  229.779999  224.220001  229.529999    33152100   \n",
       "2021-01-26  231.860001  234.179993  230.080002  232.330002    49169600   \n",
       "2021-01-27  238.000000  240.440002  230.139999  232.899994    69757500   \n",
       "2021-01-28  235.610001  242.639999  235.089996  241.960007    31754889   \n",
       "\n",
       "            Dividends  Stock Splits  \n",
       "Date                                 \n",
       "1986-03-13        0.0           0.0  \n",
       "1986-03-14        0.0           0.0  \n",
       "1986-03-17        0.0           0.0  \n",
       "1986-03-18        0.0           0.0  \n",
       "1986-03-19        0.0           0.0  \n",
       "...               ...           ...  \n",
       "2021-01-22        0.0           0.0  \n",
       "2021-01-25        0.0           0.0  \n",
       "2021-01-26        0.0           0.0  \n",
       "2021-01-27        0.0           0.0  \n",
       "2021-01-28        0.0           0.0  \n",
       "\n",
       "[8792 rows x 7 columns]"
      ]
     },
     "execution_count": 22,
     "metadata": {},
     "output_type": "execute_result"
    }
   ],
   "source": [
    "msft.history(period='max')"
   ]
  },
  {
   "cell_type": "code",
   "execution_count": 4,
   "metadata": {
    "ExecuteTime": {
     "end_time": "2021-01-28T16:19:52.703344Z",
     "start_time": "2021-01-28T16:19:52.698623Z"
    }
   },
   "outputs": [],
   "source": [
    "def getdata(stock):\n",
    "    company_quote = requests.get(f\"https://financialmodelingprep.com/api/v3/quote/{stock}\")\n",
    "    company_quote = company_quote.json()\n",
    "    \n",
    "    return company_quote, company_quote"
   ]
  },
  {
   "cell_type": "code",
   "execution_count": 5,
   "metadata": {
    "ExecuteTime": {
     "end_time": "2021-01-28T16:19:53.826238Z",
     "start_time": "2021-01-28T16:19:53.585107Z"
    }
   },
   "outputs": [
    {
     "data": {
      "text/plain": [
       "({'Error Message': 'Invalid API KEY. Please retry or visit our documentation to create one FREE https://financialmodelingprep.com/developer/docs'},\n",
       " {'Error Message': 'Invalid API KEY. Please retry or visit our documentation to create one FREE https://financialmodelingprep.com/developer/docs'})"
      ]
     },
     "execution_count": 5,
     "metadata": {},
     "output_type": "execute_result"
    }
   ],
   "source": [
    "getdata('AAPL')"
   ]
  },
  {
   "cell_type": "code",
   "execution_count": null,
   "metadata": {},
   "outputs": [],
   "source": []
  }
 ],
 "metadata": {
  "kernelspec": {
   "display_name": "learn-env",
   "language": "python",
   "name": "learn-env"
  },
  "language_info": {
   "codemirror_mode": {
    "name": "ipython",
    "version": 3
   },
   "file_extension": ".py",
   "mimetype": "text/x-python",
   "name": "python",
   "nbconvert_exporter": "python",
   "pygments_lexer": "ipython3",
   "version": "3.6.9"
  },
  "toc": {
   "base_numbering": 1,
   "nav_menu": {},
   "number_sections": true,
   "sideBar": true,
   "skip_h1_title": false,
   "title_cell": "Table of Contents",
   "title_sidebar": "Contents",
   "toc_cell": false,
   "toc_position": {},
   "toc_section_display": true,
   "toc_window_display": false
  },
  "varInspector": {
   "cols": {
    "lenName": 16,
    "lenType": 16,
    "lenVar": 40
   },
   "kernels_config": {
    "python": {
     "delete_cmd_postfix": "",
     "delete_cmd_prefix": "del ",
     "library": "var_list.py",
     "varRefreshCmd": "print(var_dic_list())"
    },
    "r": {
     "delete_cmd_postfix": ") ",
     "delete_cmd_prefix": "rm(",
     "library": "var_list.r",
     "varRefreshCmd": "cat(var_dic_list()) "
    }
   },
   "types_to_exclude": [
    "module",
    "function",
    "builtin_function_or_method",
    "instance",
    "_Feature"
   ],
   "window_display": false
  }
 },
 "nbformat": 4,
 "nbformat_minor": 4
}
