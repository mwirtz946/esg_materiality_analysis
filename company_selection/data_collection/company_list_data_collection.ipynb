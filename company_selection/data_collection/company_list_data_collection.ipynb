{
 "cells": [
  {
   "cell_type": "markdown",
   "metadata": {},
   "source": [
    "# Imports"
   ]
  },
  {
   "cell_type": "code",
   "execution_count": 48,
   "metadata": {
    "ExecuteTime": {
     "end_time": "2021-01-18T19:43:45.301560Z",
     "start_time": "2021-01-18T19:43:45.283957Z"
    }
   },
   "outputs": [],
   "source": [
    "import selenium\n",
    "import pickle\n",
    "from selenium import webdriver\n",
    "from selenium.webdriver.common.by import By\n",
    "from selenium.webdriver.support.ui import WebDriverWait\n",
    "from selenium.webdriver.support import expected_conditions as EC\n",
    "from selenium.webdriver.common.keys import Keys\n",
    "from selenium.webdriver.common.action_chains import ActionChains\n",
    "import time\n",
    "from bs4 import BeautifulSoup"
   ]
  },
  {
   "cell_type": "code",
   "execution_count": 2,
   "metadata": {
    "ExecuteTime": {
     "end_time": "2021-01-18T19:23:00.320157Z",
     "start_time": "2021-01-18T19:22:50.287099Z"
    }
   },
   "outputs": [],
   "source": [
    "PATH = \"/Users/MichaelWirtz/Downloads/chromedriver\"\n",
    "driver = webdriver.Chrome(PATH)\n",
    "url= \"https://bullishbears.com/russell-2000-stocks-list/\"\n",
    "driver.maximize_window()\n",
    "driver.get(url)"
   ]
  },
  {
   "cell_type": "code",
   "execution_count": 3,
   "metadata": {
    "ExecuteTime": {
     "end_time": "2021-01-18T19:23:03.582553Z",
     "start_time": "2021-01-18T19:23:02.110591Z"
    }
   },
   "outputs": [],
   "source": [
    "content = driver.page_source.encode('utf-8').strip()\n",
    "soup = BeautifulSoup(content,\"html.parser\")"
   ]
  },
  {
   "cell_type": "markdown",
   "metadata": {},
   "source": [
    "# Gathering Raw Lists"
   ]
  },
  {
   "cell_type": "markdown",
   "metadata": {},
   "source": [
    "## Scraping Companies A-C"
   ]
  },
  {
   "cell_type": "code",
   "execution_count": 4,
   "metadata": {
    "ExecuteTime": {
     "end_time": "2021-01-18T19:23:05.698202Z",
     "start_time": "2021-01-18T19:23:05.690588Z"
    }
   },
   "outputs": [],
   "source": [
    "#Finding a-c tables\n",
    "a_through_c = soup.find(id='kt-layout-id_afa978-8a')"
   ]
  },
  {
   "cell_type": "markdown",
   "metadata": {},
   "source": [
    "### Tickers"
   ]
  },
  {
   "cell_type": "code",
   "execution_count": 5,
   "metadata": {
    "ExecuteTime": {
     "end_time": "2021-01-18T19:23:07.283461Z",
     "start_time": "2021-01-18T19:23:07.265083Z"
    }
   },
   "outputs": [],
   "source": [
    "# Finding tickers a-c\n",
    "a_through_c_ticker_column = a_through_c.find(class_='wp-block-table is-style-regular').table\n",
    "# Getting all rows in ticker table a-c\n",
    "a_through_c_ticker_column_rows = a_through_c_ticker_column.find_all('tr')\n",
    "# Adding all a-c tickers to list\n",
    "a_through_c_tickers = []\n",
    "for row in a_through_c_ticker_column_rows:\n",
    "    ticker = row.find('td').text\n",
    "    a_through_c_tickers.append(ticker)"
   ]
  },
  {
   "cell_type": "markdown",
   "metadata": {},
   "source": [
    "### Companies"
   ]
  },
  {
   "cell_type": "code",
   "execution_count": 6,
   "metadata": {
    "ExecuteTime": {
     "end_time": "2021-01-18T19:23:08.368702Z",
     "start_time": "2021-01-18T19:23:08.311567Z"
    }
   },
   "outputs": [],
   "source": [
    "# Finding company names a-c\n",
    "a_through_c_company_column = a_through_c.find(class_='wp-block-kadence-column inner-column-2 kadence-column_ce91bb-61').table\n",
    "# Getting all rows in company names table a-c\n",
    "a_through_c_company_column_rows = a_through_c_company_column.find_all('tr')\n",
    "# Adding all a-c company names to list\n",
    "a_through_c_companies = []\n",
    "for row in a_through_c_company_column_rows:\n",
    "    company = row.find('td').text\n",
    "    a_through_c_companies.append(company)"
   ]
  },
  {
   "cell_type": "markdown",
   "metadata": {
    "ExecuteTime": {
     "end_time": "2021-01-15T19:58:46.174258Z",
     "start_time": "2021-01-15T19:58:46.159249Z"
    }
   },
   "source": [
    "### Combining Tickers and Companies"
   ]
  },
  {
   "cell_type": "code",
   "execution_count": 7,
   "metadata": {
    "ExecuteTime": {
     "end_time": "2021-01-18T19:23:09.509116Z",
     "start_time": "2021-01-18T19:23:09.488558Z"
    }
   },
   "outputs": [
    {
     "data": {
      "text/plain": [
       "False"
      ]
     },
     "execution_count": 7,
     "metadata": {},
     "output_type": "execute_result"
    }
   ],
   "source": [
    "# Checking equal length of both companies\n",
    "len(a_through_c_companies) == len(a_through_c_tickers)"
   ]
  },
  {
   "cell_type": "code",
   "execution_count": 8,
   "metadata": {
    "ExecuteTime": {
     "end_time": "2021-01-18T19:23:12.125249Z",
     "start_time": "2021-01-18T19:23:12.114298Z"
    }
   },
   "outputs": [
    {
     "data": {
      "text/plain": [
       "''"
      ]
     },
     "execution_count": 8,
     "metadata": {},
     "output_type": "execute_result"
    }
   ],
   "source": [
    "# Removing unused line from companies table\n",
    "a_through_c_companies.pop()"
   ]
  },
  {
   "cell_type": "code",
   "execution_count": 9,
   "metadata": {
    "ExecuteTime": {
     "end_time": "2021-01-18T19:23:13.055325Z",
     "start_time": "2021-01-18T19:23:13.030975Z"
    }
   },
   "outputs": [
    {
     "data": {
      "text/plain": [
       "True"
      ]
     },
     "execution_count": 9,
     "metadata": {},
     "output_type": "execute_result"
    }
   ],
   "source": [
    "# Checking equal length of both companies\n",
    "len(a_through_c_companies) == len(a_through_c_tickers)"
   ]
  },
  {
   "cell_type": "code",
   "execution_count": 10,
   "metadata": {
    "ExecuteTime": {
     "end_time": "2021-01-18T19:23:14.048584Z",
     "start_time": "2021-01-18T19:23:14.029779Z"
    }
   },
   "outputs": [
    {
     "data": {
      "text/plain": [
       "[('Aaron’s, Inc.', 'AAN'),\n",
       " ('Applied Optoelectronics, Inc.', 'AAOI'),\n",
       " ('AAON, Inc.', 'AAON'),\n",
       " ('American Assets Trust, Inc.', 'AAT'),\n",
       " ('Atlas Air Worldwide Holdings, Inc.', 'AAWW')]"
      ]
     },
     "execution_count": 10,
     "metadata": {},
     "output_type": "execute_result"
    }
   ],
   "source": [
    "# Combining ticker and company into tuples\n",
    "a_through_c_merged = [(a_through_c_companies[i], a_through_c_tickers[i]) for i in range(0, len(a_through_c_companies))]\n",
    "# Checking first 5 tuples\n",
    "a_through_c_merged[:5]"
   ]
  },
  {
   "cell_type": "markdown",
   "metadata": {},
   "source": [
    "## Scraping Companies D-K"
   ]
  },
  {
   "cell_type": "code",
   "execution_count": 11,
   "metadata": {
    "ExecuteTime": {
     "end_time": "2021-01-18T19:23:19.348619Z",
     "start_time": "2021-01-18T19:23:19.318028Z"
    }
   },
   "outputs": [],
   "source": [
    "# Finding d-k tables\n",
    "d_through_k = soup.find(id='kt-layout-id_c94de6-6d')"
   ]
  },
  {
   "cell_type": "markdown",
   "metadata": {},
   "source": [
    "### Tickers"
   ]
  },
  {
   "cell_type": "code",
   "execution_count": 12,
   "metadata": {
    "ExecuteTime": {
     "end_time": "2021-01-18T19:23:22.506986Z",
     "start_time": "2021-01-18T19:23:22.480753Z"
    }
   },
   "outputs": [],
   "source": [
    "# Finding tickers d-k\n",
    "d_through_k_ticker_column = d_through_k.find(class_='wp-block-kadence-column inner-column-1 kadence-column_7b450f-43').table\n",
    "# Getting all rows in ticker table d-k\n",
    "d_through_k_ticker_column_rows = d_through_k_ticker_column.find_all('tr')\n",
    "# Adding all d-k tickers to list\n",
    "d_through_k_tickers = []\n",
    "for row in d_through_k_ticker_column_rows:\n",
    "    ticker = row.find('td').text\n",
    "    d_through_k_tickers.append(ticker)"
   ]
  },
  {
   "cell_type": "markdown",
   "metadata": {},
   "source": [
    "### Companies"
   ]
  },
  {
   "cell_type": "code",
   "execution_count": 13,
   "metadata": {
    "ExecuteTime": {
     "end_time": "2021-01-18T19:23:23.873913Z",
     "start_time": "2021-01-18T19:23:23.825063Z"
    }
   },
   "outputs": [],
   "source": [
    "# Finding company names a-c\n",
    "d_through_k_company_column = d_through_k.find(class_='wp-block-kadence-column inner-column-2 kadence-column_38485b-ac').table\n",
    "# Getting all rows in company names table a-c\n",
    "d_through_k_company_column_rows = d_through_k_company_column.find_all('tr')\n",
    "# Adding all a-c company names to list\n",
    "d_through_k_companies = []\n",
    "for row in d_through_k_company_column_rows:\n",
    "    company = row.find('td').text\n",
    "    d_through_k_companies.append(company)"
   ]
  },
  {
   "cell_type": "markdown",
   "metadata": {},
   "source": [
    "### Combining Tickers and Companies"
   ]
  },
  {
   "cell_type": "code",
   "execution_count": 14,
   "metadata": {
    "ExecuteTime": {
     "end_time": "2021-01-18T19:23:27.433774Z",
     "start_time": "2021-01-18T19:23:27.417074Z"
    }
   },
   "outputs": [
    {
     "data": {
      "text/plain": [
       "True"
      ]
     },
     "execution_count": 14,
     "metadata": {},
     "output_type": "execute_result"
    }
   ],
   "source": [
    "# Checking equal length of both companies\n",
    "len(d_through_k_companies) == len(d_through_k_tickers)"
   ]
  },
  {
   "cell_type": "code",
   "execution_count": 17,
   "metadata": {
    "ExecuteTime": {
     "end_time": "2021-01-18T19:23:41.298476Z",
     "start_time": "2021-01-18T19:23:41.238348Z"
    }
   },
   "outputs": [
    {
     "data": {
      "text/plain": [
       "[('Daktronics, Inc.', 'DAKT'),\n",
       " ('Dana, Inc.', 'DAN'),\n",
       " ('Darling Ingredients, Inc.', 'DAR'),\n",
       " ('Diebold Nixdorf, Inc.', 'DBD'),\n",
       " ('Designer Brands, Inc.', 'DBI')]"
      ]
     },
     "execution_count": 17,
     "metadata": {},
     "output_type": "execute_result"
    }
   ],
   "source": [
    "# Combining ticker and company into tuples \n",
    "d_through_k_merged = [(d_through_k_companies[i], d_through_k_tickers[i]) for i in range(0, len(d_through_k_companies))]\n",
    "# Checking first 5 tuples\n",
    "d_through_k_merged[:5]"
   ]
  },
  {
   "cell_type": "markdown",
   "metadata": {
    "ExecuteTime": {
     "end_time": "2021-01-15T19:32:05.245196Z",
     "start_time": "2021-01-15T19:32:05.219909Z"
    }
   },
   "source": [
    "## Scraping Companies L-R"
   ]
  },
  {
   "cell_type": "code",
   "execution_count": 19,
   "metadata": {
    "ExecuteTime": {
     "end_time": "2021-01-18T19:25:51.041134Z",
     "start_time": "2021-01-18T19:25:50.992183Z"
    }
   },
   "outputs": [],
   "source": [
    "# Finding l-r tables\n",
    "l_through_r = soup.find(id='kt-layout-id_13d2ec-ff')"
   ]
  },
  {
   "cell_type": "markdown",
   "metadata": {},
   "source": [
    "### Tickers"
   ]
  },
  {
   "cell_type": "code",
   "execution_count": 20,
   "metadata": {
    "ExecuteTime": {
     "end_time": "2021-01-18T19:25:52.472721Z",
     "start_time": "2021-01-18T19:25:52.455412Z"
    }
   },
   "outputs": [],
   "source": [
    "# Finding tickers l-r\n",
    "l_through_r_ticker_column = l_through_r.find(class_='wp-block-kadence-column inner-column-1 kadence-column_23790e-5d').table\n",
    "# Getting all rows in ticker table l-r\n",
    "l_through_r_ticker_column_rows = l_through_r_ticker_column.find_all('tr')\n",
    "# Adding all l-r tickers to list\n",
    "l_through_r_tickers = []\n",
    "for row in l_through_r_ticker_column_rows:\n",
    "    ticker = row.find('td').text\n",
    "    l_through_r_tickers.append(ticker)"
   ]
  },
  {
   "cell_type": "markdown",
   "metadata": {},
   "source": [
    "### Companies"
   ]
  },
  {
   "cell_type": "code",
   "execution_count": 23,
   "metadata": {
    "ExecuteTime": {
     "end_time": "2021-01-18T19:27:45.501406Z",
     "start_time": "2021-01-18T19:27:45.456653Z"
    }
   },
   "outputs": [],
   "source": [
    "# Finding company names l-r\n",
    "l_through_r_company_column = l_through_r.find(class_='wp-block-kadence-column inner-column-2 kadence-column_72e84c-73').table\n",
    "# Getting all rows in company names table l-r\n",
    "l_through_r_company_column_rows = l_through_r_company_column.find_all('tr')\n",
    "# Adding all l-r company names to list\n",
    "l_through_r_companies = []\n",
    "for row in l_through_r_company_column_rows:\n",
    "    company = row.find('td').text\n",
    "    l_through_r_companies.append(company)"
   ]
  },
  {
   "cell_type": "markdown",
   "metadata": {},
   "source": [
    "### Combining Tickers and Companies"
   ]
  },
  {
   "cell_type": "code",
   "execution_count": 25,
   "metadata": {
    "ExecuteTime": {
     "end_time": "2021-01-18T19:29:26.001983Z",
     "start_time": "2021-01-18T19:29:25.991202Z"
    }
   },
   "outputs": [
    {
     "data": {
      "text/plain": [
       "True"
      ]
     },
     "execution_count": 25,
     "metadata": {},
     "output_type": "execute_result"
    }
   ],
   "source": [
    "# Checking equal length of both companies\n",
    "len(l_through_r_companies) == len(l_through_r_tickers)"
   ]
  },
  {
   "cell_type": "code",
   "execution_count": 26,
   "metadata": {
    "ExecuteTime": {
     "end_time": "2021-01-18T19:29:50.150454Z",
     "start_time": "2021-01-18T19:29:50.144400Z"
    }
   },
   "outputs": [
    {
     "data": {
      "text/plain": [
       "[('Lithia Motors, Inc.', 'LAD'),\n",
       " ('Ladder Capital Corp.', 'LADR'),\n",
       " ('Lancaster Colony Corp.', 'LANC'),\n",
       " ('Gladstone Land Corp.', 'LAND'),\n",
       " ('nLIGHT, Inc.', 'LASR')]"
      ]
     },
     "execution_count": 26,
     "metadata": {},
     "output_type": "execute_result"
    }
   ],
   "source": [
    "# Combining ticker and company into tuples \n",
    "l_through_r_merged = [(l_through_r_companies[i], l_through_r_tickers[i]) for i in range(0, len(l_through_r_companies))]\n",
    "# Checking first 5 tuples\n",
    "l_through_r_merged[:5]"
   ]
  },
  {
   "cell_type": "markdown",
   "metadata": {
    "ExecuteTime": {
     "end_time": "2021-01-15T19:34:03.834780Z",
     "start_time": "2021-01-15T19:34:03.816433Z"
    }
   },
   "source": [
    "## Scraping Companies S-Z"
   ]
  },
  {
   "cell_type": "code",
   "execution_count": 28,
   "metadata": {
    "ExecuteTime": {
     "end_time": "2021-01-18T19:30:52.526662Z",
     "start_time": "2021-01-18T19:30:52.468909Z"
    }
   },
   "outputs": [],
   "source": [
    "# Finding s-z tables\n",
    "s_through_z = soup.find(id='kt-layout-id_629901-99')"
   ]
  },
  {
   "cell_type": "markdown",
   "metadata": {},
   "source": [
    "### Tickers"
   ]
  },
  {
   "cell_type": "code",
   "execution_count": 29,
   "metadata": {
    "ExecuteTime": {
     "end_time": "2021-01-18T19:33:01.924538Z",
     "start_time": "2021-01-18T19:33:01.894547Z"
    }
   },
   "outputs": [],
   "source": [
    "# Finding tickers s-z\n",
    "s_through_z_ticker_column = s_through_z.find(class_='wp-block-kadence-column inner-column-1 kadence-column_5eae3b-9f').table\n",
    "# Getting all rows in ticker table s-z\n",
    "s_through_z_ticker_column_rows = s_through_z_ticker_column.find_all('tr')\n",
    "# Adding all s-z tickers to list\n",
    "s_through_z_tickers = []\n",
    "for row in s_through_z_ticker_column_rows:\n",
    "    ticker = row.find('td').text\n",
    "    s_through_z_tickers.append(ticker)"
   ]
  },
  {
   "cell_type": "markdown",
   "metadata": {},
   "source": [
    "### Companies"
   ]
  },
  {
   "cell_type": "code",
   "execution_count": 31,
   "metadata": {
    "ExecuteTime": {
     "end_time": "2021-01-18T19:34:16.866495Z",
     "start_time": "2021-01-18T19:34:16.846666Z"
    }
   },
   "outputs": [],
   "source": [
    "# Finding company names s-z\n",
    "s_through_z_company_column = s_through_z.find(class_='wp-block-kadence-column inner-column-2 kadence-column_becb56-da').table\n",
    "# Getting all rows in company names table s-z\n",
    "s_through_z_company_column_rows = s_through_z_company_column.find_all('tr')\n",
    "# Adding all s-z company names to list\n",
    "s_through_z_companies = []\n",
    "for row in s_through_z_company_column_rows:\n",
    "    company = row.find('td').text\n",
    "    s_through_z_companies.append(company)"
   ]
  },
  {
   "cell_type": "markdown",
   "metadata": {},
   "source": [
    "### Combining Tickers and Companies"
   ]
  },
  {
   "cell_type": "code",
   "execution_count": 33,
   "metadata": {
    "ExecuteTime": {
     "end_time": "2021-01-18T19:35:00.455834Z",
     "start_time": "2021-01-18T19:35:00.451332Z"
    }
   },
   "outputs": [
    {
     "data": {
      "text/plain": [
       "True"
      ]
     },
     "execution_count": 33,
     "metadata": {},
     "output_type": "execute_result"
    }
   ],
   "source": [
    "# Checking equal length of both companies\n",
    "len(s_through_z_companies) == len(s_through_z_tickers)"
   ]
  },
  {
   "cell_type": "code",
   "execution_count": 34,
   "metadata": {
    "ExecuteTime": {
     "end_time": "2021-01-18T19:35:28.261300Z",
     "start_time": "2021-01-18T19:35:28.251713Z"
    }
   },
   "outputs": [
    {
     "data": {
      "text/plain": [
       "[('Safehold Inc.', 'SAFE'),\n",
       " ('Sanderson Farms, Inc.', 'SAFM'),\n",
       " ('Safety Insurance Group, Inc.', 'SAFT'),\n",
       " ('Sonic Automotive, Inc.', 'SAH'),\n",
       " ('Saia, Inc.', 'SAIA')]"
      ]
     },
     "execution_count": 34,
     "metadata": {},
     "output_type": "execute_result"
    }
   ],
   "source": [
    "# Combining ticker and company into tuples \n",
    "s_through_z_merged = [(s_through_z_companies[i], s_through_z_tickers[i]) for i in range(0, len(s_through_z_companies))]\n",
    "# Checking first 5 tuples\n",
    "s_through_z_merged[:5]"
   ]
  },
  {
   "cell_type": "markdown",
   "metadata": {},
   "source": [
    "# Combining Scraped Lists"
   ]
  },
  {
   "cell_type": "code",
   "execution_count": 39,
   "metadata": {
    "ExecuteTime": {
     "end_time": "2021-01-18T19:37:57.049096Z",
     "start_time": "2021-01-18T19:37:57.041673Z"
    }
   },
   "outputs": [],
   "source": [
    "# Merging all lists into one\n",
    "data = a_through_c_merged + \\\n",
    "       d_through_k_merged + \\\n",
    "       l_through_r_merged + \\\n",
    "       s_through_z_merged"
   ]
  },
  {
   "cell_type": "code",
   "execution_count": 47,
   "metadata": {
    "ExecuteTime": {
     "end_time": "2021-01-18T19:42:32.313082Z",
     "start_time": "2021-01-18T19:42:32.305608Z"
    },
    "scrolled": false
   },
   "outputs": [
    {
     "name": "stdout",
     "output_type": "stream",
     "text": [
      "All scraped data amounts to 1999 total public companies\n",
      "\n",
      "\n",
      "[('Aaron’s, Inc.', 'AAN'), ('Applied Optoelectronics, Inc.', 'AAOI'), ('AAON, Inc.', 'AAON'), ('American Assets Trust, Inc.', 'AAT'), ('Atlas Air Worldwide Holdings, Inc.', 'AAWW')]\n",
      "\n",
      "\n",
      "[('Zix Corp.', 'ZIXI'), ('Zumiez, Inc.', 'ZUMZ'), ('Zuora, Inc.', 'ZUO'), ('Zynerba Pharmaceuticals, Inc.', 'ZYNE'), ('Zynex, Inc.', 'ZYXI')]\n"
     ]
    }
   ],
   "source": [
    "#Checking number of companies in list\n",
    "print(\"All scraped data amounts to {} total public companies\".format(len(data)))\n",
    "print(\"\\n\")\n",
    "# Checking first 5 list elements\n",
    "print(data[:5])\n",
    "print(\"\\n\")\n",
    "#Checking last 5 list elements\n",
    "print(data[-5:])\n",
    "      \n",
    "      \n",
    "      "
   ]
  },
  {
   "cell_type": "code",
   "execution_count": 49,
   "metadata": {
    "ExecuteTime": {
     "end_time": "2021-01-18T19:44:33.917900Z",
     "start_time": "2021-01-18T19:44:33.888125Z"
    }
   },
   "outputs": [],
   "source": [
    "# Saving data \n",
    "with open('public_company_list.data', 'wb') as filehandle:\n",
    "    pickle.dump(data, filehandle)"
   ]
  }
 ],
 "metadata": {
  "kernelspec": {
   "display_name": "learn-env",
   "language": "python",
   "name": "learn-env"
  },
  "language_info": {
   "codemirror_mode": {
    "name": "ipython",
    "version": 3
   },
   "file_extension": ".py",
   "mimetype": "text/x-python",
   "name": "python",
   "nbconvert_exporter": "python",
   "pygments_lexer": "ipython3",
   "version": "3.6.9"
  },
  "toc": {
   "base_numbering": 1,
   "nav_menu": {},
   "number_sections": true,
   "sideBar": true,
   "skip_h1_title": false,
   "title_cell": "Table of Contents",
   "title_sidebar": "Contents",
   "toc_cell": false,
   "toc_position": {},
   "toc_section_display": true,
   "toc_window_display": false
  },
  "varInspector": {
   "cols": {
    "lenName": 16,
    "lenType": 16,
    "lenVar": 40
   },
   "kernels_config": {
    "python": {
     "delete_cmd_postfix": "",
     "delete_cmd_prefix": "del ",
     "library": "var_list.py",
     "varRefreshCmd": "print(var_dic_list())"
    },
    "r": {
     "delete_cmd_postfix": ") ",
     "delete_cmd_prefix": "rm(",
     "library": "var_list.r",
     "varRefreshCmd": "cat(var_dic_list()) "
    }
   },
   "types_to_exclude": [
    "module",
    "function",
    "builtin_function_or_method",
    "instance",
    "_Feature"
   ],
   "window_display": false
  }
 },
 "nbformat": 4,
 "nbformat_minor": 4
}
