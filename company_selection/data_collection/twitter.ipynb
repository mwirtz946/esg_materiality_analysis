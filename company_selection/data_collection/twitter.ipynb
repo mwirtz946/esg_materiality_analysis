{
 "cells": [
  {
   "cell_type": "markdown",
   "metadata": {},
   "source": [
    "# Imports"
   ]
  },
  {
   "cell_type": "code",
   "execution_count": 2,
   "metadata": {
    "ExecuteTime": {
     "end_time": "2021-01-18T19:52:35.809311Z",
     "start_time": "2021-01-18T19:52:35.777969Z"
    }
   },
   "outputs": [],
   "source": [
    "import pickle\n",
    "import twint\n",
    "import pandas"
   ]
  },
  {
   "cell_type": "code",
   "execution_count": 3,
   "metadata": {
    "ExecuteTime": {
     "end_time": "2021-01-18T19:53:47.979971Z",
     "start_time": "2021-01-18T19:53:47.954431Z"
    }
   },
   "outputs": [],
   "source": [
    "# Reading in pickled company list\n",
    "with open('public_company_list.data', 'rb') as filehandle:\n",
    "    companies = pickle.load(filehandle)"
   ]
  },
  {
   "cell_type": "markdown",
   "metadata": {},
   "source": [
    "# Execution Plan"
   ]
  },
  {
   "cell_type": "markdown",
   "metadata": {},
   "source": [
    "The most essential part of this process is having the right search keywords. Instead of trying to gauge the resilience of entire companies, I will be judging resilience based off of its existence on the employee level. Furthermore, this will be further speciifed to be the resilience of millennial employees. The assumption is that millennial employee attitudes will be the core driver of company resilience.\n",
    "\n",
    "Here is how I arrived at the assumption: \n",
    "\n",
    "According to a 2016 report by Gallup, 29% of employed millenials in the US are engaged workers. This study is bad news, especially considering that by 2025, Millennials are forecast to comprise 75% of the global workforce. With Millennials comprising such a large percentage of the workforce, they will be the primary drivers of company culture. So what are the factors that contribute to a resilient millennial workforce? \n",
    "\n",
    "Sources: \n",
    "\n",
    "https://www2.deloitte.com/global/en/pages/about-deloitte/articles/millennialsurvey.html\n",
    "\n",
    "https://www.gallup.com/workplace/238073/millennials-work-live.aspx\n",
    "\n",
    "**Facts about Millennials:**\n",
    "\n",
    "- 44% report being stressed all the time\n",
    "- Too late to repair damange caused by climate change\n",
    "- heightened sense of individual reponsibility\n",
    "- Support for local business a focus moving forward\n",
    "- Job loyalty rises as businesses address employee needs, from diversity and inclusion to sustainability and reskilling\n",
    "\n",
    "- Millennials as Employees\n",
    "    - Millennials change jobs more often than do those of any older generation, and six in 10 say they are currently looking for new employment opportunities.\n",
    "    - Millennials and non-millennials have the same expectations of their managers: constant communication, accountability and clearly established expectations.\n",
    "    - Millennials are less engaged in the workplace than are their older counterparts, and they are more likely to be categorized as “not engaged.” Millennials’ lack of engagement costs the U.S. economy hundreds of billions of dollars annually in lost productivity.\n",
    "    - Opportunities to learn and grow at work are highly important to millennials when seeking out new jobs or deciding to stay in current ones.\n",
    "    - Millennials want to talk with their managers — and not always just about work. However, they are less comfortable approaching their managers to talk than are their older counterparts.\n",
    "- Millennials as People\n",
    "    - Millennials are the most racially and ethnically diverse generation in U.S. history.\n",
    "    - The plurality of millennials identify as politically independent and moderate.\n",
    "    - Millennials are the least likely of the four generations to be registered voters.\n",
    "    - Three in 10 millennials do not identify with a particular religion, and the majority of millennials say they “never” or “seldom” attend a church, synagogue or mosque.\n",
    "    - Millennials are a highly educated generation. They also carry far more student loan debt compared with older generations\n",
    "- Millennials’ Economic Impact\n",
    "    - Millennials view the economy positively and are far more optimistic about its general direction than are any other generation.\n",
    "    - Millennials’ spending in 2015 trailed that of the 19- to 35-year-old age group in 2008, accounting for hundreds of millions of dollars the U.S. economy loses daily in revenue.\n",
    "    - Millennials are the most trusting — but least engaged — generation of consumers in the marketplace. In the industries Gallup studied, millennials are much more likely to be actively disengaged consumers.\n",
    "    - As consumers, millennials look for fun and entertaining experiences.\n",
    "    - The top drivers of customer engagement for millennials are not unusual or unique compared with those for other generations, but millennials place more value on the online customer experience."
   ]
  },
  {
   "cell_type": "code",
   "execution_count": null,
   "metadata": {},
   "outputs": [],
   "source": []
  }
 ],
 "metadata": {
  "kernelspec": {
   "display_name": "learn-env",
   "language": "python",
   "name": "learn-env"
  },
  "language_info": {
   "codemirror_mode": {
    "name": "ipython",
    "version": 3
   },
   "file_extension": ".py",
   "mimetype": "text/x-python",
   "name": "python",
   "nbconvert_exporter": "python",
   "pygments_lexer": "ipython3",
   "version": "3.6.9"
  },
  "toc": {
   "base_numbering": 1,
   "nav_menu": {},
   "number_sections": true,
   "sideBar": true,
   "skip_h1_title": false,
   "title_cell": "Table of Contents",
   "title_sidebar": "Contents",
   "toc_cell": false,
   "toc_position": {},
   "toc_section_display": true,
   "toc_window_display": false
  },
  "varInspector": {
   "cols": {
    "lenName": 16,
    "lenType": 16,
    "lenVar": 40
   },
   "kernels_config": {
    "python": {
     "delete_cmd_postfix": "",
     "delete_cmd_prefix": "del ",
     "library": "var_list.py",
     "varRefreshCmd": "print(var_dic_list())"
    },
    "r": {
     "delete_cmd_postfix": ") ",
     "delete_cmd_prefix": "rm(",
     "library": "var_list.r",
     "varRefreshCmd": "cat(var_dic_list()) "
    }
   },
   "types_to_exclude": [
    "module",
    "function",
    "builtin_function_or_method",
    "instance",
    "_Feature"
   ],
   "window_display": false
  }
 },
 "nbformat": 4,
 "nbformat_minor": 4
}
