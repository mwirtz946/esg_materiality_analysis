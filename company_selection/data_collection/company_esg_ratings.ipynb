{
 "cells": [
  {
   "cell_type": "markdown",
   "metadata": {},
   "source": [
    "# Imports"
   ]
  },
  {
   "cell_type": "code",
   "execution_count": 1,
   "metadata": {
    "ExecuteTime": {
     "end_time": "2021-01-25T19:53:15.599731Z",
     "start_time": "2021-01-25T19:53:13.442930Z"
    }
   },
   "outputs": [],
   "source": [
    "from bs4 import BeautifulSoup\n",
    "import selenium\n",
    "from selenium import webdriver\n",
    "from selenium.webdriver.common.by import By\n",
    "from selenium.webdriver.support.ui import WebDriverWait\n",
    "from selenium.webdriver.support import expected_conditions as EC\n",
    "from selenium.webdriver.common.keys import Keys\n",
    "from selenium.webdriver.common.action_chains import ActionChains\n",
    "import time\n",
    "import requests\n",
    "import pandas"
   ]
  },
  {
   "cell_type": "code",
   "execution_count": 2,
   "metadata": {
    "ExecuteTime": {
     "end_time": "2021-01-25T19:53:26.012855Z",
     "start_time": "2021-01-25T19:53:16.151465Z"
    }
   },
   "outputs": [],
   "source": [
    "PATH = \"/Users/MichaelWirtz/Desktop/pathfile/chromedriver_2\"\n",
    "driver = webdriver.Chrome(PATH)\n",
    "url= \"https://www.sustainalytics.com/esg-ratings/\"\n",
    "driver.maximize_window()\n",
    "driver.get(url)"
   ]
  },
  {
   "cell_type": "code",
   "execution_count": 5,
   "metadata": {
    "ExecuteTime": {
     "end_time": "2021-01-25T19:56:18.136656Z",
     "start_time": "2021-01-25T19:56:18.119476Z"
    }
   },
   "outputs": [
    {
     "ename": "NameError",
     "evalue": "name 'searchInput' is not defined",
     "output_type": "error",
     "traceback": [
      "\u001b[0;31m---------------------------------------------------------------------------\u001b[0m",
      "\u001b[0;31mNameError\u001b[0m                                 Traceback (most recent call last)",
      "\u001b[0;32m<ipython-input-5-5dcbef18441f>\u001b[0m in \u001b[0;36m<module>\u001b[0;34m\u001b[0m\n\u001b[0;32m----> 1\u001b[0;31m \u001b[0mdriver\u001b[0m\u001b[0;34m.\u001b[0m\u001b[0mfind_element\u001b[0m\u001b[0;34m(\u001b[0m\u001b[0mBy\u001b[0m\u001b[0;34m.\u001b[0m\u001b[0mID\u001b[0m\u001b[0;34m(\u001b[0m\u001b[0msearchInput\u001b[0m\u001b[0;34m)\u001b[0m\u001b[0;34m)\u001b[0m\u001b[0;34m\u001b[0m\u001b[0;34m\u001b[0m\u001b[0m\n\u001b[0m",
      "\u001b[0;31mNameError\u001b[0m: name 'searchInput' is not defined"
     ]
    }
   ],
   "source": [
    "driver.find_element(By.ID(searchInput))"
   ]
  },
  {
   "cell_type": "code",
   "execution_count": 47,
   "metadata": {
    "ExecuteTime": {
     "end_time": "2021-01-25T19:52:16.545689Z",
     "start_time": "2021-01-25T19:52:16.418387Z"
    }
   },
   "outputs": [],
   "source": [
    "content = driver.page_source.encode('utf-8').strip()\n",
    "soup = BeautifulSoup(content,\"html.parser\")"
   ]
  },
  {
   "cell_type": "markdown",
   "metadata": {},
   "source": [
    "# AMZN"
   ]
  },
  {
   "cell_type": "code",
   "execution_count": 48,
   "metadata": {
    "ExecuteTime": {
     "end_time": "2021-01-25T19:52:17.507082Z",
     "start_time": "2021-01-25T19:52:17.498646Z"
    }
   },
   "outputs": [],
   "source": [
    "company_details = soup.find(class_=\"row company-details d-flex\")"
   ]
  },
  {
   "cell_type": "code",
   "execution_count": 49,
   "metadata": {
    "ExecuteTime": {
     "end_time": "2021-01-25T19:52:18.007126Z",
     "start_time": "2021-01-25T19:52:18.002162Z"
    }
   },
   "outputs": [
    {
     "name": "stdout",
     "output_type": "stream",
     "text": [
      "27.4\n"
     ]
    }
   ],
   "source": [
    "risk_rating = company_details.find(class_=\"col-xs-6 risk-rating-score\").text\n",
    "print(risk_rating)"
   ]
  },
  {
   "cell_type": "code",
   "execution_count": 50,
   "metadata": {
    "ExecuteTime": {
     "end_time": "2021-01-25T19:52:19.115331Z",
     "start_time": "2021-01-25T19:52:19.101023Z"
    }
   },
   "outputs": [
    {
     "name": "stdout",
     "output_type": "stream",
     "text": [
      "Medium Risk\n"
     ]
    }
   ],
   "source": [
    "risk_category = company_details.find(class_=\"col-xs-6 risk-rating-assessment\").text\n",
    "print(risk_category)"
   ]
  },
  {
   "cell_type": "code",
   "execution_count": 51,
   "metadata": {
    "ExecuteTime": {
     "end_time": "2021-01-25T19:52:21.014459Z",
     "start_time": "2021-01-25T19:52:21.008222Z"
    }
   },
   "outputs": [
    {
     "name": "stdout",
     "output_type": "stream",
     "text": [
      "99.77973568281938\n"
     ]
    }
   ],
   "source": [
    "industry_group_position = (int(company_details.find(class_=\"industry-group-position\").text) / int(company_details.find(class_=\"industry-group-positions-total\").text)) * 100\n",
    "print(industry_group_position)"
   ]
  },
  {
   "cell_type": "code",
   "execution_count": 52,
   "metadata": {
    "ExecuteTime": {
     "end_time": "2021-01-25T19:52:21.772222Z",
     "start_time": "2021-01-25T19:52:21.765559Z"
    }
   },
   "outputs": [
    {
     "name": "stdout",
     "output_type": "stream",
     "text": [
      "46.72632363907532\n"
     ]
    }
   ],
   "source": [
    "overall_rank = (int(company_details.find(class_=\"universe-position\").text) / int(company_details.find(class_=\"universe-positions-total\").text)) * 100\n",
    "print(overall_rank)"
   ]
  }
 ],
 "metadata": {
  "kernelspec": {
   "display_name": "learn-env",
   "language": "python",
   "name": "learn-env"
  },
  "language_info": {
   "codemirror_mode": {
    "name": "ipython",
    "version": 3
   },
   "file_extension": ".py",
   "mimetype": "text/x-python",
   "name": "python",
   "nbconvert_exporter": "python",
   "pygments_lexer": "ipython3",
   "version": "3.6.9"
  },
  "toc": {
   "base_numbering": 1,
   "nav_menu": {},
   "number_sections": true,
   "sideBar": true,
   "skip_h1_title": false,
   "title_cell": "Table of Contents",
   "title_sidebar": "Contents",
   "toc_cell": false,
   "toc_position": {},
   "toc_section_display": true,
   "toc_window_display": false
  },
  "varInspector": {
   "cols": {
    "lenName": 16,
    "lenType": 16,
    "lenVar": 40
   },
   "kernels_config": {
    "python": {
     "delete_cmd_postfix": "",
     "delete_cmd_prefix": "del ",
     "library": "var_list.py",
     "varRefreshCmd": "print(var_dic_list())"
    },
    "r": {
     "delete_cmd_postfix": ") ",
     "delete_cmd_prefix": "rm(",
     "library": "var_list.r",
     "varRefreshCmd": "cat(var_dic_list()) "
    }
   },
   "types_to_exclude": [
    "module",
    "function",
    "builtin_function_or_method",
    "instance",
    "_Feature"
   ],
   "window_display": false
  }
 },
 "nbformat": 4,
 "nbformat_minor": 4
}
