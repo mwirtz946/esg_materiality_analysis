{
 "cells": [
  {
   "cell_type": "markdown",
   "metadata": {},
   "source": [
    "# Imports"
   ]
  },
  {
   "cell_type": "code",
   "execution_count": 15,
   "metadata": {
    "ExecuteTime": {
     "end_time": "2021-01-26T19:51:26.822463Z",
     "start_time": "2021-01-26T19:51:26.807078Z"
    }
   },
   "outputs": [],
   "source": [
    "from bs4 import BeautifulSoup\n",
    "import selenium\n",
    "from selenium import webdriver\n",
    "from selenium.webdriver.common.by import By\n",
    "from selenium.webdriver.support.ui import WebDriverWait\n",
    "from selenium.webdriver.support import expected_conditions as EC\n",
    "from selenium.webdriver.common.keys import Keys\n",
    "from selenium.webdriver.common.action_chains import ActionChains\n",
    "import time\n",
    "import requests\n",
    "import pandas as pd\n",
    "import re"
   ]
  },
  {
   "cell_type": "markdown",
   "metadata": {},
   "source": [
    "# Scraping Sustainalytics Ratings Data"
   ]
  },
  {
   "cell_type": "markdown",
   "metadata": {},
   "source": [
    "## Configuring Selenium"
   ]
  },
  {
   "cell_type": "code",
   "execution_count": 2,
   "metadata": {
    "ExecuteTime": {
     "end_time": "2021-01-26T19:19:16.735053Z",
     "start_time": "2021-01-26T19:19:07.524042Z"
    }
   },
   "outputs": [],
   "source": [
    "# Set path to chromedriver\n",
    "PATH = \"/Users/MichaelWirtz/Desktop/pathfile/chromedriver_2\"\n",
    "# Define driver\n",
    "driver = webdriver.Chrome(PATH)\n",
    "# Define url\n",
    "url= \"https://www.sustainalytics.com/esg-ratings/\"\n",
    "# Maximize window\n",
    "driver.maximize_window()\n",
    "# Get website\n",
    "driver.get(url)"
   ]
  },
  {
   "cell_type": "markdown",
   "metadata": {},
   "source": [
    "## Creating DataFrame of Ratings"
   ]
  },
  {
   "cell_type": "code",
   "execution_count": 3,
   "metadata": {
    "ExecuteTime": {
     "end_time": "2021-01-26T19:19:28.799215Z",
     "start_time": "2021-01-26T19:19:28.795690Z"
    }
   },
   "outputs": [],
   "source": [
    "tickers = ['AAPL','AMZN']"
   ]
  },
  {
   "cell_type": "code",
   "execution_count": 4,
   "metadata": {
    "ExecuteTime": {
     "end_time": "2021-01-26T19:19:29.659842Z",
     "start_time": "2021-01-26T19:19:29.644710Z"
    }
   },
   "outputs": [],
   "source": [
    "# Creating dataframe for ratings data\n",
    "ratings = pd.DataFrame(columns = ['company','risk_rating','risk_category','industry_group_position','overall_rank', 'rater'])"
   ]
  },
  {
   "cell_type": "code",
   "execution_count": 5,
   "metadata": {
    "ExecuteTime": {
     "end_time": "2021-01-26T19:20:20.970438Z",
     "start_time": "2021-01-26T19:19:32.060212Z"
    }
   },
   "outputs": [],
   "source": [
    "for ticker in tickers:\n",
    "    # Find search bar\n",
    "    search_bar = driver.find_element_by_id(\"searchInput\")\n",
    "    # Sleep for 5 seconds\n",
    "    time.sleep(5)\n",
    "    # Clear search bar\n",
    "    search_bar.clear()\n",
    "    # Enter ticker into search bar\n",
    "    search_bar.send_keys(ticker)\n",
    "    # Sleep for 5 seconds\n",
    "    time.sleep(5)\n",
    "    # Search ticker\n",
    "    search_bar.send_keys(Keys.ENTER)\n",
    "    # Find company in options list\n",
    "    # Sleep for 3 seconds\n",
    "    time.sleep(3)\n",
    "    company = driver.find_element_by_class_name(\"companyName\")\n",
    "    # Click company for ratings\n",
    "    company.click()\n",
    "\n",
    "    # Getting page content\n",
    "    content = driver.page_source.encode('utf-8').strip()\n",
    "    # Getting page content in html\n",
    "    soup = BeautifulSoup(content,\"html.parser\")\n",
    "    # Getting company details\n",
    "    company_details = soup.find(class_=\"row company-details d-flex\")\n",
    "    # Setting company name\n",
    "    company = ticker\n",
    "    # Getting risk ratings\n",
    "    risk_rating = company_details.find(class_=\"col-xs-6 risk-rating-score\").text\n",
    "    # Getting risk category\n",
    "    risk_category = company_details.find(class_=\"col-xs-6 risk-rating-assessment\").text\n",
    "    # Getting industry group position\n",
    "    industry_group_position = (int(company_details.find(class_=\"industry-group-position\").text) / int(company_details.find(class_=\"industry-group-positions-total\").text)) * 100\n",
    "    # Getting overall rank\n",
    "    overall_rank = (int(company_details.find(class_=\"universe-position\").text) / int(company_details.find(class_=\"universe-positions-total\").text)) * 100\n",
    "    # Appending new ratings to dataframe\n",
    "    ratings = ratings.append({'company': company,\n",
    "                              'risk_rating': risk_rating, \n",
    "                              'risk_category': risk_category, \n",
    "                              'industry_group_position': industry_group_position, \n",
    "                              'overall_rank': overall_rank\n",
    "                              'rater': 'sustainalytics'},\n",
    "                               ignore_index=True)\n",
    "    # Sleep for 3 seconds\n",
    "    time.sleep(3)\n",
    "    # Go back to previous page\n",
    "    driver.back()\n",
    "\n",
    "    # Sleep for 3 seconds\n",
    "    time.sleep(3)"
   ]
  },
  {
   "cell_type": "code",
   "execution_count": 6,
   "metadata": {
    "ExecuteTime": {
     "end_time": "2021-01-26T19:20:29.183821Z",
     "start_time": "2021-01-26T19:20:29.160058Z"
    }
   },
   "outputs": [
    {
     "data": {
      "text/html": [
       "<div>\n",
       "<style scoped>\n",
       "    .dataframe tbody tr th:only-of-type {\n",
       "        vertical-align: middle;\n",
       "    }\n",
       "\n",
       "    .dataframe tbody tr th {\n",
       "        vertical-align: top;\n",
       "    }\n",
       "\n",
       "    .dataframe thead th {\n",
       "        text-align: right;\n",
       "    }\n",
       "</style>\n",
       "<table border=\"1\" class=\"dataframe\">\n",
       "  <thead>\n",
       "    <tr style=\"text-align: right;\">\n",
       "      <th></th>\n",
       "      <th>company</th>\n",
       "      <th>risk_rating</th>\n",
       "      <th>risk_category</th>\n",
       "      <th>industry_group_position</th>\n",
       "      <th>overall_rank</th>\n",
       "    </tr>\n",
       "  </thead>\n",
       "  <tbody>\n",
       "    <tr>\n",
       "      <th>0</th>\n",
       "      <td>AAPL</td>\n",
       "      <td>16.6</td>\n",
       "      <td>Low Risk</td>\n",
       "      <td>28.597786</td>\n",
       "      <td>10.029828</td>\n",
       "    </tr>\n",
       "    <tr>\n",
       "      <th>1</th>\n",
       "      <td>AMZN</td>\n",
       "      <td>27.4</td>\n",
       "      <td>Medium Risk</td>\n",
       "      <td>99.779736</td>\n",
       "      <td>46.726324</td>\n",
       "    </tr>\n",
       "  </tbody>\n",
       "</table>\n",
       "</div>"
      ],
      "text/plain": [
       "  company risk_rating risk_category  industry_group_position  overall_rank\n",
       "0    AAPL        16.6      Low Risk                28.597786     10.029828\n",
       "1    AMZN        27.4   Medium Risk                99.779736     46.726324"
      ]
     },
     "execution_count": 6,
     "metadata": {},
     "output_type": "execute_result"
    }
   ],
   "source": [
    "ratings"
   ]
  },
  {
   "cell_type": "markdown",
   "metadata": {},
   "source": [
    "# Scraping MSCI Ratings Data"
   ]
  },
  {
   "cell_type": "code",
   "execution_count": 7,
   "metadata": {
    "ExecuteTime": {
     "end_time": "2021-01-26T19:48:57.534733Z",
     "start_time": "2021-01-26T19:48:51.915093Z"
    }
   },
   "outputs": [],
   "source": [
    "# Set path to chromedriver\n",
    "PATH = \"/Users/MichaelWirtz/Desktop/pathfile/chromedriver_2\"\n",
    "# Define driver\n",
    "driver = webdriver.Chrome(PATH)\n",
    "# Define url\n",
    "url= \"https://www.msci.com/our-solutions/esg-investing/esg-ratings/esg-ratings-corporate-search-tool\"\n",
    "# Maximize window\n",
    "driver.maximize_window()\n",
    "# Get website\n",
    "driver.get(url)"
   ]
  },
  {
   "cell_type": "code",
   "execution_count": 22,
   "metadata": {
    "ExecuteTime": {
     "end_time": "2021-01-26T19:58:18.416709Z",
     "start_time": "2021-01-26T19:58:05.281323Z"
    }
   },
   "outputs": [],
   "source": [
    "# Find search bar\n",
    "search_bar = driver.find_element_by_id(\"_esgratingsprofile_keywords\")\n",
    "# Sleep for 5 secondsb\n",
    "time.sleep(5)\n",
    "# Clear search bar\n",
    "search_bar.clear()\n",
    "# Enter ticker into search bar\n",
    "search_bar.send_keys(\"GOOG\")\n",
    "# Sleep for 5 seconds\n",
    "time.sleep(5)\n",
    "# Search ticker\n",
    "search_bar.send_keys(Keys.ENTER)\n",
    "# Find company in options list\n",
    "# Sleep for 3 seconds\n",
    "time.sleep(3)\n",
    "company = driver.find_element_by_id(\"ui-id-1\")\n",
    "# Click company for ratings\n",
    "company.click()"
   ]
  },
  {
   "cell_type": "code",
   "execution_count": 16,
   "metadata": {
    "ExecuteTime": {
     "end_time": "2021-01-26T19:51:29.934156Z",
     "start_time": "2021-01-26T19:51:29.773250Z"
    }
   },
   "outputs": [],
   "source": [
    "# Getting page content\n",
    "content = driver.page_source.encode('utf-8').strip()\n",
    "# Getting page content in html\n",
    "soup = BeautifulSoup(content,\"html.parser\")\n",
    "# Getting company details\n",
    "company_details = soup.find(class_=\"ratingdata-outercircle esgratings-profile-header-yellow\")\n",
    "# Getting risk rating\n",
    "risk_rating = ((str(company_details)).split('-'))[-1][:4].replace('\"','')\n",
    "risk_rating = re.sub(r\"[^a-z]+\", '', risk_rating)"
   ]
  },
  {
   "cell_type": "code",
   "execution_count": 17,
   "metadata": {
    "ExecuteTime": {
     "end_time": "2021-01-26T19:51:30.581526Z",
     "start_time": "2021-01-26T19:51:30.572851Z"
    }
   },
   "outputs": [
    {
     "data": {
      "text/plain": [
       "'a'"
      ]
     },
     "execution_count": 17,
     "metadata": {},
     "output_type": "execute_result"
    }
   ],
   "source": [
    "risk_rating"
   ]
  }
 ],
 "metadata": {
  "kernelspec": {
   "display_name": "learn-env",
   "language": "python",
   "name": "learn-env"
  },
  "language_info": {
   "codemirror_mode": {
    "name": "ipython",
    "version": 3
   },
   "file_extension": ".py",
   "mimetype": "text/x-python",
   "name": "python",
   "nbconvert_exporter": "python",
   "pygments_lexer": "ipython3",
   "version": "3.6.9"
  },
  "toc": {
   "base_numbering": 1,
   "nav_menu": {},
   "number_sections": true,
   "sideBar": true,
   "skip_h1_title": false,
   "title_cell": "Table of Contents",
   "title_sidebar": "Contents",
   "toc_cell": false,
   "toc_position": {},
   "toc_section_display": true,
   "toc_window_display": false
  },
  "varInspector": {
   "cols": {
    "lenName": 16,
    "lenType": 16,
    "lenVar": 40
   },
   "kernels_config": {
    "python": {
     "delete_cmd_postfix": "",
     "delete_cmd_prefix": "del ",
     "library": "var_list.py",
     "varRefreshCmd": "print(var_dic_list())"
    },
    "r": {
     "delete_cmd_postfix": ") ",
     "delete_cmd_prefix": "rm(",
     "library": "var_list.r",
     "varRefreshCmd": "cat(var_dic_list()) "
    }
   },
   "types_to_exclude": [
    "module",
    "function",
    "builtin_function_or_method",
    "instance",
    "_Feature"
   ],
   "window_display": false
  }
 },
 "nbformat": 4,
 "nbformat_minor": 4
}
