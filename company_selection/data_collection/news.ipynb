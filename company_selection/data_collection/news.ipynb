{
 "cells": [
  {
   "cell_type": "markdown",
   "metadata": {},
   "source": [
    "# Imports"
   ]
  },
  {
   "cell_type": "code",
   "execution_count": 1,
   "metadata": {
    "ExecuteTime": {
     "end_time": "2021-02-08T19:20:30.241694Z",
     "start_time": "2021-02-08T19:20:26.231357Z"
    }
   },
   "outputs": [],
   "source": [
    "# Importing all necessary libraries\n",
    "import newsfetch\n",
    "from newspaper import Article\n",
    "from newsfetch.google import google_search\n",
    "import newspaper\n",
    "from datetime import datetime\n",
    "import pickle\n",
    "import pandas as pd"
   ]
  },
  {
   "cell_type": "markdown",
   "metadata": {},
   "source": [
    "# Sites"
   ]
  },
  {
   "cell_type": "markdown",
   "metadata": {},
   "source": [
    "These sites were chosen, for the time being, with little thought. The hope with this is to use these sites to get a sense for how the program runs. Sites can be added or removed with time. "
   ]
  },
  {
   "cell_type": "code",
   "execution_count": 2,
   "metadata": {
    "ExecuteTime": {
     "end_time": "2021-02-08T19:20:32.603725Z",
     "start_time": "2021-02-08T19:20:32.600436Z"
    }
   },
   "outputs": [],
   "source": [
    "# Creating list of ESG sites\n",
    "sites = ['https://seekingalpha.com/market-news','https://www.investing.com/news/stock-market-news','https://www.marketwatch.com/','https://www.esgtoday.com/', 'https://www.ft.com/stream/e11a1e80-32df-4443-a483-5bd64245c9c4','https://esgclarity.com/','https://www.reuters.com/news/archive/esg-investing']"
   ]
  },
  {
   "cell_type": "markdown",
   "metadata": {},
   "source": [
    "# Retrieving Daily Article Information "
   ]
  },
  {
   "cell_type": "markdown",
   "metadata": {},
   "source": [
    "What will this do:\n",
    "\n",
    "1. Go to each site in the sites list and grab all article urls on each \n",
    "2. Download, parse and perform nlp on each article \n",
    "3. Filter for articles that mention companys in question "
   ]
  },
  {
   "cell_type": "code",
   "execution_count": 3,
   "metadata": {
    "ExecuteTime": {
     "end_time": "2021-02-08T19:30:16.468487Z",
     "start_time": "2021-02-08T19:21:04.617592Z"
    },
    "scrolled": false
   },
   "outputs": [
    {
     "name": "stdout",
     "output_type": "stream",
     "text": [
      "Unsuccessful Site: <newspaper.source.Source object at 0x7ff68be99630>\n",
      "Unsuccessful Site: <newspaper.source.Source object at 0x7ff68be99748>\n",
      "Unsuccessful Site: <newspaper.source.Source object at 0x7ff689bd4f28>\n",
      "Unsuccessful Site: <newspaper.source.Source object at 0x7ff68b57f470>\n"
     ]
    },
    {
     "name": "stderr",
     "output_type": "stream",
     "text": [
      "Building prefix dict from /Users/MichaelWirtz/opt/anaconda3/envs/learn-env/lib/python3.6/site-packages/jieba/dict.txt ...\n",
      "Dumping model to file cache /var/folders/lq/x_dhl6d12_vckrn81vmcy9m00000gn/T/jieba.cache\n",
      "Loading model cost 1.346001148223877 seconds.\n",
      "Prefix dict has been built succesfully.\n"
     ]
    }
   ],
   "source": [
    "# Reading in pickled company list\n",
    "with open('data_files/public_company_list.data', 'rb') as filehandle:\n",
    "    companies = pickle.load(filehandle)\n",
    "\n",
    "# Creating list to hold relevant news articles\n",
    "news_data = []\n",
    "\n",
    "# Looping through sites\n",
    "for site in sites:\n",
    "    try:\n",
    "        # Building site\n",
    "        site = newspaper.build(site)\n",
    "        # Getting all article urls from built site\n",
    "        site_urls = site.article_urls()\n",
    "        # Looping through site article urls\n",
    "        for url in site_urls:\n",
    "            # Creating instance of article\n",
    "            article = Article(url)\n",
    "            # Downloading article\n",
    "            article.download()\n",
    "            # Parsing article\n",
    "            article.parse()\n",
    "            # Performing nlp prep on article\n",
    "            article.nlp()\n",
    "            # Creating variable for article text\n",
    "            text = article.text\n",
    "            # Filtering for relevant articles\n",
    "            for company, ticker in companies:\n",
    "                article_info = {}\n",
    "                if company in text:\n",
    "                    article_info['company'] = company \n",
    "                    article_info['url'] = url\n",
    "                    article_info['article_text'] = text\n",
    "                    news_data.append(article_info)\n",
    "    except:\n",
    "        print('Unsuccessful Site: {}'.format(site))"
   ]
  },
  {
   "cell_type": "code",
   "execution_count": 4,
   "metadata": {
    "ExecuteTime": {
     "end_time": "2021-02-08T19:32:35.428741Z",
     "start_time": "2021-02-08T19:32:35.409316Z"
    }
   },
   "outputs": [
    {
     "data": {
      "text/plain": [
       "[{'company': 'GameStop Corp.',\n",
       "  'url': 'https://www.investing.com/news/stock-market-news',\n",
       "  'article_text': 'By MarketWatch\\n\\nShares of GameStop Corp. have seesawed back to a loss Monday, as they slumped 6.4% in midday trading, with a sharp drop in trading volume suggesting investor interest in the may...'},\n",
       " {'company': 'GameStop Corp.',\n",
       "  'url': 'https://www.marketwatch.com/story/should-i-buy-dogecoin-why-prices-of-the-cryptocurrency-are-surgingbut-risky-11612807382?mod=home-page',\n",
       "  'article_text': 'This virtual dog is barking.\\n\\nThe crypto known as dogecoin, created back in 2013 as a joke, has been rising to record levels, highlighting a renewed fervor this year for virtual assets that increasingly draw the interest of celebrities, some institutional investors and corporate officials.\\n\\nOn Monday, dogecoin boasted a market value of nearly $10.5 billion, up 107% over the past seven days, according to CoinMarketCap.com, which provides data on digital assets.\\n\\nThat puts the virtual coin — pronounced “dōj-coin” and sharing the doge name with the elected magistrate of such historical city-states as Venice and Genoa but commonly associated with a popular meme featuring a shiba inu dog — in the top 10 among crypto assets, with bitcoin BTCUSD, +11.17% weighing in at No. 1 at a value of $810 billion.\\n\\nA single dogecoin was valued at 8.1 cents, up around 30% on Monday; back in late January it was changing hands at less than a penny, costing 0.007 cent as of Jan. 27.\\n\\nCoinMarketCap.com\\n\\nWhile dogecoin isn’t a virtual asset that is considered to have a utility — a point that could be argued for a number of cryptos — it has been given fresh life after Tesla Inc. TSLA, +0.61% CEO Elon Musk in late December tweeted this simple, cryptic message via Twitter: “One word: Doge.”\\n\\nMusk’s subsequent bullish tweets about dogecoin appeared to further catalyze a rally in the crypto.\\n\\nOn Sunday, the Tesla and SpaceX leader wrote:\\n\\nDogecoin co-founder Billy Markus told the Wall Street Journal in an article at the beginning of February that he created the asset in 2012 as a “lighthearted cryptocurrency,” then known as Bells, to serve as the fun version of bitcoin.\\n\\nAccording to the newspaper, fellow dogecoin co-founder Jackson Palmer shared his idea for a cryptocurrency based on the shiba inu meme, and Markus reconfigured his code for Bells to fit the meme.\\n\\nMarkus reportedly told the Journal that dogecoin’s rally to records “doesn’t make sense,” and equated it to the recent fervor on social-media platforms, like Reddit’s WallStreetBets, that helped drive shares of GameStop Corp. GME, -8.50% and AMC Entertainment Holdings AMC, -12.00% to stratospheric heights, until those speculative short-selling-amplified bets cooled considerably.\\n\\nMore recently, however, the likes of rapper Snoop Dogg, whose real name is Calvin Broadus, and Gene Simmons of the rock band Kiss joined Musk — and billionaire investor Mark Cuban — in weighing in on dogecoin.\\n\\nSimmons referred to himself as the God of Dogecoin, on a Twitter TWTR, +1.48% account associated with him:\\n\\nBroadus tweeted an image of the shiba inu on Saturday:\\n\\nSo is dogecoin worth all the attention?\\n\\nExperts in crypto say investors should be operating with more than a modicum of caution.\\n\\n“These are strange times with elements of ochlocracy manifesting as populism — from the Capitol Hill to GameStop,” Charles Hayter, CEO of London-based research site CryptoCompare, told MarketWatch.\\n\\n“People are moving markets en masse and are playing greater fool with each other without understanding the ramifications or their own psychological limitations,” the researcher added.\\n\\nBullish bitcoin investors make the case that price gains in bitcoin, the world’s No. 1 cryptocurrency, are supported by the limited supply of the crypto that is inherent in its code. Only 21 million bitcoin will ever exist, and so-called mining for bitcoin, or solving complex computational problems that are rewarded by bitcoin, become harder as time goes on. The final cache of bitcoins likely are not going to be mined until around 2140.\\n\\nThe supply of dogecoin, on the other hand, has no built-in limit, with the number of dogecoin that can be mined at any given time varying from one to hundreds of thousands.\\n\\nNonetheless, interest in dogecoins underscores the appetite for alternative assets in an environment where 0% interest rates are prevalent as governments around the world attempt to mitigate the economic harm from the COVID-19 pandemic.\\n\\nDogecoin’s price has surged over 1,600% since its recent lows. Bitcoin is up some 48% so far this year, while the Dow Jones Industrial Average DJIA, +0.46% has advanced 2.3%. The S&P 500 index SPX, +0.37% climbed nearly 4% in 2021 thus far.\\n\\nCuban, who has maintained a less euphoric view on bitcoin as well as dogecoin, said the recent moves in cryptos can serve as inexpensive teaching moments for newbie investors. He said the rise in dogecoins serves as a teaching tool for his son, citing an interview with Forbes in a tweet on Monday.\\n\\nForbes quoted Cuban as saying this of dogecoin: “[L]iterally, and I say this with all seriousness, it’s the best entertainment bang for your buck available.”\\n\\n“You can buy $1 worth or $10 worth and have fun watching it all day every day,” Cuban said.\\n\\nTo be sure, some investors may not find cryptos as much fun, particularly if they end up barking up the wrong tree when it comes to dogecoin.\\n\\n“Musk’s musings are interesting, and he can be controversial — however, it’s peoples individual interpretations and actions that are at fault,” Hayter said.'},\n",
       " {'company': 'GameStop Corp.',\n",
       "  'url': 'https://www.marketwatch.com/story/the-stock-market-is-echoing-2009-10-and-that-means-a-pullback-could-be-near-analysts-warn-11612808035?mod=home-page',\n",
       "  'article_text': 'A highflying stock market is reminding nervous investors of the 2000 dot-com bubble burst, but they might be better off studying more recent history, analysts said.\\n\\nIt is important to remember “that current Fed policy, absolute interest rates, the yield curve, credit trends and money availability are in a very different place than in 1999-2000,” wrote Tony Dwyer, chief market strategist at Canaccord Genuity, in a Monday note.\\n\\nIn addition, high valuations — measures of a stocks price relative to other metrics such as earnings — are being gauged against last year’s pandemic-inspired trough in profit rather than building on record earnings, as was the case in 2000, he said.\\n\\nDwyer said 2021 could instead play out more like the postcrisis scenario seen in 2010, which would point the way to a “solid year” for the market, but with a bumpy ride thanks to “multiple first-half corrections” along with a compression in price-to-earnings ratios that is likely to come from a historic surge in earnings per share rather than something more onerous.\\n\\nDwyer highlighted how the S&P 500 SPX, +0.37% move off its March 23 pandemic low has echoed the index’s rebound off its March 2009 low (see chart below).\\n\\nCanaccord Genuity\\n\\nThrough the Feb. 2 close — 218 days after the March 23 low — the S&P 500 was up 71%. In the 218 days after the March 9, 2009, low, the index rose 70%, according to Dow Jones Market Data.\\n\\nAt this point in the post-2009 playbook, the S&P 500 began a pullback. This time around, the S&P 500 has continued to march higher, logging back-to-back record finishes on Thursday and Friday and was up 0.4% in early afternoon trade on Monday.\\n\\nAfter a late January wobble tied to the trading frenzy around GameStop Corp. GME, -8.31% , stocks have enjoyed a broad February rally. The Dow Jones Industrial Average DJIA, +0.45% was up around 150 points, or 0.5%, on Monday, on track to top its record close from Jan. 20.\\n\\nDataTrek Research co-founder Nicholas Colas, who has regularly highlighted the “2009 playbook” since the March lows, noted last week that the 2010 pullback was pretty much a “textbook” affair, with the S&P 500 falling 8.2% over 13 trading days. The index recovered over the following 30 trading days, ending March 2010 at new highs, he said.\\n\\nColas said the observation wasn’t “so much a trading call as an illustration of what happens as we get deeper into a cyclical recovery.”\\n\\nHe noted that the 2020 chart has diverged from the 2009 path several times and might continue to do so in 2021, but argued that with so many observers looking for a pullback, the playbook might offer guidance “on what to expect and where to start buying.”\\n\\nMeanwhile, Dwyer highlighted another echo of 2010. He noted that since the start of earnings season, according to Refinitiv data, fourth-quarter 2020 year-over-year earnings have improved by 11.9 percentage points (from -10.3% to +1.6%), the fifth-largest improvement on record dating back to the third quarter of 2002 and matched only by the 2009-10 recovery.\\n\\nRead: The S&P 500 is on track for surprise earnings growth'},\n",
       " {'company': 'GameStop Corp.',\n",
       "  'url': 'https://www.marketwatch.com/story/if-you-blinked-you-probably-missed-reddits-super-bowl-commercial-11612749779?mod=home-page',\n",
       "  'article_text': 'Reddit may not have had the most memorable commercial during Sunday’s Super Bowl, but it certainly had the shortest one.\\n\\nThe community-discussion website, recently in headlines after some of its commenters egged on wild trading in heavily shorted stocks such as GameStop Corp. GME, -8.31% , debuted its first Super Bowl ad with a five-second text-card that looked more like the end credits of “The Big Bang Theory” than a typical high-production-value Super Bowl ad.'},\n",
       " {'company': 'GameStop Corp.',\n",
       "  'url': 'https://www.marketwatch.com/story/gamestop-stock-falls-to-extend-last-weeks-record-selloff-as-trading-volume-drops-off-2021-02-08?mod=home-page',\n",
       "  'article_text': \"Shares of GameStop Corp. GME, -8.31% have seesawed back to a loss Monday, as they slumped 6.4% in midday trading, with a sharp drop in trading volume suggesting investor interest in the may be waning. The stock opened down 5.9% at $60.00, then shot up to be up as much as 13.9% to an intraday high of $72.66 before falling back down. Trading volume was just 17.4 million shares a little after midday, compared with the full-day average of about 53.2 million over the past 30 days. The drop in price and volume comes after the stock plunged 80.4% last week, the biggest weekly drop in the stock's public history. Total volume during last week's decline was 302.04 million shares, compared with volume of 559.24 million shares as the stock rocketed 399.9% the week before. Meanwhile, the other stock caught up in the trading frenzy surrounding highly shorted companies, AMC Entertainment Holdings Inc. AMC, -12.01% tumbled 12.3% midday Monday, after dropping 48.5% last week. AMC shares remained fairly active; with 95.6 million shares traded, they were the most active on the NYSE, even as volume was less than half the full-day average over the past 30 days of about 208.1 million shares. The declines in GameStop and AMC stocks come on a day that the S&P 500 SPX, +0.37% rose 0.4% toward a record close.\"},\n",
       " {'company': 'RH',\n",
       "  'url': 'https://www.reuters.com/article/us-crh-medical-m-a-well-health/li-ka-shing-backed-well-health-to-buy-crh-medical-for-nearly-300-million-idUSKBN2A81VP',\n",
       "  'article_text': '(Reuters) - Canadian digital healthcare company Well Health Technologies Corp said on Monday it would buy CRH Medical Corp for $292.7 million to expand into the United States, in a deal partly funded by its billionaire investor Li Ka-shing.\\n\\nThe move comes days after a unit of the Hong Kong tycoon’s CK Group agreed to buy two wind farms in British Columbia, marking its first purchase of a Canadian renewables project.\\n\\nCRH Medical shareholders will get $4 per share in cash, representing a premium of about 83% to the company’s shares’ closing price on Friday.\\n\\nU.S.-listed shares of CRH Medical were trading 80% higher at $3.94, while its Canada-listed shares were at C$5.02.\\n\\nWell Health said the deal would be funded through a credit facility and cash on hand, with the company raising C$295.5 million ($231.75 million) through an equity offering to a group of investors that includes Li.\\n\\nWell Health did not disclose details on Li’s stake in the company after the deal. Its shares, listed on Toronto Stock Exchange, rose 18% to C$9.46.\\n\\nCRH Medical provides gastroenterologists in the United States with products and services for the treatment of gastrointestinal diseases, including anesthesia services at 69 ambulatory surgical centers in 13 states.\\n\\n($1 = 1.2751 Canadian dollars)'},\n",
       " {'company': 'RH',\n",
       "  'url': 'http://www.reuters.com/article/us-crh-medical-m-a-well-health/li-ka-shing-backed-well-health-to-buy-crh-medical-for-nearly-300-million-idUSKBN2A81VP',\n",
       "  'article_text': '(Reuters) - Canadian digital healthcare company Well Health Technologies Corp said on Monday it would buy CRH Medical Corp for $292.7 million to expand into the United States, in a deal partly funded by its billionaire investor Li Ka-shing.\\n\\nThe move comes days after a unit of the Hong Kong tycoon’s CK Group agreed to buy two wind farms in British Columbia, marking its first purchase of a Canadian renewables project.\\n\\nCRH Medical shareholders will get $4 per share in cash, representing a premium of about 83% to the company’s shares’ closing price on Friday.\\n\\nU.S.-listed shares of CRH Medical were trading 80% higher at $3.94, while its Canada-listed shares were at C$5.02.\\n\\nWell Health said the deal would be funded through a credit facility and cash on hand, with the company raising C$295.5 million ($231.75 million) through an equity offering to a group of investors that includes Li.\\n\\nWell Health did not disclose details on Li’s stake in the company after the deal. Its shares, listed on Toronto Stock Exchange, rose 18% to C$9.46.\\n\\nCRH Medical provides gastroenterologists in the United States with products and services for the treatment of gastrointestinal diseases, including anesthesia services at 69 ambulatory surgical centers in 13 states.\\n\\n($1 = 1.2751 Canadian dollars)'}]"
      ]
     },
     "execution_count": 4,
     "metadata": {},
     "output_type": "execute_result"
    }
   ],
   "source": [
    "news_data"
   ]
  },
  {
   "cell_type": "code",
   "execution_count": 50,
   "metadata": {
    "ExecuteTime": {
     "end_time": "2021-02-03T22:43:08.320211Z",
     "start_time": "2021-02-03T22:43:08.314649Z"
    }
   },
   "outputs": [],
   "source": [
    "check = pd.DataFrame(news_data)"
   ]
  },
  {
   "cell_type": "code",
   "execution_count": 51,
   "metadata": {
    "ExecuteTime": {
     "end_time": "2021-02-03T22:43:11.423421Z",
     "start_time": "2021-02-03T22:43:11.417727Z"
    }
   },
   "outputs": [
    {
     "data": {
      "text/html": [
       "<div>\n",
       "<style scoped>\n",
       "    .dataframe tbody tr th:only-of-type {\n",
       "        vertical-align: middle;\n",
       "    }\n",
       "\n",
       "    .dataframe tbody tr th {\n",
       "        vertical-align: top;\n",
       "    }\n",
       "\n",
       "    .dataframe thead th {\n",
       "        text-align: right;\n",
       "    }\n",
       "</style>\n",
       "<table border=\"1\" class=\"dataframe\">\n",
       "  <thead>\n",
       "    <tr style=\"text-align: right;\">\n",
       "      <th></th>\n",
       "    </tr>\n",
       "  </thead>\n",
       "  <tbody>\n",
       "  </tbody>\n",
       "</table>\n",
       "</div>"
      ],
      "text/plain": [
       "Empty DataFrame\n",
       "Columns: []\n",
       "Index: []"
      ]
     },
     "execution_count": 51,
     "metadata": {},
     "output_type": "execute_result"
    }
   ],
   "source": [
    "check"
   ]
  },
  {
   "cell_type": "code",
   "execution_count": null,
   "metadata": {},
   "outputs": [],
   "source": [
    "for company, ticker in companies: \n",
    "        # Filtering for articles that mention company\n",
    "        if 'company' in text:\n",
    "            # Creating new key value pair to specify company and url\n",
    "            daily_news_data.append({'company': company, \n",
    "                                    'url': url,\n",
    "                                    'article_text': text}, \n",
    "                                     ignore_index=True)\n",
    "        else:\n",
    "            pass"
   ]
  },
  {
   "cell_type": "code",
   "execution_count": 37,
   "metadata": {
    "ExecuteTime": {
     "end_time": "2021-02-03T22:26:51.907399Z",
     "start_time": "2021-02-03T22:26:03.245646Z"
    }
   },
   "outputs": [
    {
     "data": {
      "text/html": [
       "<div>\n",
       "<style scoped>\n",
       "    .dataframe tbody tr th:only-of-type {\n",
       "        vertical-align: middle;\n",
       "    }\n",
       "\n",
       "    .dataframe tbody tr th {\n",
       "        vertical-align: top;\n",
       "    }\n",
       "\n",
       "    .dataframe thead th {\n",
       "        text-align: right;\n",
       "    }\n",
       "</style>\n",
       "<table border=\"1\" class=\"dataframe\">\n",
       "  <thead>\n",
       "    <tr style=\"text-align: right;\">\n",
       "      <th></th>\n",
       "      <th>company</th>\n",
       "      <th>url</th>\n",
       "      <th>article_text</th>\n",
       "    </tr>\n",
       "  </thead>\n",
       "  <tbody>\n",
       "  </tbody>\n",
       "</table>\n",
       "</div>"
      ],
      "text/plain": [
       "Empty DataFrame\n",
       "Columns: [company, url, article_text]\n",
       "Index: []"
      ]
     },
     "execution_count": 37,
     "metadata": {},
     "output_type": "execute_result"
    }
   ],
   "source": [
    "# Checking dataframe\n",
    "daily_news_data"
   ]
  },
  {
   "cell_type": "code",
   "execution_count": 38,
   "metadata": {
    "ExecuteTime": {
     "end_time": "2021-02-03T22:27:24.013491Z",
     "start_time": "2021-02-03T22:27:23.994102Z"
    }
   },
   "outputs": [
    {
     "data": {
      "text/html": [
       "<div>\n",
       "<style scoped>\n",
       "    .dataframe tbody tr th:only-of-type {\n",
       "        vertical-align: middle;\n",
       "    }\n",
       "\n",
       "    .dataframe tbody tr th {\n",
       "        vertical-align: top;\n",
       "    }\n",
       "\n",
       "    .dataframe thead th {\n",
       "        text-align: right;\n",
       "    }\n",
       "</style>\n",
       "<table border=\"1\" class=\"dataframe\">\n",
       "  <thead>\n",
       "    <tr style=\"text-align: right;\">\n",
       "      <th></th>\n",
       "      <th>company</th>\n",
       "      <th>url</th>\n",
       "      <th>article_text</th>\n",
       "    </tr>\n",
       "  </thead>\n",
       "  <tbody>\n",
       "    <tr>\n",
       "      <th>0</th>\n",
       "      <td>Zynex, Inc.</td>\n",
       "      <td>https://www.reuters.com/article/us-health-coro...</td>\n",
       "      <td>NEW YORK/LONDON/HONG KONG (Reuters Breakingvie...</td>\n",
       "    </tr>\n",
       "  </tbody>\n",
       "</table>\n",
       "</div>"
      ],
      "text/plain": [
       "       company                                                url  \\\n",
       "0  Zynex, Inc.  https://www.reuters.com/article/us-health-coro...   \n",
       "\n",
       "                                        article_text  \n",
       "0  NEW YORK/LONDON/HONG KONG (Reuters Breakingvie...  "
      ]
     },
     "execution_count": 38,
     "metadata": {},
     "output_type": "execute_result"
    }
   ],
   "source": [
    "daily_news_data.append({'company': company, \n",
    "                                    'url': url,\n",
    "                                    'article_text': text}, \n",
    "                                     ignore_index=True)"
   ]
  },
  {
   "cell_type": "code",
   "execution_count": null,
   "metadata": {},
   "outputs": [],
   "source": [
    "# #Intialize list articles_info list\n",
    "# articles_info = []\n",
    "# for i in links:\n",
    "#     #Intialize dictionary\n",
    "#     article_dict = {}\n",
    "#     #Insert link \"i\" into the dictionary\n",
    "#     article_dict[\"link\"] = i\n",
    "#     #Pass link into Article() function\n",
    "#     art = Article(i)\n",
    "#     #Download contents of art object\n",
    "#     art.download()\n",
    "    \n",
    "#     #Try/except is included because not all articles can be parsed\n",
    "#     try:\n",
    "#         #If article can be successfully parsed then insert its text, title, publish_date, keywords\n",
    "#         #and summary into corresponding keys\n",
    "#         art.parse()\n",
    "#         article_dict[\"text\"] = art.text\n",
    "#         article_dict[\"title\"] = art.title\n",
    "#         article_dict[\"date\"] = art.publish_date\n",
    "#         art.nlp()\n",
    "#         article_dict[\"keywords\"] = art.keywords\n",
    "#         article_dict[\"summary\"] = art.summary\n",
    "#     except ArticleException:\n",
    "#         #If article cannot be parse then insert null values for the following keys:\n",
    "#         #\"text\", \"title\", \"date\", \"keywords\", and \"summary\"\n",
    "#         article_dict[\"text\"] = np.nan\n",
    "#         article_dict[\"title\"] = np.nan\n",
    "#         article_dict[\"date\"] = np.nan\n",
    "#         article_dict[\"keywords\"] = np.nan\n",
    "#         article_dict[\"summary\"] = np.nan\n",
    "        \n",
    "#     #Insert dictionary of article info into the articles_info list\n",
    "#     articles_info.append(article_dict)\n",
    "# #Pass the list of dictionaries into a pandas data frame\n",
    "# corpus = pd.DataFrame(articles_info)\n",
    "# #Print how long the process took\n",
    "# print(\"Script took {:.2f} seconds to complete\".format(time.time() - start))"
   ]
  }
 ],
 "metadata": {
  "kernelspec": {
   "display_name": "learn-env",
   "language": "python",
   "name": "learn-env"
  },
  "language_info": {
   "codemirror_mode": {
    "name": "ipython",
    "version": 3
   },
   "file_extension": ".py",
   "mimetype": "text/x-python",
   "name": "python",
   "nbconvert_exporter": "python",
   "pygments_lexer": "ipython3",
   "version": "3.6.9"
  },
  "toc": {
   "base_numbering": 1,
   "nav_menu": {},
   "number_sections": true,
   "sideBar": true,
   "skip_h1_title": false,
   "title_cell": "Table of Contents",
   "title_sidebar": "Contents",
   "toc_cell": false,
   "toc_position": {},
   "toc_section_display": true,
   "toc_window_display": false
  },
  "varInspector": {
   "cols": {
    "lenName": 16,
    "lenType": 16,
    "lenVar": 40
   },
   "kernels_config": {
    "python": {
     "delete_cmd_postfix": "",
     "delete_cmd_prefix": "del ",
     "library": "var_list.py",
     "varRefreshCmd": "print(var_dic_list())"
    },
    "r": {
     "delete_cmd_postfix": ") ",
     "delete_cmd_prefix": "rm(",
     "library": "var_list.r",
     "varRefreshCmd": "cat(var_dic_list()) "
    }
   },
   "types_to_exclude": [
    "module",
    "function",
    "builtin_function_or_method",
    "instance",
    "_Feature"
   ],
   "window_display": false
  }
 },
 "nbformat": 4,
 "nbformat_minor": 4
}
