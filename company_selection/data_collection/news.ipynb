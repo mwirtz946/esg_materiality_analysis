{
 "cells": [
  {
   "cell_type": "markdown",
   "metadata": {},
   "source": [
    "# Imports"
   ]
  },
  {
   "cell_type": "code",
   "execution_count": 31,
   "metadata": {
    "ExecuteTime": {
     "end_time": "2021-02-02T20:00:00.157768Z",
     "start_time": "2021-02-02T20:00:00.153559Z"
    }
   },
   "outputs": [],
   "source": [
    "import newsfetch\n",
    "from newspaper import Article\n",
    "from newsfetch.google import google_search\n",
    "import newspaper\n",
    "from datetime import datetime\n",
    "from nltk.sentiment.vader import SentimentIntensityAnalyzer"
   ]
  },
  {
   "cell_type": "markdown",
   "metadata": {},
   "source": [
    "# Sites"
   ]
  },
  {
   "cell_type": "markdown",
   "metadata": {},
   "source": [
    "These sites were chosen, for the time being, with little thought. The hope with this is to use these sites to get a sense for how the program runs. Sites can be added or removed with time. "
   ]
  },
  {
   "cell_type": "code",
   "execution_count": null,
   "metadata": {},
   "outputs": [],
   "source": [
    "sites = ['https://www.esgtoday.com/', 'https://www.ft.com/stream/e11a1e80-32df-4443-a483-5bd64245c9c4','https://esgclarity.com/','https://www.reuters.com/news/archive/esg-investing']"
   ]
  },
  {
   "cell_type": "markdown",
   "metadata": {},
   "source": [
    "# Retrieving Daily Article Information "
   ]
  },
  {
   "cell_type": "markdown",
   "metadata": {},
   "source": [
    "What will this do:\n",
    "\n",
    "1. Go to each site in the sites list and grab all article urls on each \n",
    "2. Download, parse and perform nlp on each article \n",
    "3. Filter for articles that mention companys in question \n",
    "4. If true, find sentiment of article\n",
    "5. Apply sentiment to overall sentiment tracker for each company"
   ]
  },
  {
   "cell_type": "code",
   "execution_count": 29,
   "metadata": {
    "ExecuteTime": {
     "end_time": "2021-02-02T19:58:55.828067Z",
     "start_time": "2021-02-02T19:58:55.825779Z"
    }
   },
   "outputs": [],
   "source": [
    "# site = newspaper.build('https://www.reuters.com/news/archive/esg-investing')"
   ]
  },
  {
   "cell_type": "code",
   "execution_count": 30,
   "metadata": {
    "ExecuteTime": {
     "end_time": "2021-02-02T19:58:57.285757Z",
     "start_time": "2021-02-02T19:58:57.282360Z"
    },
    "scrolled": true
   },
   "outputs": [],
   "source": [
    "# site.article_urls()"
   ]
  },
  {
   "cell_type": "code",
   "execution_count": 18,
   "metadata": {
    "ExecuteTime": {
     "end_time": "2021-02-02T19:48:50.314241Z",
     "start_time": "2021-02-02T19:48:50.310508Z"
    },
    "scrolled": true
   },
   "outputs": [],
   "source": [
    "article = Article('https://www.nytimes.com/live/2021/02/02/us/biden-administration', language='en')"
   ]
  },
  {
   "cell_type": "code",
   "execution_count": 19,
   "metadata": {
    "ExecuteTime": {
     "end_time": "2021-02-02T19:48:52.060210Z",
     "start_time": "2021-02-02T19:48:51.529318Z"
    }
   },
   "outputs": [],
   "source": [
    "article.download()\n",
    "article.parse()\n",
    "article.nlp()"
   ]
  },
  {
   "cell_type": "code",
   "execution_count": 28,
   "metadata": {
    "ExecuteTime": {
     "end_time": "2021-02-02T19:50:53.551230Z",
     "start_time": "2021-02-02T19:50:53.545709Z"
    }
   },
   "outputs": [
    {
     "data": {
      "text/plain": [
       "True"
      ]
     },
     "execution_count": 28,
     "metadata": {},
     "output_type": "execute_result"
    }
   ],
   "source": [
    "article.publish_date.day == datetime.today().day"
   ]
  },
  {
   "cell_type": "code",
   "execution_count": null,
   "metadata": {},
   "outputs": [],
   "source": []
  },
  {
   "cell_type": "code",
   "execution_count": null,
   "metadata": {},
   "outputs": [],
   "source": [
    "#Intialize list articles_info list\n",
    "articles_info = []\n",
    "for i in links:\n",
    "    #Intialize dictionary\n",
    "    article_dict = {}\n",
    "    #Insert link \"i\" into the dictionary\n",
    "    article_dict[\"link\"] = i\n",
    "    #Pass link into Article() function\n",
    "    art = Article(i)\n",
    "    #Download contents of art object\n",
    "    art.download()\n",
    "    \n",
    "    #Try/except is included because not all articles can be parsed\n",
    "    try:\n",
    "        #If article can be successfully parsed then insert its text, title, publish_date, keywords\n",
    "        #and summary into corresponding keys\n",
    "        art.parse()\n",
    "        article_dict[\"text\"] = art.text\n",
    "        article_dict[\"title\"] = art.title\n",
    "        article_dict[\"date\"] = art.publish_date\n",
    "        art.nlp()\n",
    "        article_dict[\"keywords\"] = art.keywords\n",
    "        article_dict[\"summary\"] = art.summary\n",
    "    except ArticleException:\n",
    "        #If article cannot be parse then insert null values for the following keys:\n",
    "        #\"text\", \"title\", \"date\", \"keywords\", and \"summary\"\n",
    "        article_dict[\"text\"] = np.nan\n",
    "        article_dict[\"title\"] = np.nan\n",
    "        article_dict[\"date\"] = np.nan\n",
    "        article_dict[\"keywords\"] = np.nan\n",
    "        article_dict[\"summary\"] = np.nan\n",
    "        \n",
    "    #Insert dictionary of article info into the articles_info list\n",
    "    articles_info.append(article_dict)\n",
    "#Pass the list of dictionaries into a pandas data frame\n",
    "corpus = pd.DataFrame(articles_info)\n",
    "#Print how long the process took\n",
    "print(\"Script took {:.2f} seconds to complete\".format(time.time() - start))"
   ]
  }
 ],
 "metadata": {
  "kernelspec": {
   "display_name": "learn-env",
   "language": "python",
   "name": "learn-env"
  },
  "language_info": {
   "codemirror_mode": {
    "name": "ipython",
    "version": 3
   },
   "file_extension": ".py",
   "mimetype": "text/x-python",
   "name": "python",
   "nbconvert_exporter": "python",
   "pygments_lexer": "ipython3",
   "version": "3.6.9"
  },
  "toc": {
   "base_numbering": 1,
   "nav_menu": {},
   "number_sections": true,
   "sideBar": true,
   "skip_h1_title": false,
   "title_cell": "Table of Contents",
   "title_sidebar": "Contents",
   "toc_cell": false,
   "toc_position": {},
   "toc_section_display": true,
   "toc_window_display": false
  },
  "varInspector": {
   "cols": {
    "lenName": 16,
    "lenType": 16,
    "lenVar": 40
   },
   "kernels_config": {
    "python": {
     "delete_cmd_postfix": "",
     "delete_cmd_prefix": "del ",
     "library": "var_list.py",
     "varRefreshCmd": "print(var_dic_list())"
    },
    "r": {
     "delete_cmd_postfix": ") ",
     "delete_cmd_prefix": "rm(",
     "library": "var_list.r",
     "varRefreshCmd": "cat(var_dic_list()) "
    }
   },
   "types_to_exclude": [
    "module",
    "function",
    "builtin_function_or_method",
    "instance",
    "_Feature"
   ],
   "window_display": false
  }
 },
 "nbformat": 4,
 "nbformat_minor": 4
}
