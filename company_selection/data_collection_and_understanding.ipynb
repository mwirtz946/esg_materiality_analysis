{
 "cells": [
  {
   "cell_type": "markdown",
   "metadata": {},
   "source": [
    "# Initial Idea"
   ]
  },
  {
   "cell_type": "markdown",
   "metadata": {},
   "source": [
    "First, I will compile a list of companies that have been around and profitable for the longest time. Below will be two lists: (1) Name of corporation and (2) ticker symbol"
   ]
  },
  {
   "cell_type": "code",
   "execution_count": 1,
   "metadata": {
    "ExecuteTime": {
     "end_time": "2021-01-13T19:51:05.108120Z",
     "start_time": "2021-01-13T19:51:05.087269Z"
    }
   },
   "outputs": [],
   "source": [
    "stocks = [\n",
    "    (\"Consolidated Edison\",\"ED\"),\n",
    "    (\"Pfizer\", \"PFE\"),\n",
    "    (\"International Business Machines\", \"IBM\"),\n",
    "    (\"Coca-Cola\", \"KO\"),\n",
    "    (\"Johnson & Johnson\", \"JNJ\"),\n",
    "    (\"The Bank of New York Mellon Corporation\", \"BK\"),\n",
    "    (\"Proctor and Gamble\", \"PG\"),\n",
    "    (\"Sotheby's\", \"BID\"),\n",
    "    (\"Cigna\", \"CI\"),\n",
    "    (\"E.I. DuPont de Nemours & Company\", \"DD\"),\n",
    "    (\"Colgate-Palmolive Company\", \"CL\"),\n",
    "    (\"The Valspar Company\", \"VAL\"),\n",
    "    (\"John Wiley & Sons Inc.\", \"JW-A\"),\n",
    "    (\"General Electric\", \"GE\"),\n",
    "    (\"ExxonMobil\", \"XOM\"),\n",
    "    (\"3M\", \"MMM\")\n",
    "]"
   ]
  },
  {
   "cell_type": "markdown",
   "metadata": {},
   "source": [
    "An issue that I am quickly running into is the availability of stock price data that precedes 1985. Because of this fact, I will have to adjust the analysis. The quality that I am searching for is a resilient culture in a company. With that core quality, the growth potential of a large company with liquidity from years of successful operations should be infinite. "
   ]
  },
  {
   "cell_type": "markdown",
   "metadata": {},
   "source": [
    "In this pivot, I will simply explore some metrics that I can explore that are signals for particularly high corporate resilience"
   ]
  },
  {
   "cell_type": "markdown",
   "metadata": {},
   "source": [
    "# Exploring Core Qualities"
   ]
  },
  {
   "cell_type": "markdown",
   "metadata": {},
   "source": [
    "## Resilience"
   ]
  },
  {
   "cell_type": "code",
   "execution_count": null,
   "metadata": {},
   "outputs": [],
   "source": []
  }
 ],
 "metadata": {
  "kernelspec": {
   "display_name": "learn-env",
   "language": "python",
   "name": "learn-env"
  },
  "language_info": {
   "codemirror_mode": {
    "name": "ipython",
    "version": 3
   },
   "file_extension": ".py",
   "mimetype": "text/x-python",
   "name": "python",
   "nbconvert_exporter": "python",
   "pygments_lexer": "ipython3",
   "version": "3.6.9"
  },
  "toc": {
   "base_numbering": 1,
   "nav_menu": {},
   "number_sections": true,
   "sideBar": true,
   "skip_h1_title": false,
   "title_cell": "Table of Contents",
   "title_sidebar": "Contents",
   "toc_cell": false,
   "toc_position": {},
   "toc_section_display": true,
   "toc_window_display": false
  },
  "varInspector": {
   "cols": {
    "lenName": 16,
    "lenType": 16,
    "lenVar": 40
   },
   "kernels_config": {
    "python": {
     "delete_cmd_postfix": "",
     "delete_cmd_prefix": "del ",
     "library": "var_list.py",
     "varRefreshCmd": "print(var_dic_list())"
    },
    "r": {
     "delete_cmd_postfix": ") ",
     "delete_cmd_prefix": "rm(",
     "library": "var_list.r",
     "varRefreshCmd": "cat(var_dic_list()) "
    }
   },
   "types_to_exclude": [
    "module",
    "function",
    "builtin_function_or_method",
    "instance",
    "_Feature"
   ],
   "window_display": false
  }
 },
 "nbformat": 4,
 "nbformat_minor": 4
}
