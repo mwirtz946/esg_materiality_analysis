{
 "cells": [
  {
   "cell_type": "markdown",
   "metadata": {},
   "source": [
    "# Question: Does the company have ethical corporate governance principles?"
   ]
  },
  {
   "cell_type": "markdown",
   "metadata": {},
   "source": [
    "The quick definition of \"corporate governance\" is \"the rules, practices, and processes by which a company is directed and controlled.\" In less dry terms, issues we look at in the corporate-governance area include the quality and composition of companies' management teams and boards of directors, and how they interact with stakeholders, including investors.\n",
    "\n",
    "One major area to dig into is executive and CEO pay. Are the CEO and other top executives compensated fairly and according to performance measures? Pay plans that reflect actual performance are a positive mark, and egregiously overpaid CEOs are a negative. ESG investors should also frown on outrageous perks enjoyed by executives on the shareholder dime, like private jets and expensive club memberships.\n",
    "\n",
    "ESG investors should also examine each company's board of directors. Is the board diverse, composed of folks who are able to push back against management when necessary? Examine aspects like director tenure -- long tenure can lead to a less diverse, robust board. The purpose of the directors is to be a voice for shareholders, so it's not good to see an entrenched or complicit board that will rubber-stamp every whim of management.\n",
    "\n",
    "It's a good sign when a board of directors has an independent chair. If the CEO also holds the chairperson role, it's much harder for a board to do its job properly. Combining the chairperson and CEO roles can make the leader more like a monarch than a company employee, which is what a CEO actually is.\n",
    "\n",
    "Another point to consider: Does the company have multiple classes of stock, with one or more classes controlled by executives who have supervoting rights? Supervoting rights mean those shares held by management or insiders can have many more votes than those held by regular shareholders; while a normal shareholder has one vote per share, management-controlled supervoting shares might get 10 votes per share. That would indicate that ordinary shareholders have little voice in votes, a shareholder-unfriendly scenario.\n",
    "\n",
    "Companies with a collection of poor corporate-governance policies are red-flagged and possibly disqualified from inclusion in our ESG portfolio."
   ]
  },
  {
   "cell_type": "markdown",
   "metadata": {},
   "source": [
    "# Data Sources"
   ]
  },
  {
   "cell_type": "markdown",
   "metadata": {},
   "source": [
    "**Women % Board Representation**\n",
    "\n",
    "https://2020wob.com/educate2/\n",
    "\n",
    "**CEO Pay Ratio**\n",
    "\n",
    "https://www.salary.com/personal/executive-salaries/"
   ]
  },
  {
   "cell_type": "markdown",
   "metadata": {},
   "source": [
    "# Imports"
   ]
  },
  {
   "cell_type": "code",
   "execution_count": 37,
   "metadata": {
    "ExecuteTime": {
     "end_time": "2021-03-22T16:20:05.710965Z",
     "start_time": "2021-03-22T16:20:05.692821Z"
    }
   },
   "outputs": [],
   "source": [
    "# All necessary imports\n",
    "from bs4 import BeautifulSoup\n",
    "import requests\n",
    "\n",
    "import selenium\n",
    "from selenium import webdriver\n",
    "from selenium.webdriver.common.by import By\n",
    "from selenium.webdriver.chrome.options import Options\n",
    "from selenium.webdriver.common.keys import Keys\n",
    "\n",
    "import pandas as pd\n",
    "pd.set_option(\"display.max_columns\", 50)\n",
    "pd.set_option(\"display.max_rows\", 100)\n",
    "\n",
    "import re\n",
    "import time\n",
    "import pickle\n",
    "\n",
    "import warnings\n",
    "warnings.simplefilter(\"ignore\")"
   ]
  },
  {
   "cell_type": "markdown",
   "metadata": {},
   "source": [
    "# Getting Companies"
   ]
  },
  {
   "cell_type": "code",
   "execution_count": 38,
   "metadata": {
    "ExecuteTime": {
     "end_time": "2021-03-22T16:20:22.062718Z",
     "start_time": "2021-03-22T16:20:22.029633Z"
    }
   },
   "outputs": [],
   "source": [
    "# Load in pickled list of companies and corresponding tickers\n",
    "with open('./generated_data/companies_n_tickers.pickle','rb') as f:\n",
    "    companies_n_tickers = pickle.load(f)"
   ]
  },
  {
   "cell_type": "markdown",
   "metadata": {},
   "source": [
    "# Getting Data on Women's Board Representation"
   ]
  },
  {
   "cell_type": "code",
   "execution_count": 55,
   "metadata": {
    "ExecuteTime": {
     "end_time": "2021-03-22T16:51:24.915286Z",
     "start_time": "2021-03-22T16:51:24.910149Z"
    }
   },
   "outputs": [],
   "source": [
    "'''\n",
    "Because of the likelihood and trouble getting blocked by the site, \n",
    "I used randomized delays to decrease the bot-like nature of the scraping tool.\n",
    "'''\n",
    "delays = [5, 2, 4, 7, 8, 9]\n",
    "delay = np.random.choice(delays)"
   ]
  },
  {
   "cell_type": "code",
   "execution_count": 56,
   "metadata": {
    "ExecuteTime": {
     "end_time": "2021-03-22T16:51:25.350288Z",
     "start_time": "2021-03-22T16:51:25.335414Z"
    }
   },
   "outputs": [],
   "source": [
    "def get_females_on_board(companies):\n",
    "    \n",
    "    # Create empty data frame for scraping data\n",
    "    perc_female_board = pd.DataFrame(columns=['company','percent_female_on_board'])\n",
    "\n",
    "    # Set path to chromedriver\n",
    "    PATH = \"/Users/MichaelWirtz/Desktop/pathfile/chromedriver_2\"\n",
    "    # Define options \n",
    "    options = Options()\n",
    "    # Remove pop up window\n",
    "    options.add_argument(\"--headless\")\n",
    "    # Define driver\n",
    "    driver = webdriver.Chrome(PATH, options=options)\n",
    "    # # Define driver\n",
    "    # driver = webdriver.Chrome(PATH)\n",
    "    driver.set_window_size(1080,800)\n",
    "    # Define url\n",
    "    url= \"https://2020wob.com/educate2/\"\n",
    "    # Get website\n",
    "    driver.get(url)\n",
    "    # Sleep 5 seconds\n",
    "    time.sleep(5)\n",
    "\n",
    "    # Loop through companies    \n",
    "    for a,b in companies:\n",
    "        try:\n",
    "            # Find search bar\n",
    "            search_bar = driver.find_element_by_xpath('//*[@id=\"CName\"]')\n",
    "            # Clear search bar\n",
    "            search_bar.clear()\n",
    "            # Enter company name into search bar\n",
    "            search_bar.send_keys(a)\n",
    "            # Time delay\n",
    "            time.sleep(delay)\n",
    "            try:\n",
    "                # Click company in dropdown\n",
    "                driver.find_element_by_xpath('//*[@id=\"ui-id-1\"]').click()\n",
    "            except:\n",
    "                # Clear search bar\n",
    "                search_bar.clear()\n",
    "                # Enter company name into search bar\n",
    "                search_bar.send_keys(a)\n",
    "                # Define dropdown options of search\n",
    "                dropdown_options = driver.find_element_by_xpath('//*[@id=\"ui-id-1\"]').text\n",
    "                # Check if no options\n",
    "                if dropdown_options == '':\n",
    "                    # Split company into list\n",
    "                    split_company = a.split()\n",
    "                    # Clear search bar\n",
    "                    search_bar.clear()\n",
    "                    # Enter company name into search bar\n",
    "                    search_bar.send_keys(split_company[0])\n",
    "                    # Time delay\n",
    "                    time.sleep(delay)\n",
    "                    # Define dropdown options of search\n",
    "                    dropdown_options = driver.find_element_by_xpath('//*[@id=\"ui-id-1\"]').text\n",
    "                    # Check if single option in dropdown\n",
    "                    if dropdown_options.count('\\n') == 0:\n",
    "                        # Click single dropdown option\n",
    "                        driver.find_element_by_xpath('//*[@id=\"ui-id-1\"]').click()\n",
    "                    # Check if more than one option in dropdown\n",
    "                    elif dropdown_options.count('\\n') > 0:\n",
    "                        # Clear search bar\n",
    "                        search_bar.clear()\n",
    "                        # Enter company name into search bar\n",
    "                        search_bar.send_keys(split_company[0],' ',split_company[1])\n",
    "                        # Time delay\n",
    "                        time.sleep(delay)\n",
    "                        # Define dropdown options of search\n",
    "                        dropdown_options = driver.find_element_by_xpath('//*[@id=\"ui-id-1\"]').text\n",
    "                        # Check if single option in dropdown\n",
    "                        if dropdown_options.count('\\n') == 0:\n",
    "                            # Click single dropdown option\n",
    "                            driver.find_element_by_xpath('//*[@id=\"ui-id-1\"]').click()\n",
    "                        else:\n",
    "                            pass\n",
    "            # Time delay\n",
    "            time.sleep(delay)\n",
    "            # Enter\n",
    "            search_bar.send_keys(Keys.ENTER)\n",
    "            # Time delay\n",
    "            time.sleep(delay)\n",
    "            # Get percent women\n",
    "            percent_women = int((driver.find_element_by_xpath('//*[@id=\"genderdiversityindex\"]/div/div/table/tbody/tr/td[5]').text).replace('%','')) / 100\n",
    "            # Time delay\n",
    "            time.sleep(delay)\n",
    "\n",
    "            # Append values to data frame \n",
    "            perc_female_board = perc_female_board.append({'company':a,\n",
    "                                                          'percent_female_on_board':percent_women}, ignore_index=True)\n",
    "\n",
    "        except:\n",
    "            # Append null value to data frame\n",
    "            perc_female_board = perc_female_board.append({'company':a,\n",
    "                                                          'percent_female_on_board':0}, ignore_index=True)\n",
    "    # Sort data frame by value descending\n",
    "    perc_female_board = perc_female_board.sort_values(by='percent_female_on_board', ascending=False)\n",
    "\n",
    "    return perc_female_board\n"
   ]
  },
  {
   "cell_type": "code",
   "execution_count": 57,
   "metadata": {
    "ExecuteTime": {
     "end_time": "2021-03-22T22:05:49.291261Z",
     "start_time": "2021-03-22T16:51:26.148684Z"
    }
   },
   "outputs": [],
   "source": [
    "# Define fem_board_df using function\n",
    "fem_board_df = get_females_on_board(companies_n_tickers)"
   ]
  },
  {
   "cell_type": "code",
   "execution_count": 58,
   "metadata": {
    "ExecuteTime": {
     "end_time": "2021-03-22T22:05:51.055346Z",
     "start_time": "2021-03-22T22:05:50.894048Z"
    },
    "scrolled": true
   },
   "outputs": [
    {
     "data": {
      "text/html": [
       "<div>\n",
       "<style scoped>\n",
       "    .dataframe tbody tr th:only-of-type {\n",
       "        vertical-align: middle;\n",
       "    }\n",
       "\n",
       "    .dataframe tbody tr th {\n",
       "        vertical-align: top;\n",
       "    }\n",
       "\n",
       "    .dataframe thead th {\n",
       "        text-align: right;\n",
       "    }\n",
       "</style>\n",
       "<table border=\"1\" class=\"dataframe\">\n",
       "  <thead>\n",
       "    <tr style=\"text-align: right;\">\n",
       "      <th></th>\n",
       "      <th>company</th>\n",
       "      <th>percent_female_on_board</th>\n",
       "    </tr>\n",
       "  </thead>\n",
       "  <tbody>\n",
       "    <tr>\n",
       "      <th>344</th>\n",
       "      <td>Omnicom Group</td>\n",
       "      <td>0.67</td>\n",
       "    </tr>\n",
       "    <tr>\n",
       "      <th>64</th>\n",
       "      <td>Best Buy Co. Inc.</td>\n",
       "      <td>0.60</td>\n",
       "    </tr>\n",
       "    <tr>\n",
       "      <th>444</th>\n",
       "      <td>Ulta Beauty</td>\n",
       "      <td>0.54</td>\n",
       "    </tr>\n",
       "    <tr>\n",
       "      <th>205</th>\n",
       "      <td>General Motors</td>\n",
       "      <td>0.54</td>\n",
       "    </tr>\n",
       "    <tr>\n",
       "      <th>461</th>\n",
       "      <td>ViacomCBS</td>\n",
       "      <td>0.54</td>\n",
       "    </tr>\n",
       "    <tr>\n",
       "      <th>...</th>\n",
       "      <td>...</td>\n",
       "      <td>...</td>\n",
       "    </tr>\n",
       "    <tr>\n",
       "      <th>42</th>\n",
       "      <td>APA Corporation</td>\n",
       "      <td>0.00</td>\n",
       "    </tr>\n",
       "    <tr>\n",
       "      <th>41</th>\n",
       "      <td>A.O. Smith Corp</td>\n",
       "      <td>0.00</td>\n",
       "    </tr>\n",
       "    <tr>\n",
       "      <th>460</th>\n",
       "      <td>VF Corporation</td>\n",
       "      <td>0.00</td>\n",
       "    </tr>\n",
       "    <tr>\n",
       "      <th>462</th>\n",
       "      <td>Viatris</td>\n",
       "      <td>0.00</td>\n",
       "    </tr>\n",
       "    <tr>\n",
       "      <th>130</th>\n",
       "      <td>D. R. Horton</td>\n",
       "      <td>0.00</td>\n",
       "    </tr>\n",
       "  </tbody>\n",
       "</table>\n",
       "<p>495 rows × 2 columns</p>\n",
       "</div>"
      ],
      "text/plain": [
       "               company  percent_female_on_board\n",
       "344      Omnicom Group                     0.67\n",
       "64   Best Buy Co. Inc.                     0.60\n",
       "444        Ulta Beauty                     0.54\n",
       "205     General Motors                     0.54\n",
       "461          ViacomCBS                     0.54\n",
       "..                 ...                      ...\n",
       "42     APA Corporation                     0.00\n",
       "41     A.O. Smith Corp                     0.00\n",
       "460     VF Corporation                     0.00\n",
       "462            Viatris                     0.00\n",
       "130       D. R. Horton                     0.00\n",
       "\n",
       "[495 rows x 2 columns]"
      ]
     },
     "execution_count": 58,
     "metadata": {},
     "output_type": "execute_result"
    }
   ],
   "source": [
    "# Check fem_board_df\n",
    "fem_board_df"
   ]
  },
  {
   "cell_type": "markdown",
   "metadata": {},
   "source": [
    "# CEO Pay Ratio"
   ]
  },
  {
   "cell_type": "code",
   "execution_count": 59,
   "metadata": {
    "ExecuteTime": {
     "end_time": "2021-03-22T22:05:51.186206Z",
     "start_time": "2021-03-22T22:05:51.080752Z"
    }
   },
   "outputs": [],
   "source": [
    "def get_ceo_pay_ratio(companies):\n",
    "    \n",
    "    ceo_pay_ratios = pd.DataFrame(columns=['company','ceo_pay_ratio'])\n",
    "    \n",
    "    # Set path to chromedriver\n",
    "    PATH = \"/Users/MichaelWirtz/Desktop/pathfile/chromedriver_2\"\n",
    "    # Define options \n",
    "    options = Options()\n",
    "    # Remove pop up window\n",
    "    options.add_argument(\"--headless\")\n",
    "    # Define driver\n",
    "    driver = webdriver.Chrome(PATH, options=options)\n",
    "    # Window size\n",
    "    driver.set_window_size(1080,800)\n",
    "    # Define url\n",
    "    url= \"https://www1.salary.com/APPLE-INC-Executive-Salaries.html\"\n",
    "    # Get website\n",
    "    driver.get(url)\n",
    "    # Time delay\n",
    "    time.sleep(5)\n",
    "    \n",
    "    for a,b in companies:\n",
    "        try:\n",
    "            # Find search bar\n",
    "            search_bar = driver.find_element_by_xpath('//*[@id=\"searchform\"]/div/input')\n",
    "            # Time delay\n",
    "            time.sleep(delay)\n",
    "            # Clear search bar\n",
    "            search_bar.clear()\n",
    "            # Enter company name into search bar\n",
    "            search_bar.send_keys(a)\n",
    "            # Time delay\n",
    "            time.sleep(delay)\n",
    "            # Search company\n",
    "            search_bar.send_keys(Keys.ENTER)\n",
    "            # Time delay\n",
    "            time.sleep(delay)\n",
    "            # Click on company\n",
    "            driver.find_element_by_xpath('//*[@id=\"top\"]/div[3]/div/div[1]/div[4]/table/tbody/tr[1]/td/span/a').click()\n",
    "            # Time delay\n",
    "            time.sleep(delay)\n",
    "            # Get ceo pay ratio\n",
    "            pay_ratio = int((driver.find_element_by_xpath('//*[@id=\"top\"]/div[3]/div/div[1]/div[17]/table/tbody/tr/td[4]/span').text).split(':')[0])\n",
    "            # Time delay\n",
    "            time.sleep(delay)\n",
    "\n",
    "            # Append value to data frame\n",
    "            ceo_pay_ratios = ceo_pay_ratios.append({'company': a,\n",
    "                                                    'ceo_pay_ratio': pay_ratio}, ignore_index=True)\n",
    "            \n",
    "        except:\n",
    "            # Define url\n",
    "            url= \"https://www1.salary.com/APPLE-INC-Executive-Salaries.html\"\n",
    "            # Get website\n",
    "            driver.get(url)\n",
    "            # Time delay\n",
    "            time.sleep(delay)\n",
    "            # Append value to data frame\n",
    "            ceo_pay_ratios = ceo_pay_ratios.append({'company': a,\n",
    "                                                    'ceo_pay_ratio': 10000}, ignore_index=True)\n",
    "\n",
    "    ceo_pay_ratios = ceo_pay_ratios.sort_values(by='ceo_pay_ratio')\n",
    "    \n",
    "    return ceo_pay_ratios\n",
    "    "
   ]
  },
  {
   "cell_type": "code",
   "execution_count": 60,
   "metadata": {
    "ExecuteTime": {
     "end_time": "2021-03-23T04:04:13.514077Z",
     "start_time": "2021-03-22T22:05:51.230613Z"
    }
   },
   "outputs": [],
   "source": [
    "# Define ceo_pay_ratios using function\n",
    "ceo_pay_ratios = get_ceo_pay_ratio(companies_n_tickers)"
   ]
  },
  {
   "cell_type": "code",
   "execution_count": 61,
   "metadata": {
    "ExecuteTime": {
     "end_time": "2021-03-23T04:04:15.034611Z",
     "start_time": "2021-03-23T04:04:14.956394Z"
    }
   },
   "outputs": [
    {
     "data": {
      "text/html": [
       "<div>\n",
       "<style scoped>\n",
       "    .dataframe tbody tr th:only-of-type {\n",
       "        vertical-align: middle;\n",
       "    }\n",
       "\n",
       "    .dataframe tbody tr th {\n",
       "        vertical-align: top;\n",
       "    }\n",
       "\n",
       "    .dataframe thead th {\n",
       "        text-align: right;\n",
       "    }\n",
       "</style>\n",
       "<table border=\"1\" class=\"dataframe\">\n",
       "  <thead>\n",
       "    <tr style=\"text-align: right;\">\n",
       "      <th></th>\n",
       "      <th>company</th>\n",
       "      <th>ceo_pay_ratio</th>\n",
       "    </tr>\n",
       "  </thead>\n",
       "  <tbody>\n",
       "    <tr>\n",
       "      <th>440</th>\n",
       "      <td>Twitter, Inc.</td>\n",
       "      <td>0</td>\n",
       "    </tr>\n",
       "    <tr>\n",
       "      <th>429</th>\n",
       "      <td>Tesla, Inc.</td>\n",
       "      <td>0</td>\n",
       "    </tr>\n",
       "    <tr>\n",
       "      <th>170</th>\n",
       "      <td>Etsy</td>\n",
       "      <td>6</td>\n",
       "    </tr>\n",
       "    <tr>\n",
       "      <th>63</th>\n",
       "      <td>Berkshire Hathaway</td>\n",
       "      <td>6</td>\n",
       "    </tr>\n",
       "    <tr>\n",
       "      <th>47</th>\n",
       "      <td>Arista Networks</td>\n",
       "      <td>9</td>\n",
       "    </tr>\n",
       "    <tr>\n",
       "      <th>...</th>\n",
       "      <td>...</td>\n",
       "      <td>...</td>\n",
       "    </tr>\n",
       "    <tr>\n",
       "      <th>346</th>\n",
       "      <td>Oracle Corp.</td>\n",
       "      <td>10000</td>\n",
       "    </tr>\n",
       "    <tr>\n",
       "      <th>347</th>\n",
       "      <td>Otis Worldwide</td>\n",
       "      <td>10000</td>\n",
       "    </tr>\n",
       "    <tr>\n",
       "      <th>348</th>\n",
       "      <td>Paccar</td>\n",
       "      <td>10000</td>\n",
       "    </tr>\n",
       "    <tr>\n",
       "      <th>335</th>\n",
       "      <td>Norwegian Cruise Line Holdings</td>\n",
       "      <td>10000</td>\n",
       "    </tr>\n",
       "    <tr>\n",
       "      <th>219</th>\n",
       "      <td>The Hershey Company</td>\n",
       "      <td>10000</td>\n",
       "    </tr>\n",
       "  </tbody>\n",
       "</table>\n",
       "<p>495 rows × 2 columns</p>\n",
       "</div>"
      ],
      "text/plain": [
       "                            company ceo_pay_ratio\n",
       "440                   Twitter, Inc.             0\n",
       "429                     Tesla, Inc.             0\n",
       "170                            Etsy             6\n",
       "63               Berkshire Hathaway             6\n",
       "47                  Arista Networks             9\n",
       "..                              ...           ...\n",
       "346                    Oracle Corp.         10000\n",
       "347                  Otis Worldwide         10000\n",
       "348                          Paccar         10000\n",
       "335  Norwegian Cruise Line Holdings         10000\n",
       "219             The Hershey Company         10000\n",
       "\n",
       "[495 rows x 2 columns]"
      ]
     },
     "execution_count": 61,
     "metadata": {},
     "output_type": "execute_result"
    }
   ],
   "source": [
    "# Check ceo_pay_ratios\n",
    "ceo_pay_ratios"
   ]
  }
 ],
 "metadata": {
  "kernelspec": {
   "display_name": "learn-env",
   "language": "python",
   "name": "learn-env"
  },
  "language_info": {
   "codemirror_mode": {
    "name": "ipython",
    "version": 3
   },
   "file_extension": ".py",
   "mimetype": "text/x-python",
   "name": "python",
   "nbconvert_exporter": "python",
   "pygments_lexer": "ipython3",
   "version": "3.6.9"
  },
  "toc": {
   "base_numbering": 1,
   "nav_menu": {},
   "number_sections": true,
   "sideBar": true,
   "skip_h1_title": false,
   "title_cell": "Table of Contents",
   "title_sidebar": "Contents",
   "toc_cell": false,
   "toc_position": {},
   "toc_section_display": true,
   "toc_window_display": false
  },
  "varInspector": {
   "cols": {
    "lenName": 16,
    "lenType": 16,
    "lenVar": 40
   },
   "kernels_config": {
    "python": {
     "delete_cmd_postfix": "",
     "delete_cmd_prefix": "del ",
     "library": "var_list.py",
     "varRefreshCmd": "print(var_dic_list())"
    },
    "r": {
     "delete_cmd_postfix": ") ",
     "delete_cmd_prefix": "rm(",
     "library": "var_list.r",
     "varRefreshCmd": "cat(var_dic_list()) "
    }
   },
   "types_to_exclude": [
    "module",
    "function",
    "builtin_function_or_method",
    "instance",
    "_Feature"
   ],
   "window_display": false
  }
 },
 "nbformat": 4,
 "nbformat_minor": 4
}
