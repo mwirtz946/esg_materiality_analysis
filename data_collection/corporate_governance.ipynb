{
 "cells": [
  {
   "cell_type": "markdown",
   "metadata": {},
   "source": [
    "# Question: Does the company have ethical corporate governance principles?"
   ]
  },
  {
   "cell_type": "markdown",
   "metadata": {},
   "source": [
    "The quick definition of \"corporate governance\" is \"the rules, practices, and processes by which a company is directed and controlled.\" In less dry terms, issues we look at in the corporate-governance area include the quality and composition of companies' management teams and boards of directors, and how they interact with stakeholders, including investors.\n",
    "\n",
    "One major area to dig into is executive and CEO pay. Are the CEO and other top executives compensated fairly and according to performance measures? Pay plans that reflect actual performance are a positive mark, and egregiously overpaid CEOs are a negative. ESG investors should also frown on outrageous perks enjoyed by executives on the shareholder dime, like private jets and expensive club memberships.\n",
    "\n",
    "ESG investors should also examine each company's board of directors. Is the board diverse, composed of folks who are able to push back against management when necessary? Examine aspects like director tenure -- long tenure can lead to a less diverse, robust board. The purpose of the directors is to be a voice for shareholders, so it's not good to see an entrenched or complicit board that will rubber-stamp every whim of management.\n",
    "\n",
    "It's a good sign when a board of directors has an independent chair. If the CEO also holds the chairperson role, it's much harder for a board to do its job properly. Combining the chairperson and CEO roles can make the leader more like a monarch than a company employee, which is what a CEO actually is.\n",
    "\n",
    "Another point to consider: Does the company have multiple classes of stock, with one or more classes controlled by executives who have supervoting rights? Supervoting rights mean those shares held by management or insiders can have many more votes than those held by regular shareholders; while a normal shareholder has one vote per share, management-controlled supervoting shares might get 10 votes per share. That would indicate that ordinary shareholders have little voice in votes, a shareholder-unfriendly scenario.\n",
    "\n",
    "Companies with a collection of poor corporate-governance policies are red-flagged and possibly disqualified from inclusion in our ESG portfolio."
   ]
  },
  {
   "cell_type": "markdown",
   "metadata": {},
   "source": [
    "# Data Sources"
   ]
  },
  {
   "cell_type": "markdown",
   "metadata": {},
   "source": [
    "**Women % Board Representation**\n",
    "\n",
    "https://2020wob.com/educate2/"
   ]
  },
  {
   "cell_type": "markdown",
   "metadata": {},
   "source": [
    "# Imports"
   ]
  },
  {
   "cell_type": "code",
   "execution_count": 1,
   "metadata": {
    "ExecuteTime": {
     "end_time": "2021-03-19T17:25:38.930080Z",
     "start_time": "2021-03-19T17:25:37.626423Z"
    }
   },
   "outputs": [],
   "source": [
    "# All necessary imports\n",
    "from bs4 import BeautifulSoup\n",
    "import requests\n",
    "\n",
    "import selenium\n",
    "from selenium import webdriver\n",
    "from selenium.webdriver.common.by import By\n",
    "from selenium.webdriver.chrome.options import Options\n",
    "from selenium.webdriver.common.keys import Keys\n",
    "\n",
    "import numpy as np\n",
    "import pandas as pd\n",
    "pd.set_option(\"display.max_columns\", 50)\n",
    "pd.set_option(\"display.max_rows\", 100)\n",
    "\n",
    "import re\n",
    "import time\n",
    "\n",
    "import warnings\n",
    "warnings.simplefilter(\"ignore\")"
   ]
  },
  {
   "cell_type": "markdown",
   "metadata": {},
   "source": [
    "# Getting Companies"
   ]
  },
  {
   "cell_type": "code",
   "execution_count": 43,
   "metadata": {
    "ExecuteTime": {
     "end_time": "2021-03-19T17:57:48.802170Z",
     "start_time": "2021-03-19T17:57:47.370714Z"
    }
   },
   "outputs": [],
   "source": [
    "# Getting site\n",
    "page = requests.get('https://en.wikipedia.org/wiki/List_of_S%26P_500_companies')\n",
    "soup = BeautifulSoup(page.content, 'html.parser')\n",
    "\n",
    "# Finding table\n",
    "table = soup.find(id='constituents').tbody\n",
    "\n",
    "# Getting table rows\n",
    "table_rows = table.find_all('tr')\n",
    "\n",
    "# Finding company in row\n",
    "companies = []\n",
    "for row in table_rows[1:70]:\n",
    "    elements = row.find_all('td')\n",
    "    company = elements[1].text\n",
    "    companies.append(company)\n",
    "\n",
    "# Cleaning company rows\n",
    "cleaned_companies = []\n",
    "for company in companies: \n",
    "    if company == 'Alphabet Inc. (Class A)':\n",
    "        pass\n",
    "    elif '(Class B)' in company:\n",
    "        company = company.replace('(Class B)','')\n",
    "        cleaned_companies.append(company)\n",
    "    elif '(Class C)' in company:\n",
    "        company = company.replace('(Class C)','')\n",
    "        cleaned_companies.append(company)\n",
    "    else:\n",
    "        cleaned_companies.append(company)\n",
    "\n",
    "# Defining final companies\n",
    "companies = cleaned_companies"
   ]
  },
  {
   "cell_type": "markdown",
   "metadata": {},
   "source": [
    "# Getting Data on Women's Board Representation"
   ]
  },
  {
   "cell_type": "code",
   "execution_count": 39,
   "metadata": {
    "ExecuteTime": {
     "end_time": "2021-03-19T17:45:46.345053Z",
     "start_time": "2021-03-19T17:45:46.340132Z"
    }
   },
   "outputs": [],
   "source": [
    "companies = ['Apple Inc','Microsoft','Facebook','Tesla']"
   ]
  },
  {
   "cell_type": "code",
   "execution_count": 40,
   "metadata": {
    "ExecuteTime": {
     "end_time": "2021-03-19T17:45:52.333729Z",
     "start_time": "2021-03-19T17:45:52.327372Z"
    }
   },
   "outputs": [],
   "source": [
    "'''\n",
    "Because of the likelihood and trouble getting blocked by Indeed and \n",
    "Comparably, I used randomized delays to decrease the bot-like nature\n",
    "of the scraping tool.\n",
    "'''\n",
    "delays = [5, 2, 4, 7, 8, 9]\n",
    "delay = np.random.choice(delays)"
   ]
  },
  {
   "cell_type": "code",
   "execution_count": 41,
   "metadata": {
    "ExecuteTime": {
     "end_time": "2021-03-19T17:47:20.197625Z",
     "start_time": "2021-03-19T17:46:01.554760Z"
    }
   },
   "outputs": [],
   "source": [
    "perc_female_board = pd.DataFrame(columns=['company','percent_female_on_board'])\n",
    "\n",
    "# Set path to chromedriver\n",
    "PATH = \"/Users/MichaelWirtz/Desktop/pathfile/chromedriver_2\"\n",
    "# Define options \n",
    "options = Options()\n",
    "# Remove pop up window\n",
    "options.add_argument(\"--headless\")\n",
    "# Define driver\n",
    "driver = webdriver.Chrome(PATH, options=options)\n",
    "# # Define driver\n",
    "# driver = webdriver.Chrome(PATH)\n",
    "driver.set_window_size(1080,800)\n",
    "# Define url\n",
    "url= \"https://2020wob.com/educate2/\"\n",
    "# Get website\n",
    "driver.get(url)\n",
    "time.sleep(5)\n",
    "\n",
    "for company in companies:\n",
    "    # Find search bar\n",
    "    search_bar = driver.find_element_by_xpath('//*[@id=\"CName\"]')\n",
    "    # Time delay\n",
    "    time.sleep(delay)\n",
    "    # Clear search bar\n",
    "    search_bar.clear()\n",
    "    # Time delay\n",
    "    time.sleep(delay)\n",
    "    # Enter company name into search bar\n",
    "    search_bar.send_keys(company)\n",
    "    # Time delay\n",
    "    time.sleep(delay)\n",
    "    # Click company in dropdown\n",
    "    driver.find_element_by_xpath('//*[@id=\"ui-id-1\"]').click()\n",
    "    # Time delay\n",
    "    time.sleep(delay)\n",
    "    # Enter\n",
    "    search_bar.send_keys(Keys.ENTER)\n",
    "    # Time delay\n",
    "    time.sleep(delay)\n",
    "    # Get percent women\n",
    "    percent_women = int((driver.find_element_by_xpath('//*[@id=\"genderdiversityindex\"]/div/div/table/tbody/tr/td[5]').text).replace('%','')) / 100\n",
    "    # Time delay\n",
    "    time.sleep(delay)\n",
    "    \n",
    "    \n",
    "    perc_female_board = perc_female_board.append({'company':company,\n",
    "                                                  'percent_female_on_board':percent_women}, ignore_index=True)"
   ]
  },
  {
   "cell_type": "code",
   "execution_count": 42,
   "metadata": {
    "ExecuteTime": {
     "end_time": "2021-03-19T17:47:36.557254Z",
     "start_time": "2021-03-19T17:47:36.542022Z"
    }
   },
   "outputs": [
    {
     "data": {
      "text/html": [
       "<div>\n",
       "<style scoped>\n",
       "    .dataframe tbody tr th:only-of-type {\n",
       "        vertical-align: middle;\n",
       "    }\n",
       "\n",
       "    .dataframe tbody tr th {\n",
       "        vertical-align: top;\n",
       "    }\n",
       "\n",
       "    .dataframe thead th {\n",
       "        text-align: right;\n",
       "    }\n",
       "</style>\n",
       "<table border=\"1\" class=\"dataframe\">\n",
       "  <thead>\n",
       "    <tr style=\"text-align: right;\">\n",
       "      <th></th>\n",
       "      <th>company</th>\n",
       "      <th>percent_female_on_board</th>\n",
       "    </tr>\n",
       "  </thead>\n",
       "  <tbody>\n",
       "    <tr>\n",
       "      <th>0</th>\n",
       "      <td>Apple Inc</td>\n",
       "      <td>0.29</td>\n",
       "    </tr>\n",
       "    <tr>\n",
       "      <th>1</th>\n",
       "      <td>Microsoft</td>\n",
       "      <td>0.42</td>\n",
       "    </tr>\n",
       "    <tr>\n",
       "      <th>2</th>\n",
       "      <td>Facebook</td>\n",
       "      <td>0.44</td>\n",
       "    </tr>\n",
       "    <tr>\n",
       "      <th>3</th>\n",
       "      <td>Tesla</td>\n",
       "      <td>0.20</td>\n",
       "    </tr>\n",
       "  </tbody>\n",
       "</table>\n",
       "</div>"
      ],
      "text/plain": [
       "     company  percent_female_on_board\n",
       "0  Apple Inc                     0.29\n",
       "1  Microsoft                     0.42\n",
       "2   Facebook                     0.44\n",
       "3      Tesla                     0.20"
      ]
     },
     "execution_count": 42,
     "metadata": {},
     "output_type": "execute_result"
    }
   ],
   "source": [
    "perc_female_board"
   ]
  },
  {
   "cell_type": "code",
   "execution_count": null,
   "metadata": {},
   "outputs": [],
   "source": []
  }
 ],
 "metadata": {
  "kernelspec": {
   "display_name": "learn-env",
   "language": "python",
   "name": "learn-env"
  },
  "language_info": {
   "codemirror_mode": {
    "name": "ipython",
    "version": 3
   },
   "file_extension": ".py",
   "mimetype": "text/x-python",
   "name": "python",
   "nbconvert_exporter": "python",
   "pygments_lexer": "ipython3",
   "version": "3.6.9"
  },
  "toc": {
   "base_numbering": 1,
   "nav_menu": {},
   "number_sections": true,
   "sideBar": true,
   "skip_h1_title": false,
   "title_cell": "Table of Contents",
   "title_sidebar": "Contents",
   "toc_cell": false,
   "toc_position": {},
   "toc_section_display": true,
   "toc_window_display": false
  },
  "varInspector": {
   "cols": {
    "lenName": 16,
    "lenType": 16,
    "lenVar": 40
   },
   "kernels_config": {
    "python": {
     "delete_cmd_postfix": "",
     "delete_cmd_prefix": "del ",
     "library": "var_list.py",
     "varRefreshCmd": "print(var_dic_list())"
    },
    "r": {
     "delete_cmd_postfix": ") ",
     "delete_cmd_prefix": "rm(",
     "library": "var_list.r",
     "varRefreshCmd": "cat(var_dic_list()) "
    }
   },
   "types_to_exclude": [
    "module",
    "function",
    "builtin_function_or_method",
    "instance",
    "_Feature"
   ],
   "window_display": false
  }
 },
 "nbformat": 4,
 "nbformat_minor": 4
}
