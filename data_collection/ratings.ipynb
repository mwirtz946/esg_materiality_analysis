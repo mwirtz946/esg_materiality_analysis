{
 "cells": [
  {
   "cell_type": "markdown",
   "metadata": {},
   "source": [
    "# Imports"
   ]
  },
  {
   "cell_type": "code",
   "execution_count": 1,
   "metadata": {
    "ExecuteTime": {
     "end_time": "2021-03-22T17:51:19.296471Z",
     "start_time": "2021-03-22T17:51:17.396827Z"
    }
   },
   "outputs": [],
   "source": [
    "# All necessary imports\n",
    "from bs4 import BeautifulSoup\n",
    "import selenium\n",
    "from selenium import webdriver\n",
    "from selenium.webdriver.common.by import By\n",
    "from selenium.webdriver.support.ui import WebDriverWait\n",
    "from selenium.webdriver.support import expected_conditions as EC\n",
    "from selenium.webdriver.chrome.options import Options\n",
    "from selenium.webdriver.common.keys import Keys\n",
    "from selenium.webdriver.common.action_chains import ActionChains\n",
    "import time\n",
    "import requests\n",
    "import pandas as pd\n",
    "import re\n",
    "import pickle"
   ]
  },
  {
   "cell_type": "markdown",
   "metadata": {},
   "source": [
    "# Getting Companies"
   ]
  },
  {
   "cell_type": "code",
   "execution_count": 2,
   "metadata": {
    "ExecuteTime": {
     "end_time": "2021-03-22T17:51:21.041875Z",
     "start_time": "2021-03-22T17:51:21.034640Z"
    }
   },
   "outputs": [],
   "source": [
    "# Load in pickled list of companies and corresponding tickers\n",
    "with open('./generated_data/companies_n_tickers.pickle','rb') as f:\n",
    "    companies_n_tickers = pickle.load(f)"
   ]
  },
  {
   "cell_type": "markdown",
   "metadata": {},
   "source": [
    "# Scraping Ratings"
   ]
  },
  {
   "cell_type": "markdown",
   "metadata": {},
   "source": [
    "## Sustainalytics"
   ]
  },
  {
   "cell_type": "code",
   "execution_count": 10,
   "metadata": {
    "ExecuteTime": {
     "end_time": "2021-03-22T20:46:11.115618Z",
     "start_time": "2021-03-22T20:46:10.972648Z"
    }
   },
   "outputs": [],
   "source": [
    "def get_sustainalytics_ratings(companies):\n",
    "    \n",
    "    # Creating dataframe for ratings data\n",
    "    sustainalytics_ratings = pd.DataFrame(columns = ['company','sustainalytics_risk_rating'])\n",
    "    \n",
    "    # Set path to chromedriver\n",
    "    PATH = \"/Users/MichaelWirtz/Desktop/pathfile/chromedriver_2\"\n",
    "    # Define options \n",
    "    options = Options()\n",
    "    # Remove pop up window\n",
    "    options.add_argument(\"--headless\")\n",
    "    # Define driver\n",
    "    driver = webdriver.Chrome(PATH, options=options)\n",
    "    # # Define driver\n",
    "    # driver = webdriver.Chrome(PATH)\n",
    "    # Define url\n",
    "    url= \"https://www.sustainalytics.com/esg-ratings/\"\n",
    "    # Maximize window\n",
    "    driver.maximize_window()\n",
    "    # Get website\n",
    "    driver.get(url)\n",
    "    \n",
    "    for company,ticker in companies:\n",
    "        try:\n",
    "            # Find search bar\n",
    "            search_bar = driver.find_element_by_id(\"searchInput\")\n",
    "            # Sleep for 1 seconds\n",
    "            time.sleep(1)\n",
    "            # Clear search bar\n",
    "            search_bar.clear()\n",
    "            # Enter ticker into search bar\n",
    "            search_bar.send_keys(ticker)\n",
    "            # Search ticker\n",
    "            search_bar.send_keys(Keys.ENTER)\n",
    "            # Sleep for 3 seconds\n",
    "            time.sleep(3)\n",
    "            # Find company in options list\n",
    "            search_popup = driver.find_element_by_class_name(\"companyName\")\n",
    "            # Sleep for 3 seconds\n",
    "            time.sleep(3)\n",
    "            # Click company for ratings\n",
    "            search_popup.click()\n",
    "\n",
    "            # Getting page content\n",
    "            content = driver.page_source.encode('utf-8').strip()\n",
    "            # Getting page content in html\n",
    "            soup = BeautifulSoup(content,\"html.parser\")\n",
    "            # Getting company details\n",
    "            company_details = soup.find(class_=\"row company-details d-flex\")\n",
    "            # Getting risk ratings\n",
    "            risk_rating = company_details.find(class_=\"col-xs-6 risk-rating-score\").text\n",
    "            # Getting risk category\n",
    "            risk_category = company_details.find(class_=\"col-xs-6 risk-rating-assessment\").text\n",
    "            # Getting industry group position\n",
    "            industry_group_position = (int(company_details.find(class_=\"industry-group-position\").text) / int(company_details.find(class_=\"industry-group-positions-total\").text)) * 100\n",
    "            # Getting overall rank\n",
    "            overall_rank = (int(company_details.find(class_=\"universe-position\").text) / int(company_details.find(class_=\"universe-positions-total\").text)) * 100\n",
    "            # Appending new ratings to dataframe\n",
    "            sustainalytics_ratings = sustainalytics_ratings.append({'company': company,\n",
    "                                                                    'sustainalytics_risk_rating': risk_rating}, ignore_index=True)\n",
    "            # Sleep for 1 seconds\n",
    "            time.sleep(1)\n",
    "            # Go back to previous page\n",
    "            driver.back()\n",
    "\n",
    "            # Sleep for 2 seconds\n",
    "            time.sleep(2)\n",
    "\n",
    "        except:\n",
    "            sustainalytics_ratings = sustainalytics_ratings.append({'company': company,\n",
    "                                                                    'sustainalytics_risk_rating': 0}, ignore_index=True)\n",
    "    \n",
    "    return sustainalytics_ratings"
   ]
  },
  {
   "cell_type": "code",
   "execution_count": 11,
   "metadata": {
    "ExecuteTime": {
     "end_time": "2021-03-22T22:12:28.303118Z",
     "start_time": "2021-03-22T20:46:11.441424Z"
    },
    "scrolled": true
   },
   "outputs": [],
   "source": [
    "sustainalytics_ratings = get_sustainalytics_ratings(companies_n_tickers)"
   ]
  },
  {
   "cell_type": "code",
   "execution_count": 12,
   "metadata": {
    "ExecuteTime": {
     "end_time": "2021-03-22T22:12:30.566009Z",
     "start_time": "2021-03-22T22:12:30.172456Z"
    }
   },
   "outputs": [
    {
     "data": {
      "text/html": [
       "<div>\n",
       "<style scoped>\n",
       "    .dataframe tbody tr th:only-of-type {\n",
       "        vertical-align: middle;\n",
       "    }\n",
       "\n",
       "    .dataframe tbody tr th {\n",
       "        vertical-align: top;\n",
       "    }\n",
       "\n",
       "    .dataframe thead th {\n",
       "        text-align: right;\n",
       "    }\n",
       "</style>\n",
       "<table border=\"1\" class=\"dataframe\">\n",
       "  <thead>\n",
       "    <tr style=\"text-align: right;\">\n",
       "      <th></th>\n",
       "      <th>company</th>\n",
       "      <th>sustainalytics_risk_rating</th>\n",
       "    </tr>\n",
       "  </thead>\n",
       "  <tbody>\n",
       "    <tr>\n",
       "      <th>0</th>\n",
       "      <td>3M Company</td>\n",
       "      <td>35.2</td>\n",
       "    </tr>\n",
       "    <tr>\n",
       "      <th>1</th>\n",
       "      <td>Abbott Laboratories</td>\n",
       "      <td>29.8</td>\n",
       "    </tr>\n",
       "    <tr>\n",
       "      <th>2</th>\n",
       "      <td>AbbVie Inc.</td>\n",
       "      <td>29.1</td>\n",
       "    </tr>\n",
       "    <tr>\n",
       "      <th>3</th>\n",
       "      <td>Abiomed</td>\n",
       "      <td>32.6</td>\n",
       "    </tr>\n",
       "    <tr>\n",
       "      <th>4</th>\n",
       "      <td>Accenture</td>\n",
       "      <td>11.3</td>\n",
       "    </tr>\n",
       "    <tr>\n",
       "      <th>...</th>\n",
       "      <td>...</td>\n",
       "      <td>...</td>\n",
       "    </tr>\n",
       "    <tr>\n",
       "      <th>490</th>\n",
       "      <td>Yum! Brands Inc</td>\n",
       "      <td>0</td>\n",
       "    </tr>\n",
       "    <tr>\n",
       "      <th>491</th>\n",
       "      <td>Zebra Technologies</td>\n",
       "      <td>0</td>\n",
       "    </tr>\n",
       "    <tr>\n",
       "      <th>492</th>\n",
       "      <td>Zimmer Biomet</td>\n",
       "      <td>0</td>\n",
       "    </tr>\n",
       "    <tr>\n",
       "      <th>493</th>\n",
       "      <td>Zions Bancorp</td>\n",
       "      <td>0</td>\n",
       "    </tr>\n",
       "    <tr>\n",
       "      <th>494</th>\n",
       "      <td>Zoetis</td>\n",
       "      <td>0</td>\n",
       "    </tr>\n",
       "  </tbody>\n",
       "</table>\n",
       "<p>495 rows × 2 columns</p>\n",
       "</div>"
      ],
      "text/plain": [
       "                 company sustainalytics_risk_rating\n",
       "0             3M Company                       35.2\n",
       "1    Abbott Laboratories                       29.8\n",
       "2            AbbVie Inc.                       29.1\n",
       "3                Abiomed                       32.6\n",
       "4              Accenture                       11.3\n",
       "..                   ...                        ...\n",
       "490      Yum! Brands Inc                          0\n",
       "491   Zebra Technologies                          0\n",
       "492        Zimmer Biomet                          0\n",
       "493        Zions Bancorp                          0\n",
       "494               Zoetis                          0\n",
       "\n",
       "[495 rows x 2 columns]"
      ]
     },
     "execution_count": 12,
     "metadata": {},
     "output_type": "execute_result"
    }
   ],
   "source": [
    "sustainalytics_ratings"
   ]
  },
  {
   "cell_type": "markdown",
   "metadata": {},
   "source": [
    "# Scraping MSCI Ratings Data"
   ]
  },
  {
   "cell_type": "code",
   "execution_count": 15,
   "metadata": {
    "ExecuteTime": {
     "end_time": "2021-03-29T15:03:09.873652Z",
     "start_time": "2021-03-29T15:03:09.767890Z"
    }
   },
   "outputs": [],
   "source": [
    "def get_msci_ratings(companies):\n",
    "    \n",
    "    # Creating dataframe for ratings data\n",
    "    msci_ratings = pd.DataFrame(columns = ['company','msci_risk_rating'])\n",
    "    \n",
    "    # Set path to chromedriver\n",
    "    PATH = \"/Users/MichaelWirtz/Desktop/pathfile/chromedriver_2\"\n",
    "    # Define options \n",
    "    options = Options()\n",
    "    # Remove pop up window\n",
    "    options.add_argument(\"--headless\")\n",
    "    # Set window size\n",
    "    options.add_argument('window-size=1200x600')\n",
    "    # Define driver\n",
    "    driver = webdriver.Chrome(PATH,options=options)\n",
    "    # Define url\n",
    "    url= \"https://www.msci.com/our-solutions/esg-investing/esg-ratings/esg-ratings-corporate-search-tool\"\n",
    "    # Get website\n",
    "    driver.get(url)\n",
    "    \n",
    "    for company,ticker in companies:\n",
    "        try:\n",
    "            # Find search bar\n",
    "            search_bar = driver.find_element_by_id(\"_esgratingsprofile_keywords\")\n",
    "            # Clear search bar\n",
    "            search_bar.clear()\n",
    "            # Enter ticker into search bar\n",
    "            search_bar.send_keys(ticker)\n",
    "            # Sleep for 2 seconds\n",
    "            time.sleep(2)\n",
    "            # Search ticker\n",
    "            search_bar.send_keys(Keys.ENTER)\n",
    "            # Sleep for 3 seconds\n",
    "            time.sleep(3)\n",
    "            # Find company in options list\n",
    "            search_popup = driver.find_element_by_id(\"ui-id-1\")\n",
    "            # Click company for ratings\n",
    "            search_popup.click()\n",
    "            # Sleep for 4 seconds\n",
    "            time.sleep(4)\n",
    "\n",
    "            # Getting page content\n",
    "            content = driver.page_source.encode('utf-8').strip()\n",
    "            # Getting page content in html\n",
    "            soup = BeautifulSoup(content,\"html.parser\")\n",
    "            # Getting company details\n",
    "            company_details = soup.find(class_=\"ratingdata-outercircle esgratings-profile-header-yellow\")\n",
    "            # Getting risk rating\n",
    "            risk_rating = ((str(company_details)).split('-'))[-1][:4].replace('\"','')\n",
    "            risk_rating = re.sub(r\"[^a-z]+\", '', risk_rating)\n",
    "\n",
    "            # Appending new ratings to dataframe\n",
    "            msci_ratings = msci_ratings.append({'company': company,\n",
    "                                                'msci_risk_rating': risk_rating},\n",
    "                                                 ignore_index=True)\n",
    "            # Sleep for 1 seconds\n",
    "            time.sleep(1)\n",
    "            # Go back to previous page\n",
    "            driver.back()\n",
    "\n",
    "            # Sleep for 2 seconds\n",
    "            time.sleep(2)\n",
    "\n",
    "        except:\n",
    "            # Appending new ratings to dataframe\n",
    "            msci_ratings = msci_ratings.append({'company': company,\n",
    "                                                'msci_risk_rating': 'NaN'},\n",
    "                                                 ignore_index=True)\n",
    "            \n",
    "    return msci_ratings"
   ]
  },
  {
   "cell_type": "code",
   "execution_count": 16,
   "metadata": {
    "ExecuteTime": {
     "end_time": "2021-03-29T16:38:27.751214Z",
     "start_time": "2021-03-29T15:03:31.224552Z"
    }
   },
   "outputs": [],
   "source": [
    "msci_ratings = get_msci_ratings(companies_n_tickers)"
   ]
  },
  {
   "cell_type": "code",
   "execution_count": 17,
   "metadata": {
    "ExecuteTime": {
     "end_time": "2021-03-29T16:38:28.644771Z",
     "start_time": "2021-03-29T16:38:28.589304Z"
    }
   },
   "outputs": [
    {
     "data": {
      "text/html": [
       "<div>\n",
       "<style scoped>\n",
       "    .dataframe tbody tr th:only-of-type {\n",
       "        vertical-align: middle;\n",
       "    }\n",
       "\n",
       "    .dataframe tbody tr th {\n",
       "        vertical-align: top;\n",
       "    }\n",
       "\n",
       "    .dataframe thead th {\n",
       "        text-align: right;\n",
       "    }\n",
       "</style>\n",
       "<table border=\"1\" class=\"dataframe\">\n",
       "  <thead>\n",
       "    <tr style=\"text-align: right;\">\n",
       "      <th></th>\n",
       "      <th>company</th>\n",
       "      <th>msci_risk_rating</th>\n",
       "    </tr>\n",
       "  </thead>\n",
       "  <tbody>\n",
       "    <tr>\n",
       "      <th>0</th>\n",
       "      <td>3M Company</td>\n",
       "      <td>one</td>\n",
       "    </tr>\n",
       "    <tr>\n",
       "      <th>1</th>\n",
       "      <td>Abbott Laboratories</td>\n",
       "      <td>bb</td>\n",
       "    </tr>\n",
       "    <tr>\n",
       "      <th>2</th>\n",
       "      <td>AbbVie Inc.</td>\n",
       "      <td>a</td>\n",
       "    </tr>\n",
       "    <tr>\n",
       "      <th>3</th>\n",
       "      <td>Abiomed</td>\n",
       "      <td>a</td>\n",
       "    </tr>\n",
       "    <tr>\n",
       "      <th>4</th>\n",
       "      <td>Accenture</td>\n",
       "      <td>a</td>\n",
       "    </tr>\n",
       "    <tr>\n",
       "      <th>...</th>\n",
       "      <td>...</td>\n",
       "      <td>...</td>\n",
       "    </tr>\n",
       "    <tr>\n",
       "      <th>490</th>\n",
       "      <td>Yum! Brands Inc</td>\n",
       "      <td>bb</td>\n",
       "    </tr>\n",
       "    <tr>\n",
       "      <th>491</th>\n",
       "      <td>Zebra Technologies</td>\n",
       "      <td>one</td>\n",
       "    </tr>\n",
       "    <tr>\n",
       "      <th>492</th>\n",
       "      <td>Zimmer Biomet</td>\n",
       "      <td>one</td>\n",
       "    </tr>\n",
       "    <tr>\n",
       "      <th>493</th>\n",
       "      <td>Zions Bancorp</td>\n",
       "      <td>NaN</td>\n",
       "    </tr>\n",
       "    <tr>\n",
       "      <th>494</th>\n",
       "      <td>Zoetis</td>\n",
       "      <td>one</td>\n",
       "    </tr>\n",
       "  </tbody>\n",
       "</table>\n",
       "<p>495 rows × 2 columns</p>\n",
       "</div>"
      ],
      "text/plain": [
       "                 company msci_risk_rating\n",
       "0             3M Company              one\n",
       "1    Abbott Laboratories               bb\n",
       "2            AbbVie Inc.                a\n",
       "3                Abiomed                a\n",
       "4              Accenture                a\n",
       "..                   ...              ...\n",
       "490      Yum! Brands Inc               bb\n",
       "491   Zebra Technologies              one\n",
       "492        Zimmer Biomet              one\n",
       "493        Zions Bancorp              NaN\n",
       "494               Zoetis              one\n",
       "\n",
       "[495 rows x 2 columns]"
      ]
     },
     "execution_count": 17,
     "metadata": {},
     "output_type": "execute_result"
    }
   ],
   "source": [
    "msci_ratingsi_ratings"
   ]
  },
  {
   "cell_type": "markdown",
   "metadata": {},
   "source": [
    "# Merging Sustainalytics and MSCI Data"
   ]
  },
  {
   "cell_type": "code",
   "execution_count": 18,
   "metadata": {
    "ExecuteTime": {
     "end_time": "2021-03-29T16:51:37.746961Z",
     "start_time": "2021-03-29T16:51:37.579759Z"
    }
   },
   "outputs": [],
   "source": [
    "# Merging dataframes\n",
    "ratings = sustainalytics_ratings.merge(msci_ratings, how='outer', on='company')"
   ]
  },
  {
   "cell_type": "code",
   "execution_count": 19,
   "metadata": {
    "ExecuteTime": {
     "end_time": "2021-03-29T16:51:39.516742Z",
     "start_time": "2021-03-29T16:51:39.492766Z"
    },
    "scrolled": true
   },
   "outputs": [
    {
     "data": {
      "text/html": [
       "<div>\n",
       "<style scoped>\n",
       "    .dataframe tbody tr th:only-of-type {\n",
       "        vertical-align: middle;\n",
       "    }\n",
       "\n",
       "    .dataframe tbody tr th {\n",
       "        vertical-align: top;\n",
       "    }\n",
       "\n",
       "    .dataframe thead th {\n",
       "        text-align: right;\n",
       "    }\n",
       "</style>\n",
       "<table border=\"1\" class=\"dataframe\">\n",
       "  <thead>\n",
       "    <tr style=\"text-align: right;\">\n",
       "      <th></th>\n",
       "      <th>company</th>\n",
       "      <th>sustainalytics_risk_rating</th>\n",
       "      <th>msci_risk_rating</th>\n",
       "    </tr>\n",
       "  </thead>\n",
       "  <tbody>\n",
       "    <tr>\n",
       "      <th>0</th>\n",
       "      <td>3M Company</td>\n",
       "      <td>35.2</td>\n",
       "      <td>one</td>\n",
       "    </tr>\n",
       "    <tr>\n",
       "      <th>1</th>\n",
       "      <td>Abbott Laboratories</td>\n",
       "      <td>29.8</td>\n",
       "      <td>bb</td>\n",
       "    </tr>\n",
       "    <tr>\n",
       "      <th>2</th>\n",
       "      <td>AbbVie Inc.</td>\n",
       "      <td>29.1</td>\n",
       "      <td>a</td>\n",
       "    </tr>\n",
       "    <tr>\n",
       "      <th>3</th>\n",
       "      <td>Abiomed</td>\n",
       "      <td>32.6</td>\n",
       "      <td>a</td>\n",
       "    </tr>\n",
       "    <tr>\n",
       "      <th>4</th>\n",
       "      <td>Accenture</td>\n",
       "      <td>11.3</td>\n",
       "      <td>a</td>\n",
       "    </tr>\n",
       "    <tr>\n",
       "      <th>...</th>\n",
       "      <td>...</td>\n",
       "      <td>...</td>\n",
       "      <td>...</td>\n",
       "    </tr>\n",
       "    <tr>\n",
       "      <th>490</th>\n",
       "      <td>Yum! Brands Inc</td>\n",
       "      <td>0</td>\n",
       "      <td>bb</td>\n",
       "    </tr>\n",
       "    <tr>\n",
       "      <th>491</th>\n",
       "      <td>Zebra Technologies</td>\n",
       "      <td>0</td>\n",
       "      <td>one</td>\n",
       "    </tr>\n",
       "    <tr>\n",
       "      <th>492</th>\n",
       "      <td>Zimmer Biomet</td>\n",
       "      <td>0</td>\n",
       "      <td>one</td>\n",
       "    </tr>\n",
       "    <tr>\n",
       "      <th>493</th>\n",
       "      <td>Zions Bancorp</td>\n",
       "      <td>0</td>\n",
       "      <td>NaN</td>\n",
       "    </tr>\n",
       "    <tr>\n",
       "      <th>494</th>\n",
       "      <td>Zoetis</td>\n",
       "      <td>0</td>\n",
       "      <td>one</td>\n",
       "    </tr>\n",
       "  </tbody>\n",
       "</table>\n",
       "<p>495 rows × 3 columns</p>\n",
       "</div>"
      ],
      "text/plain": [
       "                 company sustainalytics_risk_rating msci_risk_rating\n",
       "0             3M Company                       35.2              one\n",
       "1    Abbott Laboratories                       29.8               bb\n",
       "2            AbbVie Inc.                       29.1                a\n",
       "3                Abiomed                       32.6                a\n",
       "4              Accenture                       11.3                a\n",
       "..                   ...                        ...              ...\n",
       "490      Yum! Brands Inc                          0               bb\n",
       "491   Zebra Technologies                          0              one\n",
       "492        Zimmer Biomet                          0              one\n",
       "493        Zions Bancorp                          0              NaN\n",
       "494               Zoetis                          0              one\n",
       "\n",
       "[495 rows x 3 columns]"
      ]
     },
     "execution_count": 19,
     "metadata": {},
     "output_type": "execute_result"
    }
   ],
   "source": [
    "# Checking dataframe\n",
    "ratings"
   ]
  },
  {
   "cell_type": "code",
   "execution_count": 20,
   "metadata": {
    "ExecuteTime": {
     "end_time": "2021-03-29T16:53:39.333534Z",
     "start_time": "2021-03-29T16:53:39.266196Z"
    }
   },
   "outputs": [],
   "source": [
    "# Save ratings as pickle file\n",
    "with open('./generated_data/ratings.pickle','wb') as f:\n",
    "    pickle.dump(ratings, f)"
   ]
  }
 ],
 "metadata": {
  "kernelspec": {
   "display_name": "learn-env",
   "language": "python",
   "name": "learn-env"
  },
  "language_info": {
   "codemirror_mode": {
    "name": "ipython",
    "version": 3
   },
   "file_extension": ".py",
   "mimetype": "text/x-python",
   "name": "python",
   "nbconvert_exporter": "python",
   "pygments_lexer": "ipython3",
   "version": "3.6.9"
  },
  "toc": {
   "base_numbering": 1,
   "nav_menu": {},
   "number_sections": true,
   "sideBar": true,
   "skip_h1_title": false,
   "title_cell": "Table of Contents",
   "title_sidebar": "Contents",
   "toc_cell": false,
   "toc_position": {},
   "toc_section_display": true,
   "toc_window_display": false
  },
  "varInspector": {
   "cols": {
    "lenName": 16,
    "lenType": 16,
    "lenVar": 40
   },
   "kernels_config": {
    "python": {
     "delete_cmd_postfix": "",
     "delete_cmd_prefix": "del ",
     "library": "var_list.py",
     "varRefreshCmd": "print(var_dic_list())"
    },
    "r": {
     "delete_cmd_postfix": ") ",
     "delete_cmd_prefix": "rm(",
     "library": "var_list.r",
     "varRefreshCmd": "cat(var_dic_list()) "
    }
   },
   "types_to_exclude": [
    "module",
    "function",
    "builtin_function_or_method",
    "instance",
    "_Feature"
   ],
   "window_display": false
  }
 },
 "nbformat": 4,
 "nbformat_minor": 4
}
