{
 "cells": [
  {
   "cell_type": "markdown",
   "metadata": {},
   "source": [
    "# Imports"
   ]
  },
  {
   "cell_type": "code",
   "execution_count": 1,
   "metadata": {
    "ExecuteTime": {
     "end_time": "2021-03-22T17:51:19.296471Z",
     "start_time": "2021-03-22T17:51:17.396827Z"
    }
   },
   "outputs": [],
   "source": [
    "# All necessary imports\n",
    "from bs4 import BeautifulSoup\n",
    "import selenium\n",
    "from selenium import webdriver\n",
    "from selenium.webdriver.common.by import By\n",
    "from selenium.webdriver.support.ui import WebDriverWait\n",
    "from selenium.webdriver.support import expected_conditions as EC\n",
    "from selenium.webdriver.chrome.options import Options\n",
    "from selenium.webdriver.common.keys import Keys\n",
    "from selenium.webdriver.common.action_chains import ActionChains\n",
    "import time\n",
    "import requests\n",
    "import pandas as pd\n",
    "import re\n",
    "import pickle"
   ]
  },
  {
   "cell_type": "markdown",
   "metadata": {},
   "source": [
    "# Getting Companies"
   ]
  },
  {
   "cell_type": "code",
   "execution_count": 2,
   "metadata": {
    "ExecuteTime": {
     "end_time": "2021-03-22T17:51:21.041875Z",
     "start_time": "2021-03-22T17:51:21.034640Z"
    }
   },
   "outputs": [],
   "source": [
    "# Load in pickled list of companies and corresponding tickers\n",
    "with open('./generated_data/companies_n_tickers.pickle','rb') as f:\n",
    "    companies_n_tickers = pickle.load(f)"
   ]
  },
  {
   "cell_type": "markdown",
   "metadata": {},
   "source": [
    "# Scraping Ratings"
   ]
  },
  {
   "cell_type": "markdown",
   "metadata": {},
   "source": [
    "## Sustainalytics"
   ]
  },
  {
   "cell_type": "code",
   "execution_count": 10,
   "metadata": {
    "ExecuteTime": {
     "end_time": "2021-03-22T20:46:11.115618Z",
     "start_time": "2021-03-22T20:46:10.972648Z"
    }
   },
   "outputs": [],
   "source": [
    "def get_sustainalytics_ratings(companies):\n",
    "    \n",
    "    # Creating dataframe for ratings data\n",
    "    sustainalytics_ratings = pd.DataFrame(columns = ['company','sustainalytics_risk_rating'])\n",
    "    \n",
    "    # Set path to chromedriver\n",
    "    PATH = \"/Users/MichaelWirtz/Desktop/pathfile/chromedriver_2\"\n",
    "    # Define options \n",
    "    options = Options()\n",
    "    # Remove pop up window\n",
    "    options.add_argument(\"--headless\")\n",
    "    # Define driver\n",
    "    driver = webdriver.Chrome(PATH, options=options)\n",
    "    # # Define driver\n",
    "    # driver = webdriver.Chrome(PATH)\n",
    "    # Define url\n",
    "    url= \"https://www.sustainalytics.com/esg-ratings/\"\n",
    "    # Maximize window\n",
    "    driver.maximize_window()\n",
    "    # Get website\n",
    "    driver.get(url)\n",
    "    \n",
    "    for company,ticker in companies:\n",
    "        try:\n",
    "            # Find search bar\n",
    "            search_bar = driver.find_element_by_id(\"searchInput\")\n",
    "            # Sleep for 1 seconds\n",
    "            time.sleep(1)\n",
    "            # Clear search bar\n",
    "            search_bar.clear()\n",
    "            # Enter ticker into search bar\n",
    "            search_bar.send_keys(ticker)\n",
    "            # Search ticker\n",
    "            search_bar.send_keys(Keys.ENTER)\n",
    "            # Sleep for 3 seconds\n",
    "            time.sleep(3)\n",
    "            # Find company in options list\n",
    "            search_popup = driver.find_element_by_class_name(\"companyName\")\n",
    "            # Sleep for 3 seconds\n",
    "            time.sleep(3)\n",
    "            # Click company for ratings\n",
    "            search_popup.click()\n",
    "\n",
    "            # Getting page content\n",
    "            content = driver.page_source.encode('utf-8').strip()\n",
    "            # Getting page content in html\n",
    "            soup = BeautifulSoup(content,\"html.parser\")\n",
    "            # Getting company details\n",
    "            company_details = soup.find(class_=\"row company-details d-flex\")\n",
    "            # Getting risk ratings\n",
    "            risk_rating = company_details.find(class_=\"col-xs-6 risk-rating-score\").text\n",
    "            # Getting risk category\n",
    "            risk_category = company_details.find(class_=\"col-xs-6 risk-rating-assessment\").text\n",
    "            # Getting industry group position\n",
    "            industry_group_position = (int(company_details.find(class_=\"industry-group-position\").text) / int(company_details.find(class_=\"industry-group-positions-total\").text)) * 100\n",
    "            # Getting overall rank\n",
    "            overall_rank = (int(company_details.find(class_=\"universe-position\").text) / int(company_details.find(class_=\"universe-positions-total\").text)) * 100\n",
    "            # Appending new ratings to dataframe\n",
    "            sustainalytics_ratings = sustainalytics_ratings.append({'company': company,\n",
    "                                                                    'sustainalytics_risk_rating': risk_rating}, ignore_index=True)\n",
    "            # Sleep for 1 seconds\n",
    "            time.sleep(1)\n",
    "            # Go back to previous page\n",
    "            driver.back()\n",
    "\n",
    "            # Sleep for 2 seconds\n",
    "            time.sleep(2)\n",
    "\n",
    "        except:\n",
    "            sustainalytics_ratings = sustainalytics_ratings.append({'company': company,\n",
    "                                                                    'sustainalytics_risk_rating': 0}, ignore_index=True)\n",
    "    \n",
    "    return sustainalytics_ratings"
   ]
  },
  {
   "cell_type": "code",
   "execution_count": 11,
   "metadata": {
    "ExecuteTime": {
     "end_time": "2021-03-22T22:12:28.303118Z",
     "start_time": "2021-03-22T20:46:11.441424Z"
    },
    "scrolled": true
   },
   "outputs": [],
   "source": [
    "sustainalytics_ratings = get_sustainalytics_ratings(companies_n_tickers)"
   ]
  },
  {
   "cell_type": "code",
   "execution_count": 12,
   "metadata": {
    "ExecuteTime": {
     "end_time": "2021-03-22T22:12:30.566009Z",
     "start_time": "2021-03-22T22:12:30.172456Z"
    }
   },
   "outputs": [
    {
     "data": {
      "text/html": [
       "<div>\n",
       "<style scoped>\n",
       "    .dataframe tbody tr th:only-of-type {\n",
       "        vertical-align: middle;\n",
       "    }\n",
       "\n",
       "    .dataframe tbody tr th {\n",
       "        vertical-align: top;\n",
       "    }\n",
       "\n",
       "    .dataframe thead th {\n",
       "        text-align: right;\n",
       "    }\n",
       "</style>\n",
       "<table border=\"1\" class=\"dataframe\">\n",
       "  <thead>\n",
       "    <tr style=\"text-align: right;\">\n",
       "      <th></th>\n",
       "      <th>company</th>\n",
       "      <th>sustainalytics_risk_rating</th>\n",
       "    </tr>\n",
       "  </thead>\n",
       "  <tbody>\n",
       "    <tr>\n",
       "      <th>0</th>\n",
       "      <td>3M Company</td>\n",
       "      <td>35.2</td>\n",
       "    </tr>\n",
       "    <tr>\n",
       "      <th>1</th>\n",
       "      <td>Abbott Laboratories</td>\n",
       "      <td>29.8</td>\n",
       "    </tr>\n",
       "    <tr>\n",
       "      <th>2</th>\n",
       "      <td>AbbVie Inc.</td>\n",
       "      <td>29.1</td>\n",
       "    </tr>\n",
       "    <tr>\n",
       "      <th>3</th>\n",
       "      <td>Abiomed</td>\n",
       "      <td>32.6</td>\n",
       "    </tr>\n",
       "    <tr>\n",
       "      <th>4</th>\n",
       "      <td>Accenture</td>\n",
       "      <td>11.3</td>\n",
       "    </tr>\n",
       "    <tr>\n",
       "      <th>...</th>\n",
       "      <td>...</td>\n",
       "      <td>...</td>\n",
       "    </tr>\n",
       "    <tr>\n",
       "      <th>490</th>\n",
       "      <td>Yum! Brands Inc</td>\n",
       "      <td>0</td>\n",
       "    </tr>\n",
       "    <tr>\n",
       "      <th>491</th>\n",
       "      <td>Zebra Technologies</td>\n",
       "      <td>0</td>\n",
       "    </tr>\n",
       "    <tr>\n",
       "      <th>492</th>\n",
       "      <td>Zimmer Biomet</td>\n",
       "      <td>0</td>\n",
       "    </tr>\n",
       "    <tr>\n",
       "      <th>493</th>\n",
       "      <td>Zions Bancorp</td>\n",
       "      <td>0</td>\n",
       "    </tr>\n",
       "    <tr>\n",
       "      <th>494</th>\n",
       "      <td>Zoetis</td>\n",
       "      <td>0</td>\n",
       "    </tr>\n",
       "  </tbody>\n",
       "</table>\n",
       "<p>495 rows × 2 columns</p>\n",
       "</div>"
      ],
      "text/plain": [
       "                 company sustainalytics_risk_rating\n",
       "0             3M Company                       35.2\n",
       "1    Abbott Laboratories                       29.8\n",
       "2            AbbVie Inc.                       29.1\n",
       "3                Abiomed                       32.6\n",
       "4              Accenture                       11.3\n",
       "..                   ...                        ...\n",
       "490      Yum! Brands Inc                          0\n",
       "491   Zebra Technologies                          0\n",
       "492        Zimmer Biomet                          0\n",
       "493        Zions Bancorp                          0\n",
       "494               Zoetis                          0\n",
       "\n",
       "[495 rows x 2 columns]"
      ]
     },
     "execution_count": 12,
     "metadata": {},
     "output_type": "execute_result"
    }
   ],
   "source": [
    "sustainalytics_ratings"
   ]
  },
  {
   "cell_type": "markdown",
   "metadata": {},
   "source": [
    "# Scraping MSCI Ratings Data"
   ]
  },
  {
   "cell_type": "code",
   "execution_count": 7,
   "metadata": {
    "ExecuteTime": {
     "end_time": "2021-01-28T00:50:07.299615Z",
     "start_time": "2021-01-28T00:50:07.250903Z"
    }
   },
   "outputs": [],
   "source": [
    "# Creating dataframe for ratings data\n",
    "msci_ratings = pd.DataFrame(columns = ['company','msci_risk_rating'])"
   ]
  },
  {
   "cell_type": "code",
   "execution_count": 8,
   "metadata": {
    "ExecuteTime": {
     "end_time": "2021-01-28T00:50:20.135410Z",
     "start_time": "2021-01-28T00:50:07.321489Z"
    }
   },
   "outputs": [],
   "source": [
    "# Set path to chromedriver\n",
    "PATH = \"/Users/MichaelWirtz/Desktop/pathfile/chromedriver_2\"\n",
    "# Define options \n",
    "options = Options()\n",
    "# Remove pop up window\n",
    "options.add_argument(\"--headless\")\n",
    "# Set window size\n",
    "options.add_argument('window-size=1200x600')\n",
    "# Define driver\n",
    "driver = webdriver.Chrome(PATH,options=options)\n",
    "# Define url\n",
    "url= \"https://www.msci.com/our-solutions/esg-investing/esg-ratings/esg-ratings-corporate-search-tool\"\n",
    "# Get website\n",
    "driver.get(url)"
   ]
  },
  {
   "cell_type": "code",
   "execution_count": 9,
   "metadata": {
    "ExecuteTime": {
     "end_time": "2021-01-28T04:15:58.506780Z",
     "start_time": "2021-01-28T00:50:20.146973Z"
    }
   },
   "outputs": [],
   "source": [
    "for company,ticker in companies:\n",
    "    try:\n",
    "        # Find search bar\n",
    "        search_bar = driver.find_element_by_id(\"_esgratingsprofile_keywords\")\n",
    "        # Clear search bar\n",
    "        search_bar.clear()\n",
    "        # Enter ticker into search bar\n",
    "        search_bar.send_keys(ticker)\n",
    "        # Sleep for 2 seconds\n",
    "        time.sleep(2)\n",
    "        # Search ticker\n",
    "        search_bar.send_keys(Keys.ENTER)\n",
    "        # Sleep for 3 seconds\n",
    "        time.sleep(3)\n",
    "        # Find company in options list\n",
    "        search_popup = driver.find_element_by_id(\"ui-id-1\")\n",
    "        # Click company for ratings\n",
    "        search_popup.click()\n",
    "        # Sleep for 4 seconds\n",
    "        time.sleep(4)\n",
    "\n",
    "        # Getting page content\n",
    "        content = driver.page_source.encode('utf-8').strip()\n",
    "        # Getting page content in html\n",
    "        soup = BeautifulSoup(content,\"html.parser\")\n",
    "        # Getting company details\n",
    "        company_details = soup.find(class_=\"ratingdata-outercircle esgratings-profile-header-yellow\")\n",
    "        # Getting risk rating\n",
    "        risk_rating = ((str(company_details)).split('-'))[-1][:4].replace('\"','')\n",
    "        risk_rating = re.sub(r\"[^a-z]+\", '', risk_rating)\n",
    "\n",
    "        # Appending new ratings to dataframe\n",
    "        msci_ratings = msci_ratings.append({'company': company,\n",
    "                                            'msci_risk_rating': risk_rating},\n",
    "                                             ignore_index=True)\n",
    "        # Sleep for 1 seconds\n",
    "        time.sleep(1)\n",
    "        # Go back to previous page\n",
    "        driver.back()\n",
    "\n",
    "        # Sleep for 2 seconds\n",
    "        time.sleep(2)\n",
    "    \n",
    "    except:\n",
    "        # Appending new ratings to dataframe\n",
    "        msci_ratings = msci_ratings.append({'company': company,\n",
    "                                            'msci_risk_rating': 'NaN'},\n",
    "                                             ignore_index=True)"
   ]
  },
  {
   "cell_type": "code",
   "execution_count": 10,
   "metadata": {
    "ExecuteTime": {
     "end_time": "2021-01-28T04:15:58.889865Z",
     "start_time": "2021-01-28T04:15:58.519663Z"
    },
    "scrolled": true
   },
   "outputs": [
    {
     "data": {
      "text/html": [
       "<div>\n",
       "<style scoped>\n",
       "    .dataframe tbody tr th:only-of-type {\n",
       "        vertical-align: middle;\n",
       "    }\n",
       "\n",
       "    .dataframe tbody tr th {\n",
       "        vertical-align: top;\n",
       "    }\n",
       "\n",
       "    .dataframe thead th {\n",
       "        text-align: right;\n",
       "    }\n",
       "</style>\n",
       "<table border=\"1\" class=\"dataframe\">\n",
       "  <thead>\n",
       "    <tr style=\"text-align: right;\">\n",
       "      <th></th>\n",
       "      <th>company</th>\n",
       "      <th>msci_risk_rating</th>\n",
       "    </tr>\n",
       "  </thead>\n",
       "  <tbody>\n",
       "    <tr>\n",
       "      <th>0</th>\n",
       "      <td>Aaron’s, Inc.</td>\n",
       "      <td>NaN</td>\n",
       "    </tr>\n",
       "    <tr>\n",
       "      <th>1</th>\n",
       "      <td>Applied Optoelectronics, Inc.</td>\n",
       "      <td>NaN</td>\n",
       "    </tr>\n",
       "    <tr>\n",
       "      <th>2</th>\n",
       "      <td>AAON, Inc.</td>\n",
       "      <td>NaN</td>\n",
       "    </tr>\n",
       "    <tr>\n",
       "      <th>3</th>\n",
       "      <td>American Assets Trust, Inc.</td>\n",
       "      <td>NaN</td>\n",
       "    </tr>\n",
       "    <tr>\n",
       "      <th>4</th>\n",
       "      <td>Atlas Air Worldwide Holdings, Inc.</td>\n",
       "      <td>NaN</td>\n",
       "    </tr>\n",
       "    <tr>\n",
       "      <th>...</th>\n",
       "      <td>...</td>\n",
       "      <td>...</td>\n",
       "    </tr>\n",
       "    <tr>\n",
       "      <th>1994</th>\n",
       "      <td>Zix Corp.</td>\n",
       "      <td>NaN</td>\n",
       "    </tr>\n",
       "    <tr>\n",
       "      <th>1995</th>\n",
       "      <td>Zumiez, Inc.</td>\n",
       "      <td>NaN</td>\n",
       "    </tr>\n",
       "    <tr>\n",
       "      <th>1996</th>\n",
       "      <td>Zuora, Inc.</td>\n",
       "      <td>NaN</td>\n",
       "    </tr>\n",
       "    <tr>\n",
       "      <th>1997</th>\n",
       "      <td>Zynerba Pharmaceuticals, Inc.</td>\n",
       "      <td>NaN</td>\n",
       "    </tr>\n",
       "    <tr>\n",
       "      <th>1998</th>\n",
       "      <td>Zynex, Inc.</td>\n",
       "      <td>NaN</td>\n",
       "    </tr>\n",
       "  </tbody>\n",
       "</table>\n",
       "<p>1999 rows × 2 columns</p>\n",
       "</div>"
      ],
      "text/plain": [
       "                                 company msci_risk_rating\n",
       "0                          Aaron’s, Inc.              NaN\n",
       "1          Applied Optoelectronics, Inc.              NaN\n",
       "2                             AAON, Inc.              NaN\n",
       "3            American Assets Trust, Inc.              NaN\n",
       "4     Atlas Air Worldwide Holdings, Inc.              NaN\n",
       "...                                  ...              ...\n",
       "1994                           Zix Corp.              NaN\n",
       "1995                        Zumiez, Inc.              NaN\n",
       "1996                         Zuora, Inc.              NaN\n",
       "1997       Zynerba Pharmaceuticals, Inc.              NaN\n",
       "1998                         Zynex, Inc.              NaN\n",
       "\n",
       "[1999 rows x 2 columns]"
      ]
     },
     "execution_count": 10,
     "metadata": {},
     "output_type": "execute_result"
    }
   ],
   "source": [
    "msci_ratings"
   ]
  },
  {
   "cell_type": "markdown",
   "metadata": {},
   "source": [
    "# Merging Sustainalytics and MSCI Data"
   ]
  },
  {
   "cell_type": "code",
   "execution_count": 11,
   "metadata": {
    "ExecuteTime": {
     "end_time": "2021-01-28T04:15:58.947293Z",
     "start_time": "2021-01-28T04:15:58.891825Z"
    }
   },
   "outputs": [],
   "source": [
    "# Merging dataframes\n",
    "ratings = sustainalytics_ratings.merge(msci_ratings, how='outer', on='company')"
   ]
  },
  {
   "cell_type": "code",
   "execution_count": 12,
   "metadata": {
    "ExecuteTime": {
     "end_time": "2021-01-28T04:15:59.017989Z",
     "start_time": "2021-01-28T04:15:58.950801Z"
    },
    "scrolled": true
   },
   "outputs": [
    {
     "data": {
      "text/html": [
       "<div>\n",
       "<style scoped>\n",
       "    .dataframe tbody tr th:only-of-type {\n",
       "        vertical-align: middle;\n",
       "    }\n",
       "\n",
       "    .dataframe tbody tr th {\n",
       "        vertical-align: top;\n",
       "    }\n",
       "\n",
       "    .dataframe thead th {\n",
       "        text-align: right;\n",
       "    }\n",
       "</style>\n",
       "<table border=\"1\" class=\"dataframe\">\n",
       "  <thead>\n",
       "    <tr style=\"text-align: right;\">\n",
       "      <th></th>\n",
       "      <th>company</th>\n",
       "      <th>sustainalytics_risk_rating</th>\n",
       "      <th>risk_category</th>\n",
       "      <th>industry_group_position</th>\n",
       "      <th>overall_rank</th>\n",
       "      <th>msci_risk_rating</th>\n",
       "    </tr>\n",
       "  </thead>\n",
       "  <tbody>\n",
       "    <tr>\n",
       "      <th>0</th>\n",
       "      <td>Aaron’s, Inc.</td>\n",
       "      <td>45.3</td>\n",
       "      <td>Severe Risk</td>\n",
       "      <td>34.0278</td>\n",
       "      <td>92.0433</td>\n",
       "      <td>NaN</td>\n",
       "    </tr>\n",
       "    <tr>\n",
       "      <th>1</th>\n",
       "      <td>Applied Optoelectronics, Inc.</td>\n",
       "      <td>NaN</td>\n",
       "      <td>NaN</td>\n",
       "      <td>NaN</td>\n",
       "      <td>NaN</td>\n",
       "      <td>NaN</td>\n",
       "    </tr>\n",
       "    <tr>\n",
       "      <th>2</th>\n",
       "      <td>AAON, Inc.</td>\n",
       "      <td>NaN</td>\n",
       "      <td>NaN</td>\n",
       "      <td>NaN</td>\n",
       "      <td>NaN</td>\n",
       "      <td>NaN</td>\n",
       "    </tr>\n",
       "    <tr>\n",
       "      <th>3</th>\n",
       "      <td>American Assets Trust, Inc.</td>\n",
       "      <td>12.4</td>\n",
       "      <td>Low Risk</td>\n",
       "      <td>2.01005</td>\n",
       "      <td>2.51305</td>\n",
       "      <td>NaN</td>\n",
       "    </tr>\n",
       "    <tr>\n",
       "      <th>4</th>\n",
       "      <td>Atlas Air Worldwide Holdings, Inc.</td>\n",
       "      <td>NaN</td>\n",
       "      <td>NaN</td>\n",
       "      <td>NaN</td>\n",
       "      <td>NaN</td>\n",
       "      <td>NaN</td>\n",
       "    </tr>\n",
       "    <tr>\n",
       "      <th>...</th>\n",
       "      <td>...</td>\n",
       "      <td>...</td>\n",
       "      <td>...</td>\n",
       "      <td>...</td>\n",
       "      <td>...</td>\n",
       "      <td>...</td>\n",
       "    </tr>\n",
       "    <tr>\n",
       "      <th>2006</th>\n",
       "      <td>Zix Corp.</td>\n",
       "      <td>NaN</td>\n",
       "      <td>NaN</td>\n",
       "      <td>NaN</td>\n",
       "      <td>NaN</td>\n",
       "      <td>NaN</td>\n",
       "    </tr>\n",
       "    <tr>\n",
       "      <th>2007</th>\n",
       "      <td>Zumiez, Inc.</td>\n",
       "      <td>NaN</td>\n",
       "      <td>NaN</td>\n",
       "      <td>NaN</td>\n",
       "      <td>NaN</td>\n",
       "      <td>NaN</td>\n",
       "    </tr>\n",
       "    <tr>\n",
       "      <th>2008</th>\n",
       "      <td>Zuora, Inc.</td>\n",
       "      <td>NaN</td>\n",
       "      <td>NaN</td>\n",
       "      <td>NaN</td>\n",
       "      <td>NaN</td>\n",
       "      <td>NaN</td>\n",
       "    </tr>\n",
       "    <tr>\n",
       "      <th>2009</th>\n",
       "      <td>Zynerba Pharmaceuticals, Inc.</td>\n",
       "      <td>NaN</td>\n",
       "      <td>NaN</td>\n",
       "      <td>NaN</td>\n",
       "      <td>NaN</td>\n",
       "      <td>NaN</td>\n",
       "    </tr>\n",
       "    <tr>\n",
       "      <th>2010</th>\n",
       "      <td>Zynex, Inc.</td>\n",
       "      <td>NaN</td>\n",
       "      <td>NaN</td>\n",
       "      <td>NaN</td>\n",
       "      <td>NaN</td>\n",
       "      <td>NaN</td>\n",
       "    </tr>\n",
       "  </tbody>\n",
       "</table>\n",
       "<p>2011 rows × 6 columns</p>\n",
       "</div>"
      ],
      "text/plain": [
       "                                 company sustainalytics_risk_rating  \\\n",
       "0                          Aaron’s, Inc.                       45.3   \n",
       "1          Applied Optoelectronics, Inc.                        NaN   \n",
       "2                             AAON, Inc.                        NaN   \n",
       "3            American Assets Trust, Inc.                       12.4   \n",
       "4     Atlas Air Worldwide Holdings, Inc.                        NaN   \n",
       "...                                  ...                        ...   \n",
       "2006                           Zix Corp.                        NaN   \n",
       "2007                        Zumiez, Inc.                        NaN   \n",
       "2008                         Zuora, Inc.                        NaN   \n",
       "2009       Zynerba Pharmaceuticals, Inc.                        NaN   \n",
       "2010                         Zynex, Inc.                        NaN   \n",
       "\n",
       "     risk_category industry_group_position overall_rank msci_risk_rating  \n",
       "0      Severe Risk                 34.0278      92.0433              NaN  \n",
       "1              NaN                     NaN          NaN              NaN  \n",
       "2              NaN                     NaN          NaN              NaN  \n",
       "3         Low Risk                 2.01005      2.51305              NaN  \n",
       "4              NaN                     NaN          NaN              NaN  \n",
       "...            ...                     ...          ...              ...  \n",
       "2006           NaN                     NaN          NaN              NaN  \n",
       "2007           NaN                     NaN          NaN              NaN  \n",
       "2008           NaN                     NaN          NaN              NaN  \n",
       "2009           NaN                     NaN          NaN              NaN  \n",
       "2010           NaN                     NaN          NaN              NaN  \n",
       "\n",
       "[2011 rows x 6 columns]"
      ]
     },
     "execution_count": 12,
     "metadata": {},
     "output_type": "execute_result"
    }
   ],
   "source": [
    "# Checking dataframe\n",
    "ratings"
   ]
  },
  {
   "cell_type": "code",
   "execution_count": 13,
   "metadata": {
    "ExecuteTime": {
     "end_time": "2021-01-28T13:57:32.675350Z",
     "start_time": "2021-01-28T13:57:32.328209Z"
    }
   },
   "outputs": [],
   "source": [
    "# Saving comprehensive dataframe\n",
    "ratings.to_csv('esg_ratings_data.csv')"
   ]
  }
 ],
 "metadata": {
  "kernelspec": {
   "display_name": "learn-env",
   "language": "python",
   "name": "learn-env"
  },
  "language_info": {
   "codemirror_mode": {
    "name": "ipython",
    "version": 3
   },
   "file_extension": ".py",
   "mimetype": "text/x-python",
   "name": "python",
   "nbconvert_exporter": "python",
   "pygments_lexer": "ipython3",
   "version": "3.6.9"
  },
  "toc": {
   "base_numbering": 1,
   "nav_menu": {},
   "number_sections": true,
   "sideBar": true,
   "skip_h1_title": false,
   "title_cell": "Table of Contents",
   "title_sidebar": "Contents",
   "toc_cell": false,
   "toc_position": {},
   "toc_section_display": true,
   "toc_window_display": false
  },
  "varInspector": {
   "cols": {
    "lenName": 16,
    "lenType": 16,
    "lenVar": 40
   },
   "kernels_config": {
    "python": {
     "delete_cmd_postfix": "",
     "delete_cmd_prefix": "del ",
     "library": "var_list.py",
     "varRefreshCmd": "print(var_dic_list())"
    },
    "r": {
     "delete_cmd_postfix": ") ",
     "delete_cmd_prefix": "rm(",
     "library": "var_list.r",
     "varRefreshCmd": "cat(var_dic_list()) "
    }
   },
   "types_to_exclude": [
    "module",
    "function",
    "builtin_function_or_method",
    "instance",
    "_Feature"
   ],
   "window_display": false
  }
 },
 "nbformat": 4,
 "nbformat_minor": 4
}
