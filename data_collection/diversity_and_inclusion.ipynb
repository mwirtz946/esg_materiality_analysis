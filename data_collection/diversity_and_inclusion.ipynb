{
 "cells": [
  {
   "cell_type": "markdown",
   "metadata": {},
   "source": [
    "# Question: Does the company promote diversity and inclusion?"
   ]
  },
  {
   "cell_type": "markdown",
   "metadata": {},
   "source": [
    "Although many ESG issues may not be financially material to all industries, we believe that diversity and inclusion of all people -- regardless of gender, race, sexual orientation, religion, background, and other similar traits -- is one that can be viewed as material across the board.\n",
    "\n",
    "Embracing different types of people is the moral thing to do, but it's also the best financial thing to do. In 2018, management consulting firm McKinsey & Co. released the report \"Why Diversity Matters\"; it examined data sets from 366 public companies in the U.S., Canada, Latin America, and the U.K. Companies in the top quartile for gender, racial, or ethnic diversity were more likely to generate financial returns above the national medians for their industry; the converse was also true. Meanwhile, McKinsey concluded that \"diversity is probably a competitive differentiator that shifts market share toward more diverse companies over time.\"\n",
    "\n",
    "Why? Plenty of data shows that diverse groups make better decisions than homogeneous ones. Narrow-minded in-group thinking, in which members are more likely to have similar experiences and viewpoints and come to the same conclusions, can be terrible for decision-making. Meanwhile, groups in which many different life experiences and perspectives are represented help set the stage for better decisions.\n",
    "\n",
    "Underlining this principle is the correlation between what a company does and who runs it. For example, if a retailer sells jewelry aimed at female consumers, having an entirely male management team and board of directors would seem absurdly mismatched -- it would result in missing valuable perspectives about the very people it's aiming to attract as customers.\n",
    "\n",
    "In ESG investing, we seek positive elements like a transparent workforce-diversity disclosure (some companies don't disclose their staff makeup at all); composition of its board of directors and executive leadership; and internal programs and policies that foster or support diversity -- adequate paid family leave, professional programs for people of color, and fair hiring practices.\n",
    "\n",
    "Companies with poor diversity statistics, or lawsuits related to discrimination and harassment, will be noted for their heightened risk and probably disqualified from inclusion."
   ]
  },
  {
   "cell_type": "markdown",
   "metadata": {},
   "source": [
    "# Data Sources"
   ]
  },
  {
   "cell_type": "markdown",
   "metadata": {},
   "source": [
    "- SEC Reports "
   ]
  },
  {
   "cell_type": "markdown",
   "metadata": {},
   "source": [
    "# Imports"
   ]
  },
  {
   "cell_type": "code",
   "execution_count": 2,
   "metadata": {
    "ExecuteTime": {
     "end_time": "2021-03-22T16:57:35.250027Z",
     "start_time": "2021-03-22T16:57:33.853085Z"
    }
   },
   "outputs": [],
   "source": [
    "# All necessary imports\n",
    "import sec_edgar_downloader\n",
    "from sec_edgar_downloader import Downloader\n",
    "import re\n",
    "import os\n",
    "import shutil\n",
    "import pandas as pd\n",
    "import requests\n",
    "from bs4 import BeautifulSoup\n",
    "import pickle"
   ]
  },
  {
   "cell_type": "markdown",
   "metadata": {},
   "source": [
    "# Getting Companies"
   ]
  },
  {
   "cell_type": "code",
   "execution_count": 29,
   "metadata": {
    "ExecuteTime": {
     "end_time": "2021-03-22T17:16:05.961037Z",
     "start_time": "2021-03-22T17:16:05.951015Z"
    }
   },
   "outputs": [],
   "source": [
    "# Load in pickled list of companies and corresponding tickers\n",
    "with open('./generated_data/companies_n_tickers.pickle','rb') as f:\n",
    "    companies_n_tickers = pickle.load(f)"
   ]
  },
  {
   "cell_type": "markdown",
   "metadata": {},
   "source": [
    "# Getting Data"
   ]
  },
  {
   "cell_type": "code",
   "execution_count": 30,
   "metadata": {
    "ExecuteTime": {
     "end_time": "2021-03-22T17:16:06.830702Z",
     "start_time": "2021-03-22T17:16:06.810546Z"
    }
   },
   "outputs": [],
   "source": [
    "def get_dandi_df(companies):\n",
    "    \n",
    "    dandi_df = pd.DataFrame(columns=['company','diversity_inclusion_mentions'])\n",
    "    \n",
    "    for a,b in companies:\n",
    "        try:\n",
    "            d = Downloader()\n",
    "            d.get('DEF 14A', \n",
    "                  '{}'.format(b), \n",
    "                  after='2015-01-01',\n",
    "                  download_details=False,\n",
    "                  query = 'diversity inclusion')\n",
    "\n",
    "            text_files = []\n",
    "            for root, dirs, files in os.walk(\"/Users/MichaelWirtz/Desktop/portfolio/programming_projects/long_term_trading_bot/data_collection/sec-edgar-filings/{}\".format(b)):\n",
    "                for file in files:\n",
    "                    if file.endswith(\".txt\"):\n",
    "                         text_files.append(os.path.join(root, file))\n",
    "\n",
    "            dandi_count = 0\n",
    "\n",
    "            for file in text_files:\n",
    "                content = open(file).read()\n",
    "                valids = re.sub(r\"[^a-z]+\", ' ', content)\n",
    "                content_count = valids.count('diversity') + valids.count('inclusion')\n",
    "                dandi_count += content_count\n",
    "\n",
    "            dandi_df = dandi_df.append({'company': a,\n",
    "                                        'diversity_inclusion_mentions': dandi_count}, ignore_index=True)\n",
    "\n",
    "            shutil.rmtree('./sec-edgar-filings')\n",
    "        except:\n",
    "            dandi_df = dandi_df.append({'company': a,\n",
    "                                        'diversity_inclusion_mentions': 0}, ignore_index=True)\n",
    "    \n",
    "    dandi_df = dandi_df.sort_values(by='diversity_inclusion_mentions', ascending=False)\n",
    "    \n",
    "    return dandi_df  "
   ]
  },
  {
   "cell_type": "code",
   "execution_count": 31,
   "metadata": {
    "ExecuteTime": {
     "end_time": "2021-03-22T19:01:33.165404Z",
     "start_time": "2021-03-22T17:16:43.991436Z"
    }
   },
   "outputs": [],
   "source": [
    "# Define diversity_and_inclusion with function\n",
    "diversity_and_inclusion = get_dandi_df(companies_n_tickers)"
   ]
  },
  {
   "cell_type": "code",
   "execution_count": 32,
   "metadata": {
    "ExecuteTime": {
     "end_time": "2021-03-22T19:01:34.429584Z",
     "start_time": "2021-03-22T19:01:34.381911Z"
    },
    "scrolled": true
   },
   "outputs": [
    {
     "data": {
      "text/html": [
       "<div>\n",
       "<style scoped>\n",
       "    .dataframe tbody tr th:only-of-type {\n",
       "        vertical-align: middle;\n",
       "    }\n",
       "\n",
       "    .dataframe tbody tr th {\n",
       "        vertical-align: top;\n",
       "    }\n",
       "\n",
       "    .dataframe thead th {\n",
       "        text-align: right;\n",
       "    }\n",
       "</style>\n",
       "<table border=\"1\" class=\"dataframe\">\n",
       "  <thead>\n",
       "    <tr style=\"text-align: right;\">\n",
       "      <th></th>\n",
       "      <th>company</th>\n",
       "      <th>diversity_inclusion_mentions</th>\n",
       "    </tr>\n",
       "  </thead>\n",
       "  <tbody>\n",
       "    <tr>\n",
       "      <th>136</th>\n",
       "      <td>Deere &amp; Co.</td>\n",
       "      <td>5055</td>\n",
       "    </tr>\n",
       "    <tr>\n",
       "      <th>377</th>\n",
       "      <td>Procter &amp; Gamble</td>\n",
       "      <td>1318</td>\n",
       "    </tr>\n",
       "    <tr>\n",
       "      <th>358</th>\n",
       "      <td>Parker-Hannifin</td>\n",
       "      <td>1120</td>\n",
       "    </tr>\n",
       "    <tr>\n",
       "      <th>11</th>\n",
       "      <td>Agilent Technologies</td>\n",
       "      <td>792</td>\n",
       "    </tr>\n",
       "    <tr>\n",
       "      <th>368</th>\n",
       "      <td>Philip Morris International</td>\n",
       "      <td>507</td>\n",
       "    </tr>\n",
       "    <tr>\n",
       "      <th>...</th>\n",
       "      <td>...</td>\n",
       "      <td>...</td>\n",
       "    </tr>\n",
       "    <tr>\n",
       "      <th>469</th>\n",
       "      <td>ViacomCBS</td>\n",
       "      <td>0</td>\n",
       "    </tr>\n",
       "    <tr>\n",
       "      <th>470</th>\n",
       "      <td>ViacomCBS</td>\n",
       "      <td>0</td>\n",
       "    </tr>\n",
       "    <tr>\n",
       "      <th>471</th>\n",
       "      <td>Viatris</td>\n",
       "      <td>0</td>\n",
       "    </tr>\n",
       "    <tr>\n",
       "      <th>472</th>\n",
       "      <td>Viatris</td>\n",
       "      <td>0</td>\n",
       "    </tr>\n",
       "    <tr>\n",
       "      <th>144</th>\n",
       "      <td>Dish Network</td>\n",
       "      <td>0</td>\n",
       "    </tr>\n",
       "  </tbody>\n",
       "</table>\n",
       "<p>506 rows × 2 columns</p>\n",
       "</div>"
      ],
      "text/plain": [
       "                         company diversity_inclusion_mentions\n",
       "136                  Deere & Co.                         5055\n",
       "377             Procter & Gamble                         1318\n",
       "358              Parker-Hannifin                         1120\n",
       "11          Agilent Technologies                          792\n",
       "368  Philip Morris International                          507\n",
       "..                           ...                          ...\n",
       "469                    ViacomCBS                            0\n",
       "470                    ViacomCBS                            0\n",
       "471                      Viatris                            0\n",
       "472                      Viatris                            0\n",
       "144                 Dish Network                            0\n",
       "\n",
       "[506 rows x 2 columns]"
      ]
     },
     "execution_count": 32,
     "metadata": {},
     "output_type": "execute_result"
    }
   ],
   "source": [
    "# Checking diversity_and_inclusion\n",
    "diversity_and_inclusion"
   ]
  },
  {
   "cell_type": "code",
   "execution_count": 33,
   "metadata": {
    "ExecuteTime": {
     "end_time": "2021-03-23T13:46:55.779113Z",
     "start_time": "2021-03-23T13:46:55.083433Z"
    }
   },
   "outputs": [],
   "source": [
    "# Pickling diversity and inclusion data frame\n",
    "diversity_and_inclusion.to_pickle('./generated_data/diversity_n_inclusion.pickle')"
   ]
  }
 ],
 "metadata": {
  "kernelspec": {
   "display_name": "learn-env",
   "language": "python",
   "name": "learn-env"
  },
  "language_info": {
   "codemirror_mode": {
    "name": "ipython",
    "version": 3
   },
   "file_extension": ".py",
   "mimetype": "text/x-python",
   "name": "python",
   "nbconvert_exporter": "python",
   "pygments_lexer": "ipython3",
   "version": "3.6.9"
  },
  "toc": {
   "base_numbering": 1,
   "nav_menu": {},
   "number_sections": true,
   "sideBar": true,
   "skip_h1_title": false,
   "title_cell": "Table of Contents",
   "title_sidebar": "Contents",
   "toc_cell": false,
   "toc_position": {},
   "toc_section_display": true,
   "toc_window_display": false
  },
  "varInspector": {
   "cols": {
    "lenName": 16,
    "lenType": 16,
    "lenVar": 40
   },
   "kernels_config": {
    "python": {
     "delete_cmd_postfix": "",
     "delete_cmd_prefix": "del ",
     "library": "var_list.py",
     "varRefreshCmd": "print(var_dic_list())"
    },
    "r": {
     "delete_cmd_postfix": ") ",
     "delete_cmd_prefix": "rm(",
     "library": "var_list.r",
     "varRefreshCmd": "cat(var_dic_list()) "
    }
   },
   "types_to_exclude": [
    "module",
    "function",
    "builtin_function_or_method",
    "instance",
    "_Feature"
   ],
   "window_display": false
  }
 },
 "nbformat": 4,
 "nbformat_minor": 4
}
