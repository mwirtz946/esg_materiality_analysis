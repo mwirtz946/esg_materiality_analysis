{
 "cells": [
  {
   "cell_type": "markdown",
   "metadata": {},
   "source": [
    "# Question: Is the company a good steward of the environment? "
   ]
  },
  {
   "cell_type": "markdown",
   "metadata": {},
   "source": [
    "These days, a company's environmental stewardship is about much more than not actively polluting. Climate change looms large over the globe, and companies that work hard to lighten their carbon footprint are the ones worth considering in our ESG investing framework.\n",
    "\n",
    "Look for specific disclosures of initiatives and goals, and transparency about whether the company is meeting greenhouse-gas emissions goals. A high grade from nonprofit ratings organization CDP (formerly known as the Carbon Disclosure Project) tells you the company is doing its part for the environment. Companies that pursue the use of (or a complete transition to) renewable energy also get high marks here.\n",
    "\n",
    "The environmental piece of the puzzle includes responsible sourcing, and dealing with resource scarcity. For example, is a water-intensive company allocating funds and employees to conserve water? Does a consumer-goods company innovate to use fewer materials, or recycled materials?\n",
    "\n",
    "Internal work is essential, but so is a company's environmental approach to stakeholders, such as customers. Businesses can do good by empowering people to recycle and reuse electronics, or by offering products that help consumers increase their own energy efficiency.\n",
    "\n",
    "While these initiatives can be costly up front, ultimately these efforts will reduce costs for companies implementing them. Robust sustainability reports usually include how much money a company saved via its sustainability initiatives; such savings fly in the face of conventional wisdom, which says being environmentally responsible is too expensive for companies to pursue. Lastly, while eco-friendly initiatives can generate growth, they can also be used as risk-mitigation tools to prevent lawsuits, fines, and burdensome regulation.\n",
    "\n",
    "If a company lacks solid environmental initiatives and goals, is a polluter or waster of natural resources, or exhibits other sustainability problems, we might exclude it from consideration for our ESG portfolio.\n",
    "\n",
    "Source:  \n",
    "https://www.fool.com/investing/2019/04/09/going-for-great-returns-and-the-greater-good-fools.aspx"
   ]
  },
  {
   "cell_type": "markdown",
   "metadata": {},
   "source": [
    "# Data Sources"
   ]
  },
  {
   "cell_type": "markdown",
   "metadata": {},
   "source": [
    "**Source**  \n",
    "News\n",
    "\n",
    "**Methodology**  \n",
    "Because companies are only pushing positive environmental news, I will only search for negative environmental news. I will do this by only using news articles that have a negative polarity score "
   ]
  },
  {
   "cell_type": "markdown",
   "metadata": {},
   "source": [
    "# Imports"
   ]
  },
  {
   "cell_type": "code",
   "execution_count": 31,
   "metadata": {
    "ExecuteTime": {
     "end_time": "2021-03-03T22:09:05.901075Z",
     "start_time": "2021-03-03T22:09:05.892936Z"
    }
   },
   "outputs": [],
   "source": [
    "# All necessary imports\n",
    "import selenium\n",
    "from selenium import webdriver\n",
    "from selenium.webdriver.common.by import By\n",
    "from selenium.webdriver.common.keys import Keys\n",
    "import time\n",
    "from bs4 import BeautifulSoup\n",
    "from newsapi import NewsApiClient\n",
    "import requests\n",
    "from bs4 import BeautifulSoup\n",
    "import re\n",
    "import pandas as pd\n",
    "from textblob import TextBlob"
   ]
  },
  {
   "cell_type": "markdown",
   "metadata": {},
   "source": [
    "# Companies"
   ]
  },
  {
   "cell_type": "code",
   "execution_count": 2,
   "metadata": {
    "ExecuteTime": {
     "end_time": "2021-03-03T21:32:28.347633Z",
     "start_time": "2021-03-03T21:32:26.855326Z"
    }
   },
   "outputs": [],
   "source": [
    "# Getting site\n",
    "page = requests.get('https://en.wikipedia.org/wiki/List_of_S%26P_500_companies')\n",
    "soup = BeautifulSoup(page.content, 'html.parser')\n",
    "\n",
    "# Finding table\n",
    "table = soup.find(id='constituents').tbody\n",
    "\n",
    "# Getting table rows\n",
    "table_rows = table.find_all('tr')\n",
    "\n",
    "# Finding company in row\n",
    "companies = []\n",
    "for row in table_rows[1:70]:\n",
    "    elements = row.find_all('td')\n",
    "    company = elements[1].text\n",
    "    companies.append(company)\n",
    "\n",
    "# Cleaning company rows\n",
    "cleaned_companies = []\n",
    "for company in companies: \n",
    "    if company == 'Alphabet Inc. (Class A)':\n",
    "        pass\n",
    "    elif '(Class B)' in company:\n",
    "        company = company.replace('(Class B)','')\n",
    "        cleaned_companies.append(company)\n",
    "    elif '(Class C)' in company:\n",
    "        company = company.replace('(Class C)','')\n",
    "        cleaned_companies.append(company)\n",
    "    else:\n",
    "        cleaned_companies.append(company)\n",
    "\n",
    "# Defining final companies\n",
    "companies = cleaned_companies"
   ]
  },
  {
   "cell_type": "code",
   "execution_count": 4,
   "metadata": {
    "ExecuteTime": {
     "end_time": "2021-03-03T21:32:50.293856Z",
     "start_time": "2021-03-03T21:32:50.287906Z"
    }
   },
   "outputs": [
    {
     "data": {
      "text/plain": [
       "['3M Company',\n",
       " 'Abbott Laboratories',\n",
       " 'AbbVie Inc.',\n",
       " 'Abiomed',\n",
       " 'Accenture',\n",
       " 'Activision Blizzard',\n",
       " 'Adobe Inc.',\n",
       " 'Advanced Micro Devices',\n",
       " 'Advance Auto Parts',\n",
       " 'AES Corp']"
      ]
     },
     "execution_count": 4,
     "metadata": {},
     "output_type": "execute_result"
    }
   ],
   "source": [
    "# Checking companies\n",
    "companies[:10]"
   ]
  },
  {
   "cell_type": "code",
   "execution_count": 37,
   "metadata": {
    "ExecuteTime": {
     "end_time": "2021-03-04T17:19:37.235496Z",
     "start_time": "2021-03-04T17:19:37.105022Z"
    },
    "tags": [
     "parameters"
    ]
   },
   "outputs": [],
   "source": [
    "# Set for script automation\n",
    "inputs = companies"
   ]
  },
  {
   "cell_type": "markdown",
   "metadata": {},
   "source": [
    "# Getting Negative News Data"
   ]
  },
  {
   "cell_type": "code",
   "execution_count": 33,
   "metadata": {
    "ExecuteTime": {
     "end_time": "2021-03-03T22:10:07.966684Z",
     "start_time": "2021-03-03T22:10:07.951336Z"
    }
   },
   "outputs": [],
   "source": [
    "def getting_neg_env_data(companies):\n",
    "\n",
    "    # Reading in api key\n",
    "    api_key = open('/Users/MichaelWirtz/Desktop/pathfile/newsapi_key.txt').read()\n",
    "    # Inputing api key\n",
    "    newsapi = NewsApiClient(api_key=api_key)\n",
    "\n",
    "    polarity_df = pd.DataFrame(columns=['company','neg_env_count'])\n",
    "\n",
    "    for company in companies:\n",
    "        # Get news articles\n",
    "        envi_company = newsapi.get_everything(\n",
    "                       q='environment {}'.format(company),\n",
    "                       language='en',\n",
    "                       sort_by='relevancy')\n",
    "\n",
    "        # Empty list for urls\n",
    "        url_list = []\n",
    "        # Appending urls to list\n",
    "        for i in range(0, len(envi_company['articles'])):\n",
    "            url = env_disaster['articles'][i]['url']\n",
    "            url_list.append(url)\n",
    "\n",
    "        # Getting polarity ratings of articles\n",
    "        negative_polarity_count = 0\n",
    "        for url in url_list:\n",
    "            res = requests.get(url)\n",
    "            html_page = res.content\n",
    "            soup = BeautifulSoup(html_page, 'html.parser')\n",
    "            text = soup.find_all(text=True)\n",
    "\n",
    "            output = ''\n",
    "            blacklist = [\n",
    "                '[document]',\n",
    "                'noscript',\n",
    "                'header',\n",
    "                'html',\n",
    "                'meta',\n",
    "                'head', \n",
    "                'input',\n",
    "                'script',\n",
    "            ]\n",
    "\n",
    "            for t in text:\n",
    "                if t.parent.name not in blacklist:\n",
    "                    output += '{} '.format(t)\n",
    "\n",
    "            output = re.sub(r\"[^A-Za-z]+\",' ',output)\n",
    "            blob = TextBlob(output)\n",
    "            polarity = blob.polarity\n",
    "\n",
    "            if polarity < 0:\n",
    "                negative_polarity_count += 1\n",
    "\n",
    "        polarity_df = polarity_df.append({'company': company,\n",
    "                                          'neg_env_count': negative_polarity_count}, ignore_index=True)\n",
    "\n",
    "        print(company)\n",
    "    \n",
    "    return polarity_df"
   ]
  },
  {
   "cell_type": "code",
   "execution_count": 34,
   "metadata": {
    "ExecuteTime": {
     "end_time": "2021-03-03T22:17:21.857510Z",
     "start_time": "2021-03-03T22:10:25.590162Z"
    }
   },
   "outputs": [
    {
     "name": "stdout",
     "output_type": "stream",
     "text": [
      "3M Company\n",
      "Abbott Laboratories\n",
      "AbbVie Inc.\n",
      "Abiomed\n",
      "Accenture\n",
      "Activision Blizzard\n",
      "Adobe Inc.\n",
      "Advanced Micro Devices\n",
      "Advance Auto Parts\n",
      "AES Corp\n",
      "Aflac\n",
      "Agilent Technologies\n",
      "Air Products & Chemicals\n",
      "Akamai Technologies\n",
      "Alaska Air Group\n",
      "Albemarle Corporation\n",
      "Alexandria Real Estate Equities\n",
      "Alexion Pharmaceuticals\n",
      "Align Technology\n",
      "Allegion\n",
      "Alliant Energy\n",
      "Allstate Corp\n",
      "Alphabet Inc. \n",
      "Altria Group Inc\n",
      "Amazon.com Inc.\n",
      "Amcor\n",
      "Ameren Corp\n",
      "American Airlines Group\n",
      "American Electric Power\n",
      "American Express\n",
      "American International Group\n",
      "American Tower Corp.\n",
      "American Water Works\n",
      "Ameriprise Financial\n",
      "AmerisourceBergen\n",
      "Ametek\n",
      "Amgen Inc.\n",
      "Amphenol Corp\n",
      "Analog Devices, Inc.\n",
      "ANSYS, Inc.\n",
      "Anthem\n",
      "Aon plc\n",
      "A.O. Smith Corp\n",
      "APA Corporation\n",
      "Apple Inc.\n",
      "Applied Materials Inc.\n",
      "Aptiv PLC\n",
      "Archer-Daniels-Midland Co\n",
      "Arista Networks\n",
      "Arthur J. Gallagher & Co.\n",
      "Assurant\n",
      "AT&T Inc.\n",
      "Atmos Energy\n",
      "Autodesk Inc.\n",
      "Automatic Data Processing\n",
      "AutoZone Inc\n",
      "AvalonBay Communities\n",
      "Avery Dennison Corp\n",
      "Baker Hughes Co\n",
      "Ball Corp\n",
      "Bank of America Corp\n",
      "The Bank of New York Mellon\n",
      "Baxter International Inc.\n",
      "Becton Dickinson\n",
      "Berkshire Hathaway\n",
      "Best Buy Co. Inc.\n",
      "Bio-Rad Laboratories\n",
      "Biogen Inc.\n"
     ]
    }
   ],
   "source": [
    "env_data = getting_neg_env_data(companies)"
   ]
  },
  {
   "cell_type": "code",
   "execution_count": 36,
   "metadata": {
    "ExecuteTime": {
     "end_time": "2021-03-03T22:19:55.439504Z",
     "start_time": "2021-03-03T22:19:55.408924Z"
    },
    "scrolled": false
   },
   "outputs": [
    {
     "data": {
      "text/html": [
       "<div>\n",
       "<style scoped>\n",
       "    .dataframe tbody tr th:only-of-type {\n",
       "        vertical-align: middle;\n",
       "    }\n",
       "\n",
       "    .dataframe tbody tr th {\n",
       "        vertical-align: top;\n",
       "    }\n",
       "\n",
       "    .dataframe thead th {\n",
       "        text-align: right;\n",
       "    }\n",
       "</style>\n",
       "<table border=\"1\" class=\"dataframe\">\n",
       "  <thead>\n",
       "    <tr style=\"text-align: right;\">\n",
       "      <th></th>\n",
       "      <th>company</th>\n",
       "      <th>neg_env_count</th>\n",
       "    </tr>\n",
       "  </thead>\n",
       "  <tbody>\n",
       "    <tr>\n",
       "      <th>0</th>\n",
       "      <td>3M Company</td>\n",
       "      <td>1</td>\n",
       "    </tr>\n",
       "    <tr>\n",
       "      <th>18</th>\n",
       "      <td>Align Technology</td>\n",
       "      <td>1</td>\n",
       "    </tr>\n",
       "    <tr>\n",
       "      <th>59</th>\n",
       "      <td>Ball Corp</td>\n",
       "      <td>1</td>\n",
       "    </tr>\n",
       "    <tr>\n",
       "      <th>22</th>\n",
       "      <td>Alphabet Inc.</td>\n",
       "      <td>1</td>\n",
       "    </tr>\n",
       "    <tr>\n",
       "      <th>24</th>\n",
       "      <td>Amazon.com Inc.</td>\n",
       "      <td>1</td>\n",
       "    </tr>\n",
       "    <tr>\n",
       "      <th>...</th>\n",
       "      <td>...</td>\n",
       "      <td>...</td>\n",
       "    </tr>\n",
       "    <tr>\n",
       "      <th>35</th>\n",
       "      <td>Ametek</td>\n",
       "      <td>0</td>\n",
       "    </tr>\n",
       "    <tr>\n",
       "      <th>37</th>\n",
       "      <td>Amphenol Corp</td>\n",
       "      <td>0</td>\n",
       "    </tr>\n",
       "    <tr>\n",
       "      <th>39</th>\n",
       "      <td>ANSYS, Inc.</td>\n",
       "      <td>0</td>\n",
       "    </tr>\n",
       "    <tr>\n",
       "      <th>41</th>\n",
       "      <td>Aon plc</td>\n",
       "      <td>0</td>\n",
       "    </tr>\n",
       "    <tr>\n",
       "      <th>67</th>\n",
       "      <td>Biogen Inc.</td>\n",
       "      <td>0</td>\n",
       "    </tr>\n",
       "  </tbody>\n",
       "</table>\n",
       "<p>68 rows × 2 columns</p>\n",
       "</div>"
      ],
      "text/plain": [
       "             company neg_env_count\n",
       "0         3M Company             1\n",
       "18  Align Technology             1\n",
       "59         Ball Corp             1\n",
       "22    Alphabet Inc.              1\n",
       "24   Amazon.com Inc.             1\n",
       "..               ...           ...\n",
       "35            Ametek             0\n",
       "37     Amphenol Corp             0\n",
       "39       ANSYS, Inc.             0\n",
       "41           Aon plc             0\n",
       "67       Biogen Inc.             0\n",
       "\n",
       "[68 rows x 2 columns]"
      ]
     },
     "execution_count": 36,
     "metadata": {},
     "output_type": "execute_result"
    }
   ],
   "source": [
    "env_data.sort_values(by='neg_env_count', ascending=False)"
   ]
  },
  {
   "cell_type": "code",
   "execution_count": null,
   "metadata": {},
   "outputs": [],
   "source": []
  }
 ],
 "metadata": {
  "kernelspec": {
   "display_name": "learn-env",
   "language": "python",
   "name": "learn-env"
  },
  "language_info": {
   "codemirror_mode": {
    "name": "ipython",
    "version": 3
   },
   "file_extension": ".py",
   "mimetype": "text/x-python",
   "name": "python",
   "nbconvert_exporter": "python",
   "pygments_lexer": "ipython3",
   "version": "3.6.9"
  },
  "toc": {
   "base_numbering": 1,
   "nav_menu": {},
   "number_sections": true,
   "sideBar": true,
   "skip_h1_title": false,
   "title_cell": "Table of Contents",
   "title_sidebar": "Contents",
   "toc_cell": false,
   "toc_position": {},
   "toc_section_display": true,
   "toc_window_display": false
  },
  "varInspector": {
   "cols": {
    "lenName": 16,
    "lenType": 16,
    "lenVar": 40
   },
   "kernels_config": {
    "python": {
     "delete_cmd_postfix": "",
     "delete_cmd_prefix": "del ",
     "library": "var_list.py",
     "varRefreshCmd": "print(var_dic_list())"
    },
    "r": {
     "delete_cmd_postfix": ") ",
     "delete_cmd_prefix": "rm(",
     "library": "var_list.r",
     "varRefreshCmd": "cat(var_dic_list()) "
    }
   },
   "types_to_exclude": [
    "module",
    "function",
    "builtin_function_or_method",
    "instance",
    "_Feature"
   ],
   "window_display": false
  }
 },
 "nbformat": 4,
 "nbformat_minor": 4
}
