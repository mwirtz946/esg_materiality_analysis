{
 "cells": [
  {
   "cell_type": "markdown",
   "metadata": {},
   "source": [
    "# Question: Is the company a good steward of the environment? "
   ]
  },
  {
   "cell_type": "markdown",
   "metadata": {},
   "source": [
    "These days, a company's environmental stewardship is about much more than not actively polluting. Climate change looms large over the globe, and companies that work hard to lighten their carbon footprint are the ones worth considering in our ESG investing framework.\n",
    "\n",
    "Look for specific disclosures of initiatives and goals, and transparency about whether the company is meeting greenhouse-gas emissions goals. A high grade from nonprofit ratings organization CDP (formerly known as the Carbon Disclosure Project) tells you the company is doing its part for the environment. Companies that pursue the use of (or a complete transition to) renewable energy also get high marks here.\n",
    "\n",
    "The environmental piece of the puzzle includes responsible sourcing, and dealing with resource scarcity. For example, is a water-intensive company allocating funds and employees to conserve water? Does a consumer-goods company innovate to use fewer materials, or recycled materials?\n",
    "\n",
    "Internal work is essential, but so is a company's environmental approach to stakeholders, such as customers. Businesses can do good by empowering people to recycle and reuse electronics, or by offering products that help consumers increase their own energy efficiency.\n",
    "\n",
    "While these initiatives can be costly up front, ultimately these efforts will reduce costs for companies implementing them. Robust sustainability reports usually include how much money a company saved via its sustainability initiatives; such savings fly in the face of conventional wisdom, which says being environmentally responsible is too expensive for companies to pursue. Lastly, while eco-friendly initiatives can generate growth, they can also be used as risk-mitigation tools to prevent lawsuits, fines, and burdensome regulation.\n",
    "\n",
    "If a company lacks solid environmental initiatives and goals, is a polluter or waster of natural resources, or exhibits other sustainability problems, we might exclude it from consideration for our ESG portfolio."
   ]
  },
  {
   "cell_type": "markdown",
   "metadata": {},
   "source": [
    "# Data Sources "
   ]
  },
  {
   "cell_type": "markdown",
   "metadata": {},
   "source": [
    "- Sustainability reports \n",
    "- CDP reports"
   ]
  },
  {
   "cell_type": "code",
   "execution_count": null,
   "metadata": {},
   "outputs": [],
   "source": []
  }
 ],
 "metadata": {
  "kernelspec": {
   "display_name": "learn-env",
   "language": "python",
   "name": "learn-env"
  },
  "language_info": {
   "codemirror_mode": {
    "name": "ipython",
    "version": 3
   },
   "file_extension": ".py",
   "mimetype": "text/x-python",
   "name": "python",
   "nbconvert_exporter": "python",
   "pygments_lexer": "ipython3",
   "version": "3.6.9"
  },
  "toc": {
   "base_numbering": 1,
   "nav_menu": {},
   "number_sections": true,
   "sideBar": true,
   "skip_h1_title": false,
   "title_cell": "Table of Contents",
   "title_sidebar": "Contents",
   "toc_cell": false,
   "toc_position": {},
   "toc_section_display": true,
   "toc_window_display": false
  },
  "varInspector": {
   "cols": {
    "lenName": 16,
    "lenType": 16,
    "lenVar": 40
   },
   "kernels_config": {
    "python": {
     "delete_cmd_postfix": "",
     "delete_cmd_prefix": "del ",
     "library": "var_list.py",
     "varRefreshCmd": "print(var_dic_list())"
    },
    "r": {
     "delete_cmd_postfix": ") ",
     "delete_cmd_prefix": "rm(",
     "library": "var_list.r",
     "varRefreshCmd": "cat(var_dic_list()) "
    }
   },
   "types_to_exclude": [
    "module",
    "function",
    "builtin_function_or_method",
    "instance",
    "_Feature"
   ],
   "window_display": false
  }
 },
 "nbformat": 4,
 "nbformat_minor": 4
}
