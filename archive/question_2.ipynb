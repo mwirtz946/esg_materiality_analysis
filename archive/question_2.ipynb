{
 "cells": [
  {
   "cell_type": "markdown",
   "metadata": {},
   "source": [
    "# Question: Is the company a good steward of the environment? "
   ]
  },
  {
   "cell_type": "markdown",
   "metadata": {},
   "source": [
    "These days, a company's environmental stewardship is about much more than not actively polluting. Climate change looms large over the globe, and companies that work hard to lighten their carbon footprint are the ones worth considering in our ESG investing framework.\n",
    "\n",
    "Look for specific disclosures of initiatives and goals, and transparency about whether the company is meeting greenhouse-gas emissions goals. A high grade from nonprofit ratings organization CDP (formerly known as the Carbon Disclosure Project) tells you the company is doing its part for the environment. Companies that pursue the use of (or a complete transition to) renewable energy also get high marks here.\n",
    "\n",
    "The environmental piece of the puzzle includes responsible sourcing, and dealing with resource scarcity. For example, is a water-intensive company allocating funds and employees to conserve water? Does a consumer-goods company innovate to use fewer materials, or recycled materials?\n",
    "\n",
    "Internal work is essential, but so is a company's environmental approach to stakeholders, such as customers. Businesses can do good by empowering people to recycle and reuse electronics, or by offering products that help consumers increase their own energy efficiency.\n",
    "\n",
    "While these initiatives can be costly up front, ultimately these efforts will reduce costs for companies implementing them. Robust sustainability reports usually include how much money a company saved via its sustainability initiatives; such savings fly in the face of conventional wisdom, which says being environmentally responsible is too expensive for companies to pursue. Lastly, while eco-friendly initiatives can generate growth, they can also be used as risk-mitigation tools to prevent lawsuits, fines, and burdensome regulation.\n",
    "\n",
    "If a company lacks solid environmental initiatives and goals, is a polluter or waster of natural resources, or exhibits other sustainability problems, we might exclude it from consideration for our ESG portfolio."
   ]
  },
  {
   "cell_type": "markdown",
   "metadata": {},
   "source": [
    "# Data Sources and Methodology"
   ]
  },
  {
   "cell_type": "markdown",
   "metadata": {},
   "source": [
    "**Source**  \n",
    "News\n",
    "\n",
    "**Methodology**  \n",
    "Because companies are only pushing positive environmental news, I will only search for negative environmental news. I will do this by only using news articles that have a negative polarity score "
   ]
  },
  {
   "cell_type": "markdown",
   "metadata": {},
   "source": [
    "# Imports"
   ]
  },
  {
   "cell_type": "code",
   "execution_count": 68,
   "metadata": {
    "ExecuteTime": {
     "end_time": "2021-02-23T21:43:01.984651Z",
     "start_time": "2021-02-23T21:43:01.977818Z"
    }
   },
   "outputs": [],
   "source": [
    "import selenium\n",
    "import pickle\n",
    "from selenium import webdriver\n",
    "from selenium.webdriver.common.by import By\n",
    "from selenium.webdriver.support.ui import WebDriverWait\n",
    "from selenium.webdriver.support import expected_conditions as EC\n",
    "from selenium.webdriver.common.keys import Keys\n",
    "from selenium.webdriver.common.action_chains import ActionChains\n",
    "import time\n",
    "from bs4 import BeautifulSoup\n",
    "from newsapi import NewsApiClient\n",
    "import requests\n",
    "from bs4 import BeautifulSoup"
   ]
  },
  {
   "cell_type": "code",
   "execution_count": 13,
   "metadata": {
    "ExecuteTime": {
     "end_time": "2021-02-23T20:57:32.137122Z",
     "start_time": "2021-02-23T20:57:32.131791Z"
    }
   },
   "outputs": [],
   "source": [
    "api_key = '9250ac8e64ad4e1387f919db6353cf3d'\n",
    "newsapi = NewsApiClient(api_key='9250ac8e64ad4e1387f919db6353cf3d')"
   ]
  },
  {
   "cell_type": "code",
   "execution_count": 34,
   "metadata": {
    "ExecuteTime": {
     "end_time": "2021-02-23T21:20:14.705676Z",
     "start_time": "2021-02-23T21:20:14.467057Z"
    }
   },
   "outputs": [],
   "source": [
    "env_disaster = newsapi.get_everything(\n",
    "               q='environmental corruption scandal',\n",
    "               language='en',\n",
    "               sort_by='relevancy')"
   ]
  },
  {
   "cell_type": "code",
   "execution_count": 66,
   "metadata": {
    "ExecuteTime": {
     "end_time": "2021-02-23T21:42:18.768200Z",
     "start_time": "2021-02-23T21:42:18.757088Z"
    }
   },
   "outputs": [],
   "source": [
    "url_list = []\n",
    "for i in range(0, len(env_disaster['articles'])):\n",
    "    url = env_disaster['articles'][i]['url']\n",
    "    url_list.append(url)"
   ]
  },
  {
   "cell_type": "code",
   "execution_count": 67,
   "metadata": {
    "ExecuteTime": {
     "end_time": "2021-02-23T21:42:23.188934Z",
     "start_time": "2021-02-23T21:42:23.180146Z"
    }
   },
   "outputs": [
    {
     "data": {
      "text/plain": [
       "['https://www.globalresearch.ca/iraq-biggest-corruption-scandal-history/5734808',\n",
       " 'http://www.brookings.edu/blog/up-front/2021/02/02/corruption-in-utility-bailouts-hurts-ratepayers-and-the-planet/',\n",
       " 'https://oxfamblogs.org/fp2p/seizing-a-window-of-opportunity-lessons-from-research-on-anticorruption-reform/',\n",
       " 'https://newrepublic.com/article/161406/charlie-baker-massachusetts-democratic-party-failure',\n",
       " 'https://www.autosport.com/f1/news/154856/rio-f1-track-plans-shelved-by-city-officials',\n",
       " 'https://www.newsweek.com/merrick-garland-confirmation-hearing-prosecute-white-supremacists-1570825',\n",
       " 'https://www.theonlinecitizen.com/2021/01/29/keppel-offshore-marine-to-exit-rig-building-business-shifts-to-renewable-energy-projects/',\n",
       " 'http://www.euractiv.com/section/politics/news/czechia-to-sue-poland-over-illegal-coal-mining/',\n",
       " 'https://oilprice.com/Latest-Energy-News/World-News/Norways-12-Trillion-Wealth-Fund-To-Fight-Corruption-At-National-Oil-Companies.html',\n",
       " 'https://news.yahoo.com/money-tiny-nation-became-financial-120000502.html',\n",
       " 'https://www.greenbiz.com/article/your-company-good-company',\n",
       " 'https://freerepublic.com/focus/f-news/3929700/posts',\n",
       " 'https://www.globalresearch.ca/role-of-ngos-in-promoting-neo-colonialism/5737800',\n",
       " 'https://www.globalresearch.ca/ecuador-us-backed-coup-supporting-ecosocialist-candidate-yaku-perez-aids-right-wing/5737063',\n",
       " 'https://sinocism.com/p/new-years-banquet-biden-xi-call-imminent',\n",
       " 'https://allafrica.com/stories/202102110482.html',\n",
       " 'https://www.breitbart.com/economy/2021/01/26/flashback-bidens-dhs-nominee-tied-china-visas-sale-scandal/',\n",
       " 'https://crimethinc.com/2021/02/08/puerto-rico-the-road-to-decolonization-disaster-relief-mutual-aid-and-revolt',\n",
       " 'https://thehill.com/homenews/morning-report/535815-the-hills-morning-report',\n",
       " 'https://allafrica.com/stories/202101290869.html']"
      ]
     },
     "execution_count": 67,
     "metadata": {},
     "output_type": "execute_result"
    }
   ],
   "source": [
    "url_list"
   ]
  },
  {
   "cell_type": "code",
   "execution_count": 69,
   "metadata": {
    "ExecuteTime": {
     "end_time": "2021-02-23T21:44:31.688701Z",
     "start_time": "2021-02-23T21:44:15.511043Z"
    }
   },
   "outputs": [
    {
     "name": "stdout",
     "output_type": "stream",
     "text": [
      "0.01914316388336713\n",
      "0.08239396371418847\n",
      "0.15239513437950944\n",
      "0.08921475231355473\n",
      "0.1675704218262358\n",
      "0.0\n",
      "0.10609939313886561\n",
      "0.1243103896103896\n",
      "0.08472472795566013\n",
      "0.11485972039232897\n",
      "0.23423626373626383\n",
      "0.1151330645605455\n",
      "0.07538264051832187\n",
      "0.0722771284460704\n",
      "0.042002711923045784\n",
      "0.10564638373049595\n",
      "0.06928337717572168\n",
      "0.07740558927161799\n",
      "0.10987563566179911\n",
      "0.12624458874458883\n"
     ]
    }
   ],
   "source": [
    "for url in url_list:\n",
    "    res = requests.get(url)\n",
    "    html_page = res.content\n",
    "    soup = BeautifulSoup(html_page, 'html.parser')\n",
    "    text = soup.find_all(text=True)\n",
    "\n",
    "    output = ''\n",
    "    blacklist = [\n",
    "        '[document]',\n",
    "        'noscript',\n",
    "        'header',\n",
    "        'html',\n",
    "        'meta',\n",
    "        'head', \n",
    "        'input',\n",
    "        'script',\n",
    "        # there may be more elements you don't want, such as \"style\", etc.\n",
    "    ]\n",
    "\n",
    "    for t in text:\n",
    "        if t.parent.name not in blacklist:\n",
    "            output += '{} '.format(t)\n",
    "    \n",
    "    output = re.sub(r\"[^A-Za-z]+\",' ',output)\n",
    "    blob = TextBlob(output)\n",
    "    polarity = blob.polarity\n",
    "    print(polarity)"
   ]
  },
  {
   "cell_type": "code",
   "execution_count": null,
   "metadata": {},
   "outputs": [],
   "source": []
  }
 ],
 "metadata": {
  "kernelspec": {
   "display_name": "learn-env",
   "language": "python",
   "name": "learn-env"
  },
  "language_info": {
   "codemirror_mode": {
    "name": "ipython",
    "version": 3
   },
   "file_extension": ".py",
   "mimetype": "text/x-python",
   "name": "python",
   "nbconvert_exporter": "python",
   "pygments_lexer": "ipython3",
   "version": "3.6.9"
  },
  "toc": {
   "base_numbering": 1,
   "nav_menu": {},
   "number_sections": true,
   "sideBar": true,
   "skip_h1_title": false,
   "title_cell": "Table of Contents",
   "title_sidebar": "Contents",
   "toc_cell": false,
   "toc_position": {},
   "toc_section_display": true,
   "toc_window_display": false
  },
  "varInspector": {
   "cols": {
    "lenName": 16,
    "lenType": 16,
    "lenVar": 40
   },
   "kernels_config": {
    "python": {
     "delete_cmd_postfix": "",
     "delete_cmd_prefix": "del ",
     "library": "var_list.py",
     "varRefreshCmd": "print(var_dic_list())"
    },
    "r": {
     "delete_cmd_postfix": ") ",
     "delete_cmd_prefix": "rm(",
     "library": "var_list.r",
     "varRefreshCmd": "cat(var_dic_list()) "
    }
   },
   "types_to_exclude": [
    "module",
    "function",
    "builtin_function_or_method",
    "instance",
    "_Feature"
   ],
   "window_display": false
  }
 },
 "nbformat": 4,
 "nbformat_minor": 4
}
