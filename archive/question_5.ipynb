{
 "cells": [
  {
   "cell_type": "markdown",
   "metadata": {},
   "source": [
    "# Question: Do the company's business model and its investments promote ESG principles?"
   ]
  },
  {
   "cell_type": "markdown",
   "metadata": {},
   "source": [
    "It's great to see companies improve internal processes to become more friendly to stakeholders. But what's even better is when businesses sell products or services that actually help further the goals of ESG investing.\n",
    "\n",
    "Research and development (R&D) spending is technically a cost, but it's better to view it as an important investment in creating innovative new products and services that will spur growth. Using our ESG lens, the kind of R&D we want to see catalyzes responsible and sustainable growth that makes the world a better place.\n",
    "\n",
    "Imagine the invention of a new manufacturing process that not only produces a more popular, higher-margin product, but also yields significantly less manufacturing waste. Or consider a company that specializes in snack foods but devotes dollars to research on creating healthier options, as Indra Nooyi did while CEO of PepsiCo.\n",
    "\n",
    "R&D investments not only result in innovations that make the world a better, healthier place, but they can also attract new customers and new revenue streams, result in higher-margin products and services, and even generate new job opportunities. Obviously, such spending doesn't necessarily translate into higher profits -- a poorly managed company may not generate a meaningful return on R&D spending.\n",
    "\n",
    "Companies lagging in the area of ESG innovation may stagnate, failing to evolve with changing times and becoming ripe for disruption or obsolescence. One of the biggest changes afoot is millennials' interest in investing in companies that are environmentally and socially responsible."
   ]
  },
  {
   "cell_type": "markdown",
   "metadata": {},
   "source": [
    "# Data Sources"
   ]
  },
  {
   "cell_type": "markdown",
   "metadata": {},
   "source": [
    "- Annual reports"
   ]
  },
  {
   "cell_type": "code",
   "execution_count": null,
   "metadata": {},
   "outputs": [],
   "source": []
  }
 ],
 "metadata": {
  "kernelspec": {
   "display_name": "learn-env",
   "language": "python",
   "name": "learn-env"
  },
  "language_info": {
   "codemirror_mode": {
    "name": "ipython",
    "version": 3
   },
   "file_extension": ".py",
   "mimetype": "text/x-python",
   "name": "python",
   "nbconvert_exporter": "python",
   "pygments_lexer": "ipython3",
   "version": "3.6.9"
  },
  "toc": {
   "base_numbering": 1,
   "nav_menu": {},
   "number_sections": true,
   "sideBar": true,
   "skip_h1_title": false,
   "title_cell": "Table of Contents",
   "title_sidebar": "Contents",
   "toc_cell": false,
   "toc_position": {},
   "toc_section_display": true,
   "toc_window_display": false
  },
  "varInspector": {
   "cols": {
    "lenName": 16,
    "lenType": 16,
    "lenVar": 40
   },
   "kernels_config": {
    "python": {
     "delete_cmd_postfix": "",
     "delete_cmd_prefix": "del ",
     "library": "var_list.py",
     "varRefreshCmd": "print(var_dic_list())"
    },
    "r": {
     "delete_cmd_postfix": ") ",
     "delete_cmd_prefix": "rm(",
     "library": "var_list.r",
     "varRefreshCmd": "cat(var_dic_list()) "
    }
   },
   "types_to_exclude": [
    "module",
    "function",
    "builtin_function_or_method",
    "instance",
    "_Feature"
   ],
   "window_display": false
  }
 },
 "nbformat": 4,
 "nbformat_minor": 4
}
