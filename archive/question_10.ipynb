{
 "cells": [
  {
   "cell_type": "markdown",
   "metadata": {},
   "source": [
    "# Question: Does the company have a medium- or lower-risk profile?"
   ]
  },
  {
   "cell_type": "markdown",
   "metadata": {},
   "source": [
    "Fortunately, one of the most effective ways investors can mitigate risk is by studying the company's ESG profile. As part of our business analysis we check for several financial risks including, but not limited to, the following:\n",
    "\n",
    "- Heavy debt loads\n",
    "- Mismanagement or poor leadership\n",
    "- Deteriorating financials (declining revenue, or ROIC that is falling for the wrong reasons)\n",
    "- Commodity exposure\n",
    "- Cyclicality\n",
    "- Business-model risk\n",
    "- Low barriers to entry\n",
    "- Industry headwinds (the opposite of tailwinds -- that is, long-term trends working against the company)\n",
    "- Potential for disruption or obsolescence\n",
    "- Overdependence on one customer or supplier\n",
    "- Consistently weak earnings\n",
    "- Poor customer service\n",
    "- Toxic or unhealthy corporate culture\n",
    "- Lack of data privacy\n",
    "- Lack of transparency\n",
    "- Lack of succession planning\n",
    "- Short-term thinking and underinvestment in R&D and other important areas\n",
    "- Brand or reputational risk\n",
    "- Burdensome regulation"
   ]
  },
  {
   "cell_type": "code",
   "execution_count": null,
   "metadata": {},
   "outputs": [],
   "source": []
  }
 ],
 "metadata": {
  "kernelspec": {
   "display_name": "learn-env",
   "language": "python",
   "name": "learn-env"
  },
  "language_info": {
   "codemirror_mode": {
    "name": "ipython",
    "version": 3
   },
   "file_extension": ".py",
   "mimetype": "text/x-python",
   "name": "python",
   "nbconvert_exporter": "python",
   "pygments_lexer": "ipython3",
   "version": "3.6.9"
  },
  "toc": {
   "base_numbering": 1,
   "nav_menu": {},
   "number_sections": true,
   "sideBar": true,
   "skip_h1_title": false,
   "title_cell": "Table of Contents",
   "title_sidebar": "Contents",
   "toc_cell": false,
   "toc_position": {},
   "toc_section_display": true,
   "toc_window_display": false
  },
  "varInspector": {
   "cols": {
    "lenName": 16,
    "lenType": 16,
    "lenVar": 40
   },
   "kernels_config": {
    "python": {
     "delete_cmd_postfix": "",
     "delete_cmd_prefix": "del ",
     "library": "var_list.py",
     "varRefreshCmd": "print(var_dic_list())"
    },
    "r": {
     "delete_cmd_postfix": ") ",
     "delete_cmd_prefix": "rm(",
     "library": "var_list.r",
     "varRefreshCmd": "cat(var_dic_list()) "
    }
   },
   "types_to_exclude": [
    "module",
    "function",
    "builtin_function_or_method",
    "instance",
    "_Feature"
   ],
   "window_display": false
  }
 },
 "nbformat": 4,
 "nbformat_minor": 4
}
