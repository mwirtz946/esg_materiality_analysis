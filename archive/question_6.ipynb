{
 "cells": [
  {
   "cell_type": "markdown",
   "metadata": {},
   "source": [
    "# Question: Does the company have a healthy balance sheet?"
   ]
  },
  {
   "cell_type": "markdown",
   "metadata": {},
   "source": [
    "The balance sheet is the structural foundation of a business, and we're not willing to bet that a viable company can be built atop a weak foundation. So this is where the financial analysis of a potentially ESG-friendly company begins.\n",
    "\n",
    "While net cash positions are preferable, we'll still give a \"yes\" to companies with net debt, if they're using a prudent and appropriate amount of debt to increase shareholder value (what's \"prudent\" and \"appropriate\" depends on each company's circumstances). In analyzing a company's balance sheet and financial health, we'll examine plenty of factors including, but not limited to:\n",
    "\n",
    "Whether the company has net cash or net debt\n",
    "The reason the company uses debt (is it strategic, or out of necessity?)\n",
    "Management's balance-sheet strategy: does it maintain a lazy balance sheet that drives down returns, or is it appropriately efficient -- or even overly aggressive?\n",
    "Whether the company's debt and net debt levels are increasing or decreasing\n",
    "The cyclical nature and capital intensity of the industry, and the ability of the company's cash flow to pay off its debt\n",
    "The company's cost of debt (the interest rate it pays to borrow money), maturities on its debt (repayment schedules), and whether it can withstand rising interest rates\n",
    "The percentage of debt with a fixed rate versus a variable (floating) rate\n",
    "The amount of corporate debt versus bank debt\n",
    "The size of pension obligations and operating leases\n",
    "The company's credit ratings\n",
    "Ratios including net debt to free cash flow, interest coverage, debt to equity, debt to total capital, net cash to total assets, net cash to market cap, and goodwill (intangibles) to total assets"
   ]
  },
  {
   "cell_type": "code",
   "execution_count": null,
   "metadata": {},
   "outputs": [],
   "source": []
  }
 ],
 "metadata": {
  "kernelspec": {
   "display_name": "learn-env",
   "language": "python",
   "name": "learn-env"
  },
  "language_info": {
   "codemirror_mode": {
    "name": "ipython",
    "version": 3
   },
   "file_extension": ".py",
   "mimetype": "text/x-python",
   "name": "python",
   "nbconvert_exporter": "python",
   "pygments_lexer": "ipython3",
   "version": "3.6.9"
  },
  "toc": {
   "base_numbering": 1,
   "nav_menu": {},
   "number_sections": true,
   "sideBar": true,
   "skip_h1_title": false,
   "title_cell": "Table of Contents",
   "title_sidebar": "Contents",
   "toc_cell": false,
   "toc_position": {},
   "toc_section_display": true,
   "toc_window_display": false
  },
  "varInspector": {
   "cols": {
    "lenName": 16,
    "lenType": 16,
    "lenVar": 40
   },
   "kernels_config": {
    "python": {
     "delete_cmd_postfix": "",
     "delete_cmd_prefix": "del ",
     "library": "var_list.py",
     "varRefreshCmd": "print(var_dic_list())"
    },
    "r": {
     "delete_cmd_postfix": ") ",
     "delete_cmd_prefix": "rm(",
     "library": "var_list.r",
     "varRefreshCmd": "cat(var_dic_list()) "
    }
   },
   "types_to_exclude": [
    "module",
    "function",
    "builtin_function_or_method",
    "instance",
    "_Feature"
   ],
   "window_display": false
  }
 },
 "nbformat": 4,
 "nbformat_minor": 4
}
