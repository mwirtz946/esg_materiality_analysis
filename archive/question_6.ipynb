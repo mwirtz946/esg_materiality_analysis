{
 "cells": [
  {
   "cell_type": "markdown",
   "metadata": {},
   "source": [
    "# Question: Does the company have a healthy balance sheet?"
   ]
  },
  {
   "cell_type": "markdown",
   "metadata": {},
   "source": [
    "The balance sheet is the structural foundation of a business, and we're not willing to bet that a viable company can be built atop a weak foundation. So this is where the financial analysis of a potentially ESG-friendly company begins.\n",
    "\n",
    "While net cash positions are preferable, we'll still give a \"yes\" to companies with net debt, if they're using a prudent and appropriate amount of debt to increase shareholder value (what's \"prudent\" and \"appropriate\" depends on each company's circumstances). In analyzing a company's balance sheet and financial health, we'll examine plenty of factors including, but not limited to:\n",
    "\n",
    "Whether the company has net cash or net debt\n",
    "The reason the company uses debt (is it strategic, or out of necessity?)\n",
    "Management's balance-sheet strategy: does it maintain a lazy balance sheet that drives down returns, or is it appropriately efficient -- or even overly aggressive?\n",
    "Whether the company's debt and net debt levels are increasing or decreasing\n",
    "The cyclical nature and capital intensity of the industry, and the ability of the company's cash flow to pay off its debt\n",
    "The company's cost of debt (the interest rate it pays to borrow money), maturities on its debt (repayment schedules), and whether it can withstand rising interest rates\n",
    "The percentage of debt with a fixed rate versus a variable (floating) rate\n",
    "The amount of corporate debt versus bank debt\n",
    "The size of pension obligations and operating leases\n",
    "The company's credit ratings\n",
    "Ratios including net debt to free cash flow, interest coverage, debt to equity, debt to total capital, net cash to total assets, net cash to market cap, and goodwill (intangibles) to total assets"
   ]
  },
  {
   "cell_type": "markdown",
   "metadata": {},
   "source": [
    "# Data Sources"
   ]
  },
  {
   "cell_type": "markdown",
   "metadata": {},
   "source": [
    "- Yahoo Finance Financial Analysis"
   ]
  },
  {
   "cell_type": "markdown",
   "metadata": {},
   "source": [
    "# Imports"
   ]
  },
  {
   "cell_type": "code",
   "execution_count": 32,
   "metadata": {
    "ExecuteTime": {
     "end_time": "2021-02-10T19:57:52.087090Z",
     "start_time": "2021-02-10T19:57:52.083089Z"
    }
   },
   "outputs": [],
   "source": [
    "import FundamentalAnalysis as fa\n",
    "api_key = '410c9480ef0825c9d063beecf1536923'"
   ]
  },
  {
   "cell_type": "markdown",
   "metadata": {},
   "source": [
    "# Answering Question"
   ]
  },
  {
   "cell_type": "markdown",
   "metadata": {},
   "source": [
    "## Net Debt or Net Cash?"
   ]
  },
  {
   "cell_type": "code",
   "execution_count": 23,
   "metadata": {
    "ExecuteTime": {
     "end_time": "2021-02-10T19:55:01.617991Z",
     "start_time": "2021-02-10T19:55:01.609914Z"
    }
   },
   "outputs": [],
   "source": [
    "def get_net_debt(company, years_ago):\n",
    "    net_debt = int(fa.balance_sheet_statement(company,api_key, 'annual').loc['longTermDebt'][years_ago] + fa.balance_sheet_statement(company,api_key, 'annual').loc['shortTermDebt'][years_ago]) - int(fa.balance_sheet_statement(company,api_key, 'annual').loc['cashAndShortTermInvestments'][years_ago])\n",
    "    return net_debt"
   ]
  },
  {
   "cell_type": "code",
   "execution_count": 42,
   "metadata": {
    "ExecuteTime": {
     "end_time": "2021-02-10T20:13:25.912992Z",
     "start_time": "2021-02-10T20:13:25.431635Z"
    }
   },
   "outputs": [
    {
     "data": {
      "text/plain": [
       "12720000000"
      ]
     },
     "execution_count": 42,
     "metadata": {},
     "output_type": "execute_result"
    }
   ],
   "source": [
    "get_net_debt('AAPL',0)"
   ]
  },
  {
   "cell_type": "markdown",
   "metadata": {},
   "source": [
    "## Strategic or Necessary Debt? "
   ]
  },
  {
   "cell_type": "markdown",
   "metadata": {},
   "source": [
    "## Lazy, Efficient or Overly Aggressive Balance Sheet?"
   ]
  },
  {
   "cell_type": "markdown",
   "metadata": {},
   "source": [
    "## Is Net Debt Increasing or Decreasing?"
   ]
  },
  {
   "cell_type": "code",
   "execution_count": 55,
   "metadata": {
    "ExecuteTime": {
     "end_time": "2021-02-10T20:32:41.067831Z",
     "start_time": "2021-02-10T20:32:41.061058Z"
    }
   },
   "outputs": [],
   "source": [
    "def get_net_debt_change(company, num_years_considered):\n",
    "    net_debts = []\n",
    "    for i in range(0,num_years_considered):\n",
    "        net_debt_last_year = int(fa.balance_sheet_statement(company,api_key, 'annual').loc['longTermDebt'][i+1] + fa.balance_sheet_statement(company,api_key, 'annual').loc['shortTermDebt'][i+1]) - int(fa.balance_sheet_statement(company,api_key, 'annual').loc['cashAndShortTermInvestments'][i+1])\n",
    "        net_debt_this_year = int(fa.balance_sheet_statement(company,api_key, 'annual').loc['longTermDebt'][i] + fa.balance_sheet_statement(company,api_key, 'annual').loc['shortTermDebt'][i]) - int(fa.balance_sheet_statement(company,api_key, 'annual').loc['cashAndShortTermInvestments'][i])\n",
    "        perc_change = (net_debt_last_year - net_debt_this_year) / net_debt_last_year\n",
    "        net_debts.append(perc_change)\n",
    "    \n",
    "    average_net_debt = (sum(net_debts) / len(net_debts))\n",
    "    \n",
    "    return net_debts, average_net_debt\n",
    "        "
   ]
  },
  {
   "cell_type": "code",
   "execution_count": 56,
   "metadata": {
    "ExecuteTime": {
     "end_time": "2021-02-10T20:32:45.434172Z",
     "start_time": "2021-02-10T20:32:41.448539Z"
    },
    "scrolled": true
   },
   "outputs": [
    {
     "data": {
      "text/plain": [
       "([5.592057761732852,\n",
       "  1.070308137468907,\n",
       "  1.7072233790478926,\n",
       "  -0.0028442844284428444,\n",
       "  -0.8152408339324227],\n",
       " 1.5103008319777573)"
      ]
     },
     "execution_count": 56,
     "metadata": {},
     "output_type": "execute_result"
    }
   ],
   "source": [
    "get_net_debt_change('AAPL',5)"
   ]
  },
  {
   "cell_type": "markdown",
   "metadata": {},
   "source": [
    "## Cyclical Nature and Capital Intensity of Industry? "
   ]
  },
  {
   "cell_type": "markdown",
   "metadata": {},
   "source": [
    "## Ability of Cash Flow to Pay Off Debt"
   ]
  },
  {
   "cell_type": "markdown",
   "metadata": {},
   "source": [
    "## Cost of Debt? "
   ]
  },
  {
   "cell_type": "markdown",
   "metadata": {},
   "source": [
    "## Maturities on Debt?"
   ]
  },
  {
   "cell_type": "markdown",
   "metadata": {},
   "source": [
    "## Can Company Withstand Rising Interest Rates?"
   ]
  },
  {
   "cell_type": "markdown",
   "metadata": {},
   "source": [
    "## Fixed Rate Debt vs Variable Rate Debt?"
   ]
  },
  {
   "cell_type": "markdown",
   "metadata": {},
   "source": [
    "## Corporate Debt vs Bank Debt?"
   ]
  },
  {
   "cell_type": "markdown",
   "metadata": {},
   "source": [
    "## Size of Pension Obligations and Operating Leases? "
   ]
  },
  {
   "cell_type": "markdown",
   "metadata": {},
   "source": [
    "## Credit Ratings"
   ]
  },
  {
   "cell_type": "markdown",
   "metadata": {},
   "source": [
    "## Ratios"
   ]
  },
  {
   "cell_type": "markdown",
   "metadata": {},
   "source": [
    "### Net Debt to Free Cash Flow"
   ]
  },
  {
   "cell_type": "markdown",
   "metadata": {},
   "source": [
    "### Interest Coverage"
   ]
  },
  {
   "cell_type": "markdown",
   "metadata": {},
   "source": [
    "### Debt to Equity"
   ]
  },
  {
   "cell_type": "markdown",
   "metadata": {},
   "source": [
    "### Debt to Total Capital"
   ]
  },
  {
   "cell_type": "markdown",
   "metadata": {},
   "source": [
    "### Net Cash to Total Assets"
   ]
  },
  {
   "cell_type": "markdown",
   "metadata": {},
   "source": [
    "### Net Cash to Market Cap"
   ]
  },
  {
   "cell_type": "markdown",
   "metadata": {},
   "source": [
    "### Goodwill (Intangibles) to Total Assets"
   ]
  },
  {
   "cell_type": "code",
   "execution_count": null,
   "metadata": {},
   "outputs": [],
   "source": []
  }
 ],
 "metadata": {
  "kernelspec": {
   "display_name": "learn-env",
   "language": "python",
   "name": "learn-env"
  },
  "language_info": {
   "codemirror_mode": {
    "name": "ipython",
    "version": 3
   },
   "file_extension": ".py",
   "mimetype": "text/x-python",
   "name": "python",
   "nbconvert_exporter": "python",
   "pygments_lexer": "ipython3",
   "version": "3.6.9"
  },
  "toc": {
   "base_numbering": 1,
   "nav_menu": {},
   "number_sections": true,
   "sideBar": true,
   "skip_h1_title": false,
   "title_cell": "Table of Contents",
   "title_sidebar": "Contents",
   "toc_cell": false,
   "toc_position": {},
   "toc_section_display": true,
   "toc_window_display": false
  },
  "varInspector": {
   "cols": {
    "lenName": 16,
    "lenType": 16,
    "lenVar": 40
   },
   "kernels_config": {
    "python": {
     "delete_cmd_postfix": "",
     "delete_cmd_prefix": "del ",
     "library": "var_list.py",
     "varRefreshCmd": "print(var_dic_list())"
    },
    "r": {
     "delete_cmd_postfix": ") ",
     "delete_cmd_prefix": "rm(",
     "library": "var_list.r",
     "varRefreshCmd": "cat(var_dic_list()) "
    }
   },
   "types_to_exclude": [
    "module",
    "function",
    "builtin_function_or_method",
    "instance",
    "_Feature"
   ],
   "window_display": false
  }
 },
 "nbformat": 4,
 "nbformat_minor": 4
}
