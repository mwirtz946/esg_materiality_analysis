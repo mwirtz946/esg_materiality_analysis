{
 "cells": [
  {
   "cell_type": "markdown",
   "metadata": {},
   "source": [
    "# Question: Is the management team focused on driving long-term profitable growth?"
   ]
  },
  {
   "cell_type": "markdown",
   "metadata": {},
   "source": [
    "The goal is to invest in management teams that understand the drivers of business value, and do a good job of growing their businesses in a way that balances top-line (revenue) growth with bottom-line (earnings) and FCF growth. It's important to commit time to analyzing executives' abilities to:\n",
    "\n",
    "think like long-term owners (and to treat shareholders as partners)\n",
    "operate the business efficiently\n",
    "allocate capital intelligently\n",
    "commit to ESG and nurture a uniquely positive culture\n",
    "operate with honesty, transparency, and integrity\n",
    "Many of the fastest-growing companies are earlier in their corporate lifecycles, so they don't yet generate positive earnings or cash flow. It's also true that many companies that are not yet profitable have great founder-led management teams and strong customer-level economics, and will eventually achieve a certain amount of scale resulting in robust profitability and cash flow, leading to multibagger returns for investors.\n",
    "\n",
    "But it's hard to determine with conviction which companies can transition from burning cash today into being free-cash-flow machines tomorrow. Since we've found more than enough companies growing their revenue, net income, and free cash flow at nice clips, ultimately we won't have to sacrifice growth for profitability. Instead, we'll focus on companies that prioritize achieving both.\n",
    "\n",
    "You can find these details by doing rigorous research that includes deep analysis of financial statements, and lots of reading -- the company's SEC filings (including proxy statements), CEO letters, annual reports, earnings-call transcripts, conference presentations, and transcripts of investor days (public events where management teams discuss their businesses with analysts and investors). See what investors you admire think about the company and its management team. ESG investors should also take advantage of any opportunities to speak directly with management. Pay close attention to the language they use and the metrics they highlight, and be sure to analyze any performance metrics to which CEO compensation is tied.\n",
    "\n",
    "Follow the news about the companies you're considering investing in. The media often uncover issues about management teams and companies that reveal warning signs."
   ]
  },
  {
   "cell_type": "code",
   "execution_count": null,
   "metadata": {},
   "outputs": [],
   "source": []
  }
 ],
 "metadata": {
  "kernelspec": {
   "display_name": "learn-env",
   "language": "python",
   "name": "learn-env"
  },
  "language_info": {
   "codemirror_mode": {
    "name": "ipython",
    "version": 3
   },
   "file_extension": ".py",
   "mimetype": "text/x-python",
   "name": "python",
   "nbconvert_exporter": "python",
   "pygments_lexer": "ipython3",
   "version": "3.6.9"
  },
  "toc": {
   "base_numbering": 1,
   "nav_menu": {},
   "number_sections": true,
   "sideBar": true,
   "skip_h1_title": false,
   "title_cell": "Table of Contents",
   "title_sidebar": "Contents",
   "toc_cell": false,
   "toc_position": {},
   "toc_section_display": true,
   "toc_window_display": false
  },
  "varInspector": {
   "cols": {
    "lenName": 16,
    "lenType": 16,
    "lenVar": 40
   },
   "kernels_config": {
    "python": {
     "delete_cmd_postfix": "",
     "delete_cmd_prefix": "del ",
     "library": "var_list.py",
     "varRefreshCmd": "print(var_dic_list())"
    },
    "r": {
     "delete_cmd_postfix": ") ",
     "delete_cmd_prefix": "rm(",
     "library": "var_list.r",
     "varRefreshCmd": "cat(var_dic_list()) "
    }
   },
   "types_to_exclude": [
    "module",
    "function",
    "builtin_function_or_method",
    "instance",
    "_Feature"
   ],
   "window_display": false
  }
 },
 "nbformat": 4,
 "nbformat_minor": 4
}
