{
 "cells": [
  {
   "cell_type": "markdown",
   "metadata": {},
   "source": [
    "# Question: Does the company promote diversity and inclusion?"
   ]
  },
  {
   "cell_type": "markdown",
   "metadata": {},
   "source": [
    "Although many ESG issues may not be financially material to all industries, we believe that diversity and inclusion of all people -- regardless of gender, race, sexual orientation, religion, background, and other similar traits -- is one that can be viewed as material across the board.\n",
    "\n",
    "Embracing different types of people is the moral thing to do, but it's also the best financial thing to do. In 2018, management consulting firm McKinsey & Co. released the report \"Why Diversity Matters\"; it examined data sets from 366 public companies in the U.S., Canada, Latin America, and the U.K. Companies in the top quartile for gender, racial, or ethnic diversity were more likely to generate financial returns above the national medians for their industry; the converse was also true. Meanwhile, McKinsey concluded that \"diversity is probably a competitive differentiator that shifts market share toward more diverse companies over time.\"\n",
    "\n",
    "Why? Plenty of data shows that diverse groups make better decisions than homogeneous ones. Narrow-minded in-group thinking, in which members are more likely to have similar experiences and viewpoints and come to the same conclusions, can be terrible for decision-making. Meanwhile, groups in which many different life experiences and perspectives are represented help set the stage for better decisions.\n",
    "\n",
    "Underlining this principle is the correlation between what a company does and who runs it. For example, if a retailer sells jewelry aimed at female consumers, having an entirely male management team and board of directors would seem absurdly mismatched -- it would result in missing valuable perspectives about the very people it's aiming to attract as customers.\n",
    "\n",
    "In ESG investing, we seek positive elements like a transparent workforce-diversity disclosure (some companies don't disclose their staff makeup at all); composition of its board of directors and executive leadership; and internal programs and policies that foster or support diversity -- adequate paid family leave, professional programs for people of color, and fair hiring practices.\n",
    "\n",
    "Companies with poor diversity statistics, or lawsuits related to discrimination and harassment, will be noted for their heightened risk and probably disqualified from inclusion."
   ]
  },
  {
   "cell_type": "markdown",
   "metadata": {},
   "source": [
    "# Data Sources"
   ]
  },
  {
   "cell_type": "markdown",
   "metadata": {},
   "source": [
    "- SEC Reports"
   ]
  },
  {
   "cell_type": "markdown",
   "metadata": {},
   "source": [
    "# Imports"
   ]
  },
  {
   "cell_type": "code",
   "execution_count": 57,
   "metadata": {
    "ExecuteTime": {
     "end_time": "2021-03-12T18:32:38.819914Z",
     "start_time": "2021-03-12T18:32:38.813025Z"
    }
   },
   "outputs": [],
   "source": [
    "import sec_edgar_downloader\n",
    "from sec_edgar_downloader import Downloader\n",
    "import re\n",
    "import os"
   ]
  },
  {
   "cell_type": "markdown",
   "metadata": {},
   "source": [
    "# Getting Data"
   ]
  },
  {
   "cell_type": "code",
   "execution_count": 3,
   "metadata": {
    "ExecuteTime": {
     "end_time": "2021-03-12T18:05:54.766807Z",
     "start_time": "2021-03-12T18:05:49.630242Z"
    }
   },
   "outputs": [
    {
     "data": {
      "text/plain": [
       "2"
      ]
     },
     "execution_count": 3,
     "metadata": {},
     "output_type": "execute_result"
    }
   ],
   "source": [
    "d = Downloader()\n",
    "d.get('DEF 14A', \n",
    "      'AAPL', \n",
    "      after='2017-01-01',\n",
    "      download_details=False,\n",
    "      query = 'diversity inclusion')"
   ]
  },
  {
   "cell_type": "code",
   "execution_count": 55,
   "metadata": {
    "ExecuteTime": {
     "end_time": "2021-03-12T18:32:20.827032Z",
     "start_time": "2021-03-12T18:32:20.822055Z"
    }
   },
   "outputs": [],
   "source": [
    "text_files = []\n",
    "for root, dirs, files in os.walk(\"/Users/MichaelWirtz/Desktop/portfolio/programming_projects/long_term_trading_bot/archive/sec-edgar-filings/AAPL\"):\n",
    "    for file in files:\n",
    "        if file.endswith(\".txt\"):\n",
    "             text_files.append(os.path.join(root, file))"
   ]
  },
  {
   "cell_type": "code",
   "execution_count": 56,
   "metadata": {
    "ExecuteTime": {
     "end_time": "2021-03-12T18:32:23.762242Z",
     "start_time": "2021-03-12T18:32:23.756538Z"
    }
   },
   "outputs": [
    {
     "data": {
      "text/plain": [
       "['/Users/MichaelWirtz/Desktop/portfolio/programming_projects/long_term_trading_bot/archive/sec-edgar-filings/AAPL/DEF 14A/0001193125-21-001987/full-submission.txt',\n",
       " '/Users/MichaelWirtz/Desktop/portfolio/programming_projects/long_term_trading_bot/archive/sec-edgar-filings/AAPL/DEF 14A/0001193125-19-004664/full-submission.txt']"
      ]
     },
     "execution_count": 56,
     "metadata": {},
     "output_type": "execute_result"
    }
   ],
   "source": [
    "text_files"
   ]
  },
  {
   "cell_type": "code",
   "execution_count": 6,
   "metadata": {
    "ExecuteTime": {
     "end_time": "2021-03-12T18:09:01.390462Z",
     "start_time": "2021-03-12T18:09:01.372988Z"
    }
   },
   "outputs": [],
   "source": [
    "first = open('./sec-edgar-filings/AAPL/DEF 14A/0001193125-19-004664/full-submission.txt').read()\n"
   ]
  },
  {
   "cell_type": "code",
   "execution_count": 21,
   "metadata": {
    "ExecuteTime": {
     "end_time": "2021-03-12T18:13:54.527393Z",
     "start_time": "2021-03-12T18:13:54.453856Z"
    }
   },
   "outputs": [],
   "source": [
    "valids = re.sub(r\"[^a-z]+\", ' ', first)"
   ]
  },
  {
   "cell_type": "code",
   "execution_count": 22,
   "metadata": {
    "ExecuteTime": {
     "end_time": "2021-03-12T18:14:05.235641Z",
     "start_time": "2021-03-12T18:14:05.229250Z"
    }
   },
   "outputs": [
    {
     "data": {
      "text/plain": [
       "9"
      ]
     },
     "execution_count": 22,
     "metadata": {},
     "output_type": "execute_result"
    }
   ],
   "source": [
    "valids.count('diversity') + valids.count('inclusion')"
   ]
  },
  {
   "cell_type": "code",
   "execution_count": null,
   "metadata": {},
   "outputs": [],
   "source": []
  }
 ],
 "metadata": {
  "kernelspec": {
   "display_name": "learn-env",
   "language": "python",
   "name": "learn-env"
  },
  "language_info": {
   "codemirror_mode": {
    "name": "ipython",
    "version": 3
   },
   "file_extension": ".py",
   "mimetype": "text/x-python",
   "name": "python",
   "nbconvert_exporter": "python",
   "pygments_lexer": "ipython3",
   "version": "3.6.9"
  },
  "toc": {
   "base_numbering": 1,
   "nav_menu": {},
   "number_sections": true,
   "sideBar": true,
   "skip_h1_title": false,
   "title_cell": "Table of Contents",
   "title_sidebar": "Contents",
   "toc_cell": false,
   "toc_position": {},
   "toc_section_display": true,
   "toc_window_display": false
  },
  "varInspector": {
   "cols": {
    "lenName": 16,
    "lenType": 16,
    "lenVar": 40
   },
   "kernels_config": {
    "python": {
     "delete_cmd_postfix": "",
     "delete_cmd_prefix": "del ",
     "library": "var_list.py",
     "varRefreshCmd": "print(var_dic_list())"
    },
    "r": {
     "delete_cmd_postfix": ") ",
     "delete_cmd_prefix": "rm(",
     "library": "var_list.r",
     "varRefreshCmd": "cat(var_dic_list()) "
    }
   },
   "types_to_exclude": [
    "module",
    "function",
    "builtin_function_or_method",
    "instance",
    "_Feature"
   ],
   "window_display": false
  }
 },
 "nbformat": 4,
 "nbformat_minor": 4
}
