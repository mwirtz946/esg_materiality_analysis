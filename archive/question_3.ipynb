{
 "cells": [
  {
   "cell_type": "markdown",
   "metadata": {},
   "source": [
    "# Question: Does the company promote diversity and inclusion?"
   ]
  },
  {
   "cell_type": "markdown",
   "metadata": {},
   "source": [
    "Although many ESG issues may not be financially material to all industries, we believe that diversity and inclusion of all people -- regardless of gender, race, sexual orientation, religion, background, and other similar traits -- is one that can be viewed as material across the board.\n",
    "\n",
    "Embracing different types of people is the moral thing to do, but it's also the best financial thing to do. In 2018, management consulting firm McKinsey & Co. released the report \"Why Diversity Matters\"; it examined data sets from 366 public companies in the U.S., Canada, Latin America, and the U.K. Companies in the top quartile for gender, racial, or ethnic diversity were more likely to generate financial returns above the national medians for their industry; the converse was also true. Meanwhile, McKinsey concluded that \"diversity is probably a competitive differentiator that shifts market share toward more diverse companies over time.\"\n",
    "\n",
    "Why? Plenty of data shows that diverse groups make better decisions than homogeneous ones. Narrow-minded in-group thinking, in which members are more likely to have similar experiences and viewpoints and come to the same conclusions, can be terrible for decision-making. Meanwhile, groups in which many different life experiences and perspectives are represented help set the stage for better decisions.\n",
    "\n",
    "Underlining this principle is the correlation between what a company does and who runs it. For example, if a retailer sells jewelry aimed at female consumers, having an entirely male management team and board of directors would seem absurdly mismatched -- it would result in missing valuable perspectives about the very people it's aiming to attract as customers.\n",
    "\n",
    "In ESG investing, we seek positive elements like a transparent workforce-diversity disclosure (some companies don't disclose their staff makeup at all); composition of its board of directors and executive leadership; and internal programs and policies that foster or support diversity -- adequate paid family leave, professional programs for people of color, and fair hiring practices.\n",
    "\n",
    "Companies with poor diversity statistics, or lawsuits related to discrimination and harassment, will be noted for their heightened risk and probably disqualified from inclusion."
   ]
  },
  {
   "cell_type": "markdown",
   "metadata": {},
   "source": [
    "# Data Sources"
   ]
  },
  {
   "cell_type": "markdown",
   "metadata": {},
   "source": [
    "- SEC Reports "
   ]
  },
  {
   "cell_type": "markdown",
   "metadata": {},
   "source": [
    "# Imports"
   ]
  },
  {
   "cell_type": "code",
   "execution_count": 4,
   "metadata": {
    "ExecuteTime": {
     "end_time": "2021-03-12T19:16:22.382656Z",
     "start_time": "2021-03-12T19:16:22.368748Z"
    }
   },
   "outputs": [],
   "source": [
    "import sec_edgar_downloader\n",
    "from sec_edgar_downloader import Downloader\n",
    "import re\n",
    "import os\n",
    "import shutil\n",
    "import pandas as pd\n",
    "import requests\n",
    "from bs4 import BeautifulSoup"
   ]
  },
  {
   "cell_type": "markdown",
   "metadata": {},
   "source": [
    "# Getting Company Ticker Symbols"
   ]
  },
  {
   "cell_type": "code",
   "execution_count": 5,
   "metadata": {
    "ExecuteTime": {
     "end_time": "2021-03-12T19:16:24.296002Z",
     "start_time": "2021-03-12T19:16:23.145348Z"
    }
   },
   "outputs": [],
   "source": [
    "# Getting site\n",
    "page = requests.get('https://en.wikipedia.org/wiki/List_of_S%26P_500_companies')\n",
    "soup = BeautifulSoup(page.content, 'html.parser')\n",
    "\n",
    "# Finding table\n",
    "table = soup.find(id='constituents').tbody\n",
    "\n",
    "# Getting table rows\n",
    "table_rows = table.find_all('tr')\n",
    "\n",
    "# Finding company ticker in row\n",
    "companies = []\n",
    "for row in table_rows[1:70]:\n",
    "    elements = row.find_all('td')\n",
    "    company = elements[0].text\n",
    "    company = company.replace('\\n','')\n",
    "    companies.append(company)"
   ]
  },
  {
   "cell_type": "markdown",
   "metadata": {},
   "source": [
    "# Getting Data"
   ]
  },
  {
   "cell_type": "code",
   "execution_count": 8,
   "metadata": {
    "ExecuteTime": {
     "end_time": "2021-03-12T19:33:41.782245Z",
     "start_time": "2021-03-12T19:33:41.771340Z"
    }
   },
   "outputs": [],
   "source": [
    "def get_dandi_df(companies):\n",
    "    \n",
    "    dandi_df = pd.DataFrame(columns=['company','diversity_inclusion_mentions'])\n",
    "    \n",
    "    for company in companies:\n",
    "        try:\n",
    "            d = Downloader()\n",
    "            d.get('DEF 14A', \n",
    "                  '{}'.format(company), \n",
    "                  after='2015-01-01',\n",
    "                  download_details=False,\n",
    "                  query = 'diversity inclusion')\n",
    "\n",
    "            text_files = []\n",
    "            for root, dirs, files in os.walk(\"/Users/MichaelWirtz/Desktop/portfolio/programming_projects/long_term_trading_bot/archive/sec-edgar-filings/{}\".format(company)):\n",
    "                for file in files:\n",
    "                    if file.endswith(\".txt\"):\n",
    "                         text_files.append(os.path.join(root, file))\n",
    "\n",
    "            dandi_count = 0\n",
    "\n",
    "            for file in text_files:\n",
    "                content = open(file).read()\n",
    "                valids = re.sub(r\"[^a-z]+\", ' ', content)\n",
    "                content_count = valids.count('diversity') + valids.count('inclusion')\n",
    "                dandi_count += content_count\n",
    "\n",
    "            dandi_df = dandi_df.append({'company': company,\n",
    "                                        'diversity_inclusion_mentions': dandi_count}, ignore_index=True)\n",
    "\n",
    "            shutil.rmtree('./sec-edgar-filings')\n",
    "        except:\n",
    "            dandi_df = dandi_df.append({'company': company,\n",
    "                                        'diversity_inclusion_mentions': 0}, ignore_index=True)\n",
    "    \n",
    "    dandi_df = dandi_df.sort_values(by='diversity_inclusion_mentions', ascending=False)\n",
    "    \n",
    "    return dandi_df  "
   ]
  },
  {
   "cell_type": "code",
   "execution_count": 9,
   "metadata": {
    "ExecuteTime": {
     "end_time": "2021-03-12T19:45:38.751711Z",
     "start_time": "2021-03-12T19:33:44.278310Z"
    }
   },
   "outputs": [
    {
     "data": {
      "text/html": [
       "<div>\n",
       "<style scoped>\n",
       "    .dataframe tbody tr th:only-of-type {\n",
       "        vertical-align: middle;\n",
       "    }\n",
       "\n",
       "    .dataframe tbody tr th {\n",
       "        vertical-align: top;\n",
       "    }\n",
       "\n",
       "    .dataframe thead th {\n",
       "        text-align: right;\n",
       "    }\n",
       "</style>\n",
       "<table border=\"1\" class=\"dataframe\">\n",
       "  <thead>\n",
       "    <tr style=\"text-align: right;\">\n",
       "      <th></th>\n",
       "      <th>company</th>\n",
       "      <th>diversity_inclusion_mentions</th>\n",
       "    </tr>\n",
       "  </thead>\n",
       "  <tbody>\n",
       "    <tr>\n",
       "      <th>11</th>\n",
       "      <td>A</td>\n",
       "      <td>757</td>\n",
       "    </tr>\n",
       "    <tr>\n",
       "      <th>52</th>\n",
       "      <td>T</td>\n",
       "      <td>431</td>\n",
       "    </tr>\n",
       "    <tr>\n",
       "      <th>68</th>\n",
       "      <td>BIO</td>\n",
       "      <td>277</td>\n",
       "    </tr>\n",
       "    <tr>\n",
       "      <th>62</th>\n",
       "      <td>BK</td>\n",
       "      <td>238</td>\n",
       "    </tr>\n",
       "    <tr>\n",
       "      <th>61</th>\n",
       "      <td>BAC</td>\n",
       "      <td>237</td>\n",
       "    </tr>\n",
       "    <tr>\n",
       "      <th>...</th>\n",
       "      <td>...</td>\n",
       "      <td>...</td>\n",
       "    </tr>\n",
       "    <tr>\n",
       "      <th>53</th>\n",
       "      <td>ATO</td>\n",
       "      <td>24</td>\n",
       "    </tr>\n",
       "    <tr>\n",
       "      <th>34</th>\n",
       "      <td>AMP</td>\n",
       "      <td>14</td>\n",
       "    </tr>\n",
       "    <tr>\n",
       "      <th>26</th>\n",
       "      <td>AMCR</td>\n",
       "      <td>11</td>\n",
       "    </tr>\n",
       "    <tr>\n",
       "      <th>65</th>\n",
       "      <td>BRK.B</td>\n",
       "      <td>0</td>\n",
       "    </tr>\n",
       "    <tr>\n",
       "      <th>66</th>\n",
       "      <td>BRK.B</td>\n",
       "      <td>0</td>\n",
       "    </tr>\n",
       "  </tbody>\n",
       "</table>\n",
       "<p>70 rows × 2 columns</p>\n",
       "</div>"
      ],
      "text/plain": [
       "   company diversity_inclusion_mentions\n",
       "11       A                          757\n",
       "52       T                          431\n",
       "68     BIO                          277\n",
       "62      BK                          238\n",
       "61     BAC                          237\n",
       "..     ...                          ...\n",
       "53     ATO                           24\n",
       "34     AMP                           14\n",
       "26    AMCR                           11\n",
       "65   BRK.B                            0\n",
       "66   BRK.B                            0\n",
       "\n",
       "[70 rows x 2 columns]"
      ]
     },
     "execution_count": 9,
     "metadata": {},
     "output_type": "execute_result"
    }
   ],
   "source": [
    "get_dandi_df(companies)"
   ]
  }
 ],
 "metadata": {
  "kernelspec": {
   "display_name": "learn-env",
   "language": "python",
   "name": "learn-env"
  },
  "language_info": {
   "codemirror_mode": {
    "name": "ipython",
    "version": 3
   },
   "file_extension": ".py",
   "mimetype": "text/x-python",
   "name": "python",
   "nbconvert_exporter": "python",
   "pygments_lexer": "ipython3",
   "version": "3.6.9"
  },
  "toc": {
   "base_numbering": 1,
   "nav_menu": {},
   "number_sections": true,
   "sideBar": true,
   "skip_h1_title": false,
   "title_cell": "Table of Contents",
   "title_sidebar": "Contents",
   "toc_cell": false,
   "toc_position": {},
   "toc_section_display": true,
   "toc_window_display": false
  },
  "varInspector": {
   "cols": {
    "lenName": 16,
    "lenType": 16,
    "lenVar": 40
   },
   "kernels_config": {
    "python": {
     "delete_cmd_postfix": "",
     "delete_cmd_prefix": "del ",
     "library": "var_list.py",
     "varRefreshCmd": "print(var_dic_list())"
    },
    "r": {
     "delete_cmd_postfix": ") ",
     "delete_cmd_prefix": "rm(",
     "library": "var_list.r",
     "varRefreshCmd": "cat(var_dic_list()) "
    }
   },
   "types_to_exclude": [
    "module",
    "function",
    "builtin_function_or_method",
    "instance",
    "_Feature"
   ],
   "window_display": false
  }
 },
 "nbformat": 4,
 "nbformat_minor": 4
}
