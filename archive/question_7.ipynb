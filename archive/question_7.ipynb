{
 "cells": [
  {
   "cell_type": "markdown",
   "metadata": {},
   "source": [
    "# Question: Can the company generate organic revenue growth supported by long-term tailwinds?"
   ]
  },
  {
   "cell_type": "markdown",
   "metadata": {},
   "source": [
    "The intrinsic value of a business is equal to the present value of its future free cash flow. Don't get too bogged down with discounting cash flow (DCF) -- it's better to focus on finding companies with growing free cash flows, and hence growing business value. FCF is determined by future return on invested capital (ROIC) and revenue growth, so revenue growth is one of two primary drivers of business value, and ultimately stock prices. An acceleration of the top-line growth rate can also be an indication that a company is gaining market share, or that it has significant pricing power.\n",
    "\n",
    "Usually, we prefer to see that most revenue growth is organic, meaning it doesn't come from acquisitions. Organic growth indicates that the company's investments and innovations are largely driving demand for its products or services.\n",
    "\n",
    "Coveting mergers and acquisitions (M&A) is a blind spot that can lead to poor decision-making by investors. Acquisitions can cause problems if a company takes on massive debt or pays an inflated price for its target, or if the deal sucks up management's time, crowding out other important corporate functions. Acquisitions can also lead to integration issues or cultural challenges. Wall Street, the media, and most investors love acquisitions because they're exciting, and investment banks can generate fees for helping put deals together.\n",
    "\n",
    "One form of M&A activity is the \"roll-up,\" in which a company acquires several smaller companies and merges them together. Be especially wary of serial acquirers that pursue a roll-up strategy to drive growth in EBITDA (earnings before interest, taxes, depreciation, and amortization) and EPS (earnings per share), often at the expense of FCF and return on capital. Roll-ups must pursue larger and larger acquisitions to maintain the EPS growth and the price-to-earnings multiple (P/E) that the market has come to expect. At some point the growth will slow, the stock price and the P/E drop, and it becomes more expensive for the company to use its shares as a currency to buy other companies. When that happens, it typically takes on debt to make larger acquisitions (sometimes debt is also needed to make up for the negative free cash flow) and its risk profile usually takes a turn for the worse. If the company takes on too much leverage, or it becomes clear that the roll-up strategy is running out of steam, the market can be brutal in crushing the stock.\n",
    "\n",
    "More than 60% of mergers and acquisitions (M&A) deals destroy shareholder value, according to a 2016 article in the Harvard Business Review. Further, in the article Capital Allocation, Michael Mauboussin and Dan Callahan write, “Research by McKinsey concluded that about one-third of deals create value for acquirers, and the other two-thirds are value neutral or value destructive.” Also, the book Valuation by McKinsey says, “Many acquisitions are earnings accretive but destroy value.”\n",
    "\n",
    "Sure, some acquisitions create value, and certain companies are experts at building shareholder value through acquisitions. But our conservative nature makes us more comfortable with growth that is internally generated and supercharged by operating in growing markets.\n",
    "\n",
    "To hammer home the importance of top-line growth, let's listen to the experts:\n",
    "\n",
    "\"Always start with the key drivers of value: return on invested capital (ROIC) and revenue growth,\" says McKinsey's book Valuation.\n",
    "The McKinsey article \"The Real Business of Business\" says: \"We've found, empirically, that long-term revenue growth -- particularly organic revenue growth -- is the most important driver of shareholder returns for companies with high returns on capital (though not for companies with low returns on capital).\" The most important driver for companies with low ROIC is to increase ROIC, because growth destroys value if the company's ROIC is less than its cost of capital.\n",
    "\"Sales growth is the most important driver of value for most companies,\" wrote Mauboussin, former head of global financial strategies at Credit Suisse.\n",
    "Bill Miller, an investor who beat the S&P 500 for 15 consecutive years, said: \"If you look at the old DuPont formula to aggregate the source of returns ... if you earn above your cost of capital with other things equal in that formula, the revenue growth rate represents the growth of value in the underlying business. So, the faster the revenue growth, the greater the value appreciates.\"\n",
    "The Motley Fool's co-founder Tom Gardner said: \"I believe that the greatest investments of our lives will be into companies with superlative top-line growth rates extended over long periods of time. Great companies foster and serve high rates of demand.\"\n",
    "Finally, we prefer organic revenue growth powered by long-duration secular trends, also called positive long-term tailwinds. Being on the right side of tailwinds can insulate a company from cyclical pressures and keep it from being dependent on short-term fads. It's much easier for a company to grow if it's riding a powerful wave, rather than trying to swim against the current. Long-term trends can help a business maintain high growth longer than the market expects.\n",
    "\n",
    "Prolific writer William S. Burroughs wrote in his book about addiction, Junky: \"When you stop growing you start dying.\" Sean Stannard-Stockton at Ensemble Capital elaborated on this quote by applying it to business:\n",
    "\n",
    "Once [companies'] ongoing growth rate slows down they hit what might be thought of as \"stall speed.\" In aerodynamics, the stall speed is the minimum speed at which an aircraft must travel to remain in flight. If it slows to a speed below this rate, it will stall and eventually crash.\n",
    "\n",
    "For companies, if they stop growing as fast as the economy grows they start slowly losing share of their customers' wallet. They start losing relevance and as they are left behind by new competitors, their customers start thinking about them less and less and growth continues to slow before finally going into decline.\n",
    "\n",
    "This explains our dedication to companies with leadership positions in a large and growing market, and why we analyze the macro-level and micro-level drivers of a business's top-line growth. At the micro level, when we analyze a single business, we spend a lot of time evaluating its pricing power, recurring revenue, innovation culture, and long-term mind-set; we focus particularly on the company's opportunities to reinvest capital at high rates of return in order to drive organic revenue growth, and grow earnings and FCF far into the future.\n",
    "\n",
    "Among the secular trends that interest us most are all the facets of the digital revolution; these include cloud and software-as-a-service (SaaS) computing, digital marketing and advertising, e-commerce, digital payments, artificial intelligence (AI), big-data analytics, and industrial automation. We're also interested in the sustainability trend in all industries.\n",
    "\n",
    "Think of huge companies with legacy businesses that are evolving to be more sustainable: They're taking hard looks at their businesses and their operations and processes, to avoid resting on \"what always worked before,\" while also protecting themselves against competition and disruption. Furthermore, business behemoths can really move the needle on environmental and other important issues by throwing their weight and money behind ESG principles."
   ]
  },
  {
   "cell_type": "code",
   "execution_count": null,
   "metadata": {},
   "outputs": [],
   "source": []
  }
 ],
 "metadata": {
  "kernelspec": {
   "display_name": "learn-env",
   "language": "python",
   "name": "learn-env"
  },
  "language_info": {
   "codemirror_mode": {
    "name": "ipython",
    "version": 3
   },
   "file_extension": ".py",
   "mimetype": "text/x-python",
   "name": "python",
   "nbconvert_exporter": "python",
   "pygments_lexer": "ipython3",
   "version": "3.6.9"
  },
  "toc": {
   "base_numbering": 1,
   "nav_menu": {},
   "number_sections": true,
   "sideBar": true,
   "skip_h1_title": false,
   "title_cell": "Table of Contents",
   "title_sidebar": "Contents",
   "toc_cell": false,
   "toc_position": {},
   "toc_section_display": true,
   "toc_window_display": false
  },
  "varInspector": {
   "cols": {
    "lenName": 16,
    "lenType": 16,
    "lenVar": 40
   },
   "kernels_config": {
    "python": {
     "delete_cmd_postfix": "",
     "delete_cmd_prefix": "del ",
     "library": "var_list.py",
     "varRefreshCmd": "print(var_dic_list())"
    },
    "r": {
     "delete_cmd_postfix": ") ",
     "delete_cmd_prefix": "rm(",
     "library": "var_list.r",
     "varRefreshCmd": "cat(var_dic_list()) "
    }
   },
   "types_to_exclude": [
    "module",
    "function",
    "builtin_function_or_method",
    "instance",
    "_Feature"
   ],
   "window_display": false
  }
 },
 "nbformat": 4,
 "nbformat_minor": 4
}
