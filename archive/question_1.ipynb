{
 "cells": [
  {
   "cell_type": "markdown",
   "metadata": {},
   "source": [
    "# Question: Does the company treat its employees well? "
   ]
  },
  {
   "cell_type": "markdown",
   "metadata": {},
   "source": [
    "This section relates to cultural aspects of the companies being examined, including the chief concern: how employees are treated. We also consider worker safety; fair pay and benefits; opportunities for development, training, and advancement; and other aspects that impact the company's workers.\n",
    "\n",
    "Employees are the lifeblood of a company. Happy, healthy, and valued employees are more willing and able to do higher-quality work, be enthusiastic brand evangelists, unleash their creativity to invent better services and solutions, and innovate to improve the company. Employees should be viewed as valuable assets to invest in continually, not expendable \"resources\" or drags on the bottom line. (The \"bottom line\" is net profit -- a company's income after all expenses have been deducted from revenue.)\n",
    "\n",
    "Companies that excel at engaging their employees actually achieve per-share earnings growth more than four times that of their rivals, according to Gallup. Compared to companies in the bottom quartile, the top-quartile companies (based on employee engagement) generate higher customer engagement, higher productivity, better retention, fewer accidents, and 21% higher profitability.\n",
    "\n",
    "Even though Wall Street tends to cheer when companies lay off workers, high employee turnover is actually an expense to be avoided. Not only is it a financial cost -- think about severance packages, and the costs of recruiting and training new employees as well as retraining remaining workers -- but the loss of intellectual capital is also a poor outcome for employers.\n",
    "\n",
    "Company websites and sustainability reports can help you assess this factor. Also look for publications from organizations that rate companies on worker treatment, such as Fortune's annual list of \"100 Best Companies to Work For\" and Forbes' \"Just 100\" list.\n",
    "\n",
    "We also look for negative elements, like shoddy employment treatment; contentious relationships with unions; lawsuits or controversies about discrimination; harassment or wage theft; and other behavior that indicates poor employee relations, like serial layoffs or constant restructuring. These kinds of red flags might disqualify a company for inclusion in our ESG portfolio."
   ]
  },
  {
   "cell_type": "markdown",
   "metadata": {},
   "source": [
    "# Data Sources"
   ]
  },
  {
   "cell_type": "markdown",
   "metadata": {},
   "source": [
    "Possible Sites to Aggregate Employee Reviews:\n",
    "- Glassdoor \n",
    "- Indeed\n",
    "- Vault \n",
    "- CareerBliss\n",
    "- Kununu\n",
    "- JobAdvisor\n",
    "- Ratemyemployer\n",
    "- TheJobCrowd\n",
    "- LookBeforeYouLeap\n",
    "- Comparably\n",
    "- Yelp"
   ]
  },
  {
   "cell_type": "markdown",
   "metadata": {},
   "source": [
    "# Imports"
   ]
  },
  {
   "cell_type": "code",
   "execution_count": 5,
   "metadata": {
    "ExecuteTime": {
     "end_time": "2021-02-10T23:28:01.998432Z",
     "start_time": "2021-02-10T23:28:01.778625Z"
    }
   },
   "outputs": [],
   "source": [
    "# All necessary imports\n",
    "from bs4 import BeautifulSoup\n",
    "import selenium\n",
    "from selenium import webdriver\n",
    "from selenium.webdriver.common.by import By\n",
    "from selenium.webdriver.support.ui import WebDriverWait\n",
    "from selenium.webdriver.support import expected_conditions as EC\n",
    "from selenium.webdriver.chrome.options import Options\n",
    "from selenium.webdriver.common.keys import Keys\n",
    "from selenium.webdriver.common.action_chains import ActionChains\n",
    "import time\n",
    "import requests\n",
    "import pandas as pd\n",
    "import pickle\n",
    "import newspaper"
   ]
  },
  {
   "cell_type": "markdown",
   "metadata": {},
   "source": [
    "# Data Collection"
   ]
  },
  {
   "cell_type": "markdown",
   "metadata": {},
   "source": [
    "## Employee Satisfaction"
   ]
  },
  {
   "cell_type": "code",
   "execution_count": 2,
   "metadata": {
    "ExecuteTime": {
     "end_time": "2021-02-10T23:17:09.838552Z",
     "start_time": "2021-02-10T23:17:09.832870Z"
    }
   },
   "outputs": [],
   "source": [
    "companies = ['Apple']"
   ]
  },
  {
   "cell_type": "code",
   "execution_count": 3,
   "metadata": {
    "ExecuteTime": {
     "end_time": "2021-02-10T23:17:11.130791Z",
     "start_time": "2021-02-10T23:17:11.116742Z"
    }
   },
   "outputs": [],
   "source": [
    "def get_indeed_reviews(companies):\n",
    "    \n",
    "    # Create empty dataframe\n",
    "    indeed_reviews = pd.DataFrame(columns=['company','work_life_balance','pay_and_benefits','job_security_and_advancement','management','culture','composite_score'])\n",
    "    \n",
    "    # Set path to chromedriver\n",
    "    PATH = \"/Users/MichaelWirtz/Desktop/pathfile/chromedriver_2\"\n",
    "    # Define options \n",
    "    options = Options()\n",
    "    # Remove pop up window\n",
    "    options.add_argument(\"--headless\")\n",
    "    # Define driver\n",
    "    driver = webdriver.Chrome(PATH, options=options)\n",
    "    # # Define driver\n",
    "    # driver = webdriver.Chrome(PATH)\n",
    "    driver.set_window_size(1080,800)\n",
    "    # Define url\n",
    "    url= \"https://www.indeed.com/?from=gnav-acme--acme-webapp\"\n",
    "    # Get website\n",
    "    driver.get(url)\n",
    "    \n",
    "    for company in companies:\n",
    "        # Find search bar\n",
    "        search_bar = driver.find_element_by_xpath('//*[@id=\"text-input-what\"]')\n",
    "        # Clear search bar\n",
    "        search_bar.clear()\n",
    "        # Enter company name into search bar\n",
    "        search_bar.send_keys(company)\n",
    "        # Search company\n",
    "        search_bar.send_keys(Keys.ENTER)\n",
    "        time.sleep(3)\n",
    "        try:\n",
    "            exit_button = driver.find_element_by_xpath('//*[@id=\"popover-x\"]/button')\n",
    "            exit_button.click()\n",
    "        except:\n",
    "            pass\n",
    "        # Find Reviews\n",
    "        driver.find_element_by_link_text('Reviews').click()\n",
    "        # Define variables for employee ratings\n",
    "        work_life_balance = float(driver.find_element_by_xpath('//*[@id=\"cmp-container\"]/div/div[1]/main/div/div[2]/div[1]/div[2]/div[2]/div[1]/a/span[1]').text)\n",
    "        pay_and_benefits = float(driver.find_element_by_xpath('//*[@id=\"cmp-container\"]/div/div[1]/main/div/div[2]/div[1]/div[2]/div[2]/div[2]/a/span[1]').text)\n",
    "        job_security_and_advancement = float(driver.find_element_by_xpath('//*[@id=\"cmp-container\"]/div/div[1]/main/div/div[2]/div[1]/div[2]/div[2]/div[3]/a/span[1]').text)\n",
    "        management = float(driver.find_element_by_xpath('//*[@id=\"cmp-container\"]/div/div[1]/main/div/div[2]/div[1]/div[2]/div[2]/div[4]/a/span[1]').text)\n",
    "        culture = float(driver.find_element_by_xpath('//*[@id=\"cmp-container\"]/div/div[1]/main/div/div[2]/div[1]/div[2]/div[2]/div[5]/a/span[1]').text)\n",
    "        composite_score = (work_life_balance+pay_and_benefits+job_security_and_advancement+management+culture) / 25\n",
    "        \n",
    "        # Append new data to dataframe\n",
    "        indeed_reviews = indeed_reviews.append({'company': company,\n",
    "                                                'work_life_balance': work_life_balance,\n",
    "                                                'pay_and_benefits': pay_and_benefits,\n",
    "                                                'job_security_and_advancement': job_security_and_advancement,\n",
    "                                                'management': management,\n",
    "                                                'culture': culture,\n",
    "                                                'composite_score': composite_score}, ignore_index=True)\n",
    "        \n",
    "        time.sleep(1)\n",
    "        driver.back()\n",
    "        time.sleep(1)\n",
    "        driver.back()\n",
    "        time.sleep(1)\n",
    "    \n",
    "    return indeed_reviews\n",
    "    "
   ]
  },
  {
   "cell_type": "code",
   "execution_count": 4,
   "metadata": {
    "ExecuteTime": {
     "end_time": "2021-02-10T23:17:24.778241Z",
     "start_time": "2021-02-10T23:17:12.526774Z"
    },
    "scrolled": true
   },
   "outputs": [
    {
     "data": {
      "text/html": [
       "<div>\n",
       "<style scoped>\n",
       "    .dataframe tbody tr th:only-of-type {\n",
       "        vertical-align: middle;\n",
       "    }\n",
       "\n",
       "    .dataframe tbody tr th {\n",
       "        vertical-align: top;\n",
       "    }\n",
       "\n",
       "    .dataframe thead th {\n",
       "        text-align: right;\n",
       "    }\n",
       "</style>\n",
       "<table border=\"1\" class=\"dataframe\">\n",
       "  <thead>\n",
       "    <tr style=\"text-align: right;\">\n",
       "      <th></th>\n",
       "      <th>company</th>\n",
       "      <th>work_life_balance</th>\n",
       "      <th>pay_and_benefits</th>\n",
       "      <th>job_security_and_advancement</th>\n",
       "      <th>management</th>\n",
       "      <th>culture</th>\n",
       "      <th>composite_score</th>\n",
       "    </tr>\n",
       "  </thead>\n",
       "  <tbody>\n",
       "    <tr>\n",
       "      <th>0</th>\n",
       "      <td>Apple</td>\n",
       "      <td>3.8</td>\n",
       "      <td>4.1</td>\n",
       "      <td>3.7</td>\n",
       "      <td>3.7</td>\n",
       "      <td>4.1</td>\n",
       "      <td>0.776</td>\n",
       "    </tr>\n",
       "  </tbody>\n",
       "</table>\n",
       "</div>"
      ],
      "text/plain": [
       "  company  work_life_balance  pay_and_benefits  job_security_and_advancement  \\\n",
       "0   Apple                3.8               4.1                           3.7   \n",
       "\n",
       "   management  culture  composite_score  \n",
       "0         3.7      4.1            0.776  "
      ]
     },
     "execution_count": 4,
     "metadata": {},
     "output_type": "execute_result"
    }
   ],
   "source": [
    "get_indeed_reviews(companies)"
   ]
  },
  {
   "cell_type": "markdown",
   "metadata": {},
   "source": [
    "## Contentious Relationships with Unions"
   ]
  },
  {
   "cell_type": "code",
   "execution_count": 6,
   "metadata": {
    "ExecuteTime": {
     "end_time": "2021-02-10T23:30:40.244713Z",
     "start_time": "2021-02-10T23:30:27.667129Z"
    }
   },
   "outputs": [
    {
     "data": {
      "text/plain": [
       "['https://www.reddit.com/r/finance/comments/klq6fm/moronic_monday_december_28_2020_your_weekly/',\n",
       " 'https://www.reddit.com/r/finance/comments/lh4ori/forest_road_spac_with_kevin_mayer_shaq_arnold/',\n",
       " 'https://deadline.com/2021/02/forest-road-spac-kevin-mayer-tom-staggs-buys-digital-fitness-group-beachbody-company-1234691065/',\n",
       " 'https://www.reddit.com/r/finance/comments/lh4qkt/long_covid_could_cost_uk_around_2500000000_a_year/',\n",
       " 'https://metro.co.uk/2021/02/10/long-covid-could-cost-uk-around-2500000000-a-year-14050266/',\n",
       " 'https://www.reddit.com/r/finance/comments/lh73pd/the_fed_says_us_unemployment_is_actually_about_10/',\n",
       " 'https://www.businessinsider.com/us-unemployment-rate-double-official-rate-fed-worst-great-recession-2021-2',\n",
       " 'https://www.reddit.com/r/finance/comments/lh6rbe/social_media_sentiment_etf_to_launch_in_wake_of/',\n",
       " 'https://www.reddit.com/r/SecurityAnalysis/comments/lh6gvx/social_media_sentiment_etf_to_launch_in_wake_of/',\n",
       " 'https://www.reddit.com/r/finance/comments/lh57ra/fed_chair_powell_says_lower_unemployment_rate/',\n",
       " 'https://theweek.com/speedreads/966161/fed-chair-powell-says-lower-unemployment-rate-hides-true-deterioration-labor-market',\n",
       " 'https://www.axios.com/reddit-raises-250-million-at-6-billion-valuation-c2f8746d-21d9-49e8-a28e-edd69e296e66.html',\n",
       " 'https://www.reddit.com/r/todayilearned/comments/lgl7ag/til_genghis_khan_would_marry_off_a_daughter_to/',\n",
       " 'https://thetyee.ca/Books/2010/07/26/GenghisFeminist/',\n",
       " 'https://www.reddit.com/r/AskReddit/comments/lg4q3m/people_who_take_massive_war_crime_level_dumps_in/',\n",
       " 'https://www.reddit.com/r/wallstreetbets/comments/lgk1ef/the_squeeze_has_not_yet_sqouze_lets_discuss/',\n",
       " 'https://www.reddit.com/r/NoStupidQuestions/comments/lg5fnq/why_on_gods_green_earth_do_job_listings_not_list/',\n",
       " 'https://www.reddit.com/r/politics/comments/lgg8ge/megathread_majority_of_us_senate_says_trump/',\n",
       " 'https://www.latimes.com/politics/story/2021-02-09/trump-impeachment-trial-begins-with-a-standoff-over-constitutionality',\n",
       " 'https://www.vox.com/2021/2/9/22274726/senate-impeachment-trial-constitutional',\n",
       " 'https://www.foxnews.com/politics/senate-decides-constitutionally-of-trump-impeachment-trial-after-day-one-of-arguments',\n",
       " 'https://www.independent.co.uk/news/world/americas/us-politics/impeachment-vote-republicans-trump-trial-b1800059.html',\n",
       " 'https://www.bloomberg.com/news/articles/2021-02-09/trump-trial-starts-with-constitutional-fight-impeachment-update?sref=aGTrSb9U',\n",
       " 'https://www.newsweek.com/bill-cassidy-does-u-turn-constitutionality-impeachment-trump-heads-acquittal-1568064',\n",
       " 'https://www.cnn.com/2021/02/09/politics/six-republicans-vote-impeachment-trial/index.html',\n",
       " 'https://thehill.com/homenews/senate/538087-senate-votes-trial-constitutional-six-republicans-vote-yes?fbclid=IwAR3JG0q50bIYWUvrtYkAmMC0rcqm0m1ZuoX7Xdc-IC_4G2Vs8_PU8SHnYMw',\n",
       " 'https://www.reuters.com/article/us-usa-trump-impeachment-vote/majority-of-u-s-senate-says-trump-impeachment-trial-is-constitutional-idUSKBN2A930F',\n",
       " 'https://www.businessinsider.com/trump-impeachment-trial-day-1-live-updates-watch-2021-2',\n",
       " 'https://theweek.com/speedreads/965917/republicans-admit-nothing-change-mind-constitutionality-trumps-impeachment',\n",
       " 'https://www.azcentral.com/story/news/politics/arizona/2021/02/09/sinema-kelly-vote-trump-impeachment-trial-constitutional/4456802001/',\n",
       " 'https://www.courier-journal.com/story/news/politics/2021/02/09/big-vote-mitch-mcconnell-opposes-trump-trials-constitutionality/4454794001/',\n",
       " 'https://www.reuters.com/article/idUSKBN2A91D3?il=0',\n",
       " 'https://www.npr.org/sections/trump-impeachment-trial-live-updates/2021/02/09/965970361/senate-votes-its-constitutional-to-try-former-president-donald-trump?utm_source=facebook.com&utm_term=nprnews&utm_medium=social&utm_campaign=npr&fbclid=IwAR1Ml6uHqEuesDkpNpf9iMkcNVKLsZzNVLTkjySYmSKHZ6V091VLokA2Jwg',\n",
       " 'https://thehill.com/homenews/state-watch/538117-louisiana-gop-rebukes-cassidy-over-vote-saying-trump-trial',\n",
       " 'https://www.courier-journal.com/story/news/politics/2021/02/09/big-vote-mitch-mcconnell-opposes-trump-trials-constitutionality/4454794001',\n",
       " 'https://www.reuters.com/article/us-usa-trump-impeachment/senators-vote-to-proceed-with-trumps-impeachment-trial-but-conviction-may-prove-elusive-idUSKBN2A91D3',\n",
       " 'https://www.cbc.ca/news/world/senate-impeachment-trial-trump-1.5906732',\n",
       " 'https://www.newsweek.com/donald-trump-impeachment-trial-constitutional-gop-senators-deflect-1568200',\n",
       " 'https://www.bbc.com/news/world-us-canada-56005458',\n",
       " 'https://www.washingtonpost.com/politics/senate-impeachment-trial-trump/2021/02/09/66c7ad20-6ae8-11eb-9f80-3d7646ce1bc0_story.html?itid=hp-top-table-main',\n",
       " 'https://talkingpointsmemo.com/news/lousiana-gop-rebukes-cassidy-for-reversal-vote-on-constitutionality-of-trumps-impeachment',\n",
       " 'https://www.reddit.com/r/nba/comments/lghs05/the_athletic_the_dallas_mavericks_have_ceased/']"
      ]
     },
     "execution_count": 6,
     "metadata": {},
     "output_type": "execute_result"
    }
   ],
   "source": [
    "\n",
    "for company in companies:\n",
    "    url = https://news.google.com/search?q=%22Apple%20union%20relations%22&hl=en-US&gl=US&ceid=US%3Aen\n",
    "    site = newspaper.build(url)\n",
    "    site.article_urls()\n",
    "    "
   ]
  },
  {
   "cell_type": "markdown",
   "metadata": {},
   "source": [
    "## Lawsuits or Controversies over Discrimination"
   ]
  },
  {
   "cell_type": "markdown",
   "metadata": {},
   "source": [
    "## Harassment or Wage Theft"
   ]
  },
  {
   "cell_type": "markdown",
   "metadata": {},
   "source": [
    "## Serial Layoffs"
   ]
  },
  {
   "cell_type": "markdown",
   "metadata": {},
   "source": [
    "## Constant Restructuring"
   ]
  },
  {
   "cell_type": "code",
   "execution_count": null,
   "metadata": {},
   "outputs": [],
   "source": []
  }
 ],
 "metadata": {
  "kernelspec": {
   "display_name": "learn-env",
   "language": "python",
   "name": "learn-env"
  },
  "language_info": {
   "codemirror_mode": {
    "name": "ipython",
    "version": 3
   },
   "file_extension": ".py",
   "mimetype": "text/x-python",
   "name": "python",
   "nbconvert_exporter": "python",
   "pygments_lexer": "ipython3",
   "version": "3.6.9"
  },
  "toc": {
   "base_numbering": 1,
   "nav_menu": {},
   "number_sections": true,
   "sideBar": true,
   "skip_h1_title": false,
   "title_cell": "Table of Contents",
   "title_sidebar": "Contents",
   "toc_cell": false,
   "toc_position": {},
   "toc_section_display": true,
   "toc_window_display": false
  },
  "varInspector": {
   "cols": {
    "lenName": 16,
    "lenType": 16,
    "lenVar": 40
   },
   "kernels_config": {
    "python": {
     "delete_cmd_postfix": "",
     "delete_cmd_prefix": "del ",
     "library": "var_list.py",
     "varRefreshCmd": "print(var_dic_list())"
    },
    "r": {
     "delete_cmd_postfix": ") ",
     "delete_cmd_prefix": "rm(",
     "library": "var_list.r",
     "varRefreshCmd": "cat(var_dic_list()) "
    }
   },
   "types_to_exclude": [
    "module",
    "function",
    "builtin_function_or_method",
    "instance",
    "_Feature"
   ],
   "window_display": false
  }
 },
 "nbformat": 4,
 "nbformat_minor": 4
}
