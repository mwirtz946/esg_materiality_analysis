{
 "cells": [
  {
   "cell_type": "markdown",
   "metadata": {},
   "source": [
    "# Question: Does the company treat its employees well? "
   ]
  },
  {
   "cell_type": "markdown",
   "metadata": {},
   "source": [
    "This section relates to cultural aspects of the companies being examined, including the chief concern: how employees are treated. We also consider worker safety; fair pay and benefits; opportunities for development, training, and advancement; and other aspects that impact the company's workers.\n",
    "\n",
    "Employees are the lifeblood of a company. Happy, healthy, and valued employees are more willing and able to do higher-quality work, be enthusiastic brand evangelists, unleash their creativity to invent better services and solutions, and innovate to improve the company. Employees should be viewed as valuable assets to invest in continually, not expendable \"resources\" or drags on the bottom line. (The \"bottom line\" is net profit -- a company's income after all expenses have been deducted from revenue.)\n",
    "\n",
    "Companies that excel at engaging their employees actually achieve per-share earnings growth more than four times that of their rivals, according to Gallup. Compared to companies in the bottom quartile, the top-quartile companies (based on employee engagement) generate higher customer engagement, higher productivity, better retention, fewer accidents, and 21% higher profitability.\n",
    "\n",
    "Even though Wall Street tends to cheer when companies lay off workers, high employee turnover is actually an expense to be avoided. Not only is it a financial cost -- think about severance packages, and the costs of recruiting and training new employees as well as retraining remaining workers -- but the loss of intellectual capital is also a poor outcome for employers.\n",
    "\n",
    "Company websites and sustainability reports can help you assess this factor. Also look for publications from organizations that rate companies on worker treatment, such as Fortune's annual list of \"100 Best Companies to Work For\" and Forbes' \"Just 100\" list.\n",
    "\n",
    "We also look for negative elements, like shoddy employment treatment; contentious relationships with unions; lawsuits or controversies about discrimination; harassment or wage theft; and other behavior that indicates poor employee relations, like serial layoffs or constant restructuring. These kinds of red flags might disqualify a company for inclusion in our ESG portfolio."
   ]
  },
  {
   "cell_type": "markdown",
   "metadata": {},
   "source": [
    "# Data Sources"
   ]
  },
  {
   "cell_type": "markdown",
   "metadata": {},
   "source": [
    "Possible Sites to Aggregate Employee Reviews:\n",
    "- Glassdoor \n",
    "- Indeed\n",
    "- Vault \n",
    "- CareerBliss\n",
    "- Kununu\n",
    "- JobAdvisor\n",
    "- Ratemyemployer\n",
    "- TheJobCrowd\n",
    "- LookBeforeYouLeap\n",
    "- Comparably\n",
    "- Yelp"
   ]
  },
  {
   "cell_type": "markdown",
   "metadata": {},
   "source": [
    "# Imports"
   ]
  },
  {
   "cell_type": "code",
   "execution_count": 1,
   "metadata": {
    "ExecuteTime": {
     "end_time": "2021-02-09T19:31:17.374821Z",
     "start_time": "2021-02-09T19:31:15.873740Z"
    }
   },
   "outputs": [],
   "source": [
    "# All necessary imports\n",
    "from bs4 import BeautifulSoup\n",
    "import selenium\n",
    "from selenium import webdriver\n",
    "from selenium.webdriver.common.by import By\n",
    "from selenium.webdriver.support.ui import WebDriverWait\n",
    "from selenium.webdriver.support import expected_conditions as EC\n",
    "from selenium.webdriver.chrome.options import Options\n",
    "from selenium.webdriver.common.keys import Keys\n",
    "from selenium.webdriver.common.action_chains import ActionChains\n",
    "import time\n",
    "import requests\n",
    "import pandas as pd\n",
    "import pickle"
   ]
  },
  {
   "cell_type": "markdown",
   "metadata": {},
   "source": [
    "# Indeed"
   ]
  },
  {
   "cell_type": "code",
   "execution_count": 19,
   "metadata": {
    "ExecuteTime": {
     "end_time": "2021-02-09T19:46:19.437705Z",
     "start_time": "2021-02-09T19:46:19.431993Z"
    }
   },
   "outputs": [],
   "source": [
    "companies = ['Apple','Microsoft']"
   ]
  },
  {
   "cell_type": "code",
   "execution_count": 20,
   "metadata": {
    "ExecuteTime": {
     "end_time": "2021-02-09T19:46:20.286797Z",
     "start_time": "2021-02-09T19:46:20.272671Z"
    }
   },
   "outputs": [],
   "source": [
    "def get_indeed_reviews(companies):\n",
    "    \n",
    "    # Create empty dataframe\n",
    "    indeed_reviews = pd.DataFrame(columns=['company','work_life_balance','pay_and_benefits','job_security_and_advancement','management','culture','composite_score'])\n",
    "    \n",
    "    # Set path to chromedriver\n",
    "    PATH = \"/Users/MichaelWirtz/Desktop/pathfile/chromedriver_2\"\n",
    "    # Define options \n",
    "    options = Options()\n",
    "    # Remove pop up window\n",
    "    options.add_argument(\"--headless\")\n",
    "    # Define driver\n",
    "    driver = webdriver.Chrome(PATH, options=options)\n",
    "    # # Define driver\n",
    "    # driver = webdriver.Chrome(PATH)\n",
    "    driver.set_window_size(1080,800)\n",
    "    # Define url\n",
    "    url= \"https://www.indeed.com/?from=gnav-acme--acme-webapp\"\n",
    "    # Get website\n",
    "    driver.get(url)\n",
    "    \n",
    "    for company in companies:\n",
    "        # Find search bar\n",
    "        search_bar = driver.find_element_by_xpath('//*[@id=\"text-input-what\"]')\n",
    "        # Clear search bar\n",
    "        search_bar.clear()\n",
    "        # Enter company name into search bar\n",
    "        search_bar.send_keys(company)\n",
    "        # Search company\n",
    "        search_bar.send_keys(Keys.ENTER)\n",
    "        time.sleep(3)\n",
    "        try:\n",
    "            exit_button = driver.find_element_by_xpath('//*[@id=\"popover-x\"]/button')\n",
    "            exit_button.click()\n",
    "        except:\n",
    "            pass\n",
    "        # Find Reviews\n",
    "        driver.find_element_by_link_text('Reviews').click()\n",
    "        # Define variables for employee ratings\n",
    "        work_life_balance = float(driver.find_element_by_xpath('//*[@id=\"cmp-container\"]/div/div[1]/main/div/div[2]/div[1]/div[2]/div[2]/div[1]/a/span[1]').text)\n",
    "        pay_and_benefits = float(driver.find_element_by_xpath('//*[@id=\"cmp-container\"]/div/div[1]/main/div/div[2]/div[1]/div[2]/div[2]/div[2]/a/span[1]').text)\n",
    "        job_security_and_advancement = float(driver.find_element_by_xpath('//*[@id=\"cmp-container\"]/div/div[1]/main/div/div[2]/div[1]/div[2]/div[2]/div[3]/a/span[1]').text)\n",
    "        management = float(driver.find_element_by_xpath('//*[@id=\"cmp-container\"]/div/div[1]/main/div/div[2]/div[1]/div[2]/div[2]/div[4]/a/span[1]').text)\n",
    "        culture = float(driver.find_element_by_xpath('//*[@id=\"cmp-container\"]/div/div[1]/main/div/div[2]/div[1]/div[2]/div[2]/div[5]/a/span[1]').text)\n",
    "        composite_score = (work_life_balance+pay_and_benefits+job_security_and_advancement+management+culture) / 25\n",
    "        \n",
    "        # Append new data to dataframe\n",
    "        indeed_reviews = indeed_reviews.append({'company': company,\n",
    "                                                'work_life_balance': work_life_balance,\n",
    "                                                'pay_and_benefits': pay_and_benefits,\n",
    "                                                'job_security_and_advancement': job_security_and_advancement,\n",
    "                                                'management': management,\n",
    "                                                'culture': culture,\n",
    "                                                'composite_score': composite_score}, ignore_index=True)\n",
    "        \n",
    "        time.sleep(1)\n",
    "        driver.back()\n",
    "        time.sleep(1)\n",
    "        driver.back()\n",
    "        time.sleep(1)\n",
    "    \n",
    "    return indeed_reviews\n",
    "    "
   ]
  },
  {
   "cell_type": "code",
   "execution_count": 21,
   "metadata": {
    "ExecuteTime": {
     "end_time": "2021-02-09T19:46:55.203821Z",
     "start_time": "2021-02-09T19:46:21.482614Z"
    },
    "scrolled": true
   },
   "outputs": [
    {
     "data": {
      "text/html": [
       "<div>\n",
       "<style scoped>\n",
       "    .dataframe tbody tr th:only-of-type {\n",
       "        vertical-align: middle;\n",
       "    }\n",
       "\n",
       "    .dataframe tbody tr th {\n",
       "        vertical-align: top;\n",
       "    }\n",
       "\n",
       "    .dataframe thead th {\n",
       "        text-align: right;\n",
       "    }\n",
       "</style>\n",
       "<table border=\"1\" class=\"dataframe\">\n",
       "  <thead>\n",
       "    <tr style=\"text-align: right;\">\n",
       "      <th></th>\n",
       "      <th>company</th>\n",
       "      <th>work_life_balance</th>\n",
       "      <th>pay_and_benefits</th>\n",
       "      <th>job_security_and_advancement</th>\n",
       "      <th>management</th>\n",
       "      <th>culture</th>\n",
       "      <th>composite_score</th>\n",
       "    </tr>\n",
       "  </thead>\n",
       "  <tbody>\n",
       "    <tr>\n",
       "      <th>0</th>\n",
       "      <td>Apple</td>\n",
       "      <td>3.8</td>\n",
       "      <td>4.1</td>\n",
       "      <td>3.7</td>\n",
       "      <td>3.7</td>\n",
       "      <td>4.1</td>\n",
       "      <td>0.776</td>\n",
       "    </tr>\n",
       "    <tr>\n",
       "      <th>1</th>\n",
       "      <td>Microsoft</td>\n",
       "      <td>3.9</td>\n",
       "      <td>4.1</td>\n",
       "      <td>3.5</td>\n",
       "      <td>3.6</td>\n",
       "      <td>4.0</td>\n",
       "      <td>0.764</td>\n",
       "    </tr>\n",
       "  </tbody>\n",
       "</table>\n",
       "</div>"
      ],
      "text/plain": [
       "     company  work_life_balance  pay_and_benefits  \\\n",
       "0      Apple                3.8               4.1   \n",
       "1  Microsoft                3.9               4.1   \n",
       "\n",
       "   job_security_and_advancement  management  culture  composite_score  \n",
       "0                           3.7         3.7      4.1            0.776  \n",
       "1                           3.5         3.6      4.0            0.764  "
      ]
     },
     "execution_count": 21,
     "metadata": {},
     "output_type": "execute_result"
    }
   ],
   "source": [
    "get_indeed_reviews(companies)"
   ]
  }
 ],
 "metadata": {
  "kernelspec": {
   "display_name": "learn-env",
   "language": "python",
   "name": "learn-env"
  },
  "language_info": {
   "codemirror_mode": {
    "name": "ipython",
    "version": 3
   },
   "file_extension": ".py",
   "mimetype": "text/x-python",
   "name": "python",
   "nbconvert_exporter": "python",
   "pygments_lexer": "ipython3",
   "version": "3.6.9"
  },
  "toc": {
   "base_numbering": 1,
   "nav_menu": {},
   "number_sections": true,
   "sideBar": true,
   "skip_h1_title": false,
   "title_cell": "Table of Contents",
   "title_sidebar": "Contents",
   "toc_cell": false,
   "toc_position": {},
   "toc_section_display": true,
   "toc_window_display": false
  },
  "varInspector": {
   "cols": {
    "lenName": 16,
    "lenType": 16,
    "lenVar": 40
   },
   "kernels_config": {
    "python": {
     "delete_cmd_postfix": "",
     "delete_cmd_prefix": "del ",
     "library": "var_list.py",
     "varRefreshCmd": "print(var_dic_list())"
    },
    "r": {
     "delete_cmd_postfix": ") ",
     "delete_cmd_prefix": "rm(",
     "library": "var_list.r",
     "varRefreshCmd": "cat(var_dic_list()) "
    }
   },
   "types_to_exclude": [
    "module",
    "function",
    "builtin_function_or_method",
    "instance",
    "_Feature"
   ],
   "window_display": false
  }
 },
 "nbformat": 4,
 "nbformat_minor": 4
}
