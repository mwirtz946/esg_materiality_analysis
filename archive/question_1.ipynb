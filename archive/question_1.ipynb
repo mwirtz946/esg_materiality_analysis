{
 "cells": [
  {
   "cell_type": "markdown",
   "metadata": {},
   "source": [
    "# Question: Does the company treat its employees well? "
   ]
  },
  {
   "cell_type": "markdown",
   "metadata": {},
   "source": [
    "This section relates to cultural aspects of the companies being examined, including the chief concern: how employees are treated. We also consider worker safety; fair pay and benefits; opportunities for development, training, and advancement; and other aspects that impact the company's workers.\n",
    "\n",
    "Employees are the lifeblood of a company. Happy, healthy, and valued employees are more willing and able to do higher-quality work, be enthusiastic brand evangelists, unleash their creativity to invent better services and solutions, and innovate to improve the company. Employees should be viewed as valuable assets to invest in continually, not expendable \"resources\" or drags on the bottom line. (The \"bottom line\" is net profit -- a company's income after all expenses have been deducted from revenue.)\n",
    "\n",
    "Companies that excel at engaging their employees actually achieve per-share earnings growth more than four times that of their rivals, according to Gallup. Compared to companies in the bottom quartile, the top-quartile companies (based on employee engagement) generate higher customer engagement, higher productivity, better retention, fewer accidents, and 21% higher profitability.\n",
    "\n",
    "Even though Wall Street tends to cheer when companies lay off workers, high employee turnover is actually an expense to be avoided. Not only is it a financial cost -- think about severance packages, and the costs of recruiting and training new employees as well as retraining remaining workers -- but the loss of intellectual capital is also a poor outcome for employers.\n",
    "\n",
    "Company websites and sustainability reports can help you assess this factor. Also look for publications from organizations that rate companies on worker treatment, such as Fortune's annual list of \"100 Best Companies to Work For\" and Forbes' \"Just 100\" list.\n",
    "\n",
    "We also look for negative elements, like shoddy employment treatment; contentious relationships with unions; lawsuits or controversies about discrimination; harassment or wage theft; and other behavior that indicates poor employee relations, like serial layoffs or constant restructuring. These kinds of red flags might disqualify a company for inclusion in our ESG portfolio."
   ]
  },
  {
   "cell_type": "markdown",
   "metadata": {},
   "source": [
    "# Data Sources"
   ]
  },
  {
   "cell_type": "markdown",
   "metadata": {},
   "source": [
    "Possible Sites to Aggregate Employee Reviews:\n",
    "- Glassdoor \n",
    "- Indeed\n",
    "- Vault \n",
    "- CareerBliss\n",
    "- Kununu\n",
    "- JobAdvisor\n",
    "- Ratemyemployer\n",
    "- TheJobCrowd\n",
    "- LookBeforeYouLeap\n",
    "- Comparably\n",
    "- Yelp"
   ]
  },
  {
   "cell_type": "markdown",
   "metadata": {},
   "source": [
    "# Imports"
   ]
  },
  {
   "cell_type": "code",
   "execution_count": 109,
   "metadata": {
    "ExecuteTime": {
     "end_time": "2021-02-15T22:43:50.098088Z",
     "start_time": "2021-02-15T22:43:50.092167Z"
    }
   },
   "outputs": [],
   "source": [
    "# All necessary imports\n",
    "from bs4 import BeautifulSoup\n",
    "import selenium\n",
    "from selenium import webdriver\n",
    "from selenium.webdriver.common.by import By\n",
    "from selenium.webdriver.support.ui import WebDriverWait\n",
    "from selenium.webdriver.support import expected_conditions as EC\n",
    "from selenium.webdriver.chrome.options import Options\n",
    "from selenium.webdriver.common.keys import Keys\n",
    "from selenium.webdriver.common.action_chains import ActionChains\n",
    "import time\n",
    "import requests\n",
    "import pandas as pd\n",
    "pd.set_option(\"display.max_columns\", 50)\n",
    "import pickle\n",
    "import newspaper\n",
    "import re\n",
    "from functools import reduce"
   ]
  },
  {
   "cell_type": "markdown",
   "metadata": {},
   "source": [
    "# Data Collection"
   ]
  },
  {
   "cell_type": "markdown",
   "metadata": {},
   "source": [
    "For the time being, only Apple will be used. Once the process is finished for a single stock, we can run back through to get a bunch for the industry. "
   ]
  },
  {
   "cell_type": "code",
   "execution_count": 110,
   "metadata": {
    "ExecuteTime": {
     "end_time": "2021-02-15T22:43:51.278631Z",
     "start_time": "2021-02-15T22:43:51.274881Z"
    }
   },
   "outputs": [],
   "source": [
    "companies = ['Apple',\n",
    "             'Best Buy Co Inc',\n",
    "             'GameStop Corporation',\n",
    "             'Sony Corporation']"
   ]
  },
  {
   "cell_type": "markdown",
   "metadata": {},
   "source": [
    "## Indeed"
   ]
  },
  {
   "cell_type": "code",
   "execution_count": 128,
   "metadata": {
    "ExecuteTime": {
     "end_time": "2021-02-15T22:56:24.879579Z",
     "start_time": "2021-02-15T22:56:24.859263Z"
    }
   },
   "outputs": [],
   "source": [
    "def get_indeed_reviews(companies):\n",
    "    \n",
    "    # Create empty dataframe\n",
    "    indeed_reviews = pd.DataFrame(columns=['company','work_life_balance','pay_and_benefits','job_security_and_advancement','management','culture','composite_score'])\n",
    "    \n",
    "    # Set path to chromedriver\n",
    "    PATH = \"/Users/MichaelWirtz/Desktop/pathfile/chromedriver_2\"\n",
    "    # Define options \n",
    "    options = Options()\n",
    "    # Remove pop up window\n",
    "    options.add_argument(\"--headless\")\n",
    "    # Define driver\n",
    "    driver = webdriver.Chrome(PATH, options=options)\n",
    "    # # Define driver\n",
    "    # driver = webdriver.Chrome(PATH)\n",
    "    driver.set_window_size(1080,800)\n",
    "    # Define url\n",
    "    url= \"https://www.indeed.com/companies?from=gnav-acme--discovery-webapp\"\n",
    "    # Get website\n",
    "    driver.get(url)\n",
    "    \n",
    "    for company in companies:\n",
    "        try:\n",
    "            # Find search bar\n",
    "            search_bar = driver.find_element_by_xpath('//*[@id=\"exploreCompaniesWhat\"]')\n",
    "            # Clear search bar\n",
    "            search_bar.clear()\n",
    "            # Enter company name into search bar\n",
    "            search_bar.send_keys(company)\n",
    "            # Search company\n",
    "            search_bar.send_keys(Keys.ENTER)\n",
    "            search_bar.send_keys(Keys.ENTER)\n",
    "            time.sleep(3)\n",
    "            try:\n",
    "                exit_button = driver.find_element_by_xpath('//*[@id=\"popover-x\"]/button')\n",
    "                exit_button.click()\n",
    "            except:\n",
    "                pass\n",
    "            # Get company\n",
    "            driver.find_element_by_xpath('//*[@id=\"cmp-discovery\"]/div[2]/div/div[2]/div/div[1]/div[2]').click()\n",
    "            time.sleep(2)\n",
    "            # Define variables for employee ratings\n",
    "            work_life_balance = float(driver.find_element_by_xpath('//*[@id=\"cmp-container\"]/div/div[1]/main/div/div[2]/div[1]/div[2]/div[2]/div[1]/a/span[1]').text)\n",
    "            pay_and_benefits = float(driver.find_element_by_xpath('//*[@id=\"cmp-container\"]/div/div[1]/main/div/div[2]/div[1]/div[2]/div[2]/div[2]/a/span[1]').text)\n",
    "            job_security_and_advancement = float(driver.find_element_by_xpath('//*[@id=\"cmp-container\"]/div/div[1]/main/div/div[2]/div[1]/div[2]/div[2]/div[3]/a/span[1]').text)\n",
    "            management = float(driver.find_element_by_xpath('//*[@id=\"cmp-container\"]/div/div[1]/main/div/div[2]/div[1]/div[2]/div[2]/div[4]/a/span[1]').text)\n",
    "            culture = float(driver.find_element_by_xpath('//*[@id=\"cmp-container\"]/div/div[1]/main/div/div[2]/div[1]/div[2]/div[2]/div[5]/a/span[1]').text)\n",
    "            composite_score = (work_life_balance+pay_and_benefits+job_security_and_advancement+management+culture) / 25\n",
    "\n",
    "            # Append new data to dataframe\n",
    "            indeed_reviews = indeed_reviews.append({'company': company,\n",
    "                                                    'work_life_balance': work_life_balance,\n",
    "                                                    'pay_and_benefits': pay_and_benefits,\n",
    "                                                    'job_security_and_advancement': job_security_and_advancement,\n",
    "                                                    'management': management,\n",
    "                                                    'culture': culture,\n",
    "                                                    'composite_score': composite_score}, ignore_index=True)\n",
    "        \n",
    "            time.sleep(1)\n",
    "            driver.find_element_by_link_text('Company Reviews').click()\n",
    "            time.sleep(2)\n",
    "#             driver.back()\n",
    "            time.sleep(1)\n",
    "            \n",
    "        except:\n",
    "            pass\n",
    "    \n",
    "    return indeed_reviews\n",
    "    "
   ]
  },
  {
   "cell_type": "code",
   "execution_count": 129,
   "metadata": {
    "ExecuteTime": {
     "end_time": "2021-02-15T22:57:16.843952Z",
     "start_time": "2021-02-15T22:56:25.150662Z"
    },
    "scrolled": true
   },
   "outputs": [],
   "source": [
    "indeed_reviews = get_indeed_reviews(companies)"
   ]
  },
  {
   "cell_type": "markdown",
   "metadata": {},
   "source": [
    "## Vault"
   ]
  },
  {
   "cell_type": "code",
   "execution_count": 131,
   "metadata": {
    "ExecuteTime": {
     "end_time": "2021-02-15T22:57:44.226402Z",
     "start_time": "2021-02-15T22:57:44.146799Z"
    }
   },
   "outputs": [],
   "source": [
    "def get_vault_reviews(companies):\n",
    "    \n",
    "    vault_reviews = pd.DataFrame(columns=['company','uppers','downers'])\n",
    "    \n",
    "    # Set path to chromedriver\n",
    "    PATH = \"/Users/MichaelWirtz/Desktop/pathfile/chromedriver_2\"\n",
    "    # Define options \n",
    "    options = Options()\n",
    "    # Remove pop up window\n",
    "    options.add_argument(\"disable-infobars\")\n",
    "    options.add_argument(\"--headless\")\n",
    "    # Define driver\n",
    "    driver = webdriver.Chrome(PATH, options=options)\n",
    "    # # Define driver\n",
    "    # driver = webdriver.Chrome(PATH)\n",
    "    driver.set_window_size(1080,800)\n",
    "    # Define url\n",
    "    url= \"https://www.vault.com/\"\n",
    "    # Get website\n",
    "    driver.get(url)\n",
    "    time.sleep(2)\n",
    "\n",
    "    for company in companies:\n",
    "        # Find search bar\n",
    "        search_bar = driver.find_element_by_xpath('//*[@id=\"HeroSearchBox\"]')\n",
    "        # Clear search bar\n",
    "        search_bar.clear()\n",
    "        # Enter company name into search bar\n",
    "        search_bar.send_keys(company)\n",
    "        time.sleep(3)\n",
    "        # Search company\n",
    "        search_bar.send_keys(Keys.ENTER)\n",
    "        time.sleep(4)\n",
    "        # Find first company listed\n",
    "        likely_company = driver.find_element_by_xpath('//*[@id=\"feed-article-1\"]/div/h2/a')\n",
    "        # Click on company\n",
    "        likely_company.click()\n",
    "        time.sleep(3)\n",
    "        # Get company positives\n",
    "        uppers = (driver.find_element_by_xpath('//*[@id=\"main-content\"]/div[1]/div[2]/div[1]/div[1]').text).replace('\\n',' ').lstrip('Uppers').strip()\n",
    "        # Get company negatives\n",
    "        downers = (driver.find_element_by_xpath('//*[@id=\"main-content\"]/div[1]/div[2]/div[1]/div[2]').text).replace('\\n',' ').lstrip('Downers').strip()\n",
    "        \n",
    "        # Append new data to dataframe\n",
    "        vault_reviews = vault_reviews.append({'company': company,\n",
    "                                                'uppers': uppers,\n",
    "                                                'downers': downers}, ignore_index=True)\n",
    "        \n",
    "        time.sleep(2)\n",
    "        driver.back()\n",
    "        time.sleep(1)\n",
    "        driver.back()\n",
    "        time.sleep(3)\n",
    "    \n",
    "    vault_reviews.uppers = vault_reviews.uppers.apply(lambda x: x.lower())\n",
    "    vault_reviews.downers = vault_reviews.downers.apply(lambda x: x.lower())\n",
    "        \n",
    "    return vault_reviews   "
   ]
  },
  {
   "cell_type": "code",
   "execution_count": 132,
   "metadata": {
    "ExecuteTime": {
     "end_time": "2021-02-15T22:58:30.101841Z",
     "start_time": "2021-02-15T22:57:48.451982Z"
    }
   },
   "outputs": [
    {
     "ename": "NoSuchElementException",
     "evalue": "Message: no such element: Unable to locate element: {\"method\":\"xpath\",\"selector\":\"//*[@id=\"main-content\"]/div[1]/div[2]/div[1]/div[2]\"}\n  (Session info: headless chrome=88.0.4324.150)\n",
     "output_type": "error",
     "traceback": [
      "\u001b[0;31m---------------------------------------------------------------------------\u001b[0m",
      "\u001b[0;31mNoSuchElementException\u001b[0m                    Traceback (most recent call last)",
      "\u001b[0;32m<ipython-input-132-592be323d4bc>\u001b[0m in \u001b[0;36m<module>\u001b[0;34m\u001b[0m\n\u001b[0;32m----> 1\u001b[0;31m \u001b[0mvault_reviews\u001b[0m \u001b[0;34m=\u001b[0m \u001b[0mget_vault_reviews\u001b[0m\u001b[0;34m(\u001b[0m\u001b[0mcompanies\u001b[0m\u001b[0;34m)\u001b[0m\u001b[0;34m\u001b[0m\u001b[0;34m\u001b[0m\u001b[0m\n\u001b[0m",
      "\u001b[0;32m<ipython-input-131-c036f272e30a>\u001b[0m in \u001b[0;36mget_vault_reviews\u001b[0;34m(companies)\u001b[0m\n\u001b[1;32m     40\u001b[0m         \u001b[0muppers\u001b[0m \u001b[0;34m=\u001b[0m \u001b[0;34m(\u001b[0m\u001b[0mdriver\u001b[0m\u001b[0;34m.\u001b[0m\u001b[0mfind_element_by_xpath\u001b[0m\u001b[0;34m(\u001b[0m\u001b[0;34m'//*[@id=\"main-content\"]/div[1]/div[2]/div[1]/div[1]'\u001b[0m\u001b[0;34m)\u001b[0m\u001b[0;34m.\u001b[0m\u001b[0mtext\u001b[0m\u001b[0;34m)\u001b[0m\u001b[0;34m.\u001b[0m\u001b[0mreplace\u001b[0m\u001b[0;34m(\u001b[0m\u001b[0;34m'\\n'\u001b[0m\u001b[0;34m,\u001b[0m\u001b[0;34m' '\u001b[0m\u001b[0;34m)\u001b[0m\u001b[0;34m.\u001b[0m\u001b[0mlstrip\u001b[0m\u001b[0;34m(\u001b[0m\u001b[0;34m'Uppers'\u001b[0m\u001b[0;34m)\u001b[0m\u001b[0;34m.\u001b[0m\u001b[0mstrip\u001b[0m\u001b[0;34m(\u001b[0m\u001b[0;34m)\u001b[0m\u001b[0;34m\u001b[0m\u001b[0;34m\u001b[0m\u001b[0m\n\u001b[1;32m     41\u001b[0m         \u001b[0;31m# Get company negatives\u001b[0m\u001b[0;34m\u001b[0m\u001b[0;34m\u001b[0m\u001b[0;34m\u001b[0m\u001b[0m\n\u001b[0;32m---> 42\u001b[0;31m         \u001b[0mdowners\u001b[0m \u001b[0;34m=\u001b[0m \u001b[0;34m(\u001b[0m\u001b[0mdriver\u001b[0m\u001b[0;34m.\u001b[0m\u001b[0mfind_element_by_xpath\u001b[0m\u001b[0;34m(\u001b[0m\u001b[0;34m'//*[@id=\"main-content\"]/div[1]/div[2]/div[1]/div[2]'\u001b[0m\u001b[0;34m)\u001b[0m\u001b[0;34m.\u001b[0m\u001b[0mtext\u001b[0m\u001b[0;34m)\u001b[0m\u001b[0;34m.\u001b[0m\u001b[0mreplace\u001b[0m\u001b[0;34m(\u001b[0m\u001b[0;34m'\\n'\u001b[0m\u001b[0;34m,\u001b[0m\u001b[0;34m' '\u001b[0m\u001b[0;34m)\u001b[0m\u001b[0;34m.\u001b[0m\u001b[0mlstrip\u001b[0m\u001b[0;34m(\u001b[0m\u001b[0;34m'Downers'\u001b[0m\u001b[0;34m)\u001b[0m\u001b[0;34m.\u001b[0m\u001b[0mstrip\u001b[0m\u001b[0;34m(\u001b[0m\u001b[0;34m)\u001b[0m\u001b[0;34m\u001b[0m\u001b[0;34m\u001b[0m\u001b[0m\n\u001b[0m\u001b[1;32m     43\u001b[0m \u001b[0;34m\u001b[0m\u001b[0m\n\u001b[1;32m     44\u001b[0m         \u001b[0;31m# Append new data to dataframe\u001b[0m\u001b[0;34m\u001b[0m\u001b[0;34m\u001b[0m\u001b[0;34m\u001b[0m\u001b[0m\n",
      "\u001b[0;32m~/opt/anaconda3/envs/learn-env/lib/python3.6/site-packages/selenium/webdriver/remote/webdriver.py\u001b[0m in \u001b[0;36mfind_element_by_xpath\u001b[0;34m(self, xpath)\u001b[0m\n\u001b[1;32m    392\u001b[0m             \u001b[0melement\u001b[0m \u001b[0;34m=\u001b[0m \u001b[0mdriver\u001b[0m\u001b[0;34m.\u001b[0m\u001b[0mfind_element_by_xpath\u001b[0m\u001b[0;34m(\u001b[0m\u001b[0;34m'//div/td[1]'\u001b[0m\u001b[0;34m)\u001b[0m\u001b[0;34m\u001b[0m\u001b[0;34m\u001b[0m\u001b[0m\n\u001b[1;32m    393\u001b[0m         \"\"\"\n\u001b[0;32m--> 394\u001b[0;31m         \u001b[0;32mreturn\u001b[0m \u001b[0mself\u001b[0m\u001b[0;34m.\u001b[0m\u001b[0mfind_element\u001b[0m\u001b[0;34m(\u001b[0m\u001b[0mby\u001b[0m\u001b[0;34m=\u001b[0m\u001b[0mBy\u001b[0m\u001b[0;34m.\u001b[0m\u001b[0mXPATH\u001b[0m\u001b[0;34m,\u001b[0m \u001b[0mvalue\u001b[0m\u001b[0;34m=\u001b[0m\u001b[0mxpath\u001b[0m\u001b[0;34m)\u001b[0m\u001b[0;34m\u001b[0m\u001b[0;34m\u001b[0m\u001b[0m\n\u001b[0m\u001b[1;32m    395\u001b[0m \u001b[0;34m\u001b[0m\u001b[0m\n\u001b[1;32m    396\u001b[0m     \u001b[0;32mdef\u001b[0m \u001b[0mfind_elements_by_xpath\u001b[0m\u001b[0;34m(\u001b[0m\u001b[0mself\u001b[0m\u001b[0;34m,\u001b[0m \u001b[0mxpath\u001b[0m\u001b[0;34m)\u001b[0m\u001b[0;34m:\u001b[0m\u001b[0;34m\u001b[0m\u001b[0;34m\u001b[0m\u001b[0m\n",
      "\u001b[0;32m~/opt/anaconda3/envs/learn-env/lib/python3.6/site-packages/selenium/webdriver/remote/webdriver.py\u001b[0m in \u001b[0;36mfind_element\u001b[0;34m(self, by, value)\u001b[0m\n\u001b[1;32m    976\u001b[0m         return self.execute(Command.FIND_ELEMENT, {\n\u001b[1;32m    977\u001b[0m             \u001b[0;34m'using'\u001b[0m\u001b[0;34m:\u001b[0m \u001b[0mby\u001b[0m\u001b[0;34m,\u001b[0m\u001b[0;34m\u001b[0m\u001b[0;34m\u001b[0m\u001b[0m\n\u001b[0;32m--> 978\u001b[0;31m             'value': value})['value']\n\u001b[0m\u001b[1;32m    979\u001b[0m \u001b[0;34m\u001b[0m\u001b[0m\n\u001b[1;32m    980\u001b[0m     \u001b[0;32mdef\u001b[0m \u001b[0mfind_elements\u001b[0m\u001b[0;34m(\u001b[0m\u001b[0mself\u001b[0m\u001b[0;34m,\u001b[0m \u001b[0mby\u001b[0m\u001b[0;34m=\u001b[0m\u001b[0mBy\u001b[0m\u001b[0;34m.\u001b[0m\u001b[0mID\u001b[0m\u001b[0;34m,\u001b[0m \u001b[0mvalue\u001b[0m\u001b[0;34m=\u001b[0m\u001b[0;32mNone\u001b[0m\u001b[0;34m)\u001b[0m\u001b[0;34m:\u001b[0m\u001b[0;34m\u001b[0m\u001b[0;34m\u001b[0m\u001b[0m\n",
      "\u001b[0;32m~/opt/anaconda3/envs/learn-env/lib/python3.6/site-packages/selenium/webdriver/remote/webdriver.py\u001b[0m in \u001b[0;36mexecute\u001b[0;34m(self, driver_command, params)\u001b[0m\n\u001b[1;32m    319\u001b[0m         \u001b[0mresponse\u001b[0m \u001b[0;34m=\u001b[0m \u001b[0mself\u001b[0m\u001b[0;34m.\u001b[0m\u001b[0mcommand_executor\u001b[0m\u001b[0;34m.\u001b[0m\u001b[0mexecute\u001b[0m\u001b[0;34m(\u001b[0m\u001b[0mdriver_command\u001b[0m\u001b[0;34m,\u001b[0m \u001b[0mparams\u001b[0m\u001b[0;34m)\u001b[0m\u001b[0;34m\u001b[0m\u001b[0;34m\u001b[0m\u001b[0m\n\u001b[1;32m    320\u001b[0m         \u001b[0;32mif\u001b[0m \u001b[0mresponse\u001b[0m\u001b[0;34m:\u001b[0m\u001b[0;34m\u001b[0m\u001b[0;34m\u001b[0m\u001b[0m\n\u001b[0;32m--> 321\u001b[0;31m             \u001b[0mself\u001b[0m\u001b[0;34m.\u001b[0m\u001b[0merror_handler\u001b[0m\u001b[0;34m.\u001b[0m\u001b[0mcheck_response\u001b[0m\u001b[0;34m(\u001b[0m\u001b[0mresponse\u001b[0m\u001b[0;34m)\u001b[0m\u001b[0;34m\u001b[0m\u001b[0;34m\u001b[0m\u001b[0m\n\u001b[0m\u001b[1;32m    322\u001b[0m             response['value'] = self._unwrap_value(\n\u001b[1;32m    323\u001b[0m                 response.get('value', None))\n",
      "\u001b[0;32m~/opt/anaconda3/envs/learn-env/lib/python3.6/site-packages/selenium/webdriver/remote/errorhandler.py\u001b[0m in \u001b[0;36mcheck_response\u001b[0;34m(self, response)\u001b[0m\n\u001b[1;32m    240\u001b[0m                 \u001b[0malert_text\u001b[0m \u001b[0;34m=\u001b[0m \u001b[0mvalue\u001b[0m\u001b[0;34m[\u001b[0m\u001b[0;34m'alert'\u001b[0m\u001b[0;34m]\u001b[0m\u001b[0;34m.\u001b[0m\u001b[0mget\u001b[0m\u001b[0;34m(\u001b[0m\u001b[0;34m'text'\u001b[0m\u001b[0;34m)\u001b[0m\u001b[0;34m\u001b[0m\u001b[0;34m\u001b[0m\u001b[0m\n\u001b[1;32m    241\u001b[0m             \u001b[0;32mraise\u001b[0m \u001b[0mexception_class\u001b[0m\u001b[0;34m(\u001b[0m\u001b[0mmessage\u001b[0m\u001b[0;34m,\u001b[0m \u001b[0mscreen\u001b[0m\u001b[0;34m,\u001b[0m \u001b[0mstacktrace\u001b[0m\u001b[0;34m,\u001b[0m \u001b[0malert_text\u001b[0m\u001b[0;34m)\u001b[0m\u001b[0;34m\u001b[0m\u001b[0;34m\u001b[0m\u001b[0m\n\u001b[0;32m--> 242\u001b[0;31m         \u001b[0;32mraise\u001b[0m \u001b[0mexception_class\u001b[0m\u001b[0;34m(\u001b[0m\u001b[0mmessage\u001b[0m\u001b[0;34m,\u001b[0m \u001b[0mscreen\u001b[0m\u001b[0;34m,\u001b[0m \u001b[0mstacktrace\u001b[0m\u001b[0;34m)\u001b[0m\u001b[0;34m\u001b[0m\u001b[0;34m\u001b[0m\u001b[0m\n\u001b[0m\u001b[1;32m    243\u001b[0m \u001b[0;34m\u001b[0m\u001b[0m\n\u001b[1;32m    244\u001b[0m     \u001b[0;32mdef\u001b[0m \u001b[0m_value_or_default\u001b[0m\u001b[0;34m(\u001b[0m\u001b[0mself\u001b[0m\u001b[0;34m,\u001b[0m \u001b[0mobj\u001b[0m\u001b[0;34m,\u001b[0m \u001b[0mkey\u001b[0m\u001b[0;34m,\u001b[0m \u001b[0mdefault\u001b[0m\u001b[0;34m)\u001b[0m\u001b[0;34m:\u001b[0m\u001b[0;34m\u001b[0m\u001b[0;34m\u001b[0m\u001b[0m\n",
      "\u001b[0;31mNoSuchElementException\u001b[0m: Message: no such element: Unable to locate element: {\"method\":\"xpath\",\"selector\":\"//*[@id=\"main-content\"]/div[1]/div[2]/div[1]/div[2]\"}\n  (Session info: headless chrome=88.0.4324.150)\n"
     ]
    }
   ],
   "source": [
    "vault_reviews = get_vault_reviews(companies)"
   ]
  },
  {
   "cell_type": "markdown",
   "metadata": {},
   "source": [
    "# Career Bliss "
   ]
  },
  {
   "cell_type": "code",
   "execution_count": 133,
   "metadata": {
    "ExecuteTime": {
     "end_time": "2021-02-15T22:58:42.308023Z",
     "start_time": "2021-02-15T22:58:42.294318Z"
    }
   },
   "outputs": [],
   "source": [
    "def get_careerbliss_reviews(companies):\n",
    "    \n",
    "    careerbliss_reviews = pd.DataFrame(columns=['company','company_culture','coworkers','rewards','way_you_work','growth_opp','person_you_work_for','support','work_setting'])\n",
    "    \n",
    "    # Set path to chromedriver\n",
    "    PATH = \"/Users/MichaelWirtz/Desktop/pathfile/chromedriver_2\"\n",
    "    # Define options \n",
    "    options = Options()\n",
    "    # Remove pop up window\n",
    "    options.add_argument(\"disable-infobars\")\n",
    "    options.add_argument(\"--headless\")\n",
    "    # Define driver\n",
    "    driver = webdriver.Chrome(PATH, options=options)\n",
    "    # # Define driver\n",
    "    # driver = webdriver.Chrome(PATH)\n",
    "    driver.set_window_size(1080,800)\n",
    "    # Define url\n",
    "    url= \"https://www.careerbliss.com/reviews/\"\n",
    "    # Get website\n",
    "    driver.get(url)\n",
    "    time.sleep(2)\n",
    "    for company in companies:\n",
    "        # Find search bar\n",
    "        search_bar = driver.find_element_by_xpath('//*[@id=\"search-q\"]')\n",
    "        # Clear search bar\n",
    "        search_bar.clear()\n",
    "        # Enter company name into search bar\n",
    "        search_bar.send_keys(company)\n",
    "        time.sleep(3)\n",
    "        # Search company\n",
    "        search_bar.send_keys(Keys.ENTER)\n",
    "        time.sleep(4)\n",
    "        try:\n",
    "            # Find first company listed\n",
    "            likely_company = driver.find_element_by_xpath('//*[@id=\"bodyContainer\"]/div/div[1]/div[3]/div[2]/div[2]/div[2]/div/div/span/a')\n",
    "            # Click on company\n",
    "            likely_company.click()\n",
    "        except:\n",
    "            driver.refresh()\n",
    "            time.sleep(3)\n",
    "            # Find first company listed\n",
    "            likely_company = driver.find_element_by_xpath('//*[@id=\"bodyContainer\"]/div/div[1]/div[3]/div[2]/div[2]/div[2]/div/div/span/a')\n",
    "            # Click on company\n",
    "            likely_company.click()\n",
    "        time.sleep(3)\n",
    "        company_culture = float(driver.find_element_by_xpath('//*[@id=\"bodyContainer\"]/div/div/div[6]/div[1]/div[1]/div/span[3]').text)\n",
    "        coworkers = float(driver.find_element_by_xpath('//*[@id=\"bodyContainer\"]/div/div/div[6]/div[2]/div[1]/div/span[3]').text)\n",
    "        rewards = float(driver.find_element_by_xpath('//*[@id=\"bodyContainer\"]/div/div/div[6]/div[3]/div[1]/div/span[3]').text)\n",
    "        way_you_work = float(driver.find_element_by_xpath('//*[@id=\"bodyContainer\"]/div/div/div[6]/div[4]/div[1]/div/span[3]').text)\n",
    "        growth_opp = float(driver.find_element_by_xpath('//*[@id=\"bodyContainer\"]/div/div/div[6]/div[1]/div[2]/div/span[3]').text)\n",
    "        person_you_work_for = float(driver.find_element_by_xpath('//*[@id=\"bodyContainer\"]/div/div/div[6]/div[2]/div[2]/div/span[3]').text)\n",
    "        support = float(driver.find_element_by_xpath('//*[@id=\"bodyContainer\"]/div/div/div[6]/div[3]/div[2]/div/span[3]').text)\n",
    "        work_setting = float(driver.find_element_by_xpath('//*[@id=\"bodyContainer\"]/div/div/div[6]/div[4]/div[2]/div/span[3]').text)\n",
    "        \n",
    "        time.sleep(2)\n",
    "        driver.back()\n",
    "        time.sleep(2)\n",
    "        driver.back()\n",
    "        time.sleep(2)\n",
    "        \n",
    "        careerbliss_reviews = careerbliss_reviews.append({'company': company,\n",
    "                                                          'company_culture': company_culture,\n",
    "                                                          'coworkers': coworkers,\n",
    "                                                          'rewards': rewards,\n",
    "                                                          'way_you_work': way_you_work,\n",
    "                                                          'growth_opp': growth_opp,\n",
    "                                                          'person_you_work_for': person_you_work_for,\n",
    "                                                          'support': support,\n",
    "                                                          'work_setting': work_setting}, ignore_index=True)\n",
    "    \n",
    "    return careerbliss_reviews"
   ]
  },
  {
   "cell_type": "code",
   "execution_count": 134,
   "metadata": {
    "ExecuteTime": {
     "end_time": "2021-02-15T23:00:23.970065Z",
     "start_time": "2021-02-15T22:58:43.604726Z"
    }
   },
   "outputs": [],
   "source": [
    "careerbliss_reviews = get_careerbliss_reviews(companies)"
   ]
  },
  {
   "cell_type": "markdown",
   "metadata": {},
   "source": [
    "# Comparably"
   ]
  },
  {
   "cell_type": "code",
   "execution_count": 136,
   "metadata": {
    "ExecuteTime": {
     "end_time": "2021-02-15T23:01:42.692660Z",
     "start_time": "2021-02-15T23:01:42.574973Z"
    }
   },
   "outputs": [],
   "source": [
    "def get_comparably_reviews(companies):\n",
    "    \n",
    "    comparably_reviews = pd.DataFrame(columns=['company','culture','ceo_score','net_promoter_scale','perks_and_benefits','outlook','executive_team','work_culture','compensation','leadership','diversity','team','happiness','environment','gender','manager','retention','meetings','professional_development','office_culture'])\n",
    "    \n",
    "    # Set path to chromedriver\n",
    "    PATH = \"/Users/MichaelWirtz/Desktop/pathfile/chromedriver_2\"\n",
    "    # Define options \n",
    "    options = Options()\n",
    "    # Remove pop up window\n",
    "    options.add_argument(\"disable-infobars\")\n",
    "    options.add_argument(\"--headless\")\n",
    "    # Define driver\n",
    "    driver = webdriver.Chrome(PATH, options=options)\n",
    "    # # Define driver\n",
    "    # driver = webdriver.Chrome(PATH)\n",
    "    driver.set_window_size(1080,800)\n",
    "    # Define url\n",
    "    url= \"https://www.comparably.com/\"\n",
    "    # Get website\n",
    "    driver.get(url)\n",
    "    time.sleep(2)\n",
    "    for company in companies:\n",
    "        # Find search bar\n",
    "        search_bar = driver.find_element_by_xpath('//*[@id=\"bodyContent\"]/div[2]/div/div/div/div/form/div/div/input')\n",
    "        # Clear search bar\n",
    "        search_bar.clear()\n",
    "        # Enter company name into search bar\n",
    "        search_bar.send_keys(company)\n",
    "        time.sleep(1)\n",
    "        # Search company\n",
    "        search_bar.send_keys(Keys.ENTER)\n",
    "        time.sleep(4)\n",
    "        # Find first company listed\n",
    "        likely_company = driver.find_element_by_xpath('//*[@id=\"bodyContent\"]/div[2]/div/div[2]/div[1]/div/div[2]/a[1]/div/div/div[1]')\n",
    "        # Click on company\n",
    "        likely_company.click()\n",
    "        time.sleep(2)\n",
    "        try:\n",
    "            culture = float(driver.find_element_by_xpath('//*[@id=\"bodyContent\"]/div[2]/div[4]/div/div/div/div/div[1]/div[1]/a/div[2]/div[1]/div[2]/b').text)\n",
    "        except:\n",
    "            culture - 'NaN'\n",
    "        try:\n",
    "            ceo_score = float(driver.find_element_by_xpath('//*[@id=\"bodyContent\"]/div[2]/div[4]/div/div/div/div/div[1]/div[3]/a/div[4]/span/span[1]/span').text)\n",
    "        except:\n",
    "            ceo_score = 'NaN'\n",
    "        try:\n",
    "            net_promoter_scale = float(driver.find_element_by_xpath('//*[@id=\"bodyContent\"]/div[2]/div[4]/div/div/div/div/div[2]/div[2]/a[3]/div[2]/div/div[2]/div[1]').text)\n",
    "        except:\n",
    "            net_promoter_scale = 'NaN'\n",
    "        time.sleep(2)\n",
    "        driver.find_element_by_link_text('Culture').click()\n",
    "        time.sleep(2)\n",
    "        # Getting page content\n",
    "        content = driver.page_source.encode('utf-8').strip()\n",
    "        # Getting page content in html\n",
    "        soup = BeautifulSoup(content,\"html.parser\")\n",
    "        # perks_and_benefits = soup.find_all(\"a\", href=re.compile(\"perks-and-benefits\"))\n",
    "        table = soup.find(class_=\"gs-row offset cppCultureGrades-Grades\")\n",
    "        ratings_squares = table.find_all(class_=\"gs-col gs-col-1-2\")\n",
    "        for i in range(0,18):\n",
    "            if ratings_squares[i].find(class_ = 'section-subtitle').text == 'Perks And Benefits':\n",
    "                perks_and_benefits = float(ratings_squares[i].find(class_ = 'numberGrade-score').text)\n",
    "            if ratings_squares[i].find(class_ = 'section-subtitle').text == 'Outlook':\n",
    "                outlook = float(ratings_squares[i].find(class_ = 'numberGrade-score').text)\n",
    "            if ratings_squares[i].find(class_ = 'section-subtitle').text == 'Executive Team':\n",
    "                executive_team = float(ratings_squares[i].find(class_ = 'numberGrade-score').text)\n",
    "            if ratings_squares[i].find(class_ = 'section-subtitle').text == 'Work Culture':\n",
    "                work_culture = float(ratings_squares[i].find(class_ = 'numberGrade-score').text)\n",
    "            if ratings_squares[i].find(class_ = 'section-subtitle').text == 'Compensation':\n",
    "                compensation = float(ratings_squares[i].find(class_ = 'numberGrade-score').text)\n",
    "            if ratings_squares[i].find(class_ = 'section-subtitle').text == 'Leadership':\n",
    "                leadership = float(ratings_squares[i].find(class_ = 'numberGrade-score').text)\n",
    "            if ratings_squares[i].find(class_ = 'section-subtitle').text == 'Diversity':\n",
    "                diversity = float(ratings_squares[i].find(class_ = 'numberGrade-score').text)\n",
    "            if ratings_squares[i].find(class_ = 'section-subtitle').text == 'Team':\n",
    "                team = float(ratings_squares[i].find(class_ = 'numberGrade-score').text)\n",
    "            if ratings_squares[i].find(class_ = 'section-subtitle').text == 'Happiness':\n",
    "                happiness = float(ratings_squares[i].find(class_ = 'numberGrade-score').text)\n",
    "            if ratings_squares[i].find(class_ = 'section-subtitle').text == 'Environment':\n",
    "                environment = float(ratings_squares[i].find(class_ = 'numberGrade-score').text)\n",
    "            if ratings_squares[i].find(class_ = 'section-subtitle').text == 'Gender':\n",
    "                gender = float(ratings_squares[i].find(class_ = 'numberGrade-score').text)\n",
    "            if ratings_squares[i].find(class_ = 'section-subtitle').text == 'Manager':\n",
    "                manager = float(ratings_squares[i].find(class_ = 'numberGrade-score').text)\n",
    "            if ratings_squares[i].find(class_ = 'section-subtitle').text == 'Retention':\n",
    "                retention = float(ratings_squares[i].find(class_ = 'numberGrade-score').text)\n",
    "            if ratings_squares[i].find(class_ = 'section-subtitle').text == 'Meetings':\n",
    "                meetings = float(ratings_squares[i].find(class_ = 'numberGrade-score').text)\n",
    "            if ratings_squares[i].find(class_ = 'section-subtitle').text == 'Professional Development':\n",
    "                professional_development = float(ratings_squares[i].find(class_ = 'numberGrade-score').text)\n",
    "            if ratings_squares[i].find(class_ = 'section-subtitle').text == 'Office Culture':\n",
    "                office_culture = float(ratings_squares[i].find(class_ = 'numberGrade-score').text)\n",
    "            time.sleep(3)\n",
    "            driver.find_element_by_xpath('//*[@id=\"body\"]/header/div/div/div[1]/div/a').click()\n",
    "            time.sleep(2)\n",
    "        \n",
    "        comparably_reviews = comparably_reviews.append({'company': company,\n",
    "                                                        'culture': culture,\n",
    "                                                        'ceo_score': ceo_score,\n",
    "                                                        'net_promoter_scale': net_promoter_scale,\n",
    "                                                        'perks_and_benefits': perks_and_benefits,\n",
    "                                                        'outlook': outlook,\n",
    "                                                        'executive_team': executive_team,\n",
    "                                                        'work_culture': work_culture,\n",
    "                                                        'compensation': compensation,\n",
    "                                                        'leadership': leadership,\n",
    "                                                        'diversity': diversity,\n",
    "                                                        'team': team,\n",
    "                                                        'happiness': happiness,\n",
    "                                                        'environment': environment,\n",
    "                                                        'gender': gender,\n",
    "                                                        'manager': manager,\n",
    "                                                        'retention': retention,\n",
    "                                                        'meetings': meetings,\n",
    "                                                        'professional_development': professional_development,\n",
    "                                                        'office_culture': office_culture}, ignore_index=True)\n",
    "\n",
    "    return comparably_reviews"
   ]
  },
  {
   "cell_type": "code",
   "execution_count": 137,
   "metadata": {
    "ExecuteTime": {
     "end_time": "2021-02-15T23:09:30.259877Z",
     "start_time": "2021-02-15T23:01:43.607378Z"
    }
   },
   "outputs": [],
   "source": [
    "comparably_reviews = get_comparably_reviews(companies)"
   ]
  },
  {
   "cell_type": "markdown",
   "metadata": {},
   "source": [
    "# Merging Dataframes"
   ]
  },
  {
   "cell_type": "code",
   "execution_count": 15,
   "metadata": {
    "ExecuteTime": {
     "end_time": "2021-02-15T21:36:07.508874Z",
     "start_time": "2021-02-15T21:36:07.502677Z"
    }
   },
   "outputs": [],
   "source": [
    "data_frames = [indeed_reviews, vault_reviews, careerbliss_reviews, comparably_reviews]"
   ]
  },
  {
   "cell_type": "code",
   "execution_count": 16,
   "metadata": {
    "ExecuteTime": {
     "end_time": "2021-02-15T21:36:09.246115Z",
     "start_time": "2021-02-15T21:36:09.153297Z"
    }
   },
   "outputs": [],
   "source": [
    "question_1 = reduce(lambda  left,right: pd.merge(left,right,on=['company'],how='outer'), data_frames)"
   ]
  },
  {
   "cell_type": "code",
   "execution_count": 19,
   "metadata": {
    "ExecuteTime": {
     "end_time": "2021-02-15T21:36:49.777662Z",
     "start_time": "2021-02-15T21:36:49.743671Z"
    }
   },
   "outputs": [
    {
     "data": {
      "text/html": [
       "<div>\n",
       "<style scoped>\n",
       "    .dataframe tbody tr th:only-of-type {\n",
       "        vertical-align: middle;\n",
       "    }\n",
       "\n",
       "    .dataframe tbody tr th {\n",
       "        vertical-align: top;\n",
       "    }\n",
       "\n",
       "    .dataframe thead th {\n",
       "        text-align: right;\n",
       "    }\n",
       "</style>\n",
       "<table border=\"1\" class=\"dataframe\">\n",
       "  <thead>\n",
       "    <tr style=\"text-align: right;\">\n",
       "      <th></th>\n",
       "      <th>company</th>\n",
       "      <th>work_life_balance</th>\n",
       "      <th>pay_and_benefits</th>\n",
       "      <th>job_security_and_advancement</th>\n",
       "      <th>management</th>\n",
       "      <th>culture_x</th>\n",
       "      <th>composite_score</th>\n",
       "      <th>uppers</th>\n",
       "      <th>downers</th>\n",
       "      <th>company_culture</th>\n",
       "      <th>coworkers</th>\n",
       "      <th>rewards</th>\n",
       "      <th>way_you_work</th>\n",
       "      <th>growth_opp</th>\n",
       "      <th>person_you_work_for</th>\n",
       "      <th>support</th>\n",
       "      <th>work_setting</th>\n",
       "      <th>culture_y</th>\n",
       "      <th>ceo_score</th>\n",
       "      <th>net_promoter_scale</th>\n",
       "      <th>perks_and_benefits</th>\n",
       "      <th>outlook</th>\n",
       "      <th>executive_team</th>\n",
       "      <th>work_culture</th>\n",
       "      <th>compensation</th>\n",
       "      <th>leadership</th>\n",
       "      <th>diversity</th>\n",
       "      <th>team</th>\n",
       "      <th>happiness</th>\n",
       "      <th>environment</th>\n",
       "      <th>gender</th>\n",
       "      <th>manager</th>\n",
       "      <th>retention</th>\n",
       "      <th>meetings</th>\n",
       "      <th>professional_development</th>\n",
       "      <th>office_culture</th>\n",
       "    </tr>\n",
       "  </thead>\n",
       "  <tbody>\n",
       "    <tr>\n",
       "      <th>0</th>\n",
       "      <td>Apple</td>\n",
       "      <td>3.8</td>\n",
       "      <td>4.1</td>\n",
       "      <td>3.7</td>\n",
       "      <td>3.7</td>\n",
       "      <td>4.1</td>\n",
       "      <td>0.776</td>\n",
       "      <td>working for a top brand that helps influence p...</td>\n",
       "      <td>some employees say that promotion and finding ...</td>\n",
       "      <td>4.1</td>\n",
       "      <td>4.6</td>\n",
       "      <td>4.0</td>\n",
       "      <td>4.2</td>\n",
       "      <td>3.7</td>\n",
       "      <td>4.3</td>\n",
       "      <td>4.3</td>\n",
       "      <td>4.1</td>\n",
       "      <td>4.3</td>\n",
       "      <td>80.0</td>\n",
       "      <td>24.0</td>\n",
       "      <td>81.0</td>\n",
       "      <td>78.0</td>\n",
       "      <td>74.0</td>\n",
       "      <td>76.0</td>\n",
       "      <td>74.0</td>\n",
       "      <td>73.0</td>\n",
       "      <td>73.0</td>\n",
       "      <td>77.0</td>\n",
       "      <td>75.0</td>\n",
       "      <td>73.0</td>\n",
       "      <td>73.0</td>\n",
       "      <td>69.0</td>\n",
       "      <td>69.0</td>\n",
       "      <td>68.0</td>\n",
       "      <td>58.0</td>\n",
       "      <td>59.0</td>\n",
       "    </tr>\n",
       "  </tbody>\n",
       "</table>\n",
       "</div>"
      ],
      "text/plain": [
       "  company  work_life_balance  pay_and_benefits  job_security_and_advancement  \\\n",
       "0   Apple                3.8               4.1                           3.7   \n",
       "\n",
       "   management  culture_x  composite_score  \\\n",
       "0         3.7        4.1            0.776   \n",
       "\n",
       "                                              uppers  \\\n",
       "0  working for a top brand that helps influence p...   \n",
       "\n",
       "                                             downers  company_culture  \\\n",
       "0  some employees say that promotion and finding ...              4.1   \n",
       "\n",
       "   coworkers  rewards  way_you_work  growth_opp  person_you_work_for  support  \\\n",
       "0        4.6      4.0           4.2         3.7                  4.3      4.3   \n",
       "\n",
       "   work_setting  culture_y  ceo_score  net_promoter_scale  perks_and_benefits  \\\n",
       "0           4.1        4.3       80.0                24.0                81.0   \n",
       "\n",
       "   outlook  executive_team  work_culture  compensation  leadership  diversity  \\\n",
       "0     78.0            74.0          76.0          74.0        73.0       73.0   \n",
       "\n",
       "   team  happiness  environment  gender  manager  retention  meetings  \\\n",
       "0  77.0       75.0         73.0    73.0     69.0       69.0      68.0   \n",
       "\n",
       "   professional_development  office_culture  \n",
       "0                      58.0            59.0  "
      ]
     },
     "execution_count": 19,
     "metadata": {},
     "output_type": "execute_result"
    }
   ],
   "source": [
    "question_1"
   ]
  },
  {
   "cell_type": "markdown",
   "metadata": {},
   "source": [
    "# Making Sense Out of Data"
   ]
  },
  {
   "cell_type": "code",
   "execution_count": 93,
   "metadata": {
    "ExecuteTime": {
     "end_time": "2021-02-15T22:26:06.526643Z",
     "start_time": "2021-02-15T22:26:06.519733Z"
    }
   },
   "outputs": [],
   "source": [
    "question_1['culture'] = ((question_1.culture_x *20) + \n",
    "                         (question_1.culture_y *20) + \n",
    "                         question_1.work_culture + \n",
    "                         question_1.office_culture + \n",
    "                         (question_1.company_culture * 20)) / 5\n",
    "org_data = question_1.drop(columns=['culture_x',\n",
    "                                    'culture_y',\n",
    "                                    'work_culture',\n",
    "                                    'office_culture',\n",
    "                                    'company_culture',\n",
    "                                    'composite_score'], axis=1)"
   ]
  },
  {
   "cell_type": "code",
   "execution_count": 94,
   "metadata": {
    "ExecuteTime": {
     "end_time": "2021-02-15T22:26:41.776083Z",
     "start_time": "2021-02-15T22:26:41.768121Z"
    }
   },
   "outputs": [],
   "source": [
    "org_data['opportunity'] = ((org_data.job_security_and_advancement * 20) + \n",
    "                           (org_data.growth_opp * 20) + \n",
    "                           org_data.professional_development) / 3\n",
    "org_data.drop(columns = ['job_security_and_advancement',\n",
    "                         'growth_opp',\n",
    "                         'professional_development'], axis=1, inplace=True)"
   ]
  },
  {
   "cell_type": "code",
   "execution_count": 95,
   "metadata": {
    "ExecuteTime": {
     "end_time": "2021-02-15T22:27:31.288379Z",
     "start_time": "2021-02-15T22:27:31.278927Z"
    }
   },
   "outputs": [],
   "source": [
    "org_data['leadership_and_management'] = ((org_data.management*20) + \n",
    "                                         (org_data.person_you_work_for*20) + \n",
    "                                         org_data.ceo_score + \n",
    "                                         org_data.executive_team + \n",
    "                                         org_data.leadership + \n",
    "                                         org_data.manager) / 6\n",
    "org_data.drop(columns=['management',\n",
    "                       'person_you_work_for',\n",
    "                       'ceo_score',\n",
    "                       'executive_team',\n",
    "                       'leadership',\n",
    "                       'manager'], axis=1, inplace=True)"
   ]
  },
  {
   "cell_type": "code",
   "execution_count": 96,
   "metadata": {
    "ExecuteTime": {
     "end_time": "2021-02-15T22:28:42.136396Z",
     "start_time": "2021-02-15T22:28:42.127923Z"
    }
   },
   "outputs": [],
   "source": [
    "org_data['pay_perks_and_benefits'] = ((org_data.work_life_balance*20) + \n",
    "                                      (org_data.pay_and_benefits*20) + \n",
    "                                      org_data.perks_and_benefits + \n",
    "                                      org_data.compensation + \n",
    "                                      (org_data.rewards*20)) / 4\n",
    "org_data.drop(columns=['work_life_balance',\n",
    "                       'pay_and_benefits',\n",
    "                       'perks_and_benefits',\n",
    "                       'compensation',\n",
    "                       'rewards'], axis=1, inplace=True)"
   ]
  },
  {
   "cell_type": "code",
   "execution_count": 97,
   "metadata": {
    "ExecuteTime": {
     "end_time": "2021-02-15T22:29:43.490193Z",
     "start_time": "2021-02-15T22:29:43.480104Z"
    }
   },
   "outputs": [],
   "source": [
    "org_data['day_to_day'] = ((org_data.coworkers*20) + \n",
    "                          (org_data.way_you_work*20) + \n",
    "                          org_data.team + \n",
    "                          org_data.meetings + \n",
    "                          (org_data.work_setting*20)) / 5\n",
    "org_data.drop(columns=['coworkers',\n",
    "                       'way_you_work',\n",
    "                       'team',\n",
    "                       'meetings',\n",
    "                       'work_setting'], axis=1, inplace=True)"
   ]
  },
  {
   "cell_type": "code",
   "execution_count": 98,
   "metadata": {
    "ExecuteTime": {
     "end_time": "2021-02-15T22:30:49.211649Z",
     "start_time": "2021-02-15T22:30:49.201947Z"
    }
   },
   "outputs": [],
   "source": [
    "org_data['mental_health'] = ((org_data.support*20) +\n",
    "                             org_data.outlook + \n",
    "                             org_data.happiness + \n",
    "                             org_data.retention) / 4\n",
    "org_data.drop(columns=['support',\n",
    "                       'outlook',\n",
    "                       'happiness',\n",
    "                       'retention'], axis=1, inplace=True)"
   ]
  },
  {
   "cell_type": "code",
   "execution_count": 99,
   "metadata": {
    "ExecuteTime": {
     "end_time": "2021-02-15T22:30:50.541993Z",
     "start_time": "2021-02-15T22:30:50.535552Z"
    }
   },
   "outputs": [],
   "source": [
    "org_data['diversity_inclusion'] = (org_data.diversity + \n",
    "                                   org_data.gender) / 2\n",
    "org_data.drop(columns = ['diversity','gender'], axis=1, inplace=True)"
   ]
  },
  {
   "cell_type": "code",
   "execution_count": 100,
   "metadata": {
    "ExecuteTime": {
     "end_time": "2021-02-15T22:30:51.397896Z",
     "start_time": "2021-02-15T22:30:51.392875Z"
    }
   },
   "outputs": [],
   "source": [
    "org_data.rename(columns={'net_promoter_scale': 'refer_to_friend'}, inplace=True)"
   ]
  },
  {
   "cell_type": "code",
   "execution_count": 102,
   "metadata": {
    "ExecuteTime": {
     "end_time": "2021-02-15T22:32:31.089134Z",
     "start_time": "2021-02-15T22:32:31.083784Z"
    }
   },
   "outputs": [],
   "source": [
    "org_data.drop(columns='uppers',axis=1, inplace=True)"
   ]
  },
  {
   "cell_type": "code",
   "execution_count": 103,
   "metadata": {
    "ExecuteTime": {
     "end_time": "2021-02-15T22:32:33.841647Z",
     "start_time": "2021-02-15T22:32:33.828079Z"
    }
   },
   "outputs": [
    {
     "data": {
      "text/html": [
       "<div>\n",
       "<style scoped>\n",
       "    .dataframe tbody tr th:only-of-type {\n",
       "        vertical-align: middle;\n",
       "    }\n",
       "\n",
       "    .dataframe tbody tr th {\n",
       "        vertical-align: top;\n",
       "    }\n",
       "\n",
       "    .dataframe thead th {\n",
       "        text-align: right;\n",
       "    }\n",
       "</style>\n",
       "<table border=\"1\" class=\"dataframe\">\n",
       "  <thead>\n",
       "    <tr style=\"text-align: right;\">\n",
       "      <th></th>\n",
       "      <th>company</th>\n",
       "      <th>downers</th>\n",
       "      <th>refer_to_friend</th>\n",
       "      <th>environment</th>\n",
       "      <th>culture</th>\n",
       "      <th>opportunity</th>\n",
       "      <th>leadership_and_management</th>\n",
       "      <th>pay_perks_and_benefits</th>\n",
       "      <th>day_to_day</th>\n",
       "      <th>mental_health</th>\n",
       "      <th>diversity_inclusion</th>\n",
       "    </tr>\n",
       "  </thead>\n",
       "  <tbody>\n",
       "    <tr>\n",
       "      <th>0</th>\n",
       "      <td>Apple</td>\n",
       "      <td>some employees say that promotion and finding ...</td>\n",
       "      <td>24.0</td>\n",
       "      <td>73.0</td>\n",
       "      <td>77.0</td>\n",
       "      <td>68.666667</td>\n",
       "      <td>76.0</td>\n",
       "      <td>98.25</td>\n",
       "      <td>80.6</td>\n",
       "      <td>77.0</td>\n",
       "      <td>73.0</td>\n",
       "    </tr>\n",
       "  </tbody>\n",
       "</table>\n",
       "</div>"
      ],
      "text/plain": [
       "  company                                            downers  refer_to_friend  \\\n",
       "0   Apple  some employees say that promotion and finding ...             24.0   \n",
       "\n",
       "   environment  culture  opportunity  leadership_and_management  \\\n",
       "0         73.0     77.0    68.666667                       76.0   \n",
       "\n",
       "   pay_perks_and_benefits  day_to_day  mental_health  diversity_inclusion  \n",
       "0                   98.25        80.6           77.0                 73.0  "
      ]
     },
     "execution_count": 103,
     "metadata": {},
     "output_type": "execute_result"
    }
   ],
   "source": [
    "org_data"
   ]
  },
  {
   "cell_type": "code",
   "execution_count": 106,
   "metadata": {
    "ExecuteTime": {
     "end_time": "2021-02-15T22:39:41.713960Z",
     "start_time": "2021-02-15T22:39:41.709363Z"
    }
   },
   "outputs": [],
   "source": [
    "def check_downers_list(input_str):\n",
    "    split_string = input_str.split()\n",
    "    presence = 0\n",
    "    downers_list = ['discrimination',\n",
    "                    'safety',\n",
    "                    'diversity',\n",
    "                    'training',\n",
    "                    'development',\n",
    "                    'fair']\n",
    "    for i in split_string:\n",
    "        if i in downers_list:\n",
    "            presence = 1\n",
    "        else:\n",
    "            pass\n",
    "    \n",
    "    return presence"
   ]
  },
  {
   "cell_type": "code",
   "execution_count": 107,
   "metadata": {
    "ExecuteTime": {
     "end_time": "2021-02-15T22:39:58.914184Z",
     "start_time": "2021-02-15T22:39:58.865599Z"
    }
   },
   "outputs": [],
   "source": [
    "org_data.downers = org_data.downers.apply(lambda x: check_downers_list(x))"
   ]
  },
  {
   "cell_type": "code",
   "execution_count": 108,
   "metadata": {
    "ExecuteTime": {
     "end_time": "2021-02-15T22:40:05.869727Z",
     "start_time": "2021-02-15T22:40:05.855486Z"
    }
   },
   "outputs": [
    {
     "data": {
      "text/html": [
       "<div>\n",
       "<style scoped>\n",
       "    .dataframe tbody tr th:only-of-type {\n",
       "        vertical-align: middle;\n",
       "    }\n",
       "\n",
       "    .dataframe tbody tr th {\n",
       "        vertical-align: top;\n",
       "    }\n",
       "\n",
       "    .dataframe thead th {\n",
       "        text-align: right;\n",
       "    }\n",
       "</style>\n",
       "<table border=\"1\" class=\"dataframe\">\n",
       "  <thead>\n",
       "    <tr style=\"text-align: right;\">\n",
       "      <th></th>\n",
       "      <th>company</th>\n",
       "      <th>downers</th>\n",
       "      <th>refer_to_friend</th>\n",
       "      <th>environment</th>\n",
       "      <th>culture</th>\n",
       "      <th>opportunity</th>\n",
       "      <th>leadership_and_management</th>\n",
       "      <th>pay_perks_and_benefits</th>\n",
       "      <th>day_to_day</th>\n",
       "      <th>mental_health</th>\n",
       "      <th>diversity_inclusion</th>\n",
       "    </tr>\n",
       "  </thead>\n",
       "  <tbody>\n",
       "    <tr>\n",
       "      <th>0</th>\n",
       "      <td>Apple</td>\n",
       "      <td>0</td>\n",
       "      <td>24.0</td>\n",
       "      <td>73.0</td>\n",
       "      <td>77.0</td>\n",
       "      <td>68.666667</td>\n",
       "      <td>76.0</td>\n",
       "      <td>98.25</td>\n",
       "      <td>80.6</td>\n",
       "      <td>77.0</td>\n",
       "      <td>73.0</td>\n",
       "    </tr>\n",
       "  </tbody>\n",
       "</table>\n",
       "</div>"
      ],
      "text/plain": [
       "  company  downers  refer_to_friend  environment  culture  opportunity  \\\n",
       "0   Apple        0             24.0         73.0     77.0    68.666667   \n",
       "\n",
       "   leadership_and_management  pay_perks_and_benefits  day_to_day  \\\n",
       "0                       76.0                   98.25        80.6   \n",
       "\n",
       "   mental_health  diversity_inclusion  \n",
       "0           77.0                 73.0  "
      ]
     },
     "execution_count": 108,
     "metadata": {},
     "output_type": "execute_result"
    }
   ],
   "source": [
    "org_data"
   ]
  },
  {
   "cell_type": "code",
   "execution_count": null,
   "metadata": {},
   "outputs": [],
   "source": []
  }
 ],
 "metadata": {
  "kernelspec": {
   "display_name": "learn-env",
   "language": "python",
   "name": "learn-env"
  },
  "language_info": {
   "codemirror_mode": {
    "name": "ipython",
    "version": 3
   },
   "file_extension": ".py",
   "mimetype": "text/x-python",
   "name": "python",
   "nbconvert_exporter": "python",
   "pygments_lexer": "ipython3",
   "version": "3.6.9"
  },
  "toc": {
   "base_numbering": 1,
   "nav_menu": {},
   "number_sections": true,
   "sideBar": true,
   "skip_h1_title": false,
   "title_cell": "Table of Contents",
   "title_sidebar": "Contents",
   "toc_cell": false,
   "toc_position": {},
   "toc_section_display": true,
   "toc_window_display": false
  },
  "varInspector": {
   "cols": {
    "lenName": 16,
    "lenType": 16,
    "lenVar": 40
   },
   "kernels_config": {
    "python": {
     "delete_cmd_postfix": "",
     "delete_cmd_prefix": "del ",
     "library": "var_list.py",
     "varRefreshCmd": "print(var_dic_list())"
    },
    "r": {
     "delete_cmd_postfix": ") ",
     "delete_cmd_prefix": "rm(",
     "library": "var_list.r",
     "varRefreshCmd": "cat(var_dic_list()) "
    }
   },
   "types_to_exclude": [
    "module",
    "function",
    "builtin_function_or_method",
    "instance",
    "_Feature"
   ],
   "window_display": false
  }
 },
 "nbformat": 4,
 "nbformat_minor": 4
}
