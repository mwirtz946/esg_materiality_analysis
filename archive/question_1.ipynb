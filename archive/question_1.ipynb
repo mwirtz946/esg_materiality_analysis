{
 "cells": [
  {
   "cell_type": "markdown",
   "metadata": {},
   "source": [
    "# Question: Does the company treat its employees well? "
   ]
  },
  {
   "cell_type": "markdown",
   "metadata": {},
   "source": [
    "This section relates to cultural aspects of the companies being examined, including the chief concern: how employees are treated. We also consider worker safety; fair pay and benefits; opportunities for development, training, and advancement; and other aspects that impact the company's workers.\n",
    "\n",
    "Employees are the lifeblood of a company. Happy, healthy, and valued employees are more willing and able to do higher-quality work, be enthusiastic brand evangelists, unleash their creativity to invent better services and solutions, and innovate to improve the company. Employees should be viewed as valuable assets to invest in continually, not expendable \"resources\" or drags on the bottom line. (The \"bottom line\" is net profit -- a company's income after all expenses have been deducted from revenue.)\n",
    "\n",
    "Companies that excel at engaging their employees actually achieve per-share earnings growth more than four times that of their rivals, according to Gallup. Compared to companies in the bottom quartile, the top-quartile companies (based on employee engagement) generate higher customer engagement, higher productivity, better retention, fewer accidents, and 21% higher profitability.\n",
    "\n",
    "Even though Wall Street tends to cheer when companies lay off workers, high employee turnover is actually an expense to be avoided. Not only is it a financial cost -- think about severance packages, and the costs of recruiting and training new employees as well as retraining remaining workers -- but the loss of intellectual capital is also a poor outcome for employers.\n",
    "\n",
    "Company websites and sustainability reports can help you assess this factor. Also look for publications from organizations that rate companies on worker treatment, such as Fortune's annual list of \"100 Best Companies to Work For\" and Forbes' \"Just 100\" list.\n",
    "\n",
    "We also look for negative elements, like shoddy employment treatment; contentious relationships with unions; lawsuits or controversies about discrimination; harassment or wage theft; and other behavior that indicates poor employee relations, like serial layoffs or constant restructuring. These kinds of red flags might disqualify a company for inclusion in our ESG portfolio."
   ]
  },
  {
   "cell_type": "markdown",
   "metadata": {},
   "source": [
    "# Data Sources"
   ]
  },
  {
   "cell_type": "markdown",
   "metadata": {},
   "source": [
    "Possible Sites to Aggregate Employee Reviews:\n",
    "- Glassdoor \n",
    "- Indeed\n",
    "- Vault \n",
    "- CareerBliss\n",
    "- Kununu\n",
    "- JobAdvisor\n",
    "- Ratemyemployer\n",
    "- TheJobCrowd\n",
    "- LookBeforeYouLeap\n",
    "- Comparably\n",
    "- Yelp"
   ]
  },
  {
   "cell_type": "markdown",
   "metadata": {},
   "source": [
    "# Imports"
   ]
  },
  {
   "cell_type": "code",
   "execution_count": 219,
   "metadata": {
    "ExecuteTime": {
     "end_time": "2021-02-13T16:41:13.798899Z",
     "start_time": "2021-02-13T16:41:13.782373Z"
    }
   },
   "outputs": [],
   "source": [
    "# All necessary imports\n",
    "from bs4 import BeautifulSoup\n",
    "import selenium\n",
    "from selenium import webdriver\n",
    "from selenium.webdriver.common.by import By\n",
    "from selenium.webdriver.support.ui import WebDriverWait\n",
    "from selenium.webdriver.support import expected_conditions as EC\n",
    "from selenium.webdriver.chrome.options import Options\n",
    "from selenium.webdriver.common.keys import Keys\n",
    "from selenium.webdriver.common.action_chains import ActionChains\n",
    "import time\n",
    "import requests\n",
    "import pandas as pd\n",
    "import pickle\n",
    "import newspaper\n",
    "import re\n",
    "from functools import reduce"
   ]
  },
  {
   "cell_type": "markdown",
   "metadata": {},
   "source": [
    "# Data Collection"
   ]
  },
  {
   "cell_type": "markdown",
   "metadata": {},
   "source": [
    "## Indeed"
   ]
  },
  {
   "cell_type": "code",
   "execution_count": 137,
   "metadata": {
    "ExecuteTime": {
     "end_time": "2021-02-13T15:16:38.130225Z",
     "start_time": "2021-02-13T15:16:38.126710Z"
    }
   },
   "outputs": [],
   "source": [
    "companies = ['Apple','Microsoft']"
   ]
  },
  {
   "cell_type": "code",
   "execution_count": 49,
   "metadata": {
    "ExecuteTime": {
     "end_time": "2021-02-12T22:11:26.478392Z",
     "start_time": "2021-02-12T22:11:26.463943Z"
    }
   },
   "outputs": [],
   "source": [
    "def get_indeed_reviews(companies):\n",
    "    \n",
    "    # Create empty dataframe\n",
    "    indeed_reviews = pd.DataFrame(columns=['company','work_life_balance','pay_and_benefits','job_security_and_advancement','management','culture','composite_score'])\n",
    "    \n",
    "    # Set path to chromedriver\n",
    "    PATH = \"/Users/MichaelWirtz/Desktop/pathfile/chromedriver_2\"\n",
    "    # Define options \n",
    "    options = Options()\n",
    "    # Remove pop up window\n",
    "    options.add_argument(\"--headless\")\n",
    "    # Define driver\n",
    "    driver = webdriver.Chrome(PATH, options=options)\n",
    "    # # Define driver\n",
    "    # driver = webdriver.Chrome(PATH)\n",
    "    driver.set_window_size(1080,800)\n",
    "    # Define url\n",
    "    url= \"https://www.indeed.com/?from=gnav-acme--acme-webapp\"\n",
    "    # Get website\n",
    "    driver.get(url)\n",
    "    \n",
    "    for company in companies:\n",
    "        # Find search bar\n",
    "        search_bar = driver.find_element_by_xpath('//*[@id=\"text-input-what\"]')\n",
    "        # Clear search bar\n",
    "        search_bar.clear()\n",
    "        # Enter company name into search bar\n",
    "        search_bar.send_keys(company)\n",
    "        # Search company\n",
    "        search_bar.send_keys(Keys.ENTER)\n",
    "        time.sleep(3)\n",
    "        try:\n",
    "            exit_button = driver.find_element_by_xpath('//*[@id=\"popover-x\"]/button')\n",
    "            exit_button.click()\n",
    "        except:\n",
    "            pass\n",
    "        # Find Reviews\n",
    "        driver.find_element_by_link_text('Reviews').click()\n",
    "        # Define variables for employee ratings\n",
    "        work_life_balance = float(driver.find_element_by_xpath('//*[@id=\"cmp-container\"]/div/div[1]/main/div/div[2]/div[1]/div[2]/div[2]/div[1]/a/span[1]').text)\n",
    "        pay_and_benefits = float(driver.find_element_by_xpath('//*[@id=\"cmp-container\"]/div/div[1]/main/div/div[2]/div[1]/div[2]/div[2]/div[2]/a/span[1]').text)\n",
    "        job_security_and_advancement = float(driver.find_element_by_xpath('//*[@id=\"cmp-container\"]/div/div[1]/main/div/div[2]/div[1]/div[2]/div[2]/div[3]/a/span[1]').text)\n",
    "        management = float(driver.find_element_by_xpath('//*[@id=\"cmp-container\"]/div/div[1]/main/div/div[2]/div[1]/div[2]/div[2]/div[4]/a/span[1]').text)\n",
    "        culture = float(driver.find_element_by_xpath('//*[@id=\"cmp-container\"]/div/div[1]/main/div/div[2]/div[1]/div[2]/div[2]/div[5]/a/span[1]').text)\n",
    "        composite_score = (work_life_balance+pay_and_benefits+job_security_and_advancement+management+culture) / 25\n",
    "        \n",
    "        # Append new data to dataframe\n",
    "        indeed_reviews = indeed_reviews.append({'company': company,\n",
    "                                                'work_life_balance': work_life_balance,\n",
    "                                                'pay_and_benefits': pay_and_benefits,\n",
    "                                                'job_security_and_advancement': job_security_and_advancement,\n",
    "                                                'management': management,\n",
    "                                                'culture': culture,\n",
    "                                                'composite_score': composite_score}, ignore_index=True)\n",
    "        \n",
    "        time.sleep(1)\n",
    "        driver.back()\n",
    "        time.sleep(1)\n",
    "        driver.back()\n",
    "        time.sleep(1)\n",
    "    \n",
    "    return indeed_reviews\n",
    "    "
   ]
  },
  {
   "cell_type": "code",
   "execution_count": 50,
   "metadata": {
    "ExecuteTime": {
     "end_time": "2021-02-12T22:11:59.326728Z",
     "start_time": "2021-02-12T22:11:36.488792Z"
    },
    "scrolled": true
   },
   "outputs": [],
   "source": [
    "indeed_reviews = get_indeed_reviews(companies)"
   ]
  },
  {
   "cell_type": "markdown",
   "metadata": {},
   "source": [
    "## Vault"
   ]
  },
  {
   "cell_type": "code",
   "execution_count": 51,
   "metadata": {
    "ExecuteTime": {
     "end_time": "2021-02-12T22:11:59.727243Z",
     "start_time": "2021-02-12T22:11:59.598374Z"
    }
   },
   "outputs": [],
   "source": [
    "def get_vault_reviews(companies):\n",
    "    \n",
    "    vault_reviews = pd.DataFrame(columns=['company','uppers','downers'])\n",
    "    \n",
    "    # Set path to chromedriver\n",
    "    PATH = \"/Users/MichaelWirtz/Desktop/pathfile/chromedriver_2\"\n",
    "    # Define options \n",
    "    options = Options()\n",
    "    # Remove pop up window\n",
    "    options.add_argument(\"disable-infobars\")\n",
    "    options.add_argument(\"--headless\")\n",
    "    # Define driver\n",
    "    driver = webdriver.Chrome(PATH, options=options)\n",
    "    # # Define driver\n",
    "    # driver = webdriver.Chrome(PATH)\n",
    "    driver.set_window_size(1080,800)\n",
    "    # Define url\n",
    "    url= \"https://www.vault.com/\"\n",
    "    # Get website\n",
    "    driver.get(url)\n",
    "    time.sleep(2)\n",
    "\n",
    "    for company in companies:\n",
    "        # Find search bar\n",
    "        search_bar = driver.find_element_by_xpath('//*[@id=\"HeroSearchBox\"]')\n",
    "        # Clear search bar\n",
    "        search_bar.clear()\n",
    "        # Enter company name into search bar\n",
    "        search_bar.send_keys(company)\n",
    "        time.sleep(3)\n",
    "        # Search company\n",
    "        search_bar.send_keys(Keys.ENTER)\n",
    "        time.sleep(4)\n",
    "        # Find first company listed\n",
    "        likely_company = driver.find_element_by_xpath('//*[@id=\"feed-article-1\"]/div/h2/a')\n",
    "        # Click on company\n",
    "        likely_company.click()\n",
    "        time.sleep(3)\n",
    "        # Get company positives\n",
    "        uppers = (driver.find_element_by_xpath('//*[@id=\"main-content\"]/div[1]/div[2]/div[1]/div[1]').text).replace('\\n',' ').lstrip('Uppers').strip()\n",
    "        # Get company negatives\n",
    "        downers = (driver.find_element_by_xpath('//*[@id=\"main-content\"]/div[1]/div[2]/div[1]/div[2]').text).replace('\\n',' ').lstrip('Downers').strip()\n",
    "        \n",
    "        # Append new data to dataframe\n",
    "        vault_reviews = vault_reviews.append({'company': company,\n",
    "                                                'uppers': uppers,\n",
    "                                                'downers': downers}, ignore_index=True)\n",
    "        \n",
    "        time.sleep(2)\n",
    "        driver.back()\n",
    "        time.sleep(1)\n",
    "        driver.back()\n",
    "        time.sleep(3)\n",
    "    \n",
    "    vault_reviews.uppers = vault_reviews.uppers.apply(lambda x: x.lower())\n",
    "    vault_reviews.downers = vault_reviews.downers.apply(lambda x: x.lower())\n",
    "        \n",
    "    return vault_reviews   "
   ]
  },
  {
   "cell_type": "code",
   "execution_count": 52,
   "metadata": {
    "ExecuteTime": {
     "end_time": "2021-02-12T22:12:48.540466Z",
     "start_time": "2021-02-12T22:11:59.995987Z"
    }
   },
   "outputs": [],
   "source": [
    "vault_reviews = get_vault_reviews(companies)"
   ]
  },
  {
   "cell_type": "markdown",
   "metadata": {},
   "source": [
    "# Career Bliss "
   ]
  },
  {
   "cell_type": "code",
   "execution_count": 75,
   "metadata": {
    "ExecuteTime": {
     "end_time": "2021-02-12T22:45:38.556048Z",
     "start_time": "2021-02-12T22:45:38.478360Z"
    }
   },
   "outputs": [],
   "source": [
    "def get_careerbliss_reviews(companies):\n",
    "    \n",
    "    careerbliss_reviews = pd.DataFrame(columns=['company','company_culture','coworkers','rewards','way_you_work','growth_opp','person_you_work_for','support','work_setting'])\n",
    "    \n",
    "    # Set path to chromedriver\n",
    "    PATH = \"/Users/MichaelWirtz/Desktop/pathfile/chromedriver_2\"\n",
    "    # Define options \n",
    "    options = Options()\n",
    "    # Remove pop up window\n",
    "    options.add_argument(\"disable-infobars\")\n",
    "    options.add_argument(\"--headless\")\n",
    "    # Define driver\n",
    "    driver = webdriver.Chrome(PATH, options=options)\n",
    "    # # Define driver\n",
    "    # driver = webdriver.Chrome(PATH)\n",
    "    driver.set_window_size(1080,800)\n",
    "    # Define url\n",
    "    url= \"https://www.careerbliss.com/reviews/\"\n",
    "    # Get website\n",
    "    driver.get(url)\n",
    "    time.sleep(2)\n",
    "    for company in companies:\n",
    "        # Find search bar\n",
    "        search_bar = driver.find_element_by_xpath('//*[@id=\"search-q\"]')\n",
    "        # Clear search bar\n",
    "        search_bar.clear()\n",
    "        # Enter company name into search bar\n",
    "        search_bar.send_keys(company)\n",
    "        time.sleep(3)\n",
    "        # Search company\n",
    "        search_bar.send_keys(Keys.ENTER)\n",
    "        time.sleep(4)\n",
    "        try:\n",
    "            # Find first company listed\n",
    "            likely_company = driver.find_element_by_xpath('//*[@id=\"bodyContainer\"]/div/div[1]/div[3]/div[2]/div[2]/div[2]/div/div/span/a')\n",
    "            # Click on company\n",
    "            likely_company.click()\n",
    "        except:\n",
    "            driver.refresh()\n",
    "            time.sleep(3)\n",
    "            # Find first company listed\n",
    "            likely_company = driver.find_element_by_xpath('//*[@id=\"bodyContainer\"]/div/div[1]/div[3]/div[2]/div[2]/div[2]/div/div/span/a')\n",
    "            # Click on company\n",
    "            likely_company.click()\n",
    "        time.sleep(3)\n",
    "        company_culture = float(driver.find_element_by_xpath('//*[@id=\"bodyContainer\"]/div/div/div[6]/div[1]/div[1]/div/span[3]').text)\n",
    "        coworkers = float(driver.find_element_by_xpath('//*[@id=\"bodyContainer\"]/div/div/div[6]/div[2]/div[1]/div/span[3]').text)\n",
    "        rewards = float(driver.find_element_by_xpath('//*[@id=\"bodyContainer\"]/div/div/div[6]/div[3]/div[1]/div/span[3]').text)\n",
    "        way_you_work = float(driver.find_element_by_xpath('//*[@id=\"bodyContainer\"]/div/div/div[6]/div[4]/div[1]/div/span[3]').text)\n",
    "        growth_opp = float(driver.find_element_by_xpath('//*[@id=\"bodyContainer\"]/div/div/div[6]/div[1]/div[2]/div/span[3]').text)\n",
    "        person_you_work_for = float(driver.find_element_by_xpath('//*[@id=\"bodyContainer\"]/div/div/div[6]/div[2]/div[2]/div/span[3]').text)\n",
    "        support = float(driver.find_element_by_xpath('//*[@id=\"bodyContainer\"]/div/div/div[6]/div[3]/div[2]/div/span[3]').text)\n",
    "        work_setting = float(driver.find_element_by_xpath('//*[@id=\"bodyContainer\"]/div/div/div[6]/div[4]/div[2]/div/span[3]').text)\n",
    "        \n",
    "        time.sleep(2)\n",
    "        driver.back()\n",
    "        time.sleep(2)\n",
    "        driver.back()\n",
    "        time.sleep(2)\n",
    "        \n",
    "        careerbliss_reviews = careerbliss_reviews.append({'company': company,\n",
    "                                                          'company_culture': company_culture,\n",
    "                                                          'coworkers': coworkers,\n",
    "                                                          'rewards': rewards,\n",
    "                                                          'way_you_work': way_you_work,\n",
    "                                                          'growth_opp': growth_opp,\n",
    "                                                          'person_you_work_for': person_you_work_for,\n",
    "                                                          'support': support,\n",
    "                                                          'work_setting': work_setting}, ignore_index=True)\n",
    "    \n",
    "    return careerbliss_reviews"
   ]
  },
  {
   "cell_type": "code",
   "execution_count": 78,
   "metadata": {
    "ExecuteTime": {
     "end_time": "2021-02-12T22:50:41.469447Z",
     "start_time": "2021-02-12T22:49:52.965295Z"
    }
   },
   "outputs": [],
   "source": [
    "careerbliss_reviews = get_careerbliss_reviews(companies)"
   ]
  },
  {
   "cell_type": "markdown",
   "metadata": {},
   "source": [
    "# Comparably"
   ]
  },
  {
   "cell_type": "code",
   "execution_count": 268,
   "metadata": {
    "ExecuteTime": {
     "end_time": "2021-02-13T17:35:51.946247Z",
     "start_time": "2021-02-13T17:35:51.914282Z"
    }
   },
   "outputs": [],
   "source": [
    "def get_comparably_reviews(companies):\n",
    "    \n",
    "    comparably_reviews = pd.DataFrame(columns=['company','culture','ceo_score','net_promoter_scale','perks_and_benefits','outlook','executive_team','work_culture','compensation','leadership','diversity','team','happiness','environment','gender','manager','retention','meetings','professional_development','office_culture'])\n",
    "    \n",
    "    # Set path to chromedriver\n",
    "    PATH = \"/Users/MichaelWirtz/Desktop/pathfile/chromedriver_2\"\n",
    "    # Define options \n",
    "    options = Options()\n",
    "    # Remove pop up window\n",
    "    options.add_argument(\"disable-infobars\")\n",
    "    options.add_argument(\"--headless\")\n",
    "    # Define driver\n",
    "    driver = webdriver.Chrome(PATH, options=options)\n",
    "    # # Define driver\n",
    "    # driver = webdriver.Chrome(PATH)\n",
    "    driver.set_window_size(1080,800)\n",
    "    # Define url\n",
    "    url= \"https://www.comparably.com/\"\n",
    "    # Get website\n",
    "    driver.get(url)\n",
    "    time.sleep(2)\n",
    "    for company in companies:\n",
    "        # Find search bar\n",
    "        search_bar = driver.find_element_by_xpath('//*[@id=\"bodyContent\"]/div[2]/div/div/div/div/form/div/div/input')\n",
    "        # Clear search bar\n",
    "        search_bar.clear()\n",
    "        # Enter company name into search bar\n",
    "        search_bar.send_keys(company)\n",
    "        time.sleep(1)\n",
    "        # Search company\n",
    "        search_bar.send_keys(Keys.ENTER)\n",
    "        time.sleep(4)\n",
    "        # Find first company listed\n",
    "        likely_company = driver.find_element_by_xpath('//*[@id=\"bodyContent\"]/div[2]/div/div[2]/div[1]/div/div[2]/a[1]/div/div/div[1]')\n",
    "        # Click on company\n",
    "        likely_company.click()\n",
    "        time.sleep(2)\n",
    "        try:\n",
    "            culture = float(driver.find_element_by_xpath('//*[@id=\"bodyContent\"]/div[2]/div[4]/div/div/div/div/div[1]/div[1]/a/div[2]/div[1]/div[2]/b').text)\n",
    "        except:\n",
    "            culture - 'NaN'\n",
    "        try:\n",
    "            ceo_score = float(driver.find_element_by_xpath('//*[@id=\"bodyContent\"]/div[2]/div[4]/div/div/div/div/div[1]/div[3]/a/div[4]/span/span[1]/span').text)\n",
    "        except:\n",
    "            ceo_score = 'NaN'\n",
    "        try:\n",
    "            net_promoter_scale = float(driver.find_element_by_xpath('//*[@id=\"bodyContent\"]/div[2]/div[4]/div/div/div/div/div[2]/div[2]/a[3]/div[2]/div/div[2]/div[1]').text)\n",
    "        except:\n",
    "            net_promoter_scale = 'NaN'\n",
    "        time.sleep(2)\n",
    "        driver.find_element_by_link_text('Culture').click()\n",
    "        time.sleep(2)\n",
    "        # Getting page content\n",
    "        content = driver.page_source.encode('utf-8').strip()\n",
    "        # Getting page content in html\n",
    "        soup = BeautifulSoup(content,\"html.parser\")\n",
    "        # perks_and_benefits = soup.find_all(\"a\", href=re.compile(\"perks-and-benefits\"))\n",
    "        table = soup.find(class_=\"gs-row offset cppCultureGrades-Grades\")\n",
    "        ratings_squares = table.find_all(class_=\"gs-col gs-col-1-2\")\n",
    "        for i in range(0,18):\n",
    "            if ratings_squares[i].find(class_ = 'section-subtitle').text == 'Perks And Benefits':\n",
    "                perks_and_benefits = float(ratings_squares[i].find(class_ = 'numberGrade-score').text)\n",
    "            if ratings_squares[i].find(class_ = 'section-subtitle').text == 'Outlook':\n",
    "                outlook = float(ratings_squares[i].find(class_ = 'numberGrade-score').text)\n",
    "            if ratings_squares[i].find(class_ = 'section-subtitle').text == 'Executive Team':\n",
    "                executive_team = float(ratings_squares[i].find(class_ = 'numberGrade-score').text)\n",
    "            if ratings_squares[i].find(class_ = 'section-subtitle').text == 'Work Culture':\n",
    "                work_culture = float(ratings_squares[i].find(class_ = 'numberGrade-score').text)\n",
    "            if ratings_squares[i].find(class_ = 'section-subtitle').text == 'Compensation':\n",
    "                compensation = float(ratings_squares[i].find(class_ = 'numberGrade-score').text)\n",
    "            if ratings_squares[i].find(class_ = 'section-subtitle').text == 'Leadership':\n",
    "                leadership = float(ratings_squares[i].find(class_ = 'numberGrade-score').text)\n",
    "            if ratings_squares[i].find(class_ = 'section-subtitle').text == 'Diversity':\n",
    "                diversity = float(ratings_squares[i].find(class_ = 'numberGrade-score').text)\n",
    "            if ratings_squares[i].find(class_ = 'section-subtitle').text == 'Team':\n",
    "                team = float(ratings_squares[i].find(class_ = 'numberGrade-score').text)\n",
    "            if ratings_squares[i].find(class_ = 'section-subtitle').text == 'Happiness':\n",
    "                happiness = float(ratings_squares[i].find(class_ = 'numberGrade-score').text)\n",
    "            if ratings_squares[i].find(class_ = 'section-subtitle').text == 'Environment':\n",
    "                environment = float(ratings_squares[i].find(class_ = 'numberGrade-score').text)\n",
    "            if ratings_squares[i].find(class_ = 'section-subtitle').text == 'Gender':\n",
    "                gender = float(ratings_squares[i].find(class_ = 'numberGrade-score').text)\n",
    "            if ratings_squares[i].find(class_ = 'section-subtitle').text == 'Manager':\n",
    "                manager = float(ratings_squares[i].find(class_ = 'numberGrade-score').text)\n",
    "            if ratings_squares[i].find(class_ = 'section-subtitle').text == 'Retention':\n",
    "                retention = float(ratings_squares[i].find(class_ = 'numberGrade-score').text)\n",
    "            if ratings_squares[i].find(class_ = 'section-subtitle').text == 'Meetings':\n",
    "                meetings = float(ratings_squares[i].find(class_ = 'numberGrade-score').text)\n",
    "            if ratings_squares[i].find(class_ = 'section-subtitle').text == 'Professional Development':\n",
    "                professional_development = float(ratings_squares[i].find(class_ = 'numberGrade-score').text)\n",
    "            if ratings_squares[i].find(class_ = 'section-subtitle').text == 'Office Culture':\n",
    "                office_culture = float(ratings_squares[i].find(class_ = 'numberGrade-score').text)\n",
    "            time.sleep(3)\n",
    "            driver.find_element_by_xpath('//*[@id=\"body\"]/header/div/div/div[1]/div/a').click()\n",
    "            time.sleep(2)\n",
    "        \n",
    "        comparably_reviews = comparably_reviews.append({'company': company,\n",
    "                                                        'culture': culture,\n",
    "                                                        'ceo_score': ceo_score,\n",
    "                                                        'net_promoter_scale': net_promoter_scale,\n",
    "                                                        'perks_and_benefits': perks_and_benefits,\n",
    "                                                        'outlook': outlook,\n",
    "                                                        'executive_team': executive_team,\n",
    "                                                        'work_culture': work_culture,\n",
    "                                                        'compensation': compensation,\n",
    "                                                        'leadership': leadership,\n",
    "                                                        'diversity': diversity,\n",
    "                                                        'team': team,\n",
    "                                                        'happiness': happiness,\n",
    "                                                        'environment': environment,\n",
    "                                                        'gender': gender,\n",
    "                                                        'manager': manager,\n",
    "                                                        'retention': retention,\n",
    "                                                        'meetings': meetings,\n",
    "                                                        'professional_development': professional_development,\n",
    "                                                        'office_culture': office_culture}, ignore_index=True)\n",
    "\n",
    "    return comparably_reviews"
   ]
  },
  {
   "cell_type": "code",
   "execution_count": 270,
   "metadata": {
    "ExecuteTime": {
     "end_time": "2021-02-13T21:42:27.416151Z",
     "start_time": "2021-02-13T21:38:29.329298Z"
    }
   },
   "outputs": [],
   "source": [
    "comparably_reviews = get_comparably_reviews(companies)"
   ]
  },
  {
   "cell_type": "markdown",
   "metadata": {},
   "source": [
    "# Merging Dataframes"
   ]
  },
  {
   "cell_type": "code",
   "execution_count": 271,
   "metadata": {
    "ExecuteTime": {
     "end_time": "2021-02-13T21:43:28.543488Z",
     "start_time": "2021-02-13T21:43:28.537929Z"
    }
   },
   "outputs": [],
   "source": [
    "data_frames = [indeed_reviews, vault_reviews, careerbliss_reviews, comparably_reviews]"
   ]
  },
  {
   "cell_type": "code",
   "execution_count": 272,
   "metadata": {
    "ExecuteTime": {
     "end_time": "2021-02-13T21:43:30.314590Z",
     "start_time": "2021-02-13T21:43:30.252040Z"
    }
   },
   "outputs": [],
   "source": [
    "question_1 = reduce(lambda  left,right: pd.merge(left,right,on=['company'],how='outer'), data_frames)"
   ]
  },
  {
   "cell_type": "code",
   "execution_count": 273,
   "metadata": {
    "ExecuteTime": {
     "end_time": "2021-02-13T21:43:31.259185Z",
     "start_time": "2021-02-13T21:43:31.220473Z"
    }
   },
   "outputs": [
    {
     "data": {
      "text/html": [
       "<div>\n",
       "<style scoped>\n",
       "    .dataframe tbody tr th:only-of-type {\n",
       "        vertical-align: middle;\n",
       "    }\n",
       "\n",
       "    .dataframe tbody tr th {\n",
       "        vertical-align: top;\n",
       "    }\n",
       "\n",
       "    .dataframe thead th {\n",
       "        text-align: right;\n",
       "    }\n",
       "</style>\n",
       "<table border=\"1\" class=\"dataframe\">\n",
       "  <thead>\n",
       "    <tr style=\"text-align: right;\">\n",
       "      <th></th>\n",
       "      <th>company</th>\n",
       "      <th>work_life_balance</th>\n",
       "      <th>pay_and_benefits</th>\n",
       "      <th>job_security_and_advancement</th>\n",
       "      <th>management</th>\n",
       "      <th>culture_x</th>\n",
       "      <th>composite_score</th>\n",
       "      <th>uppers</th>\n",
       "      <th>downers</th>\n",
       "      <th>company_culture</th>\n",
       "      <th>...</th>\n",
       "      <th>diversity</th>\n",
       "      <th>team</th>\n",
       "      <th>happiness</th>\n",
       "      <th>environment</th>\n",
       "      <th>gender</th>\n",
       "      <th>manager</th>\n",
       "      <th>retention</th>\n",
       "      <th>meetings</th>\n",
       "      <th>professional_development</th>\n",
       "      <th>office_culture</th>\n",
       "    </tr>\n",
       "  </thead>\n",
       "  <tbody>\n",
       "    <tr>\n",
       "      <th>0</th>\n",
       "      <td>Apple</td>\n",
       "      <td>3.8</td>\n",
       "      <td>4.1</td>\n",
       "      <td>3.7</td>\n",
       "      <td>3.7</td>\n",
       "      <td>4.1</td>\n",
       "      <td>0.776</td>\n",
       "      <td>working for a top brand that helps influence p...</td>\n",
       "      <td>some employees say that promotion and finding ...</td>\n",
       "      <td>4.1</td>\n",
       "      <td>...</td>\n",
       "      <td>73.0</td>\n",
       "      <td>77.0</td>\n",
       "      <td>75.0</td>\n",
       "      <td>73.0</td>\n",
       "      <td>73.0</td>\n",
       "      <td>69.0</td>\n",
       "      <td>69.0</td>\n",
       "      <td>68.0</td>\n",
       "      <td>58.0</td>\n",
       "      <td>59.0</td>\n",
       "    </tr>\n",
       "    <tr>\n",
       "      <th>1</th>\n",
       "      <td>Microsoft</td>\n",
       "      <td>3.9</td>\n",
       "      <td>4.1</td>\n",
       "      <td>3.5</td>\n",
       "      <td>3.6</td>\n",
       "      <td>4.0</td>\n",
       "      <td>0.764</td>\n",
       "      <td>excellent  benefits, perks and compensation pa...</td>\n",
       "      <td>big company bureaucracy and office politics</td>\n",
       "      <td>4.0</td>\n",
       "      <td>...</td>\n",
       "      <td>75.0</td>\n",
       "      <td>78.0</td>\n",
       "      <td>82.0</td>\n",
       "      <td>72.0</td>\n",
       "      <td>76.0</td>\n",
       "      <td>73.0</td>\n",
       "      <td>75.0</td>\n",
       "      <td>68.0</td>\n",
       "      <td>60.0</td>\n",
       "      <td>66.0</td>\n",
       "    </tr>\n",
       "  </tbody>\n",
       "</table>\n",
       "<p>2 rows × 36 columns</p>\n",
       "</div>"
      ],
      "text/plain": [
       "     company  work_life_balance  pay_and_benefits  \\\n",
       "0      Apple                3.8               4.1   \n",
       "1  Microsoft                3.9               4.1   \n",
       "\n",
       "   job_security_and_advancement  management  culture_x  composite_score  \\\n",
       "0                           3.7         3.7        4.1            0.776   \n",
       "1                           3.5         3.6        4.0            0.764   \n",
       "\n",
       "                                              uppers  \\\n",
       "0  working for a top brand that helps influence p...   \n",
       "1  excellent  benefits, perks and compensation pa...   \n",
       "\n",
       "                                             downers  company_culture  ...  \\\n",
       "0  some employees say that promotion and finding ...              4.1  ...   \n",
       "1        big company bureaucracy and office politics              4.0  ...   \n",
       "\n",
       "   diversity  team  happiness  environment  gender  manager  retention  \\\n",
       "0       73.0  77.0       75.0         73.0    73.0     69.0       69.0   \n",
       "1       75.0  78.0       82.0         72.0    76.0     73.0       75.0   \n",
       "\n",
       "   meetings  professional_development  office_culture  \n",
       "0      68.0                      58.0            59.0  \n",
       "1      68.0                      60.0            66.0  \n",
       "\n",
       "[2 rows x 36 columns]"
      ]
     },
     "execution_count": 273,
     "metadata": {},
     "output_type": "execute_result"
    }
   ],
   "source": [
    "question_1"
   ]
  },
  {
   "cell_type": "code",
   "execution_count": 84,
   "metadata": {
    "ExecuteTime": {
     "end_time": "2021-02-12T22:53:51.797075Z",
     "start_time": "2021-02-12T22:53:51.771847Z"
    }
   },
   "outputs": [
    {
     "name": "stdout",
     "output_type": "stream",
     "text": [
      "<class 'pandas.core.frame.DataFrame'>\n",
      "Int64Index: 2 entries, 0 to 1\n",
      "Data columns (total 17 columns):\n",
      " #   Column                        Non-Null Count  Dtype  \n",
      "---  ------                        --------------  -----  \n",
      " 0   company                       2 non-null      object \n",
      " 1   work_life_balance             2 non-null      float64\n",
      " 2   pay_and_benefits              2 non-null      float64\n",
      " 3   job_security_and_advancement  2 non-null      float64\n",
      " 4   management                    2 non-null      float64\n",
      " 5   culture                       2 non-null      float64\n",
      " 6   composite_score               2 non-null      float64\n",
      " 7   uppers                        2 non-null      object \n",
      " 8   downers                       2 non-null      object \n",
      " 9   company_culture               2 non-null      float64\n",
      " 10  coworkers                     2 non-null      float64\n",
      " 11  rewards                       2 non-null      float64\n",
      " 12  way_you_work                  2 non-null      float64\n",
      " 13  growth_opp                    2 non-null      float64\n",
      " 14  person_you_work_for           2 non-null      float64\n",
      " 15  support                       2 non-null      float64\n",
      " 16  work_setting                  2 non-null      float64\n",
      "dtypes: float64(14), object(3)\n",
      "memory usage: 288.0+ bytes\n"
     ]
    }
   ],
   "source": [
    "question_1.info()"
   ]
  },
  {
   "cell_type": "code",
   "execution_count": null,
   "metadata": {},
   "outputs": [],
   "source": []
  }
 ],
 "metadata": {
  "kernelspec": {
   "display_name": "learn-env",
   "language": "python",
   "name": "learn-env"
  },
  "language_info": {
   "codemirror_mode": {
    "name": "ipython",
    "version": 3
   },
   "file_extension": ".py",
   "mimetype": "text/x-python",
   "name": "python",
   "nbconvert_exporter": "python",
   "pygments_lexer": "ipython3",
   "version": "3.6.9"
  },
  "toc": {
   "base_numbering": 1,
   "nav_menu": {},
   "number_sections": true,
   "sideBar": true,
   "skip_h1_title": false,
   "title_cell": "Table of Contents",
   "title_sidebar": "Contents",
   "toc_cell": false,
   "toc_position": {},
   "toc_section_display": true,
   "toc_window_display": false
  },
  "varInspector": {
   "cols": {
    "lenName": 16,
    "lenType": 16,
    "lenVar": 40
   },
   "kernels_config": {
    "python": {
     "delete_cmd_postfix": "",
     "delete_cmd_prefix": "del ",
     "library": "var_list.py",
     "varRefreshCmd": "print(var_dic_list())"
    },
    "r": {
     "delete_cmd_postfix": ") ",
     "delete_cmd_prefix": "rm(",
     "library": "var_list.r",
     "varRefreshCmd": "cat(var_dic_list()) "
    }
   },
   "types_to_exclude": [
    "module",
    "function",
    "builtin_function_or_method",
    "instance",
    "_Feature"
   ],
   "window_display": false
  }
 },
 "nbformat": 4,
 "nbformat_minor": 4
}
