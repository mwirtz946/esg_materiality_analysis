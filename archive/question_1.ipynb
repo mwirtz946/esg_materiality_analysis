{
 "cells": [
  {
   "cell_type": "markdown",
   "metadata": {},
   "source": [
    "# Question: Does the company treat its employees well? "
   ]
  },
  {
   "cell_type": "markdown",
   "metadata": {},
   "source": [
    "This section relates to cultural aspects of the companies being examined, including the chief concern: how employees are treated. We also consider worker safety; fair pay and benefits; opportunities for development, training, and advancement; and other aspects that impact the company's workers.\n",
    "\n",
    "Employees are the lifeblood of a company. Happy, healthy, and valued employees are more willing and able to do higher-quality work, be enthusiastic brand evangelists, unleash their creativity to invent better services and solutions, and innovate to improve the company. Employees should be viewed as valuable assets to invest in continually, not expendable \"resources\" or drags on the bottom line. (The \"bottom line\" is net profit -- a company's income after all expenses have been deducted from revenue.)\n",
    "\n",
    "Companies that excel at engaging their employees actually achieve per-share earnings growth more than four times that of their rivals, according to Gallup. Compared to companies in the bottom quartile, the top-quartile companies (based on employee engagement) generate higher customer engagement, higher productivity, better retention, fewer accidents, and 21% higher profitability.\n",
    "\n",
    "Even though Wall Street tends to cheer when companies lay off workers, high employee turnover is actually an expense to be avoided. Not only is it a financial cost -- think about severance packages, and the costs of recruiting and training new employees as well as retraining remaining workers -- but the loss of intellectual capital is also a poor outcome for employers.\n",
    "\n",
    "Company websites and sustainability reports can help you assess this factor. Also look for publications from organizations that rate companies on worker treatment, such as Fortune's annual list of \"100 Best Companies to Work For\" and Forbes' \"Just 100\" list.\n",
    "\n",
    "We also look for negative elements, like shoddy employment treatment; contentious relationships with unions; lawsuits or controversies about discrimination; harassment or wage theft; and other behavior that indicates poor employee relations, like serial layoffs or constant restructuring. These kinds of red flags might disqualify a company for inclusion in our ESG portfolio."
   ]
  },
  {
   "cell_type": "markdown",
   "metadata": {},
   "source": [
    "# Data Sources"
   ]
  },
  {
   "cell_type": "markdown",
   "metadata": {},
   "source": [
    "Possible Sites to Aggregate Employee Reviews:\n",
    "- Glassdoor \n",
    "- Indeed\n",
    "- Vault \n",
    "- CareerBliss\n",
    "- Kununu\n",
    "- JobAdvisor\n",
    "- Ratemyemployer\n",
    "- TheJobCrowd\n",
    "- LookBeforeYouLeap\n",
    "- Comparably\n",
    "- Yelp"
   ]
  },
  {
   "cell_type": "markdown",
   "metadata": {},
   "source": [
    "# Imports"
   ]
  },
  {
   "cell_type": "code",
   "execution_count": 35,
   "metadata": {
    "ExecuteTime": {
     "end_time": "2021-02-23T16:15:21.626580Z",
     "start_time": "2021-02-23T16:15:21.609736Z"
    }
   },
   "outputs": [],
   "source": [
    "# All necessary imports\n",
    "from bs4 import BeautifulSoup\n",
    "import selenium\n",
    "from selenium import webdriver\n",
    "from selenium.webdriver.common.by import By\n",
    "from selenium.webdriver.support.ui import WebDriverWait\n",
    "from selenium.webdriver.support import expected_conditions as EC\n",
    "from selenium.webdriver.chrome.options import Options\n",
    "from selenium.webdriver.common.keys import Keys\n",
    "from selenium.webdriver.common.action_chains import ActionChains\n",
    "import time\n",
    "import requests\n",
    "from lxml import etree\n",
    "from urllib.request import urlopen\n",
    "import pandas as pd\n",
    "pd.set_option(\"display.max_columns\", 50)\n",
    "import pickle\n",
    "import newspaper\n",
    "import re\n",
    "from functools import reduce\n",
    "import warnings\n",
    "warnings.simplefilter(\"ignore\")\n",
    "import numpy as np"
   ]
  },
  {
   "cell_type": "markdown",
   "metadata": {},
   "source": [
    "# Data Collection"
   ]
  },
  {
   "cell_type": "code",
   "execution_count": 36,
   "metadata": {
    "ExecuteTime": {
     "end_time": "2021-02-23T16:15:38.843766Z",
     "start_time": "2021-02-23T16:15:22.479547Z"
    }
   },
   "outputs": [],
   "source": [
    "companies = []\n",
    "for i in range(1,7):\n",
    "    page = requests.get('https://www.morningstar.com/communication-services-stocks?page={}'.format(i))\n",
    "    soup = BeautifulSoup(page.content, 'html.parser')\n",
    "    \n",
    "    table = soup.find(class_='mdc-table__body')\n",
    "    rows = table.find_all(class_='mdc-table-row')\n",
    "    for row in rows:\n",
    "        company = row.a.text\n",
    "        companies.append(company)"
   ]
  },
  {
   "cell_type": "code",
   "execution_count": 37,
   "metadata": {
    "ExecuteTime": {
     "end_time": "2021-02-23T16:15:41.562894Z",
     "start_time": "2021-02-23T16:15:41.553720Z"
    }
   },
   "outputs": [],
   "source": [
    "new_comp = []\n",
    "for x in companies:\n",
    "    if 'Class A' in x:\n",
    "        x = x.replace('Class A','')\n",
    "        new_comp.append(x)\n",
    "    elif 'Class B' in x:\n",
    "        x = x.replace('Class B','')\n",
    "        new_comp.append(x)\n",
    "    else:\n",
    "        new_comp.append(x)"
   ]
  },
  {
   "cell_type": "code",
   "execution_count": 38,
   "metadata": {
    "ExecuteTime": {
     "end_time": "2021-02-23T16:15:43.959843Z",
     "start_time": "2021-02-23T16:15:43.956369Z"
    }
   },
   "outputs": [],
   "source": [
    "companies = new_comp"
   ]
  },
  {
   "cell_type": "code",
   "execution_count": 243,
   "metadata": {
    "ExecuteTime": {
     "end_time": "2021-02-22T21:23:54.230696Z",
     "start_time": "2021-02-22T21:23:54.225215Z"
    }
   },
   "outputs": [],
   "source": [
    "# companies = ['Apple Inc',\n",
    "#              'Peloton Interactive Inc',\n",
    "#              'Sonos Inc',\n",
    "#              'Samsung',\n",
    "#              'Verizon',\n",
    "#              'Panasonic Corp',\n",
    "#              'GoPro Inc'\n",
    "#              'Best Buy Co Inc',\n",
    "#              'GameStop Corporation',\n",
    "#              'Sony Corporation',\n",
    "#              'Activision Blizzard Inc',\n",
    "#              'Netflix, Inc',\n",
    "#              'Roku, Inc']"
   ]
  },
  {
   "cell_type": "markdown",
   "metadata": {},
   "source": [
    "## Time Delays"
   ]
  },
  {
   "cell_type": "code",
   "execution_count": 33,
   "metadata": {
    "ExecuteTime": {
     "end_time": "2021-02-23T15:42:46.014271Z",
     "start_time": "2021-02-23T15:42:46.007280Z"
    }
   },
   "outputs": [],
   "source": [
    "delays = [7, 4, 6, 2, 10, 19]\n",
    "delay = np.random.choice(delays)"
   ]
  },
  {
   "cell_type": "markdown",
   "metadata": {},
   "source": [
    "## Glassdoor"
   ]
  },
  {
   "cell_type": "code",
   "execution_count": 3,
   "metadata": {
    "ExecuteTime": {
     "end_time": "2021-02-23T15:15:45.442278Z",
     "start_time": "2021-02-23T15:15:45.438146Z"
    }
   },
   "outputs": [],
   "source": [
    "# Use this header for Glassdoor\n",
    "headers_glassdoor = {\n",
    "    'user-agent': 'Mozilla/5.0 (Macintosh); Intel Mac OS X 10_15_6 AppleWebKit/537.36 (KHTML, like Gecko) Chrome/88.0.4324.146 Safari/537.36',\n",
    "    'referrer': 'https://www.google.com/',\n",
    "    'accept': 'text/css,*/*;q=0.1',\n",
    "    'sec-ch-ua-mobile': '?0'\n",
    "}"
   ]
  },
  {
   "cell_type": "code",
   "execution_count": 34,
   "metadata": {
    "ExecuteTime": {
     "end_time": "2021-02-23T15:51:28.834485Z",
     "start_time": "2021-02-23T15:47:10.632191Z"
    }
   },
   "outputs": [],
   "source": [
    "# # Set path to chromedriver\n",
    "# PATH = \"/Users/MichaelWirtz/Desktop/pathfile/chromedriver_2\"\n",
    "# # Define options \n",
    "# options = Options()\n",
    "# # Make headless\n",
    "# options.add_argument(\"--headless\")\n",
    "# # Define driver\n",
    "# driver = webdriver.Chrome(PATH, options=options)\n",
    "# # Set headless window size\n",
    "# driver.set_window_size(1080,800)\n",
    "# # Define url\n",
    "# url= \"https://www.glassdoor.com/index.htm\"\n",
    "# # Get website\n",
    "# driver.get(url)\n",
    "# # Random time delay\n",
    "# time.sleep(delay)\n",
    "# # Signing into glassdoor with google\n",
    "# driver.find_element_by_xpath('//*[@id=\"InlineLoginModule\"]/div/div/div/div/div/div[1]/div/div[2]/button/span[2]').click()\n",
    "# # Random time delay\n",
    "# time.sleep(delay)\n",
    "# # Switching to google signin popup window\n",
    "# driver.switch_to.window(driver.window_handles[-1])\n",
    "# # Random time delay\n",
    "# time.sleep(delay)\n",
    "# # Input email \n",
    "# email_input = driver.find_element_by_xpath('//*[@id=\"identifierId\"]')\n",
    "# email_input.send_keys('xxxxxxxxxxx@gmail.com')\n",
    "# # Random time delay\n",
    "# time.sleep(delay)\n",
    "# # Clicking next\n",
    "# driver.find_element_by_xpath('//*[@id=\"identifierNext\"]/div/button/div[2]').click()\n",
    "# # Random time delay\n",
    "# time.sleep(delay)\n",
    "# # Inputing password\n",
    "# password = driver.find_element_by_xpath('//*[@id=\"password\"]/div[1]/div/div[1]/input')\n",
    "# password.send_keys('xxxxxxxxx')\n",
    "# # Random time delay\n",
    "# time.sleep(delay)\n",
    "# # Clicking next\n",
    "# driver.find_element_by_xpath('//*[@id=\"passwordNext\"]/div/button/div[2]').click()\n",
    "# # Random time delay\n",
    "# time.sleep(15)\n",
    "# # Switching back to glassdoor window\n",
    "# driver.switch_to.window(driver.window_handles[-1])\n",
    "# # Random time delay\n",
    "# time.sleep(delay)\n",
    "# # Clicking companies for targeted search\n",
    "# driver.find_element_by_xpath('//*[@id=\"SiteNav\"]/nav[2]/div/div/div[2]/div[2]/div[1]/div/a/div/h3').click()\n",
    "# # Random time delay\n",
    "# time.sleep(delay)\n",
    "# # Entering company into search bar\n",
    "# search_bar = driver.find_element_by_xpath('//*[@id=\"sc.keyword\"]')\n",
    "# search_bar.send_keys('Apple Inc')\n",
    "# # Random time delay\n",
    "# time.sleep(delay)\n",
    "# # Searching company\n",
    "# search_bar.send_keys(Keys.ENTER)\n",
    "# # Random time delay\n",
    "# time.sleep(delay)\n",
    "# # Clicking on searched company\n",
    "# search_result = driver.find_element_by_xpath('//*[@id=\"MainCol\"]/div/div[1]/div/div[1]/div/div[2]/h2/a')\n",
    "# search_result.click()\n",
    "# # Random time delay\n",
    "# time.sleep(delay)\n",
    "# # Clicking on reviews\n",
    "# driver.find_element_by_xpath('//*[@id=\"EIProductHeaders\"]/div/a[1]/span[2]').click()"
   ]
  },
  {
   "cell_type": "markdown",
   "metadata": {},
   "source": [
    "## Indeed"
   ]
  },
  {
   "cell_type": "code",
   "execution_count": 270,
   "metadata": {
    "ExecuteTime": {
     "end_time": "2021-02-23T00:48:03.998698Z",
     "start_time": "2021-02-23T00:48:03.910556Z"
    }
   },
   "outputs": [],
   "source": [
    "# Use this header for Indeed\n",
    "headers = {\n",
    "    'user-agent': 'Mozilla/5.0 (Macintosh); Intel Mac OS X 10_15_6 AppleWebKit/537.36 (KHTML, like Gecko) Chrome/88.0.4324.146 Safari/537.36',\n",
    "    'referrer': 'https://google.com',\n",
    "    'accept': '*/*',\n",
    "    'accept-encoding': 'gzip, deflate, br',\n",
    "    'accept-language': 'en-US,en;q=0.9'\n",
    "}"
   ]
  },
  {
   "cell_type": "code",
   "execution_count": 40,
   "metadata": {
    "ExecuteTime": {
     "end_time": "2021-02-23T16:21:18.990898Z",
     "start_time": "2021-02-23T16:21:18.970239Z"
    }
   },
   "outputs": [],
   "source": [
    "def get_indeed_reviews(companies):\n",
    "    \n",
    "    # Create empty dataframe\n",
    "    indeed_reviews = pd.DataFrame(columns=['company','work_life_balance','pay_and_benefits','job_security_and_advancement','management','culture','composite_score'])\n",
    "    \n",
    "    # Set path to chromedriver\n",
    "    PATH = \"/Users/MichaelWirtz/Desktop/pathfile/chromedriver_2\"\n",
    "    # Define options \n",
    "    options = Options()\n",
    "    # Remove pop up window\n",
    "    options.add_argument(\"--headless\")\n",
    "    # Define driver\n",
    "    driver = webdriver.Chrome(PATH, options=options)\n",
    "    # # Define driver\n",
    "    # driver = webdriver.Chrome(PATH)\n",
    "    driver.set_window_size(1080,800)\n",
    "    # Define url\n",
    "    url= \"https://www.indeed.com/companies?from=gnav-acme--discovery-webapp\"\n",
    "    # Get website\n",
    "    driver.get(url)\n",
    "    \n",
    "    for company in companies:\n",
    "        try:\n",
    "            # Find search bar\n",
    "            search_bar = driver.find_element_by_xpath('//*[@id=\"exploreCompaniesWhat\"]')\n",
    "            # Clear search bar\n",
    "            search_bar.clear()\n",
    "            # Random time delay\n",
    "            time.sleep(delay)\n",
    "            # Enter company name into search bar\n",
    "            search_bar.send_keys(company[:3])\n",
    "            # Random time delay\n",
    "            time.sleep(delay)\n",
    "            # Enter company name into search bar\n",
    "            search_bar.send_keys(company[3:])\n",
    "            # Random time delay\n",
    "            time.sleep(delay)\n",
    "            # Search company\n",
    "            search_bar.send_keys(Keys.ENTER)\n",
    "            search_bar.send_keys(Keys.ENTER)\n",
    "            # Random time delay\n",
    "            time.sleep(delay)\n",
    "            try:\n",
    "                # Get company\n",
    "                driver.find_element_by_xpath('//*[@id=\"cmp-discovery\"]/div[2]/div/div[2]/div/div[1]/div[2]').click()\n",
    "                # Random time delay\n",
    "                time.sleep(delay)\n",
    "            except:\n",
    "                time.sleep(delay)\n",
    "                exit_button = driver.find_element_by_xpath('//*[@id=\"popover-x\"]/button')\n",
    "                exit_button.click()\n",
    "            time.sleep(delay)\n",
    "            # Define variables for employee ratings\n",
    "            try:\n",
    "                # Random time delay\n",
    "                time.sleep(delay)\n",
    "                work_life_balance = float(driver.find_element_by_xpath('//*[@id=\"cmp-container\"]/div/div[1]/main/div/div[2]/div[1]/div[2]/div[2]/div[1]/a/span[1]').text)\n",
    "            except:\n",
    "                work_life_balance = 'NaN'\n",
    "            try:\n",
    "                # Random time delay\n",
    "                time.sleep(delay)\n",
    "                pay_and_benefits = float(driver.find_element_by_xpath('//*[@id=\"cmp-container\"]/div/div[1]/main/div/div[2]/div[1]/div[2]/div[2]/div[2]/a/span[1]').text)\n",
    "            except:\n",
    "                # Random time delay\n",
    "                time.sleep(delay)\n",
    "                pay_and_benefits = 'NaN'\n",
    "            try:\n",
    "                # Random time delay\n",
    "                time.sleep(delay)\n",
    "                job_security_and_advancement = float(driver.find_element_by_xpath('//*[@id=\"cmp-container\"]/div/div[1]/main/div/div[2]/div[1]/div[2]/div[2]/div[3]/a/span[1]').text)\n",
    "            except:\n",
    "                job_security_and_advancement = 'NaN'\n",
    "            try:\n",
    "                # Random time delay\n",
    "                time.sleep(delay)\n",
    "                management = float(driver.find_element_by_xpath('//*[@id=\"cmp-container\"]/div/div[1]/main/div/div[2]/div[1]/div[2]/div[2]/div[4]/a/span[1]').text)\n",
    "            except:\n",
    "                management = 'NaN'\n",
    "            try:\n",
    "                # Random time delay\n",
    "                time.sleep(delay)\n",
    "                culture = float(driver.find_element_by_xpath('//*[@id=\"cmp-container\"]/div/div[1]/main/div/div[2]/div[1]/div[2]/div[2]/div[5]/a/span[1]').text)\n",
    "            except:\n",
    "                culture = 'NaN'\n",
    "            try:\n",
    "                # Random time delay\n",
    "                time.sleep(delay)\n",
    "                composite_score = (work_life_balance+pay_and_benefits+job_security_and_advancement+management+culture) / 25\n",
    "            except:\n",
    "                composite_score = 'NaN'\n",
    "            # Append new data to dataframe\n",
    "            indeed_reviews = indeed_reviews.append({'company': company,\n",
    "                                                    'work_life_balance': work_life_balance,\n",
    "                                                    'pay_and_benefits': pay_and_benefits,\n",
    "                                                    'job_security_and_advancement': job_security_and_advancement,\n",
    "                                                    'management': management,\n",
    "                                                    'culture': culture,\n",
    "                                                    'composite_score': composite_score}, ignore_index=True)\n",
    "        \n",
    "            time.sleep(delay)\n",
    "            try:\n",
    "                driver.find_element_by_link_text('Company reviews').click()\n",
    "            except:\n",
    "                time.sleep(12)\n",
    "                exit_button = driver.find_element_by_xpath('//*[@id=\"popover-x\"]/button')\n",
    "                exit_button.click()\n",
    "                time.sleep(delay)\n",
    "                driver.find_element_by_link_text('Company reviews').click()\n",
    "            time.sleep(delay)\n",
    "            \n",
    "        except:\n",
    "            # Random time delay\n",
    "            time.sleep(delay)\n",
    "            driver.find_element_by_link_text('Company reviews').click()\n",
    "            time.sleep(delay)\n",
    "    \n",
    "    return indeed_reviews\n",
    "    "
   ]
  },
  {
   "cell_type": "code",
   "execution_count": null,
   "metadata": {
    "ExecuteTime": {
     "start_time": "2021-02-23T16:21:29.807Z"
    },
    "scrolled": true
   },
   "outputs": [],
   "source": [
    "indeed_reviews = get_indeed_reviews(companies[:100])"
   ]
  },
  {
   "cell_type": "code",
   "execution_count": 257,
   "metadata": {
    "ExecuteTime": {
     "end_time": "2021-02-22T21:43:24.493087Z",
     "start_time": "2021-02-22T21:43:24.459500Z"
    }
   },
   "outputs": [
    {
     "data": {
      "text/html": [
       "<div>\n",
       "<style scoped>\n",
       "    .dataframe tbody tr th:only-of-type {\n",
       "        vertical-align: middle;\n",
       "    }\n",
       "\n",
       "    .dataframe tbody tr th {\n",
       "        vertical-align: top;\n",
       "    }\n",
       "\n",
       "    .dataframe thead th {\n",
       "        text-align: right;\n",
       "    }\n",
       "</style>\n",
       "<table border=\"1\" class=\"dataframe\">\n",
       "  <thead>\n",
       "    <tr style=\"text-align: right;\">\n",
       "      <th></th>\n",
       "      <th>company</th>\n",
       "      <th>work_life_balance</th>\n",
       "      <th>pay_and_benefits</th>\n",
       "      <th>job_security_and_advancement</th>\n",
       "      <th>management</th>\n",
       "      <th>culture</th>\n",
       "      <th>composite_score</th>\n",
       "    </tr>\n",
       "  </thead>\n",
       "  <tbody>\n",
       "    <tr>\n",
       "      <th>0</th>\n",
       "      <td>Adamant DRI Processing and Minerals Group</td>\n",
       "      <td>NaN</td>\n",
       "      <td>NaN</td>\n",
       "      <td>NaN</td>\n",
       "      <td>NaN</td>\n",
       "      <td>NaN</td>\n",
       "      <td>NaN</td>\n",
       "    </tr>\n",
       "    <tr>\n",
       "      <th>1</th>\n",
       "      <td>Adsouth Partners Inc</td>\n",
       "      <td>3.8</td>\n",
       "      <td>3.8</td>\n",
       "      <td>3.6</td>\n",
       "      <td>3.5</td>\n",
       "      <td>4</td>\n",
       "      <td>0.748</td>\n",
       "    </tr>\n",
       "    <tr>\n",
       "      <th>2</th>\n",
       "      <td>Adstar Inc</td>\n",
       "      <td>NaN</td>\n",
       "      <td>NaN</td>\n",
       "      <td>NaN</td>\n",
       "      <td>NaN</td>\n",
       "      <td>NaN</td>\n",
       "      <td>NaN</td>\n",
       "    </tr>\n",
       "    <tr>\n",
       "      <th>3</th>\n",
       "      <td>AfterMaster Inc</td>\n",
       "      <td>NaN</td>\n",
       "      <td>NaN</td>\n",
       "      <td>NaN</td>\n",
       "      <td>NaN</td>\n",
       "      <td>NaN</td>\n",
       "      <td>NaN</td>\n",
       "    </tr>\n",
       "    <tr>\n",
       "      <th>4</th>\n",
       "      <td>Alaska Communications Systems Group Inc</td>\n",
       "      <td>3.7</td>\n",
       "      <td>4.4</td>\n",
       "      <td>4.4</td>\n",
       "      <td>4</td>\n",
       "      <td>4.2</td>\n",
       "      <td>0.828</td>\n",
       "    </tr>\n",
       "    <tr>\n",
       "      <th>5</th>\n",
       "      <td>Alchemy Creative Inc</td>\n",
       "      <td>NaN</td>\n",
       "      <td>NaN</td>\n",
       "      <td>NaN</td>\n",
       "      <td>NaN</td>\n",
       "      <td>NaN</td>\n",
       "      <td>NaN</td>\n",
       "    </tr>\n",
       "  </tbody>\n",
       "</table>\n",
       "</div>"
      ],
      "text/plain": [
       "                                     company work_life_balance  \\\n",
       "0  Adamant DRI Processing and Minerals Group               NaN   \n",
       "1                       Adsouth Partners Inc               3.8   \n",
       "2                                 Adstar Inc               NaN   \n",
       "3                            AfterMaster Inc               NaN   \n",
       "4    Alaska Communications Systems Group Inc               3.7   \n",
       "5                       Alchemy Creative Inc               NaN   \n",
       "\n",
       "  pay_and_benefits job_security_and_advancement management culture  \\\n",
       "0              NaN                          NaN        NaN     NaN   \n",
       "1              3.8                          3.6        3.5       4   \n",
       "2              NaN                          NaN        NaN     NaN   \n",
       "3              NaN                          NaN        NaN     NaN   \n",
       "4              4.4                          4.4          4     4.2   \n",
       "5              NaN                          NaN        NaN     NaN   \n",
       "\n",
       "  composite_score  \n",
       "0             NaN  \n",
       "1           0.748  \n",
       "2             NaN  \n",
       "3             NaN  \n",
       "4           0.828  \n",
       "5             NaN  "
      ]
     },
     "execution_count": 257,
     "metadata": {},
     "output_type": "execute_result"
    }
   ],
   "source": [
    "indeed_reviews"
   ]
  },
  {
   "cell_type": "markdown",
   "metadata": {},
   "source": [
    "## Vault"
   ]
  },
  {
   "cell_type": "markdown",
   "metadata": {},
   "source": [
    "Doesn't have uppers and downers for all companies"
   ]
  },
  {
   "cell_type": "code",
   "execution_count": 258,
   "metadata": {
    "ExecuteTime": {
     "end_time": "2021-02-22T21:43:24.507693Z",
     "start_time": "2021-02-22T21:43:24.502570Z"
    }
   },
   "outputs": [],
   "source": [
    "# def get_vault_reviews(companies):\n",
    "    \n",
    "#     vault_reviews = pd.DataFrame(columns=['company','uppers','downers'])\n",
    "    \n",
    "#     # Set path to chromedriver\n",
    "#     PATH = \"/Users/MichaelWirtz/Desktop/pathfile/chromedriver_2\"\n",
    "#     # Define options \n",
    "#     options = Options()\n",
    "#     # Remove pop up window\n",
    "#     options.add_argument(\"disable-infobars\")\n",
    "# #     options.add_argument(\"--headless\")\n",
    "#     # Define driver\n",
    "#     driver = webdriver.Chrome(PATH, options=options)\n",
    "#     # # Define driver\n",
    "#     # driver = webdriver.Chrome(PATH)\n",
    "#     driver.set_window_size(1080,800)\n",
    "#     # Define url\n",
    "#     url= \"https://www.vault.com/\"\n",
    "#     # Get website\n",
    "#     driver.get(url)\n",
    "#     time.sleep(2)\n",
    "\n",
    "#     for company in companies:\n",
    "#         # Find search bar\n",
    "#         search_bar = driver.find_element_by_xpath('//*[@id=\"HeroSearchBox\"]')\n",
    "#         # Clear search bar\n",
    "#         search_bar.clear()\n",
    "#         # Enter company name into search bar\n",
    "#         search_bar.send_keys(company)\n",
    "#         time.sleep(3)\n",
    "#         # Search company\n",
    "#         search_bar.send_keys(Keys.ENTER)\n",
    "#         time.sleep(4)\n",
    "#         # Find first company listed\n",
    "#         likely_company = driver.find_element_by_xpath('//*[@id=\"feed-article-1\"]/div/h2/a')\n",
    "#         # Click on company\n",
    "#         likely_company.click()\n",
    "#         time.sleep(3)\n",
    "#         # Get company positives\n",
    "#         uppers = (driver.find_element_by_xpath('//*[@id=\"main-content\"]/div[1]/div[2]/div[1]/div[1]').text).replace('\\n',' ').lstrip('Uppers').strip()\n",
    "#         # Get company negatives\n",
    "#         downers = (driver.find_element_by_xpath('//*[@id=\"main-content\"]/div[1]/div[2]/div[1]/div[2]').text).replace('\\n',' ').lstrip('Downers').strip()\n",
    "        \n",
    "#         # Append new data to dataframe\n",
    "#         vault_reviews = vault_reviews.append({'company': company,\n",
    "#                                                 'uppers': uppers,\n",
    "#                                                 'downers': downers}, ignore_index=True)\n",
    "        \n",
    "#         time.sleep(2)\n",
    "#         driver.back()\n",
    "#         time.sleep(1)\n",
    "#         driver.back()\n",
    "#         time.sleep(3)\n",
    "    \n",
    "#     vault_reviews.uppers = vault_reviews.uppers.apply(lambda x: x.lower())\n",
    "#     vault_reviews.downers = vault_reviews.downers.apply(lambda x: x.lower())\n",
    "        \n",
    "#     return vault_reviews   "
   ]
  },
  {
   "cell_type": "code",
   "execution_count": 259,
   "metadata": {
    "ExecuteTime": {
     "end_time": "2021-02-22T21:43:24.514353Z",
     "start_time": "2021-02-22T21:43:24.510751Z"
    }
   },
   "outputs": [],
   "source": [
    "# vault_reviews = get_vault_reviews(companies)"
   ]
  },
  {
   "cell_type": "markdown",
   "metadata": {},
   "source": [
    "# Career Bliss "
   ]
  },
  {
   "cell_type": "code",
   "execution_count": 260,
   "metadata": {
    "ExecuteTime": {
     "end_time": "2021-02-22T21:43:24.531624Z",
     "start_time": "2021-02-22T21:43:24.517739Z"
    }
   },
   "outputs": [],
   "source": [
    "# def get_careerbliss_reviews(companies):\n",
    "    \n",
    "#     careerbliss_reviews = pd.DataFrame(columns=['company','company_culture','coworkers','rewards','way_you_work','growth_opp','person_you_work_for','support','work_setting'])\n",
    "    \n",
    "#     # Set path to chromedriver\n",
    "#     PATH = \"/Users/MichaelWirtz/Desktop/pathfile/chromedriver_2\"\n",
    "#     # Define options \n",
    "#     options = Options()\n",
    "#     # Remove pop up window\n",
    "#     options.add_argument(\"disable-infobars\")\n",
    "#     options.add_argument(\"--headless\")\n",
    "#     # Define driver\n",
    "#     driver = webdriver.Chrome(PATH, options=options)\n",
    "#     # # Define driver\n",
    "#     # driver = webdriver.Chrome(PATH)\n",
    "#     driver.set_window_size(1080,800)\n",
    "#     # Define url\n",
    "#     url= \"https://www.careerbliss.com/reviews/\"\n",
    "#     # Get website\n",
    "#     driver.get(url)\n",
    "#     time.sleep(2)\n",
    "#     for company in companies:\n",
    "#         try:\n",
    "#             # Find search bar\n",
    "#             search_bar = driver.find_element_by_xpath('//*[@id=\"search-q\"]')\n",
    "#             # Clear search bar\n",
    "#             search_bar.clear()\n",
    "#             # Enter company name into search bar\n",
    "#             search_bar.send_keys(company)\n",
    "#             time.sleep(3)\n",
    "#             # Search company\n",
    "#             search_bar.send_keys(Keys.ENTER)\n",
    "#             time.sleep(4)\n",
    "#             try:\n",
    "#                 # Find first company listed\n",
    "#                 likely_company = driver.find_element_by_xpath('//*[@id=\"bodyContainer\"]/div/div[1]/div[3]/div[2]/div[2]/div[2]/div/div/span/a')\n",
    "#                 # Click on company\n",
    "#                 likely_company.click()\n",
    "#             except:\n",
    "#                 driver.refresh()\n",
    "#                 time.sleep(3)\n",
    "#                 # Find first company listed\n",
    "#                 likely_company = driver.find_element_by_xpath('//*[@id=\"bodyContainer\"]/div/div[1]/div[3]/div[2]/div[2]/div[2]/div/div/span/a')\n",
    "#                 # Click on company\n",
    "#                 likely_company.click()\n",
    "#             time.sleep(3)\n",
    "#             company_culture = float(driver.find_element_by_xpath('//*[@id=\"bodyContainer\"]/div/div/div[6]/div[1]/div[1]/div/span[3]').text)\n",
    "#             coworkers = float(driver.find_element_by_xpath('//*[@id=\"bodyContainer\"]/div/div/div[6]/div[2]/div[1]/div/span[3]').text)\n",
    "#             rewards = float(driver.find_element_by_xpath('//*[@id=\"bodyContainer\"]/div/div/div[6]/div[3]/div[1]/div/span[3]').text)\n",
    "#             way_you_work = float(driver.find_element_by_xpath('//*[@id=\"bodyContainer\"]/div/div/div[6]/div[4]/div[1]/div/span[3]').text)\n",
    "#             growth_opp = float(driver.find_element_by_xpath('//*[@id=\"bodyContainer\"]/div/div/div[6]/div[1]/div[2]/div/span[3]').text)\n",
    "#             person_you_work_for = float(driver.find_element_by_xpath('//*[@id=\"bodyContainer\"]/div/div/div[6]/div[2]/div[2]/div/span[3]').text)\n",
    "#             support = float(driver.find_element_by_xpath('//*[@id=\"bodyContainer\"]/div/div/div[6]/div[3]/div[2]/div/span[3]').text)\n",
    "#             work_setting = float(driver.find_element_by_xpath('//*[@id=\"bodyContainer\"]/div/div/div[6]/div[4]/div[2]/div/span[3]').text)\n",
    "#         except:\n",
    "#             pass\n",
    "#         time.sleep(2)\n",
    "#         driver.back()\n",
    "#         time.sleep(2)\n",
    "#         driver.back()\n",
    "#         time.sleep(2)\n",
    "        \n",
    "#         careerbliss_reviews = careerbliss_reviews.append({'company': company,\n",
    "#                                                           'company_culture': company_culture,\n",
    "#                                                           'coworkers': coworkers,\n",
    "#                                                           'rewards': rewards,\n",
    "#                                                           'way_you_work': way_you_work,\n",
    "#                                                           'growth_opp': growth_opp,\n",
    "#                                                           'person_you_work_for': person_you_work_for,\n",
    "#                                                           'support': support,\n",
    "#                                                           'work_setting': work_setting}, ignore_index=True)\n",
    "    \n",
    "#     return careerbliss_reviews"
   ]
  },
  {
   "cell_type": "code",
   "execution_count": 261,
   "metadata": {
    "ExecuteTime": {
     "end_time": "2021-02-22T21:43:24.541214Z",
     "start_time": "2021-02-22T21:43:24.538048Z"
    }
   },
   "outputs": [],
   "source": [
    "# careerbliss_reviews = get_careerbliss_reviews(companies)"
   ]
  },
  {
   "cell_type": "code",
   "execution_count": 262,
   "metadata": {
    "ExecuteTime": {
     "end_time": "2021-02-22T21:43:24.566835Z",
     "start_time": "2021-02-22T21:43:24.546165Z"
    }
   },
   "outputs": [],
   "source": [
    "# careerbliss_reviews"
   ]
  },
  {
   "cell_type": "markdown",
   "metadata": {},
   "source": [
    "# Comparably"
   ]
  },
  {
   "cell_type": "code",
   "execution_count": 263,
   "metadata": {
    "ExecuteTime": {
     "end_time": "2021-02-22T21:43:24.785303Z",
     "start_time": "2021-02-22T21:43:24.608209Z"
    }
   },
   "outputs": [],
   "source": [
    "def get_comparably_reviews(companies):\n",
    "    \n",
    "    comparably_reviews = pd.DataFrame(columns=['company','culture','ceo_score','net_promoter_scale','perks_and_benefits','outlook','executive_team','work_culture','compensation','leadership','diversity','team','happiness','environment','gender','manager','retention','meetings','professional_development','office_culture'])\n",
    "    \n",
    "    # Set path to chromedriver\n",
    "    PATH = \"/Users/MichaelWirtz/Desktop/pathfile/chromedriver_2\"\n",
    "    # Define options \n",
    "    options = Options()\n",
    "    # Remove pop up window\n",
    "    options.add_argument(\"disable-infobars\")\n",
    "    options.add_argument(\"--headless\")\n",
    "    # Define driver\n",
    "    driver = webdriver.Chrome(PATH, options=options)\n",
    "    driver.set_window_size(1080,800)\n",
    "    # Define url\n",
    "    url= \"https://www.comparably.com/\"\n",
    "    # Get website\n",
    "    driver.get(url)\n",
    "    time.sleep(3)\n",
    "    for company in companies:\n",
    "        try:\n",
    "            # Find search bar\n",
    "            search_bar = driver.find_element_by_xpath('//*[@id=\"bodyContent\"]/div[2]/div/div/div/div/form/div/div/input')\n",
    "            # Clear search bar\n",
    "            search_bar.clear()\n",
    "            # Enter company name into search bar\n",
    "            search_bar.send_keys(company)\n",
    "            time.sleep(1)\n",
    "            # Search company\n",
    "            search_bar.send_keys(Keys.ENTER)\n",
    "            time.sleep(4)\n",
    "            # Find first company listed\n",
    "            likely_company = driver.find_element_by_xpath('//*[@id=\"bodyContent\"]/div[2]/div/div[2]/div[1]/div/div[2]/a[1]/div/div/div[1]')\n",
    "            # Click on company\n",
    "            likely_company.click()\n",
    "            time.sleep(2)\n",
    "            try:\n",
    "                driver.find_element_by_xpath('/html/body/div[4]/a').click()\n",
    "            except:\n",
    "                pass\n",
    "            try:\n",
    "                culture = float(driver.find_element_by_xpath('//*[@id=\"bodyContent\"]/div[2]/div[4]/div/div/div/div/div[1]/div[1]/a/div[2]/div[1]/div[2]/b').text)\n",
    "            except:\n",
    "                culture - 'NaN'\n",
    "            try:\n",
    "                ceo_score = float(driver.find_element_by_xpath('//*[@id=\"bodyContent\"]/div[2]/div[4]/div/div/div/div/div[1]/div[3]/a/div[4]/span/span[1]/span').text)\n",
    "            except:\n",
    "                ceo_score = 'NaN'\n",
    "            try:\n",
    "                net_promoter_scale = float(driver.find_element_by_xpath('//*[@id=\"bodyContent\"]/div[2]/div[4]/div/div/div/div/div[2]/div[2]/a[3]/div[2]/div/div[2]/div[1]').text)\n",
    "            except:\n",
    "                net_promoter_scale = 'NaN'\n",
    "            time.sleep(2)\n",
    "            try:\n",
    "                try:\n",
    "                    driver.find_element_by_link_text('Culture').click()\n",
    "                except:\n",
    "                    driver.find_element_by_xpath('//*[@id=\"bodyContent\"]/div[2]/div[2]/div[3]/div/div/ul/li[2]/div/a').click()\n",
    "                time.sleep(2)\n",
    "                # Getting page content\n",
    "                content = driver.page_source.encode('utf-8').strip()\n",
    "                # Getting page content in html\n",
    "                soup = BeautifulSoup(content,\"html.parser\")\n",
    "                # perks_and_benefits = soup.find_all(\"a\", href=re.compile(\"perks-and-benefits\"))\n",
    "                table = soup.find(class_=\"gs-row offset cppCultureGrades-Grades\")\n",
    "                ratings_squares = table.find_all(class_=\"gs-col gs-col-1-2\")\n",
    "                for i in range(0,18):\n",
    "                    if ratings_squares[i].find(class_ = 'section-subtitle').text == 'Perks And Benefits':\n",
    "                        perks_and_benefits = float(ratings_squares[i].find(class_ = 'numberGrade-score').text)\n",
    "                    if ratings_squares[i].find(class_ = 'section-subtitle').text == 'Outlook':\n",
    "                        outlook = float(ratings_squares[i].find(class_ = 'numberGrade-score').text)\n",
    "                    if ratings_squares[i].find(class_ = 'section-subtitle').text == 'Executive Team':\n",
    "                        executive_team = float(ratings_squares[i].find(class_ = 'numberGrade-score').text)\n",
    "                    if ratings_squares[i].find(class_ = 'section-subtitle').text == 'Work Culture':\n",
    "                        work_culture = float(ratings_squares[i].find(class_ = 'numberGrade-score').text)\n",
    "                    if ratings_squares[i].find(class_ = 'section-subtitle').text == 'Compensation':\n",
    "                        compensation = float(ratings_squares[i].find(class_ = 'numberGrade-score').text)\n",
    "                    if ratings_squares[i].find(class_ = 'section-subtitle').text == 'Leadership':\n",
    "                        leadership = float(ratings_squares[i].find(class_ = 'numberGrade-score').text)\n",
    "                    if ratings_squares[i].find(class_ = 'section-subtitle').text == 'Diversity':\n",
    "                        diversity = float(ratings_squares[i].find(class_ = 'numberGrade-score').text)\n",
    "                    if ratings_squares[i].find(class_ = 'section-subtitle').text == 'Team':\n",
    "                        team = float(ratings_squares[i].find(class_ = 'numberGrade-score').text)\n",
    "                    if ratings_squares[i].find(class_ = 'section-subtitle').text == 'Happiness':\n",
    "                        happiness = float(ratings_squares[i].find(class_ = 'numberGrade-score').text)\n",
    "                    if ratings_squares[i].find(class_ = 'section-subtitle').text == 'Environment':\n",
    "                        environment = float(ratings_squares[i].find(class_ = 'numberGrade-score').text)\n",
    "                    if ratings_squares[i].find(class_ = 'section-subtitle').text == 'Gender':\n",
    "                        gender = float(ratings_squares[i].find(class_ = 'numberGrade-score').text)\n",
    "                    if ratings_squares[i].find(class_ = 'section-subtitle').text == 'Manager':\n",
    "                        manager = float(ratings_squares[i].find(class_ = 'numberGrade-score').text)\n",
    "                    if ratings_squares[i].find(class_ = 'section-subtitle').text == 'Retention':\n",
    "                        retention = float(ratings_squares[i].find(class_ = 'numberGrade-score').text)\n",
    "                    if ratings_squares[i].find(class_ = 'section-subtitle').text == 'Meetings':\n",
    "                        meetings = float(ratings_squares[i].find(class_ = 'numberGrade-score').text)\n",
    "                    if ratings_squares[i].find(class_ = 'section-subtitle').text == 'Professional Development':\n",
    "                        professional_development = float(ratings_squares[i].find(class_ = 'numberGrade-score').text)\n",
    "                    if ratings_squares[i].find(class_ = 'section-subtitle').text == 'Office Culture':\n",
    "                        office_culture = float(ratings_squares[i].find(class_ = 'numberGrade-score').text)\n",
    "                        \n",
    "                if perks_and_benefits is None:\n",
    "                    perks_and_benefits = 'NaN'\n",
    "                if outlook is None:\n",
    "                    outlook = 'NaN'\n",
    "                if executive_team is None:\n",
    "                    executive_team = 'NaN'\n",
    "                if work_culture is None:\n",
    "                    work_culture = 'NaN'\n",
    "                if compensation is None:\n",
    "                    compensation = 'NaN'\n",
    "                if leadership is None:\n",
    "                    leadership = 'NaN'\n",
    "                if diversity is None:\n",
    "                    diversity = 'NaN'\n",
    "                if team is None:\n",
    "                    team = 'NaN'\n",
    "                if happiness is None:\n",
    "                    happiness = 'NaN'\n",
    "                if environment is None:\n",
    "                    environment = 'NaN'\n",
    "                if gender is None:\n",
    "                    gender = 'NaN'\n",
    "                if manager is None:\n",
    "                    manager = 'NaN'\n",
    "                if retention is None:\n",
    "                    retention = 'NaN'\n",
    "                if meetings is None:\n",
    "                    meetings = 'NaN'\n",
    "                if professional_development is None:\n",
    "                    professional_development = 'NaN'\n",
    "                if office_culture is None:\n",
    "                    office_culture = 'NaN'\n",
    "\n",
    "                comparably_reviews = comparably_reviews.append({'company': company,\n",
    "                                                                'culture': culture,\n",
    "                                                                'ceo_score': ceo_score,\n",
    "                                                                'net_promoter_scale': net_promoter_scale,\n",
    "                                                                'perks_and_benefits': perks_and_benefits,\n",
    "                                                                'outlook': outlook,\n",
    "                                                                'executive_team': executive_team,\n",
    "                                                                'work_culture': work_culture,\n",
    "                                                                'compensation': compensation,\n",
    "                                                                'leadership': leadership,\n",
    "                                                                'diversity': diversity,\n",
    "                                                                'team': team,\n",
    "                                                                'happiness': happiness,\n",
    "                                                                'environment': environment,\n",
    "                                                                'gender': gender,\n",
    "                                                                'manager': manager,\n",
    "                                                                'retention': retention,\n",
    "                                                                'meetings': meetings,\n",
    "                                                                'professional_development': professional_development,\n",
    "                                                                'office_culture': office_culture}, ignore_index=True)\n",
    "                \n",
    "            except:\n",
    "                pass\n",
    "        \n",
    "        except:\n",
    "            comparably_reviews = comparably_reviews.append({'company': company,\n",
    "                                                            'culture': 'NaN',\n",
    "                                                            'ceo_score': 'NaN',\n",
    "                                                            'net_promoter_scale': 'NaN',\n",
    "                                                            'perks_and_benefits': 'NaN',\n",
    "                                                            'outlook': 'NaN',\n",
    "                                                            'executive_team': 'NaN',\n",
    "                                                            'work_culture': 'NaN',\n",
    "                                                            'compensation': 'NaN',\n",
    "                                                            'leadership': 'NaN',\n",
    "                                                            'diversity': 'NaN',\n",
    "                                                            'team': 'NaN',\n",
    "                                                            'happiness': 'NaN',\n",
    "                                                            'environment': 'NaN',\n",
    "                                                            'gender': 'NaN',\n",
    "                                                            'manager': 'NaN',\n",
    "                                                            'retention': 'NaN',\n",
    "                                                            'meetings': 'NaN',\n",
    "                                                            'professional_development': 'NaN',\n",
    "                                                            'office_culture': 'NaN'}, ignore_index=True)\n",
    "\n",
    "        time.sleep(3)\n",
    "        driver.find_element_by_xpath('//*[@id=\"body\"]/header/div/div/div[1]/div/a').click()\n",
    "        time.sleep(2)\n",
    "        \n",
    "    return comparably_reviews"
   ]
  },
  {
   "cell_type": "code",
   "execution_count": 264,
   "metadata": {
    "ExecuteTime": {
     "end_time": "2021-02-22T21:44:01.896341Z",
     "start_time": "2021-02-22T21:43:24.788284Z"
    }
   },
   "outputs": [
    {
     "ename": "KeyboardInterrupt",
     "evalue": "",
     "output_type": "error",
     "traceback": [
      "\u001b[0;31m---------------------------------------------------------------------------\u001b[0m",
      "\u001b[0;31mKeyboardInterrupt\u001b[0m                         Traceback (most recent call last)",
      "\u001b[0;32m<ipython-input-264-f6e4431eab12>\u001b[0m in \u001b[0;36m<module>\u001b[0;34m\u001b[0m\n\u001b[0;32m----> 1\u001b[0;31m \u001b[0mcomparably_reviews\u001b[0m \u001b[0;34m=\u001b[0m \u001b[0mget_comparably_reviews\u001b[0m\u001b[0;34m(\u001b[0m\u001b[0mcompanies\u001b[0m\u001b[0;34m)\u001b[0m\u001b[0;34m\u001b[0m\u001b[0;34m\u001b[0m\u001b[0m\n\u001b[0m",
      "\u001b[0;32m<ipython-input-263-5e852ddd474b>\u001b[0m in \u001b[0;36mget_comparably_reviews\u001b[0;34m(companies)\u001b[0m\n\u001b[1;32m    178\u001b[0m                                                             'office_culture': 'NaN'}, ignore_index=True)\n\u001b[1;32m    179\u001b[0m \u001b[0;34m\u001b[0m\u001b[0m\n\u001b[0;32m--> 180\u001b[0;31m         \u001b[0mtime\u001b[0m\u001b[0;34m.\u001b[0m\u001b[0msleep\u001b[0m\u001b[0;34m(\u001b[0m\u001b[0;36m3\u001b[0m\u001b[0;34m)\u001b[0m\u001b[0;34m\u001b[0m\u001b[0;34m\u001b[0m\u001b[0m\n\u001b[0m\u001b[1;32m    181\u001b[0m         \u001b[0mdriver\u001b[0m\u001b[0;34m.\u001b[0m\u001b[0mfind_element_by_xpath\u001b[0m\u001b[0;34m(\u001b[0m\u001b[0;34m'//*[@id=\"body\"]/header/div/div/div[1]/div/a'\u001b[0m\u001b[0;34m)\u001b[0m\u001b[0;34m.\u001b[0m\u001b[0mclick\u001b[0m\u001b[0;34m(\u001b[0m\u001b[0;34m)\u001b[0m\u001b[0;34m\u001b[0m\u001b[0;34m\u001b[0m\u001b[0m\n\u001b[1;32m    182\u001b[0m         \u001b[0mtime\u001b[0m\u001b[0;34m.\u001b[0m\u001b[0msleep\u001b[0m\u001b[0;34m(\u001b[0m\u001b[0;36m2\u001b[0m\u001b[0;34m)\u001b[0m\u001b[0;34m\u001b[0m\u001b[0;34m\u001b[0m\u001b[0m\n",
      "\u001b[0;31mKeyboardInterrupt\u001b[0m: "
     ]
    }
   ],
   "source": [
    "comparably_reviews = get_comparably_reviews(companies)"
   ]
  },
  {
   "cell_type": "code",
   "execution_count": null,
   "metadata": {
    "ExecuteTime": {
     "end_time": "2021-02-22T21:44:01.907304Z",
     "start_time": "2021-02-22T21:39:29.570Z"
    }
   },
   "outputs": [],
   "source": [
    "comparably_reviews"
   ]
  },
  {
   "cell_type": "markdown",
   "metadata": {},
   "source": [
    "# Merging Dataframes"
   ]
  },
  {
   "cell_type": "code",
   "execution_count": null,
   "metadata": {
    "ExecuteTime": {
     "end_time": "2021-02-22T21:44:01.913342Z",
     "start_time": "2021-02-22T21:39:29.573Z"
    }
   },
   "outputs": [],
   "source": [
    "data_frames = [indeed_reviews, comparably_reviews]"
   ]
  },
  {
   "cell_type": "code",
   "execution_count": null,
   "metadata": {
    "ExecuteTime": {
     "end_time": "2021-02-22T21:44:01.916458Z",
     "start_time": "2021-02-22T21:39:29.575Z"
    }
   },
   "outputs": [],
   "source": [
    "data = reduce(lambda  left,right: pd.merge(left,right,on=['company'],how='outer'), data_frames)"
   ]
  },
  {
   "cell_type": "markdown",
   "metadata": {},
   "source": [
    "# Making Sense Out of Data"
   ]
  },
  {
   "cell_type": "code",
   "execution_count": null,
   "metadata": {
    "ExecuteTime": {
     "end_time": "2021-02-22T21:44:01.921300Z",
     "start_time": "2021-02-22T21:39:29.578Z"
    }
   },
   "outputs": [],
   "source": [
    "def combine_employee_metrics(df_row,input_list):\n",
    "    \n",
    "    available_metrics = []\n",
    "    for i in input_list:\n",
    "        if df_row[i] != 'NaN':\n",
    "            available_metrics.append(i)\n",
    "    \n",
    "    total = 0\n",
    "    for i in available_metrics:\n",
    "        if df_row[i] > 5:\n",
    "            total += df_row[i]\n",
    "        else:\n",
    "            total += (df_row[i]*20)\n",
    "            \n",
    "    if len(available_metrics) > 0:\n",
    "        metric = total / len(available_metrics)\n",
    "    else:\n",
    "        metric = 'NaN'\n",
    "    \n",
    "    return metric"
   ]
  },
  {
   "cell_type": "code",
   "execution_count": null,
   "metadata": {
    "ExecuteTime": {
     "end_time": "2021-02-22T21:44:01.923147Z",
     "start_time": "2021-02-22T21:39:29.580Z"
    }
   },
   "outputs": [],
   "source": [
    "culture_list = ['culture_x','culture_y','office_culture','work_culture','meetings','team']\n",
    "opportunity_list = ['job_security_and_advancement','professional_development']\n",
    "leadership_and_management_list = ['management','ceo_score','executive_team','leadership','manager']\n",
    "pay_perks_and_benefits_list = ['work_life_balance','pay_and_benefits','compensation']\n",
    "employee_happiness = ['outlook','happiness','retention','diversity','gender','environment']\n",
    "\n",
    "df_columns = [('company_culture',culture_list),\n",
    "              ('company_opportunity',opportunity_list),\n",
    "              ('company_benefits_and_perks',pay_perks_and_benefits_list),\n",
    "              ('company_executive_team',leadership_and_management_list),\n",
    "              ('company_employee_treatment',employee_happiness)]\n",
    "\n",
    "for column,column_list in df_columns:\n",
    "    data[column] = 'NaN'\n",
    "    for i in range(0,len(data)):\n",
    "        data[column][i] = make_culture(data.iloc[i], column_list)      "
   ]
  },
  {
   "cell_type": "code",
   "execution_count": null,
   "metadata": {
    "ExecuteTime": {
     "end_time": "2021-02-22T21:44:01.926429Z",
     "start_time": "2021-02-22T21:39:29.582Z"
    }
   },
   "outputs": [],
   "source": [
    "data = data[['company','company_culture','company_opportunity','company_benefits_and_perks','company_executive_team','company_employee_treatment']]"
   ]
  },
  {
   "cell_type": "code",
   "execution_count": null,
   "metadata": {
    "ExecuteTime": {
     "end_time": "2021-02-22T21:44:01.931280Z",
     "start_time": "2021-02-22T21:39:29.584Z"
    }
   },
   "outputs": [],
   "source": [
    "def overall_employee_metric(df_row):\n",
    "    \n",
    "    rows = ['company_culture',\n",
    "            'company_opportunity',\n",
    "            'company_benefits_and_perks',\n",
    "            'company_executive_team',\n",
    "            'company_employee_treatment']\n",
    "    \n",
    "    final_total = 0\n",
    "    count = 0\n",
    "    for column in rows:\n",
    "        if df_row[column] is not 'NaN':\n",
    "            final_total += df_row[column]\n",
    "            count +=1\n",
    "    \n",
    "    final_metric = final_total / count\n",
    "        \n",
    "    return final_metric"
   ]
  },
  {
   "cell_type": "code",
   "execution_count": null,
   "metadata": {
    "ExecuteTime": {
     "end_time": "2021-02-22T21:44:01.941159Z",
     "start_time": "2021-02-22T21:39:29.586Z"
    }
   },
   "outputs": [],
   "source": [
    "data['final_metric'] = 0\n",
    "for i in range(0,len(df)):\n",
    "    data['final_metric'][i] = overall_employee_metric(data.iloc[i])"
   ]
  },
  {
   "cell_type": "code",
   "execution_count": null,
   "metadata": {
    "ExecuteTime": {
     "end_time": "2021-02-22T21:44:01.944653Z",
     "start_time": "2021-02-22T21:39:29.589Z"
    }
   },
   "outputs": [],
   "source": [
    "data.sort_values(by='final_metric', ascending=False)"
   ]
  }
 ],
 "metadata": {
  "kernelspec": {
   "display_name": "learn-env",
   "language": "python",
   "name": "learn-env"
  },
  "language_info": {
   "codemirror_mode": {
    "name": "ipython",
    "version": 3
   },
   "file_extension": ".py",
   "mimetype": "text/x-python",
   "name": "python",
   "nbconvert_exporter": "python",
   "pygments_lexer": "ipython3",
   "version": "3.6.9"
  },
  "toc": {
   "base_numbering": 1,
   "nav_menu": {},
   "number_sections": true,
   "sideBar": true,
   "skip_h1_title": false,
   "title_cell": "Table of Contents",
   "title_sidebar": "Contents",
   "toc_cell": false,
   "toc_position": {},
   "toc_section_display": true,
   "toc_window_display": false
  },
  "varInspector": {
   "cols": {
    "lenName": 16,
    "lenType": 16,
    "lenVar": 40
   },
   "kernels_config": {
    "python": {
     "delete_cmd_postfix": "",
     "delete_cmd_prefix": "del ",
     "library": "var_list.py",
     "varRefreshCmd": "print(var_dic_list())"
    },
    "r": {
     "delete_cmd_postfix": ") ",
     "delete_cmd_prefix": "rm(",
     "library": "var_list.r",
     "varRefreshCmd": "cat(var_dic_list()) "
    }
   },
   "types_to_exclude": [
    "module",
    "function",
    "builtin_function_or_method",
    "instance",
    "_Feature"
   ],
   "window_display": false
  }
 },
 "nbformat": 4,
 "nbformat_minor": 4
}
